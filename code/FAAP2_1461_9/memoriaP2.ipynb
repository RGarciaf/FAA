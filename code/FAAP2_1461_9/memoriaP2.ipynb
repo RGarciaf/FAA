{
 "cells": [
  {
   "cell_type": "markdown",
   "metadata": {},
   "source": [
    "# Memoria Práctica 2"
   ]
  },
  {
   "cell_type": "markdown",
   "metadata": {},
   "source": [
    "Autores: Román García y Patricia Losana"
   ]
  },
  {
   "cell_type": "code",
   "execution_count": null,
   "metadata": {},
   "outputs": [],
   "source": [
    "from Datos import Datos\n",
    "from EstrategiaParticionado import *\n",
    "from Clasificador import *\n",
    "import numpy as np\n",
    "from sklearn import preprocessing \n",
    "from sklearn.neighbors import KNeighborsClassifier\n",
    "from sklearn.linear_model import LogisticRegression\n",
    "from sklearn.model_selection import cross_val_score\n",
    "from sklearn.model_selection import train_test_split\n",
    "import pprint\n",
    "import matplotlib.pyplot as plt\n",
    "from itertools import cycle\n",
    "from sklearn.metrics import accuracy_score\n",
    "from plotModel import plotModel\n",
    "import matplotlib.pyplot as plt"
   ]
  },
  {
   "cell_type": "markdown",
   "metadata": {},
   "source": [
    "## 1. Vecinos Próximos"
   ]
  },
  {
   "cell_type": "markdown",
   "metadata": {},
   "source": [
    "### 1.1 Resultados de ejecución del ejemplo 1"
   ]
  },
  {
   "cell_type": "code",
   "execution_count": null,
   "metadata": {},
   "outputs": [],
   "source": [
    "dataset = Datos(\"ConjuntosDatos/example1.data\")\n",
    "k_values = [1, 3, 5, 11, 21, 51]\n",
    "\n",
    "for k in k_values:\n",
    "    print(\"-------------------------------------------------------------------\")\n",
    "    estrategia = ValidacionCruzada()\n",
    "    knn = ClasificadorVecinosProximos(k, normaliza=False)\n",
    "    val = knn.validacion(estrategia,dataset,knn)\n",
    "    \n",
    "    print(\"K = \", k)\n",
    "    print(\"\\nDatos sin normalizar: \")\n",
    "    print(\"Promedio del error = \", round(np.array(val).mean(),4), \"\\tDesviación típica = \", round(np.array(val).std(), 4))\n",
    "\n",
    "    knn = ClasificadorVecinosProximos(k, normaliza=True)\n",
    "    val = knn.validacion(estrategia,dataset,knn)\n",
    "\n",
    "    print(\"\\nDatos normalizados:\")\n",
    "    print(\"Promedio del error = \", round(np.array(val).mean(),4), \"\\tDesviación típica = \", round(np.array(val).std(),4))"
   ]
  },
  {
   "cell_type": "markdown",
   "metadata": {},
   "source": [
    "### 1.2 Resultados de ejecución del ejemplo 2"
   ]
  },
  {
   "cell_type": "code",
   "execution_count": null,
   "metadata": {
    "scrolled": false
   },
   "outputs": [],
   "source": [
    "dataset = Datos(\"ConjuntosDatos/example2.data\")\n",
    "k_values = [1, 3, 5, 11, 21, 51]\n",
    "\n",
    "for k in k_values:\n",
    "    print(\"-------------------------------------------------------------------\")\n",
    "    estrategia = ValidacionCruzada()\n",
    "    knn = ClasificadorVecinosProximos(k, normaliza=False)\n",
    "    val = knn.validacion(estrategia,dataset,knn)\n",
    "    \n",
    "    print(\"K = \", k)\n",
    "    print(\"\\nDatos sin normalizar: \")\n",
    "    print(\"Promedio del error = \", round(np.array(val).mean(),4), \"\\tDesviación típica = \", round(np.array(val).std(), 4))\n",
    "\n",
    "    knn = ClasificadorVecinosProximos(k, normaliza=True)\n",
    "    val = knn.validacion(estrategia,dataset,knn)\n",
    "\n",
    "    print(\"\\nDatos normalizados:\")\n",
    "    print(\"Promedio del error = \", round(np.array(val).mean(),4), \"\\tDesviación típica = \", round(np.array(val).std(),4))"
   ]
  },
  {
   "cell_type": "markdown",
   "metadata": {},
   "source": [
    "### 1.3 Resultados de ejecución del ejemplo 3"
   ]
  },
  {
   "cell_type": "code",
   "execution_count": null,
   "metadata": {},
   "outputs": [],
   "source": [
    "dataset = Datos(\"ConjuntosDatos/example3.data\")\n",
    "k_values = [1, 3, 5, 11, 21, 51]\n",
    "\n",
    "for k in k_values:\n",
    "    print(\"-------------------------------------------------------------------\")\n",
    "    estrategia = ValidacionCruzada()\n",
    "    knn = ClasificadorVecinosProximos(k, normaliza=False)\n",
    "    val = knn.validacion(estrategia,dataset,knn)\n",
    "    \n",
    "    print(\"K = \", k)\n",
    "    print(\"\\nDatos sin normalizar: \")\n",
    "    print(\"Promedio del error = \", round(np.array(val).mean(),4), \"\\tDesviación típica = \", round(np.array(val).std(), 4))\n",
    "\n",
    "    knn = ClasificadorVecinosProximos(k, normaliza=True)\n",
    "    val = knn.validacion(estrategia,dataset,knn)\n",
    "\n",
    "    print(\"\\nDatos normalizados:\")\n",
    "    print(\"Promedio del error = \", round(np.array(val).mean(),4), \"\\tDesviación típica = \", round(np.array(val).std(),4))"
   ]
  },
  {
   "cell_type": "markdown",
   "metadata": {},
   "source": [
    "### 1.4 Resultados de ejecución del ejemplo 4"
   ]
  },
  {
   "cell_type": "code",
   "execution_count": null,
   "metadata": {},
   "outputs": [],
   "source": [
    "dataset = Datos(\"ConjuntosDatos/example4.data\")\n",
    "k_values = [1, 3, 5, 11, 21, 51]\n",
    "\n",
    "for k in k_values:\n",
    "    print(\"-------------------------------------------------------------------\")\n",
    "    estrategia = ValidacionCruzada()\n",
    "    knn = ClasificadorVecinosProximos(k, normaliza=False)\n",
    "    val = knn.validacion(estrategia,dataset,knn)\n",
    "    \n",
    "    print(\"K = \", k)\n",
    "    print(\"\\nDatos sin normalizar: \")\n",
    "    print(\"Promedio del error = \", round(np.array(val).mean(),4), \"\\tDesviación típica = \", round(np.array(val).std(), 4))\n",
    "\n",
    "    knn = ClasificadorVecinosProximos(k, normaliza=True)\n",
    "    val = knn.validacion(estrategia,dataset,knn)\n",
    "\n",
    "    print(\"\\nDatos normalizados:\")\n",
    "    print(\"Promedio del error = \", round(np.array(val).mean(),4), \"\\tDesviación típica = \", round(np.array(val).std(),4))"
   ]
  },
  {
   "cell_type": "markdown",
   "metadata": {},
   "source": [
    "### 1.5 Resultados de ejecución de WDBC"
   ]
  },
  {
   "cell_type": "code",
   "execution_count": null,
   "metadata": {},
   "outputs": [],
   "source": [
    "dataset = Datos(\"ConjuntosDatos/wdbc.data\")\n",
    "k_values = [1, 3, 5, 11, 21, 51]\n",
    "\n",
    "for k in k_values:\n",
    "    print(\"-------------------------------------------------------------------\")\n",
    "    estrategia = ValidacionCruzada()\n",
    "    knn = ClasificadorVecinosProximos(k, normaliza=False)\n",
    "    val = knn.validacion(estrategia,dataset,knn)\n",
    "    \n",
    "    print(\"K = \", k)\n",
    "    print(\"\\nDatos sin normalizar: \")\n",
    "    print(\"Promedio del error = \", round(np.array(val).mean(),4), \"\\tDesviación típica = \", round(np.array(val).std(), 4))\n",
    "\n",
    "    knn = ClasificadorVecinosProximos(k, normaliza=True)\n",
    "    val = knn.validacion(estrategia,dataset,knn)\n",
    "\n",
    "    print(\"\\nDatos normalizados:\")\n",
    "    print(\"Promedio del error = \", round(np.array(val).mean(),4), \"\\tDesviación típica = \", round(np.array(val).std(),4))"
   ]
  },
  {
   "cell_type": "markdown",
   "metadata": {},
   "source": [
    "### Análisis de los Resultados"
   ]
  },
  {
   "cell_type": "markdown",
   "metadata": {},
   "source": [
    "En general, los errores en clasificación obtenidos por el método de vecinos próximos son muy pequeños, tanto en la clasificación normalizada como en la sin normalizar. Esto es posible si las muestras sin normalizar ya tenían medias cercanas a 0 y desviaciones típicas próximas a 1, ya que entonces se clasificarían como si estuviesen normalizadas.\n",
    "\n",
    "Sin embargo, no es una buena práctica clasificar los datos sin normalizarlos previamente ya que, si tienen valores muy dispares (y su media está muy alejada de 0), es muy probable que clasifique mal."
   ]
  },
  {
   "cell_type": "markdown",
   "metadata": {},
   "source": [
    "## 2. Regresión Logística"
   ]
  },
  {
   "cell_type": "markdown",
   "metadata": {},
   "source": [
    "### 2.1 Resultados de ejecución del ejemplo 1"
   ]
  },
  {
   "cell_type": "code",
   "execution_count": null,
   "metadata": {},
   "outputs": [],
   "source": [
    "dataset = Datos(\"ConjuntosDatos/example1.data\")\n",
    "pasos = [10, 100, 10, 100]\n",
    "aprend = [1, 1, 0.5, 0.5]\n",
    "\n",
    "for i in range(len(pasos)):\n",
    "    estrategia = ValidacionCruzada()\n",
    "    reglog = ClasificadorRegresionLogistica(pasos[i], aprend[i])\n",
    "    val = reglog.validacion(estrategia,dataset,reglog)\n",
    "    print(\"-------------------------------------------------------------------\")\n",
    "    print(\"pasos = \", pasos[i], \", η = \", aprend[i])\n",
    "    print(\"Promedio del error = \", round(np.array(val).mean(),4), \"\\tDesviación típica = \", round(np.array(val).std(), 4))\n"
   ]
  },
  {
   "cell_type": "markdown",
   "metadata": {},
   "source": [
    "### 2.2 Resultados de ejecución del ejemplo 2"
   ]
  },
  {
   "cell_type": "code",
   "execution_count": null,
   "metadata": {},
   "outputs": [],
   "source": [
    "dataset = Datos(\"ConjuntosDatos/example2.data\")\n",
    "pasos = [10, 100, 10, 100]\n",
    "aprend = [1, 1, 0.5, 0.5]\n",
    "\n",
    "for i in range(len(pasos)):\n",
    "    estrategia = ValidacionCruzada()\n",
    "    reglog = ClasificadorRegresionLogistica(pasos[i], aprend[i])\n",
    "    val = reglog.validacion(estrategia,dataset,reglog)\n",
    "    print(\"-------------------------------------------------------------------\")\n",
    "    print(\"pasos = \", pasos[i], \", η = \", aprend[i])\n",
    "    print(\"Promedio del error = \", round(np.array(val).mean(),4), \"\\tDesviación típica = \", round(np.array(val).std(), 4))\n"
   ]
  },
  {
   "cell_type": "markdown",
   "metadata": {},
   "source": [
    "### 2.3 Resultados de ejecución del ejemplo 3"
   ]
  },
  {
   "cell_type": "code",
   "execution_count": null,
   "metadata": {},
   "outputs": [],
   "source": [
    "dataset = Datos(\"ConjuntosDatos/example3.data\")\n",
    "pasos = [10, 100, 10, 100]\n",
    "aprend = [1, 1, 0.5, 0.5]\n",
    "\n",
    "for i in range(len(pasos)):\n",
    "    estrategia = ValidacionCruzada()\n",
    "    reglog = ClasificadorRegresionLogistica(pasos[i], aprend[i])\n",
    "    val = reglog.validacion(estrategia,dataset,reglog)\n",
    "    print(\"-------------------------------------------------------------------\")\n",
    "    print(\"pasos = \", pasos[i], \", η = \", aprend[i])\n",
    "    print(\"Promedio del error = \", round(np.array(val).mean(),4), \"\\tDesviación típica = \", round(np.array(val).std(), 4))\n"
   ]
  },
  {
   "cell_type": "markdown",
   "metadata": {},
   "source": [
    "### 2.4 Resultados de ejecución del ejemplo 4"
   ]
  },
  {
   "cell_type": "code",
   "execution_count": null,
   "metadata": {},
   "outputs": [],
   "source": [
    "dataset = Datos(\"ConjuntosDatos/example4.data\")\n",
    "pasos = [10, 100, 10, 100]\n",
    "aprend = [1, 1, 0.5, 0.5]\n",
    "\n",
    "for i in range(len(pasos)):\n",
    "    estrategia = ValidacionCruzada()\n",
    "    reglog = ClasificadorRegresionLogistica(pasos[i], aprend[i])\n",
    "    val = reglog.validacion(estrategia,dataset,reglog)\n",
    "    print(\"-------------------------------------------------------------------\")\n",
    "    print(\"pasos = \", pasos[i], \", η = \", aprend[i])\n",
    "    print(\"Promedio del error = \", round(np.array(val).mean(),4), \"\\tDesviación típica = \", round(np.array(val).std(), 4))\n"
   ]
  },
  {
   "cell_type": "markdown",
   "metadata": {},
   "source": [
    "### 2.5 Resultados de ejecución de WDBC"
   ]
  },
  {
   "cell_type": "code",
   "execution_count": null,
   "metadata": {},
   "outputs": [],
   "source": [
    "dataset = Datos(\"ConjuntosDatos/wdbc.data\")\n",
    "pasos = [10, 100, 10, 100]\n",
    "aprend = [1, 1, 0.5, 0.5]\n",
    "\n",
    "for i in range(len(pasos)):\n",
    "    estrategia = ValidacionCruzada()\n",
    "    reglog = ClasificadorRegresionLogistica(pasos[i], aprend[i])\n",
    "    val = reglog.validacion(estrategia,dataset,reglog)\n",
    "    print(\"-------------------------------------------------------------------\")\n",
    "    print(\"pasos = \", pasos[i], \", η = \", aprend[i])\n",
    "    print(\"Promedio del error = \", round(np.array(val).mean(),4), \"\\tDesviación típica = \", round(np.array(val).std(), 4))\n"
   ]
  },
  {
   "cell_type": "markdown",
   "metadata": {},
   "source": [
    "### Análisis de los resultados"
   ]
  },
  {
   "cell_type": "markdown",
   "metadata": {},
   "source": [
    "Los errores de clasificación obtenidos mediante regresión logística son más elevados que los de vecinos próximos. Si vemos las representaciones gráficas más adelante, veremos que el motivo es que las muestras de ambas clases no son separadas mediante una línea, y, por tanto, al ser un método de clasificación lineal, no clasificará correctamente este tipo de muestras.\n",
    "\n",
    "El número de pasos y el valor de la constante de entrenamiento no parecen influir en los resultados de error promedio y desviación típica. Sí puede verse que, para un valor menor de constante de aprendizaje, es necesario un mayor número de pasos para llegar al nivel de precisión."
   ]
  },
  {
   "cell_type": "markdown",
   "metadata": {},
   "source": [
    "## 3. Scikit-Learn y Representación Gráfica"
   ]
  },
  {
   "cell_type": "markdown",
   "metadata": {},
   "source": [
    "## 3.1 Resultados de la clasificación utilizando Scikit-Learn"
   ]
  },
  {
   "cell_type": "markdown",
   "metadata": {},
   "source": [
    "### 3.1.1 Resultados de KNN"
   ]
  },
  {
   "cell_type": "markdown",
   "metadata": {},
   "source": [
    "### Resultados de ejecución del ejemplo 1"
   ]
  },
  {
   "cell_type": "code",
   "execution_count": null,
   "metadata": {},
   "outputs": [],
   "source": [
    "dataset = Datos(\"ConjuntosDatos/example1.data\")\n",
    "k_values = [1, 3, 5, 11, 21, 51]\n",
    "\n",
    "for k in k_values:\n",
    "    print(\"-------------------------------------------------------------------\")\n",
    "    estrategia = ValidacionCruzada()\n",
    "    knn = ClasificadorVecinosProximos(k, normaliza=True)\n",
    "    val = knn.validacion(estrategia,dataset,knn)\n",
    "    \n",
    "    print(\"K = \", k)\n",
    "    print(\"\\nResultados implementación propia: \")\n",
    "    print(\"Promedio del error = \", round(np.array(val).mean(),4), \"\\tDesviación típica = \", round(np.array(val).std(), 4))\n",
    "\n",
    "    clf = KNeighborsClassifier(k)\n",
    "    pred_kfolds = cross_val_score(clf, dataset.datos[:,:-1], dataset.datos[:,-1] , cv = 5)\n",
    "\n",
    "    #Obtenemos el error de la media de las predicciones\n",
    "    media_error = 1 - pred_kfolds.mean()\n",
    "\n",
    "    #Obtenemos la desviacion tipica de las predicciones\n",
    "    desv_error = pred_kfolds.std()\n",
    "\n",
    "    print(\"\\nResultados sklearn:\")\n",
    "    print(\"Promedio del error = \", round(media_error,4), \"\\tDesviación típica = \", round(desv_error,4))\n",
    "\n"
   ]
  },
  {
   "cell_type": "markdown",
   "metadata": {},
   "source": [
    "### Resultados de ejecución del ejemplo 2"
   ]
  },
  {
   "cell_type": "code",
   "execution_count": null,
   "metadata": {},
   "outputs": [],
   "source": [
    "dataset = Datos(\"ConjuntosDatos/example2.data\")\n",
    "k_values = [1, 3, 5, 11, 21, 51]\n",
    "\n",
    "for k in k_values:\n",
    "    print(\"-------------------------------------------------------------------\")\n",
    "    estrategia = ValidacionCruzada()\n",
    "    knn = ClasificadorVecinosProximos(k, normaliza=True)\n",
    "    val = knn.validacion(estrategia,dataset,knn)\n",
    "    \n",
    "    print(\"K = \", k)\n",
    "    print(\"\\nResultados implementación propia: \")\n",
    "    print(\"Promedio del error = \", round(np.array(val).mean(),4), \"\\tDesviación típica = \", round(np.array(val).std(), 4))\n",
    "\n",
    "    clf = KNeighborsClassifier(k)\n",
    "    pred_kfolds = cross_val_score(clf, dataset.datos[:,:-1], dataset.datos[:,-1] , cv = 5)\n",
    "\n",
    "    #Obtenemos el error de la media de las predicciones\n",
    "    media_error = 1 - pred_kfolds.mean()\n",
    "\n",
    "    #Obtenemos la desviacion tipica de las predicciones\n",
    "    desv_error = pred_kfolds.std()\n",
    "\n",
    "    print(\"\\nResultados sklearn:\")\n",
    "    print(\"Promedio del error = \", round(media_error,4), \"\\tDesviación típica = \", round(desv_error,4))\n",
    "\n"
   ]
  },
  {
   "cell_type": "markdown",
   "metadata": {},
   "source": [
    "### Resultados de ejecución del ejemplo 3"
   ]
  },
  {
   "cell_type": "code",
   "execution_count": null,
   "metadata": {},
   "outputs": [],
   "source": [
    "dataset = Datos(\"ConjuntosDatos/example3.data\")\n",
    "k_values = [1, 3, 5, 11, 21, 51]\n",
    "\n",
    "for k in k_values:\n",
    "    print(\"-------------------------------------------------------------------\")\n",
    "    estrategia = ValidacionCruzada()\n",
    "    knn = ClasificadorVecinosProximos(k, normaliza=True)\n",
    "    val = knn.validacion(estrategia,dataset,knn)\n",
    "    \n",
    "    print(\"K = \", k)\n",
    "    print(\"\\nResultados implementación propia: \")\n",
    "    print(\"Promedio del error = \", round(np.array(val).mean(),4), \"\\tDesviación típica = \", round(np.array(val).std(), 4))\n",
    "\n",
    "    clf = KNeighborsClassifier(k)\n",
    "    pred_kfolds = cross_val_score(clf, dataset.datos[:,:-1], dataset.datos[:,-1] , cv = 5)\n",
    "\n",
    "    #Obtenemos el error de la media de las predicciones\n",
    "    media_error = 1 - pred_kfolds.mean()\n",
    "\n",
    "    #Obtenemos la desviacion tipica de las predicciones\n",
    "    desv_error = pred_kfolds.std()\n",
    "\n",
    "    print(\"\\nResultados sklearn:\")\n",
    "    print(\"Promedio del error = \", round(media_error,4), \"\\tDesviación típica = \", round(desv_error,4))\n",
    "\n"
   ]
  },
  {
   "cell_type": "markdown",
   "metadata": {},
   "source": [
    "### Resultados de ejecución del ejemplo 4\n"
   ]
  },
  {
   "cell_type": "code",
   "execution_count": null,
   "metadata": {},
   "outputs": [],
   "source": [
    "dataset = Datos(\"ConjuntosDatos/example4.data\")\n",
    "k_values = [1, 3, 5, 11, 21, 51]\n",
    "\n",
    "for k in k_values:\n",
    "    print(\"-------------------------------------------------------------------\")\n",
    "    estrategia = ValidacionCruzada()\n",
    "    knn = ClasificadorVecinosProximos(k, normaliza=True)\n",
    "    val = knn.validacion(estrategia,dataset,knn)\n",
    "    \n",
    "    print(\"K = \", k)\n",
    "    print(\"\\nResultados implementación propia: \")\n",
    "    print(\"Promedio del error = \", round(np.array(val).mean(),4), \"\\tDesviación típica = \", round(np.array(val).std(), 4))\n",
    "\n",
    "    clf = KNeighborsClassifier(k)\n",
    "    pred_kfolds = cross_val_score(clf, dataset.datos[:,:-1], dataset.datos[:,-1] , cv = 5)\n",
    "\n",
    "    #Obtenemos el error de la media de las predicciones\n",
    "    media_error = 1 - pred_kfolds.mean()\n",
    "\n",
    "    #Obtenemos la desviacion tipica de las predicciones\n",
    "    desv_error = pred_kfolds.std()\n",
    "\n",
    "    print(\"\\nResultados sklearn:\")\n",
    "    print(\"Promedio del error = \", round(media_error,4), \"\\tDesviación típica = \", round(desv_error,4))\n",
    "\n"
   ]
  },
  {
   "cell_type": "markdown",
   "metadata": {},
   "source": [
    "### Resultados de ejecución de wdbc"
   ]
  },
  {
   "cell_type": "code",
   "execution_count": null,
   "metadata": {},
   "outputs": [],
   "source": [
    "dataset = Datos(\"ConjuntosDatos/wdbc.data\")\n",
    "k_values = [1, 3, 5, 11, 21, 51]\n",
    "\n",
    "for k in k_values:\n",
    "    print(\"-------------------------------------------------------------------\")\n",
    "    estrategia = ValidacionCruzada()\n",
    "    knn = ClasificadorVecinosProximos(k, normaliza=True)\n",
    "    val = knn.validacion(estrategia,dataset,knn)\n",
    "    \n",
    "    print(\"K = \", k)\n",
    "    print(\"\\nResultados implementación propia: \")\n",
    "    print(\"Promedio del error = \", round(np.array(val).mean(),4), \"\\tDesviación típica = \", round(np.array(val).std(), 4))\n",
    "\n",
    "    clf = KNeighborsClassifier(k)\n",
    "    pred_kfolds = cross_val_score(clf, dataset.datos[:,:-1], dataset.datos[:,-1] , cv = 5)\n",
    "\n",
    "    #Obtenemos el error de la media de las predicciones\n",
    "    media_error = 1 - pred_kfolds.mean()\n",
    "\n",
    "    #Obtenemos la desviacion tipica de las predicciones\n",
    "    desv_error = pred_kfolds.std()\n",
    "\n",
    "    print(\"\\nResultados sklearn:\")\n",
    "    print(\"Promedio del error = \", round(media_error,4), \"\\tDesviación típica = \", round(desv_error,4))\n",
    "\n"
   ]
  },
  {
   "cell_type": "markdown",
   "metadata": {},
   "source": [
    "### Análisis de los resultados"
   ]
  },
  {
   "cell_type": "markdown",
   "metadata": {},
   "source": [
    "Como puede verse, los resultados de clasificación de vecinos próximos mediante sklearn son muy similares en media a los obtenidos por la implementación propia.  Las desviaciones típicas son menores, por lo que, en conjunto, sklearn parece clasificar mejor que el algoritmo de implementación propia."
   ]
  },
  {
   "cell_type": "markdown",
   "metadata": {},
   "source": [
    "### 3.1.2 Resultados de Regresión Logística\n"
   ]
  },
  {
   "cell_type": "markdown",
   "metadata": {},
   "source": [
    "### Resultados de ejecución del Ejemplo 1\n"
   ]
  },
  {
   "cell_type": "code",
   "execution_count": null,
   "metadata": {},
   "outputs": [],
   "source": [
    "dataset = Datos(\"ConjuntosDatos/example1.data\")\n",
    "pasos = [10, 100, 10, 100]\n",
    "aprend = [1, 1, 0.5, 0.5]\n",
    "X = dataset.datos[:,:-1]\n",
    "Y = dataset.datos[:,-1]\n",
    "\n",
    "for i in range(len(pasos)):\n",
    "    estrategia = ValidacionCruzada()\n",
    "    reglog = ClasificadorRegresionLogistica(pasos[i], aprend[i])\n",
    "    val = reglog.validacion(estrategia,dataset,reglog)\n",
    "    print(\"-------------------------------------------------------------------\")\n",
    "    print(\"pasos = \", pasos[i], \"η = \", aprend[i])\n",
    "    print(\"Resultados implementación propia:\")\n",
    "    print(\"Promedio del error = \", round(np.array(val).mean(),4), \"\\tDesviación típica = \", round(np.array(val).std(), 4))\n",
    "    \n",
    "    clf = LogisticRegression(solver='sag', max_iter=200).fit(X, Y)\n",
    "    pred_clf = cross_val_score(clf, dataset.datos[:,:-1], dataset.datos[:,-1] , cv = 5)\n",
    "    #Obtenemos el error de la media de las predicciones\n",
    "    media_error = 1 - pred_clf.mean()\n",
    "\n",
    "    #Obtenemos la desviacion tipica de las predicciones\n",
    "    desv_error = pred_clf.std()\n",
    "    print(\"\\nResultados sklearn:\")\n",
    "    print(\"Promedio del error = \", media_error, \"\\tDesviación típica = \", desv_error)\n"
   ]
  },
  {
   "cell_type": "markdown",
   "metadata": {},
   "source": [
    "### Resultados de ejecución del Ejemplo 2"
   ]
  },
  {
   "cell_type": "code",
   "execution_count": null,
   "metadata": {},
   "outputs": [],
   "source": [
    "dataset = Datos(\"ConjuntosDatos/example2.data\")\n",
    "pasos = [10, 100, 10, 100]\n",
    "aprend = [1, 1, 0.5, 0.5]\n",
    "X = dataset.datos[:,:-1]\n",
    "Y = dataset.datos[:,-1]\n",
    "\n",
    "for i in range(len(pasos)):\n",
    "    estrategia = ValidacionCruzada()\n",
    "    reglog = ClasificadorRegresionLogistica(pasos[i], aprend[i])\n",
    "    val = reglog.validacion(estrategia,dataset,reglog)\n",
    "    print(\"-------------------------------------------------------------------\")\n",
    "    print(\"pasos = \", pasos[i], \"η = \", aprend[i])\n",
    "    print(\"Resultados implementación propia:\")\n",
    "    print(\"Promedio del error = \", round(np.array(val).mean(),4), \"\\tDesviación típica = \", round(np.array(val).std(), 4))\n",
    "    \n",
    "    clf = LogisticRegression(solver='sag', max_iter=1000).fit(X, Y)\n",
    "    pred_clf = cross_val_score(clf, dataset.datos[:,:-1], dataset.datos[:,-1] , cv = 5)\n",
    "    #Obtenemos el error de la media de las predicciones\n",
    "    media_error = 1 - pred_clf.mean()\n",
    "\n",
    "    #Obtenemos la desviacion tipica de las predicciones\n",
    "    desv_error = pred_clf.std()\n",
    "    print(\"\\nResultados sklearn:\")\n",
    "    print(\"Promedio del error = \", media_error, \"\\tDesviación típica = \", desv_error)\n"
   ]
  },
  {
   "cell_type": "markdown",
   "metadata": {},
   "source": [
    "### Resultados de ejecución del Ejemplo 3"
   ]
  },
  {
   "cell_type": "code",
   "execution_count": null,
   "metadata": {
    "scrolled": false
   },
   "outputs": [],
   "source": [
    "dataset = Datos(\"ConjuntosDatos/example3.data\")\n",
    "pasos = [10, 100, 10, 100]\n",
    "aprend = [1, 1, 0.5, 0.5]\n",
    "X = dataset.datos[:,:-1]\n",
    "Y = dataset.datos[:,-1]\n",
    "\n",
    "for i in range(len(pasos)):\n",
    "    estrategia = ValidacionCruzada()\n",
    "    reglog = ClasificadorRegresionLogistica(pasos[i], aprend[i])\n",
    "    val = reglog.validacion(estrategia,dataset,reglog)\n",
    "    print(\"-------------------------------------------------------------------\")\n",
    "    print(\"pasos = \", pasos[i], \"η = \", aprend[i])\n",
    "    print(\"Resultados implementación propia:\")\n",
    "    print(\"Promedio del error = \", round(np.array(val).mean(),4), \"\\tDesviación típica = \", round(np.array(val).std(), 4))\n",
    "    \n",
    "    clf = LogisticRegression(solver='sag', max_iter=1000).fit(X, Y)\n",
    "    pred_clf = cross_val_score(clf, dataset.datos[:,:-1], dataset.datos[:,-1] , cv = 5)\n",
    "    #Obtenemos el error de la media de las predicciones\n",
    "    media_error = 1 - pred_clf.mean()\n",
    "\n",
    "    #Obtenemos la desviacion tipica de las predicciones\n",
    "    desv_error = pred_clf.std()\n",
    "    print(\"\\nResultados sklearn:\")\n",
    "    print(\"Promedio del error = \", media_error, \"\\tDesviación típica = \", desv_error)\n"
   ]
  },
  {
   "cell_type": "markdown",
   "metadata": {},
   "source": [
    "### Resultados de ejecución del Ejemplo 4"
   ]
  },
  {
   "cell_type": "code",
   "execution_count": null,
   "metadata": {},
   "outputs": [],
   "source": [
    "dataset = Datos(\"ConjuntosDatos/example4.data\")\n",
    "pasos = [10, 100, 10, 100]\n",
    "aprend = [1, 1, 0.5, 0.5]\n",
    "X = dataset.datos[:,:-1]\n",
    "Y = dataset.datos[:,-1]\n",
    "\n",
    "for i in range(len(pasos)):\n",
    "    estrategia = ValidacionCruzada()\n",
    "    reglog = ClasificadorRegresionLogistica(pasos[i], aprend[i])\n",
    "    val = reglog.validacion(estrategia,dataset,reglog)\n",
    "    print(\"-------------------------------------------------------------------\")\n",
    "    print(\"pasos = \", pasos[i], \"η = \", aprend[i])\n",
    "    print(\"Resultados implementación propia:\")\n",
    "    print(\"Promedio del error = \", round(np.array(val).mean(),4), \"\\tDesviación típica = \", round(np.array(val).std(), 4))\n",
    "    \n",
    "    clf = LogisticRegression(solver='sag', max_iter=1000).fit(X, Y)\n",
    "    pred_clf = cross_val_score(clf, dataset.datos[:,:-1], dataset.datos[:,-1] , cv = 5)\n",
    "    #Obtenemos el error de la media de las predicciones\n",
    "    media_error = 1 - pred_clf.mean()\n",
    "\n",
    "    #Obtenemos la desviacion tipica de las predicciones\n",
    "    desv_error = pred_clf.std()\n",
    "    print(\"\\nResultados sklearn:\")\n",
    "    print(\"Promedio del error = \", media_error, \"\\tDesviación típica = \", desv_error)\n"
   ]
  },
  {
   "cell_type": "markdown",
   "metadata": {},
   "source": [
    "### Resultados de ejecución de wdbc"
   ]
  },
  {
   "cell_type": "code",
   "execution_count": null,
   "metadata": {
    "scrolled": false
   },
   "outputs": [],
   "source": [
    "dataset = Datos(\"ConjuntosDatos/wdbc.data\")\n",
    "pasos = [10, 100, 10, 100]\n",
    "aprend = [1, 1, 0.5, 0.5]\n",
    "X = dataset.datos[:,:-1]\n",
    "Y = dataset.datos[:,-1]\n",
    "\n",
    "for i in range(len(pasos)):\n",
    "    estrategia = ValidacionCruzada()\n",
    "    reglog = ClasificadorRegresionLogistica(pasos[i], aprend[i])\n",
    "    val = reglog.validacion(estrategia,dataset,reglog)\n",
    "    print(\"-------------------------------------------------------------------\")\n",
    "    print(\"pasos = \", pasos[i], \"η = \", aprend[i])\n",
    "    print(\"Resultados implementación propia:\")\n",
    "    print(\"Promedio del error = \", round(np.array(val).mean(),4), \"\\tDesviación típica = \", round(np.array(val).std(), 4))\n",
    "    \n",
    "    clf = LogisticRegression(solver='sag', max_iter=1000).fit(X, Y)\n",
    "    pred_clf = cross_val_score(clf, dataset.datos[:,:-1], dataset.datos[:,-1] , cv = 5)\n",
    "    #Obtenemos el error de la media de las predicciones\n",
    "    media_error = 1 - pred_clf.mean()\n",
    "\n",
    "    #Obtenemos la desviacion tipica de las predicciones\n",
    "    desv_error = pred_clf.std()\n",
    "    print(\"\\nResultados sklearn:\")\n",
    "    print(\"Promedio del error = \", media_error, \"\\tDesviación típica = \", desv_error)\n"
   ]
  },
  {
   "cell_type": "markdown",
   "metadata": {},
   "source": [
    "### Análisis de los resultados"
   ]
  },
  {
   "cell_type": "markdown",
   "metadata": {},
   "source": [
    "Los resultados de clasificación de los ejemplos 1, 2 y 3 son muy similares para el algoritmo de regresión logística de implementación propia y el de sklearn. \n",
    "\n",
    "Sin embargo, para los últimos dos ejemplos es significativamente mejor el de sklearn que el propio. Esto puede deberse a la optimización interna del algoritmo (el número de pasos que este utiliza o el valor de la constante de aprendizaje), los cuales no hemos podido modificar."
   ]
  },
  {
   "cell_type": "markdown",
   "metadata": {},
   "source": [
    "## 3.2 Representación gráfica"
   ]
  },
  {
   "cell_type": "markdown",
   "metadata": {},
   "source": [
    "## Vecinos próximos"
   ]
  },
  {
   "cell_type": "markdown",
   "metadata": {},
   "source": [
    "### Representación de los resultados de ejecución del ejemplo 1"
   ]
  },
  {
   "cell_type": "code",
   "execution_count": null,
   "metadata": {
    "scrolled": false
   },
   "outputs": [],
   "source": [
    "dataset = Datos(\"ConjuntosDatos/example1.data\")\n",
    "k_values = [1, 3, 5, 11, 21, 51]\n",
    "\n",
    "for k in k_values:\n",
    "    print(\"-------------------------------------------------------------------\")\n",
    "    print(\"K = \", k)\n",
    "    estrategia = ValidacionCruzada()\n",
    "    knn = ClasificadorVecinosProximos(k, normaliza=True)\n",
    "    val = knn.validacion(estrategia,dataset,knn)\n",
    "\n",
    "    print(\"\\nDatos normalizados:\")\n",
    "    print(\"Promedio del error = \", round(np.array(val).mean(),4), \"\\tDesviación típica = \", round(np.array(val).std(),4))\n",
    "    ii=estrategia.particiones[-1].indicesTrain \n",
    "\n",
    "    plotModel(dataset.datos[ii,0],dataset.datos[ii,1],dataset.datos[ii,-1]!=0,knn,\"KNN K = \" +str(k),dataset.diccionarios) \n",
    "\n",
    "\n",
    "    plt.figure()\n",
    "    plt.plot(dataset.datos[dataset.datos[:,-1]==0,0], dataset.datos[dataset.datos[:,-1]==0,1],'ro')\n",
    "    plt.plot(dataset.datos[dataset.datos[:,-1]==1,0], dataset.datos[dataset.datos[:,-1]==1,1],'bo')"
   ]
  },
  {
   "cell_type": "markdown",
   "metadata": {},
   "source": [
    "### Representación de los resultados de ejecución del ejemplo 2"
   ]
  },
  {
   "cell_type": "code",
   "execution_count": null,
   "metadata": {
    "scrolled": false
   },
   "outputs": [],
   "source": [
    "dataset = Datos(\"ConjuntosDatos/example2.data\")\n",
    "k_values = [1, 3, 5, 11, 21, 51]\n",
    "\n",
    "for k in k_values:\n",
    "    print(\"-------------------------------------------------------------------\")\n",
    "    print(\"K = \", k)\n",
    "    estrategia = ValidacionCruzada()\n",
    "    knn = ClasificadorVecinosProximos(k, normaliza=True)\n",
    "    val = knn.validacion(estrategia,dataset,knn)\n",
    "\n",
    "    print(\"\\nDatos normalizados:\")\n",
    "    print(\"Promedio del error = \", round(np.array(val).mean(),4), \"\\tDesviación típica = \", round(np.array(val).std(),4))\n",
    "    ii=estrategia.particiones[-1].indicesTrain \n",
    "\n",
    "    plotModel(dataset.datos[ii,0],dataset.datos[ii,1],dataset.datos[ii,-1]!=0,knn,\"KNN K = \" +str(k),dataset.diccionarios) \n",
    "\n",
    "\n",
    "    plt.figure()\n",
    "    plt.plot(dataset.datos[dataset.datos[:,-1]==0,0], dataset.datos[dataset.datos[:,-1]==0,1],'ro')\n",
    "    plt.plot(dataset.datos[dataset.datos[:,-1]==1,0], dataset.datos[dataset.datos[:,-1]==1,1],'bo')"
   ]
  },
  {
   "cell_type": "markdown",
   "metadata": {},
   "source": [
    "### Representación de los resultados de ejecución del ejemplo 3"
   ]
  },
  {
   "cell_type": "code",
   "execution_count": null,
   "metadata": {
    "scrolled": false
   },
   "outputs": [],
   "source": [
    "dataset = Datos(\"ConjuntosDatos/example3.data\")\n",
    "k_values = [1, 3, 5, 11, 21, 51]\n",
    "\n",
    "for k in k_values:\n",
    "    print(\"-------------------------------------------------------------------\")\n",
    "    print(\"K = \", k)\n",
    "    estrategia = ValidacionCruzada()\n",
    "    knn = ClasificadorVecinosProximos(k, normaliza=True)\n",
    "    val = knn.validacion(estrategia,dataset,knn)\n",
    "\n",
    "    print(\"\\nDatos normalizados:\")\n",
    "    print(\"Promedio del error = \", round(np.array(val).mean(),4), \"\\tDesviación típica = \", round(np.array(val).std(),4))\n",
    "    ii=estrategia.particiones[-1].indicesTrain \n",
    "\n",
    "    plotModel(dataset.datos[ii,0],dataset.datos[ii,1],dataset.datos[ii,-1]!=0,knn,\"KNN K = \" +str(k),dataset.diccionarios) \n",
    "\n",
    "\n",
    "    plt.figure()\n",
    "    plt.plot(dataset.datos[dataset.datos[:,-1]==0,0], dataset.datos[dataset.datos[:,-1]==0,1],'ro')\n",
    "    plt.plot(dataset.datos[dataset.datos[:,-1]==1,0], dataset.datos[dataset.datos[:,-1]==1,1],'bo')"
   ]
  },
  {
   "cell_type": "markdown",
   "metadata": {},
   "source": [
    "### Representación de los resultados de ejecución del ejemplo 4"
   ]
  },
  {
   "cell_type": "code",
   "execution_count": null,
   "metadata": {
    "scrolled": false
   },
   "outputs": [],
   "source": [
    "dataset = Datos(\"ConjuntosDatos/example4.data\")\n",
    "k_values = [1, 3, 5, 11, 21, 51]\n",
    "\n",
    "for k in k_values:\n",
    "    print(\"-------------------------------------------------------------------\")\n",
    "    print(\"K = \", k)\n",
    "    estrategia = ValidacionCruzada()\n",
    "    knn = ClasificadorVecinosProximos(k, normaliza=True)\n",
    "    val = knn.validacion(estrategia,dataset,knn)\n",
    "\n",
    "    print(\"\\nDatos normalizados:\")\n",
    "    print(\"Promedio del error = \", round(np.array(val).mean(),4), \"\\tDesviación típica = \", round(np.array(val).std(),4))\n",
    "    ii=estrategia.particiones[-1].indicesTrain \n",
    "\n",
    "    plotModel(dataset.datos[ii,0],dataset.datos[ii,1],dataset.datos[ii,-1]!=0,knn,\"KNN K = \" +str(k),dataset.diccionarios) \n",
    "\n",
    "\n",
    "    plt.figure()\n",
    "    plt.plot(dataset.datos[dataset.datos[:,-1]==0,0], dataset.datos[dataset.datos[:,-1]==0,1],'ro')\n",
    "    plt.plot(dataset.datos[dataset.datos[:,-1]==1,0], dataset.datos[dataset.datos[:,-1]==1,1],'bo')"
   ]
  },
  {
   "cell_type": "markdown",
   "metadata": {},
   "source": [
    "## Regresión Logística"
   ]
  },
  {
   "cell_type": "markdown",
   "metadata": {},
   "source": [
    "### Representación de los resultados de ejecución del ejemplo 1"
   ]
  },
  {
   "cell_type": "code",
   "execution_count": null,
   "metadata": {},
   "outputs": [],
   "source": [
    "dataset = Datos(\"ConjuntosDatos/example1.data\")\n",
    "pasos = [10, 100, 10, 100]\n",
    "aprend = [1, 1, 0.5, 0.5]\n",
    "\n",
    "for i in range(len(pasos)):\n",
    "    estrategia = ValidacionCruzada()\n",
    "    reglog = ClasificadorRegresionLogistica(pasos[i], aprend[i])\n",
    "    val = reglog.validacion(estrategia,dataset,reglog)\n",
    "    print(\"-------------------------------------------------------------------\")\n",
    "    print(\"pasos = \", pasos[i], \"η = \", aprend[i])\n",
    "    print(\"Resultados implementación propia:\")\n",
    "    print(\"Promedio del error = \", round(np.array(val).mean(),4), \"\\tDesviación típica = \", round(np.array(val).std(), 4))\n",
    "    ii=estrategia.particiones[-1].indicesTrain \n",
    "\n",
    "    plotModel(dataset.datos[ii,0],dataset.datos[ii,1],dataset.datos[ii,-1]!=0,reglog,\"pasos = \"+ str(pasos[i]) + \", η = \"+ str(aprend[i]),dataset.diccionarios) \n",
    "\n",
    "\n",
    "    plt.figure()\n",
    "    plt.plot(dataset.datos[dataset.datos[:,-1]==0,0], dataset.datos[dataset.datos[:,-1]==0,1],'ro')\n",
    "    plt.plot(dataset.datos[dataset.datos[:,-1]==1,0], dataset.datos[dataset.datos[:,-1]==1,1],'bo')"
   ]
  },
  {
   "cell_type": "markdown",
   "metadata": {},
   "source": [
    "### Representación de los resultados de ejecución del ejemplo 2"
   ]
  },
  {
   "cell_type": "code",
   "execution_count": null,
   "metadata": {},
   "outputs": [],
   "source": [
    "dataset = Datos(\"ConjuntosDatos/example2.data\")\n",
    "pasos = [10, 100, 10, 100]\n",
    "aprend = [1, 1, 0.5, 0.5]\n",
    "\n",
    "for i in range(len(pasos)):\n",
    "    estrategia = ValidacionCruzada()\n",
    "    reglog = ClasificadorRegresionLogistica(pasos[i], aprend[i])\n",
    "    val = reglog.validacion(estrategia,dataset,reglog)\n",
    "    print(\"-------------------------------------------------------------------\")\n",
    "    print(\"pasos = \", pasos[i], \"η = \", aprend[i])\n",
    "    print(\"Resultados implementación propia:\")\n",
    "    print(\"Promedio del error = \", round(np.array(val).mean(),4), \"\\tDesviación típica = \", round(np.array(val).std(), 4))\n",
    "    ii=estrategia.particiones[-1].indicesTrain \n",
    "\n",
    "    plotModel(dataset.datos[ii,0],dataset.datos[ii,1],dataset.datos[ii,-1]!=0,reglog,\"pasos = \"+ str(pasos[i]) + \", η = \"+ str(aprend[i]),dataset.diccionarios) \n",
    "\n",
    "\n",
    "    plt.figure()\n",
    "    plt.plot(dataset.datos[dataset.datos[:,-1]==0,0], dataset.datos[dataset.datos[:,-1]==0,1],'ro')\n",
    "    plt.plot(dataset.datos[dataset.datos[:,-1]==1,0], dataset.datos[dataset.datos[:,-1]==1,1],'bo')"
   ]
  },
  {
   "cell_type": "markdown",
   "metadata": {},
   "source": [
    "### Representación de los resultados de ejecución del ejemplo 3"
   ]
  },
  {
   "cell_type": "code",
   "execution_count": null,
   "metadata": {},
   "outputs": [],
   "source": [
    "dataset = Datos(\"ConjuntosDatos/example3.data\")\n",
    "pasos = [10, 100, 10, 100]\n",
    "aprend = [1, 1, 0.5, 0.5]\n",
    "\n",
    "for i in range(len(pasos)):\n",
    "    estrategia = ValidacionCruzada()\n",
    "    reglog = ClasificadorRegresionLogistica(pasos[i], aprend[i])\n",
    "    val = reglog.validacion(estrategia,dataset,reglog)\n",
    "    print(\"-------------------------------------------------------------------\")\n",
    "    print(\"pasos = \", pasos[i], \"η = \", aprend[i])\n",
    "    print(\"Resultados implementación propia:\")\n",
    "    print(\"Promedio del error = \", round(np.array(val).mean(),4), \"\\tDesviación típica = \", round(np.array(val).std(), 4))\n",
    "    ii=estrategia.particiones[-1].indicesTrain \n",
    "\n",
    "    plotModel(dataset.datos[ii,0],dataset.datos[ii,1],dataset.datos[ii,-1]!=0,reglog,\"pasos = \"+ str(pasos[i]) + \", η = \"+ str(aprend[i]),dataset.diccionarios) \n",
    "\n",
    "\n",
    "    plt.figure()\n",
    "    plt.plot(dataset.datos[dataset.datos[:,-1]==0,0], dataset.datos[dataset.datos[:,-1]==0,1],'ro')\n",
    "    plt.plot(dataset.datos[dataset.datos[:,-1]==1,0], dataset.datos[dataset.datos[:,-1]==1,1],'bo')"
   ]
  },
  {
   "cell_type": "markdown",
   "metadata": {},
   "source": [
    "### Representación de los resultados de ejecución del ejemplo 4"
   ]
  },
  {
   "cell_type": "code",
   "execution_count": null,
   "metadata": {},
   "outputs": [],
   "source": [
    "dataset = Datos(\"ConjuntosDatos/example4.data\")\n",
    "pasos = [10, 100, 10, 100]\n",
    "aprend = [1, 1, 0.5, 0.5]\n",
    "\n",
    "for i in range(len(pasos)):\n",
    "    estrategia = ValidacionCruzada()\n",
    "    reglog = ClasificadorRegresionLogistica(pasos[i], aprend[i])\n",
    "    val = reglog.validacion(estrategia,dataset,reglog)\n",
    "    print(\"-------------------------------------------------------------------\")\n",
    "    print(\"pasos = \", pasos[i], \"η = \", aprend[i])\n",
    "    print(\"Resultados implementación propia:\")\n",
    "    print(\"Promedio del error = \", round(np.array(val).mean(),4), \"\\tDesviación típica = \", round(np.array(val).std(), 4))\n",
    "    ii=estrategia.particiones[-1].indicesTrain \n",
    "\n",
    "    plotModel(dataset.datos[ii,0],dataset.datos[ii,1],dataset.datos[ii,-1]!=0,reglog,\"pasos = \"+ str(pasos[i]) + \", η = \"+ str(aprend[i]),dataset.diccionarios) \n",
    "\n",
    "\n",
    "    plt.figure()\n",
    "    plt.plot(dataset.datos[dataset.datos[:,-1]==0,0], dataset.datos[dataset.datos[:,-1]==0,1],'ro')\n",
    "    plt.plot(dataset.datos[dataset.datos[:,-1]==1,0], dataset.datos[dataset.datos[:,-1]==1,1],'bo')"
   ]
  },
  {
   "cell_type": "markdown",
   "metadata": {},
   "source": [
    "### Análisis de los resultados"
   ]
  },
  {
   "cell_type": "markdown",
   "metadata": {},
   "source": [
    "En las gráficas anteriores pueden verse los resultados gráficos de la clasificación de vecinos próximos y regresión logística. Puede verse que vecinos próximos establece de forma muy precisa la frontera entre ambas clases en todos los ejemplos (dando lugar a errores de clasificación muy pequeños), mientras que resgresión logística , al ser un clasificador lineal, no es capaz de separar las clases de forma correcta (y por eso llega a producir errores de clasificación cercanos al 50% en algunos casos)"
   ]
  }
 ],
 "metadata": {
  "kernelspec": {
   "display_name": "Python 3",
   "language": "python",
   "name": "python3"
  },
  "language_info": {
   "codemirror_mode": {
    "name": "ipython",
    "version": 3
   },
   "file_extension": ".py",
   "mimetype": "text/x-python",
   "name": "python",
   "nbconvert_exporter": "python",
   "pygments_lexer": "ipython3",
   "version": "3.6.5"
  }
 },
 "nbformat": 4,
 "nbformat_minor": 2
}

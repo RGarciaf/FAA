{
 "cells": [
  {
   "cell_type": "code",
   "execution_count": 1,
   "metadata": {},
   "outputs": [],
   "source": [
    "from Datos import Datos\n",
    "from EstrategiaParticionado import *\n",
    "from Clasificador import *\n",
    "import numpy as np\n",
    "#from tabulate import tabulate\n"
   ]
  },
  {
   "cell_type": "code",
   "execution_count": 2,
   "metadata": {},
   "outputs": [
    {
     "name": "stdout",
     "output_type": "stream",
     "text": [
      "Estrategia Validacion Simple:\n",
      "[{0: {0: 0.5, 1: 0.5}, 1: {0: 0.5, 1: 0.5}}, {0: {0: 0.5, 1: 0.5}, 1: {0: 0.5, 1: 0.5}}, {0: {0: 0.67, 1: 0.0}, 1: {0: 0.33, 1: 1.0}}, {0: {0: 0.33, 1: 1.0}, 1: {0: 0.67, 1: 0.0}}]\n",
      "\n",
      "\n",
      "[{0: {0: 0.5, 1: 0.5}, 1: {0: 0.5, 1: 0.5}}, {0: {0: 0.5, 1: 0.5}, 1: {0: 0.5, 1: 0.5}}, {0: {0: 0.67, 1: 0.0}, 1: {0: 0.33, 1: 1.0}}, {0: {0: 0.33, 1: 1.0}, 1: {0: 0.67, 1: 0.0}}]\n",
      "\n",
      "\n",
      "[{0: {0: 0.5, 1: 0.5}, 1: {0: 0.5, 1: 0.5}}, {0: {0: 0.5, 1: 0.5}, 1: {0: 0.5, 1: 0.5}}, {0: {0: 0.67, 1: 0.0}, 1: {0: 0.33, 1: 1.0}}, {0: {0: 0.33, 1: 1.0}, 1: {0: 0.67, 1: 0.0}}]\n",
      "\n",
      "\n",
      "[{0: {0: 0.5, 1: 0.5}, 1: {0: 0.5, 1: 0.5}}, {0: {0: 0.5, 1: 0.5}, 1: {0: 0.5, 1: 0.5}}, {0: {0: 0.67, 1: 0.0}, 1: {0: 0.33, 1: 1.0}}, {0: {0: 0.33, 1: 1.0}, 1: {0: 0.67, 1: 0.0}}]\n",
      "\n",
      "\n",
      "[{0: {0: 0.5, 1: 0.5}, 1: {0: 0.5, 1: 0.5}}, {0: {0: 0.5, 1: 0.5}, 1: {0: 0.5, 1: 0.5}}, {0: {0: 0.67, 1: 0.0}, 1: {0: 0.33, 1: 1.0}}, {0: {0: 0.33, 1: 1.0}, 1: {0: 0.67, 1: 0.0}}]\n",
      "\n",
      "\n"
     ]
    }
   ],
   "source": [
    "dataset = Datos(\"ConjuntosDatos/balloons.data\")\n",
    "estrategiaS = ValidacionSimple('ValidacionSimple', 5, 0.5, dataset)\n",
    "print(\"Estrategia Validacion Simple:\")\n",
    "for i in estrategiaS.particiones.keys():\n",
    "    # print(\"test: \", estrategiaS.particiones[i].indicesTest)\n",
    "    # print(\"train: \", estrategiaS.particiones[i].indicesTrain)\n",
    "    clas = ClasificadorNaiveBayes()\n",
    "\n",
    "    clas.entrenamiento(dataset.extraeDatos(range(len(dataset.datos))), dataset.tipoAtributos, dataset.diccionarios)\n",
    "    print(clas.probabilidades)\n",
    "    #print(np.column_stack(dataset.extraeDatos(range(950)))[-1])\n",
    "    clas.clasifica(dataset.extraeDatos(range(len(dataset.datos))), dataset.tipoAtributos, dataset.diccionarios)\n",
    "    print(\"\\n\")"
   ]
  },
  {
   "cell_type": "code",
   "execution_count": 3,
   "metadata": {},
   "outputs": [
    {
     "name": "stdout",
     "output_type": "stream",
     "text": [
      "[[1. 1. 1. 0. 1.]\n",
      " [1. 1. 1. 0. 1.]\n",
      " [1. 1. 1. 1. 0.]\n",
      " [1. 1. 0. 0. 0.]\n",
      " [1. 1. 0. 1. 0.]]\n",
      "test:  [ 1 17  9 19  8 13  5  6 10 14  0 11  7 15]\n",
      "train:  [16  4  2  3 12 18]\n",
      "[{0: {0: 0.0, 1: 0.0}, 1: {0: 1.0, 1: 1.0}}, {0: {0: 0.0, 1: 0.0}, 1: {0: 1.0, 1: 1.0}}, {0: {0: 0.67, 1: 0.0}, 1: {0: 0.33, 1: 1.0}}, {0: {0: 0.33, 1: 1.0}, 1: {0: 0.67, 1: 0.0}}]\n"
     ]
    }
   ],
   "source": [
    "dataset = Datos(\"ConjuntosDatos/balloons.data\")\n",
    "estrategiaS = ValidacionSimple('ValidacionSimple', 5, 0.3, dataset)\n",
    "clas = ClasificadorNaiveBayes()\n",
    "\n",
    "\n",
    "\n",
    "print (dataset.datos[:5])\n",
    "#for i in estrategiaS.particiones.keys():\n",
    "print(\"test: \", estrategiaS.particiones[0].indicesTest)\n",
    "print(\"train: \", estrategiaS.particiones[0].indicesTrain)\n",
    "clas.entrenamiento(dataset.datos[:5], dataset.tipoAtributos, dataset.diccionarios)\n",
    "print(clas.probabilidades)\n",
    "\n",
    "\n"
   ]
  },
  {
   "cell_type": "code",
   "execution_count": 6,
   "metadata": {},
   "outputs": [
    {
     "name": "stdout",
     "output_type": "stream",
     "text": [
      "[{0: 0.53}, {0: 0.6}, {0: 0.53}, {0: 0.6}, {0: 0.77}, {1: 0.57}, {1: 0.57}, {0: 0.77}]\n"
     ]
    }
   ],
   "source": [
    "prueba = []\n",
    "prueba = clas.clasifica(dataset.datos[:5], dataset.tipoAtributos, dataset.diccionarios)\n",
    "print(prueba)"
   ]
  },
  {
   "cell_type": "code",
   "execution_count": 5,
   "metadata": {},
   "outputs": [
    {
     "name": "stdout",
     "output_type": "stream",
     "text": [
      "[[1. 1. 1. 0. 1.]\n",
      " [1. 1. 1. 0. 1.]\n",
      " [1. 1. 1. 1. 0.]\n",
      " [1. 1. 0. 0. 0.]\n",
      " [1. 1. 0. 1. 0.]]\n",
      "test:  [16  3 19  7 18 11  0  9  8  5 14 13 15 10]\n",
      "train:  [ 2  1  4 12 17  6]\n",
      "[{0: {0: 0.25, 1: 0.33}, 1: {0: 1.0, 1: 1.0}}, {0: {0: 0.25, 1: 0.33}, 1: {0: 1.0, 1: 1.0}}, {0: {0: 0.75, 1: 0.33}, 1: {0: 0.5, 1: 1.0}}, {0: {0: 0.5, 1: 1.0}, 1: {0: 0.75, 1: 0.33}}]\n"
     ]
    }
   ],
   "source": [
    "dataset = Datos(\"ConjuntosDatos/balloons.data\")\n",
    "estrategiaS = ValidacionSimple('ValidacionSimple', 5, 0.3, dataset)\n",
    "clas = ClasificadorNaiveBayes(laplace = True)\n",
    "\n",
    "\n",
    "\n",
    "print (dataset.datos[:5])\n",
    "#for i in estrategiaS.particiones.keys():\n",
    "print(\"test: \", estrategiaS.particiones[0].indicesTest)\n",
    "print(\"train: \", estrategiaS.particiones[0].indicesTrain)\n",
    "clas.entrenamiento(dataset.datos[:5], dataset.tipoAtributos, dataset.diccionarios)\n",
    "print(clas.probabilidades)"
   ]
  },
  {
   "cell_type": "code",
   "execution_count": null,
   "metadata": {},
   "outputs": [],
   "source": [
    "a = [1, 2, 3, 5]\n",
    "print(sum(a))"
   ]
  },
  {
   "cell_type": "code",
   "execution_count": null,
   "metadata": {},
   "outputs": [],
   "source": [
    "a = {'h' : 10, 'z':4}\n",
    "for key in a:\n",
    "    a[key] += 1\n",
    "print(a)"
   ]
  },
  {
   "cell_type": "code",
   "execution_count": null,
   "metadata": {},
   "outputs": [],
   "source": []
  }
 ],
 "metadata": {
  "kernelspec": {
   "display_name": "Python 3",
   "language": "python",
   "name": "python3"
  },
  "language_info": {
   "codemirror_mode": {
    "name": "ipython",
    "version": 3
   },
   "file_extension": ".py",
   "mimetype": "text/x-python",
   "name": "python",
   "nbconvert_exporter": "python",
   "pygments_lexer": "ipython3",
   "version": "3.6.5"
  }
 },
 "nbformat": 4,
 "nbformat_minor": 2
}

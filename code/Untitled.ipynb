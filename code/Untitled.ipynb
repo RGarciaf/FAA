{
 "cells": [
  {
   "cell_type": "code",
   "execution_count": 1,
   "metadata": {},
   "outputs": [],
   "source": [
    "from Datos import Datos\n",
    "from EstrategiaParticionado import *\n",
    "from Clasificador import *\n",
    "import numpy as np\n",
    "#from tabulate import tabulate\n"
   ]
  },
  {
   "cell_type": "code",
   "execution_count": 2,
   "metadata": {},
   "outputs": [
    {
     "name": "stdout",
     "output_type": "stream",
     "text": [
      "Estrategia Validacion Simple:\n",
      "[{0: {0: 0.5, 1: 0.5}, 1: {0: 0.5, 1: 0.5}}, {0: {0: 0.5, 1: 0.5}, 1: {0: 0.5, 1: 0.5}}, {0: {0: 0.67, 1: 0.0}, 1: {0: 0.33, 1: 1.0}}, {0: {0: 0.33, 1: 1.0}, 1: {0: 0.67, 1: 0.0}}]\n",
      "\n",
      "\n",
      "[{0: {0: 0.5, 1: 0.5}, 1: {0: 0.5, 1: 0.5}}, {0: {0: 0.5, 1: 0.5}, 1: {0: 0.5, 1: 0.5}}, {0: {0: 0.67, 1: 0.0}, 1: {0: 0.33, 1: 1.0}}, {0: {0: 0.33, 1: 1.0}, 1: {0: 0.67, 1: 0.0}}]\n",
      "\n",
      "\n",
      "[{0: {0: 0.5, 1: 0.5}, 1: {0: 0.5, 1: 0.5}}, {0: {0: 0.5, 1: 0.5}, 1: {0: 0.5, 1: 0.5}}, {0: {0: 0.67, 1: 0.0}, 1: {0: 0.33, 1: 1.0}}, {0: {0: 0.33, 1: 1.0}, 1: {0: 0.67, 1: 0.0}}]\n",
      "\n",
      "\n",
      "[{0: {0: 0.5, 1: 0.5}, 1: {0: 0.5, 1: 0.5}}, {0: {0: 0.5, 1: 0.5}, 1: {0: 0.5, 1: 0.5}}, {0: {0: 0.67, 1: 0.0}, 1: {0: 0.33, 1: 1.0}}, {0: {0: 0.33, 1: 1.0}, 1: {0: 0.67, 1: 0.0}}]\n",
      "\n",
      "\n",
      "[{0: {0: 0.5, 1: 0.5}, 1: {0: 0.5, 1: 0.5}}, {0: {0: 0.5, 1: 0.5}, 1: {0: 0.5, 1: 0.5}}, {0: {0: 0.67, 1: 0.0}, 1: {0: 0.33, 1: 1.0}}, {0: {0: 0.33, 1: 1.0}, 1: {0: 0.67, 1: 0.0}}]\n",
      "\n",
      "\n"
     ]
    }
   ],
   "source": [
    "dataset = Datos(\"ConjuntosDatos/balloons.data\")\n",
    "estrategiaS = ValidacionSimple('ValidacionSimple', 5, 0.5, dataset)\n",
    "print(\"Estrategia Validacion Simple:\")\n",
    "for i in estrategiaS.particiones.keys():\n",
    "    # print(\"test: \", estrategiaS.particiones[i].indicesTest)\n",
    "    # print(\"train: \", estrategiaS.particiones[i].indicesTrain)\n",
    "    clas = ClasificadorNaiveBayes()\n",
    "\n",
    "    clas.entrenamiento(dataset.extraeDatos(range(len(dataset.datos))), dataset.tipoAtributos, dataset.diccionarios)\n",
    "    print(clas.probabilidades)\n",
    "    #print(np.column_stack(dataset.extraeDatos(range(950)))[-1])\n",
    "    clas.clasifica(dataset.extraeDatos(range(len(dataset.datos))), dataset.tipoAtributos, dataset.diccionarios)\n",
    "    print(\"\\n\")"
   ]
  },
  {
   "cell_type": "code",
   "execution_count": 3,
   "metadata": {},
   "outputs": [
    {
     "name": "stdout",
     "output_type": "stream",
     "text": [
      "[[1. 1. 1. 0. 1.]\n",
      " [1. 1. 1. 0. 1.]\n",
      " [1. 1. 1. 1. 0.]\n",
      " [1. 1. 0. 0. 0.]\n",
      " [1. 1. 0. 1. 0.]]\n",
      "test:  [13  7 16 18  3  0 15  5 11  6 10  8  1 14]\n",
      "train:  [12  2 19  4  9 17]\n",
      "[{0: {0: 0.0, 1: 0.0}, 1: {0: 1.0, 1: 1.0}}, {0: {0: 0.0, 1: 0.0}, 1: {0: 1.0, 1: 1.0}}, {0: {0: 0.67, 1: 0.0}, 1: {0: 0.33, 1: 1.0}}, {0: {0: 0.33, 1: 1.0}, 1: {0: 0.67, 1: 0.0}}]\n"
     ]
    }
   ],
   "source": [
    "dataset = Datos(\"ConjuntosDatos/balloons.data\")\n",
    "estrategiaS = ValidacionSimple('ValidacionSimple', 5, 0.3, dataset)\n",
    "clas = ClasificadorNaiveBayes()\n",
    "\n",
    "\n",
    "\n",
    "print (dataset.datos[:5])\n",
    "#for i in estrategiaS.particiones.keys():\n",
    "print(\"test: \", estrategiaS.particiones[0].indicesTest)\n",
    "print(\"train: \", estrategiaS.particiones[0].indicesTrain)\n",
    "clas.entrenamiento(dataset.datos[:5], dataset.tipoAtributos, dataset.diccionarios)\n",
    "print(clas.probabilidades)\n",
    "\n",
    "\n"
   ]
  },
  {
   "cell_type": "code",
   "execution_count": 4,
   "metadata": {},
   "outputs": [
    {
     "name": "stdout",
     "output_type": "stream",
     "text": [
      "0 0.6 [0.6, 0.4]\n",
      "{0: 0.6}\n",
      "0 0.6 [0.6, 0.4]\n",
      "{0: 0.6}\n",
      "0 1.0 [1.0, 0.0]\n",
      "{0: 1.0}\n",
      "1 0.67 [0.33, 0.67]\n",
      "{1: 0.67}\n",
      "1 0.67 [0.33, 0.67]\n",
      "{1: 0.67}\n",
      "0 1.0 [1.0, 0.0]\n",
      "{0: 1.0}\n",
      "[{}, {0: 0.6}, {}, {0: 0.6}, {0: 1.0}, {1: 0.67}, {1: 0.67}, {0: 1.0}]\n"
     ]
    }
   ],
   "source": [
    "prueba = []\n",
    "prueba = clas.clasificaP(dataset.datos[:5], dataset.tipoAtributos, dataset.diccionarios)\n",
    "print(prueba)"
   ]
  },
  {
   "cell_type": "code",
   "execution_count": 5,
   "metadata": {},
   "outputs": [
    {
     "name": "stdout",
     "output_type": "stream",
     "text": [
      "[[1. 1. 1. 0. 1.]\n",
      " [1. 1. 1. 0. 1.]\n",
      " [1. 1. 1. 1. 0.]\n",
      " [1. 1. 0. 0. 0.]\n",
      " [1. 1. 0. 1. 0.]]\n",
      "test:  [ 5  9  2 14 13 11 12  6  8 15  3  4  1 10]\n",
      "train:  [19  7 17 16 18  0]\n",
      "[{0: {0: 0.25, 1: 0.33}, 1: {0: 1.0, 1: 1.0}}, {0: {0: 0.25, 1: 0.33}, 1: {0: 1.0, 1: 1.0}}, {0: {0: 0.75, 1: 0.33}, 1: {0: 0.5, 1: 1.0}}, {0: {0: 0.5, 1: 1.0}, 1: {0: 0.75, 1: 0.33}}]\n"
     ]
    }
   ],
   "source": [
    "dataset = Datos(\"ConjuntosDatos/balloons.data\")\n",
    "estrategiaS = ValidacionSimple('ValidacionSimple', 5, 0.3, dataset)\n",
    "clas = ClasificadorNaiveBayes(laplace = True)\n",
    "\n",
    "\n",
    "\n",
    "print (dataset.datos[:5])\n",
    "#for i in estrategiaS.particiones.keys():\n",
    "print(\"test: \", estrategiaS.particiones[0].indicesTest)\n",
    "print(\"train: \", estrategiaS.particiones[0].indicesTrain)\n",
    "clas.entrenamiento(dataset.datos[:5], dataset.tipoAtributos, dataset.diccionarios)\n",
    "print(clas.probabilidades)"
   ]
  },
  {
   "cell_type": "code",
   "execution_count": null,
   "metadata": {},
   "outputs": [],
   "source": [
    "a = [1, 2, 3, 5]\n",
    "print(sum(a))"
   ]
  },
  {
   "cell_type": "code",
   "execution_count": null,
   "metadata": {},
   "outputs": [],
   "source": [
    "a = {'h' : 10, 'z':4}\n",
    "for key in a:\n",
    "    a[key] += 1\n",
    "print(a)"
   ]
  },
  {
   "cell_type": "code",
   "execution_count": null,
   "metadata": {},
   "outputs": [],
   "source": []
  }
 ],
 "metadata": {
  "kernelspec": {
   "display_name": "Python 3",
   "language": "python",
   "name": "python3"
  },
  "language_info": {
   "codemirror_mode": {
    "name": "ipython",
    "version": 3
   },
   "file_extension": ".py",
   "mimetype": "text/x-python",
   "name": "python",
   "nbconvert_exporter": "python",
   "pygments_lexer": "ipython3",
   "version": "3.6.5"
  }
 },
 "nbformat": 4,
 "nbformat_minor": 2
}

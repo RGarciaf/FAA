{
 "cells": [
  {
   "cell_type": "code",
   "execution_count": 1,
   "metadata": {},
   "outputs": [],
   "source": [
    "from Datos import Datos\n",
    "from EstrategiaParticionado import *\n",
    "from Clasificador import *\n",
    "import numpy as np\n",
    "#from tabulate import tabulate\n"
   ]
  },
  {
   "cell_type": "code",
   "execution_count": 2,
   "metadata": {},
   "outputs": [
    {
     "name": "stdout",
     "output_type": "stream",
     "text": [
      "Estrategia Validacion Simple:\n",
      "[{0: {0: 0.5, 1: 0.5}, 1: {0: 0.5, 1: 0.5}}, {0: {0: 0.5, 1: 0.5}, 1: {0: 0.5, 1: 0.5}}, {0: {0: 0.67, 1: 0.0}, 1: {0: 0.33, 1: 1.0}}, {0: {0: 0.33, 1: 1.0}, 1: {0: 0.67, 1: 0.0}}]\n",
      "\n",
      "\n",
      "[{0: {0: 0.5, 1: 0.5}, 1: {0: 0.5, 1: 0.5}}, {0: {0: 0.5, 1: 0.5}, 1: {0: 0.5, 1: 0.5}}, {0: {0: 0.67, 1: 0.0}, 1: {0: 0.33, 1: 1.0}}, {0: {0: 0.33, 1: 1.0}, 1: {0: 0.67, 1: 0.0}}]\n",
      "\n",
      "\n",
      "[{0: {0: 0.5, 1: 0.5}, 1: {0: 0.5, 1: 0.5}}, {0: {0: 0.5, 1: 0.5}, 1: {0: 0.5, 1: 0.5}}, {0: {0: 0.67, 1: 0.0}, 1: {0: 0.33, 1: 1.0}}, {0: {0: 0.33, 1: 1.0}, 1: {0: 0.67, 1: 0.0}}]\n",
      "\n",
      "\n",
      "[{0: {0: 0.5, 1: 0.5}, 1: {0: 0.5, 1: 0.5}}, {0: {0: 0.5, 1: 0.5}, 1: {0: 0.5, 1: 0.5}}, {0: {0: 0.67, 1: 0.0}, 1: {0: 0.33, 1: 1.0}}, {0: {0: 0.33, 1: 1.0}, 1: {0: 0.67, 1: 0.0}}]\n",
      "\n",
      "\n",
      "[{0: {0: 0.5, 1: 0.5}, 1: {0: 0.5, 1: 0.5}}, {0: {0: 0.5, 1: 0.5}, 1: {0: 0.5, 1: 0.5}}, {0: {0: 0.67, 1: 0.0}, 1: {0: 0.33, 1: 1.0}}, {0: {0: 0.33, 1: 1.0}, 1: {0: 0.67, 1: 0.0}}]\n",
      "\n",
      "\n"
     ]
    }
   ],
   "source": [
    "dataset = Datos(\"ConjuntosDatos/balloons.data\")\n",
    "estrategiaS = ValidacionSimple('ValidacionSimple', 5, 0.5, dataset)\n",
    "print(\"Estrategia Validacion Simple:\")\n",
    "for i in estrategiaS.particiones.keys():\n",
    "    # print(\"test: \", estrategiaS.particiones[i].indicesTest)\n",
    "    # print(\"train: \", estrategiaS.particiones[i].indicesTrain)\n",
    "    clas = ClasificadorNaiveBayes()\n",
    "\n",
    "    clas.entrenamiento(dataset.extraeDatos(range(len(dataset.datos))), dataset.tipoAtributos, dataset.diccionarios)\n",
    "    print(clas.probabilidades)\n",
    "    #print(np.column_stack(dataset.extraeDatos(range(950)))[-1])\n",
    "    clas.clasifica(dataset.extraeDatos(range(len(dataset.datos))), dataset.tipoAtributos, dataset.diccionarios)\n",
    "    print(\"\\n\")"
   ]
  },
  {
   "cell_type": "code",
   "execution_count": 3,
   "metadata": {},
   "outputs": [
    {
     "name": "stdout",
     "output_type": "stream",
     "text": [
      "[[1. 1. 1. 0. 1.]\n",
      " [1. 1. 1. 0. 1.]\n",
      " [1. 1. 1. 1. 0.]\n",
      " [1. 1. 0. 0. 0.]\n",
      " [1. 1. 0. 1. 0.]]\n",
      "test:  [12 13  4 18 17  9  3  0 16 19 10  2  7 11]\n",
      "train:  [14  5  1  6  8 15]\n",
      "[{0: {0: 0.0, 1: 0.0}, 1: {0: 1.0, 1: 1.0}}, {0: {0: 0.0, 1: 0.0}, 1: {0: 1.0, 1: 1.0}}, {0: {0: 0.67, 1: 0.0}, 1: {0: 0.33, 1: 1.0}}, {0: {0: 0.33, 1: 1.0}, 1: {0: 0.67, 1: 0.0}}]\n"
     ]
    }
   ],
   "source": [
    "dataset = Datos(\"ConjuntosDatos/balloons.data\")\n",
    "estrategiaS = ValidacionSimple('ValidacionSimple', 5, 0.3, dataset)\n",
    "clas = ClasificadorNaiveBayes()\n",
    "\n",
    "\n",
    "\n",
    "print (dataset.datos[:5])\n",
    "#for i in estrategiaS.particiones.keys():\n",
    "print(\"test: \", estrategiaS.particiones[0].indicesTest)\n",
    "print(\"train: \", estrategiaS.particiones[0].indicesTrain)\n",
    "clas.entrenamiento(dataset.datos[:5], dataset.tipoAtributos, dataset.diccionarios)\n",
    "print(clas.probabilidades)\n",
    "\n",
    "\n"
   ]
  },
  {
   "cell_type": "code",
   "execution_count": 4,
   "metadata": {},
   "outputs": [
    {
     "name": "stdout",
     "output_type": "stream",
     "text": [
      "0 0.6 [0.6, 0.4]\n",
      "0 0.6 [0.6, 0.4]\n",
      "0 1.0 [1.0, 0.0]\n",
      "1 0.67 [0.33, 0.67]\n",
      "1 0.67 [0.33, 0.67]\n",
      "0 1.0 [1.0, 0.0]\n"
     ]
    }
   ],
   "source": [
    "prueba = {}\n",
    "prueba = clas.clasificaP(dataset.datos[:5], dataset.tipoAtributos, dataset.diccionarios)\n"
   ]
  },
  {
   "cell_type": "code",
   "execution_count": null,
   "metadata": {},
   "outputs": [],
   "source": [
    "def clasifica(datostest,atributosDiscretos,diccionario):\n",
    "    columns = np.column_stack(datostrain)\n",
    "    c, counts = np.unique(columns[-1], return_counts=True)\n",
    "    p_class = dict(zip(c.astype(int), counts))\n",
    "    ini_clas = dict.fromkeys(np.unique(columns[-1]).astype(int), 0)\n",
    "\n",
    "    probabilidades = []\n",
    "    clas = columns[-1]\n",
    "\n",
    "    for key in diccionario:\n",
    "        if key != \"Class\":\n",
    "            prob_clas = {}\n",
    "            for value in diccionario[key]:\n",
    "                prob_clas.update({int(diccionario[key][value]):ini_clas.copy()})\n",
    "            probabilidades.append(prob_clas)\n",
    "    for index_col in range(len(columns[:-1])):\n",
    "        \n",
    "        if atributosDiscretos[index_col] == \"Nominal\":\n",
    "            for i in range(len(columns[index_col])):      \n",
    "            \n",
    "            for value in probabilidades[index_col]:                \n",
    "                evidencia = sum(probabilidades[index_col][value].values()) / len(columns[index_col])\n",
    "                for i in probabilidades[index_col][value]:\n",
    "                    verosimilitud = probabilidades[index_col][value][i] / p_class[i]\n",
    "                    prior = p_class[i] / len(columns[index_col])\n",
    "                    \n",
    "                    if (evidencia > 0):\n",
    "                        probabilidades[index_col][value][i] = round((verosimilitud * prior) / evidencia, 2)\n",
    "\n",
    "    return probabilidades"
   ]
  },
  {
   "cell_type": "code",
   "execution_count": null,
   "metadata": {},
   "outputs": [],
   "source": [
    "a = [1, 2, 3, 5]\n",
    "print(sum(a))"
   ]
  },
  {
   "cell_type": "code",
   "execution_count": null,
   "metadata": {},
   "outputs": [],
   "source": []
  }
 ],
 "metadata": {
  "kernelspec": {
   "display_name": "Python 3",
   "language": "python",
   "name": "python3"
  },
  "language_info": {
   "codemirror_mode": {
    "name": "ipython",
    "version": 3
   },
   "file_extension": ".py",
   "mimetype": "text/x-python",
   "name": "python",
   "nbconvert_exporter": "python",
   "pygments_lexer": "ipython3",
   "version": "3.6.5"
  }
 },
 "nbformat": 4,
 "nbformat_minor": 2
}

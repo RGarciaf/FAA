{
 "cells": [
  {
   "cell_type": "code",
   "execution_count": 6,
   "metadata": {},
   "outputs": [],
   "source": [
    "import numpy as np"
   ]
  },
  {
   "cell_type": "code",
   "execution_count": 7,
   "metadata": {},
   "outputs": [],
   "source": [
    "class Datos ( object ):\n",
    "    TiposDeAtributos = ('Continuo','Nominal')    \n",
    "    \n",
    "    def parseMetaDatos(fichero):    \n",
    "        \"\"\"  Parsea las tres primeras lineas del fichero  \"\"\"\n",
    "        \n",
    "        numAtrs = int(fichero.readline())\n",
    "        nombreAtributos = fichero.readline().replace(\"\\n\",\"\").split(\",\")\n",
    "        tipoAtributos = fichero.readline().replace(\"\\n\",\"\").split(\",\")\n",
    "        return numAtrs, nombreAtributos, tipoAtributos\n",
    "    \n",
    "    def iniDicc(nombreAtributos):\n",
    "        \"\"\"  Crea un diccionario con los nombres de los atributos como claves  \"\"\"\n",
    "        \n",
    "        diccionarios = {}\n",
    "        for atr in nombreAtributos:\n",
    "            diccionarios[atr] = []\n",
    "        return diccionarios\n",
    "    \n",
    "    def insertAtr(fichero, nombreAtributos):\n",
    "        \"\"\"  Rellena el diccionario con los posibles valores de cada atributo  \"\"\"\n",
    "        \n",
    "        diccionarios = Datos.iniDicc(nombreAtributos)\n",
    "        for linea in fichero:\n",
    "            valor = linea.replace(\"\\n\",\"\").split(\",\")\n",
    "            \n",
    "            for i in range(len(valor)): \n",
    "                if valor[i] not in diccionarios[nombreAtributos[i]]:\n",
    "                    diccionarios[nombreAtributos[i]].append(valor[i])\n",
    "        return diccionarios\n",
    "    \n",
    "    def transformaADicc(fichero, nombreAtributos, tipoAtributos):\n",
    "        \"\"\"  Rellena el diccionario con una codificacion de numeros \n",
    "            para cada valor de los atributos nominales \n",
    "        \"\"\"\n",
    "        \n",
    "        diccionarios = Datos.insertAtr(fichero, nombreAtributos)\n",
    "        for atr in diccionarios:\n",
    "            valores = sorted(diccionarios[atr])\n",
    "            \n",
    "            diccionarios[atr] = {}\n",
    "            if tipoAtributos[nombreAtributos.index(atr)] == 'Nominal':\n",
    "                for valor in valores:\n",
    "                    diccionarios[atr].update({valor:valores.index(valor)})\n",
    "        return diccionarios\n",
    "    \n",
    "    def extraerMetaDatos(nombreFichero):\n",
    "        \"\"\"  Genera:\n",
    "            un diccionario de la codificacion de los valores, \n",
    "            un array con los nombres de los atributos y\n",
    "            un array con el tipo de los atributos\n",
    "        \"\"\"\n",
    "        \n",
    "        fichero = open(nombreFichero, \"r\")        \n",
    "        numAtrs, nombreAtributos, tipoAtributos = Datos.parseMetaDatos(fichero)\n",
    "        diccionarios = Datos.transformaADicc(fichero, nombreAtributos, tipoAtributos)\n",
    "        fichero.close()\n",
    "        return diccionarios, numAtrs, nombreAtributos, tipoAtributos\n",
    "    \n",
    "    def transformDataToArray(nombreFichero):\n",
    "        \"\"\"  Genera un array de datos codificando los valores acorde al diccionario creado\n",
    "        \"\"\"\n",
    "        \n",
    "        diccionarios, numAtrs, nombreAtributos, tipoAtributos = Datos.extraerMetaDatos(nombreFichero)\n",
    "        fichero = open(nombreFichero, \"r\") \n",
    "        \n",
    "        lineas = fichero.readlines()[3:]\n",
    "        datos = np.empty( (numAtrs,len(nombreAtributos)))\n",
    "        \n",
    "        for j in range(numAtrs):\n",
    "            valores = lineas[j].replace(\"\\n\",\"\").split(\",\")\n",
    "            \n",
    "            for i in range(len(valores)):                 \n",
    "                if tipoAtributos[i] == 'Nominal':\n",
    "                    datos[j][i] = Datos.buscarDiccionario(diccionarios,valores[i])                    \n",
    "                else:\n",
    "                    datos[j][i] = valores[i]\n",
    "                        \n",
    "        fichero.close()\n",
    "        return datos, diccionarios, nombreAtributos, tipoAtributos\n",
    "    \n",
    "    def buscarDiccionario(dic, valor):\n",
    "        \"\"\"  Busca la codificacion de un valor en el diccionario\n",
    "        \"\"\"\n",
    "        \n",
    "        for atr in dic:\n",
    "            if valor in dic[atr]:\n",
    "                return dic[atr][valor]\n",
    "    \n",
    "        \n",
    "    def __init__ ( self, filename ):        \n",
    "        \n",
    "        self.datos, self.diccionarios, self.nombreAtributos, self.tipoAtributos = Datos.transformDataToArray(filename)\n",
    "                \n",
    "        pass\n",
    "    \n",
    "        \n",
    "    def extraeDatos(self, idx):\n",
    "        pass\n"
   ]
  },
  {
   "cell_type": "code",
   "execution_count": 9,
   "metadata": {},
   "outputs": [
    {
     "name": "stdout",
     "output_type": "stream",
     "text": [
      "{'A1': {'A11': 0, 'A12': 1, 'A13': 2, 'A14': 3}, 'A2': {}, 'A3': {'A30': 0, 'A31': 1, 'A32': 2, 'A33': 3, 'A34': 4}, 'A4': {'A40': 0, 'A41': 1, 'A410': 2, 'A42': 3, 'A43': 4, 'A44': 5, 'A45': 6, 'A46': 7, 'A48': 8, 'A49': 9}, 'A5': {}, 'A6': {'A61': 0, 'A62': 1, 'A63': 2, 'A64': 3, 'A65': 4}, 'A7': {'A71': 0, 'A72': 1, 'A73': 2, 'A74': 3, 'A75': 4}, 'A8': {}, 'A9': {'A91': 0, 'A92': 1, 'A93': 2, 'A94': 3}, 'A10': {'A101': 0, 'A102': 1, 'A103': 2}, 'A11': {}, 'A12': {'A121': 0, 'A122': 1, 'A123': 2, 'A124': 3}, 'A13': {}, 'A14': {'A141': 0, 'A142': 1, 'A143': 2}, 'A15': {'A151': 0, 'A152': 1, 'A153': 2}, 'A16': {}, 'A17': {'A171': 0, 'A172': 1, 'A173': 2, 'A174': 3}, 'A18': {}, 'A19': {'A191': 0, 'A192': 1}, 'A20': {'A201': 0, 'A202': 1}, 'Class': {'1': 0, '2': 1}}\n"
     ]
    }
   ],
   "source": [
    "dataset = Datos(\"ConjuntosDatos/german.data\")\n",
    "print (dataset.diccionarios)"
   ]
  }
 ],
 "metadata": {
  "kernelspec": {
   "display_name": "Python 3",
   "language": "python",
   "name": "python3"
  },
  "language_info": {
   "codemirror_mode": {
    "name": "ipython",
    "version": 3
   },
   "file_extension": ".py",
   "mimetype": "text/x-python",
   "name": "python",
   "nbconvert_exporter": "python",
   "pygments_lexer": "ipython3",
   "version": "3.6.6"
  }
 },
 "nbformat": 4,
 "nbformat_minor": 2
}

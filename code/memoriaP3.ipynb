{
 "cells": [
  {
   "cell_type": "markdown",
   "metadata": {},
   "source": [
    "# Memoria Práctica 3"
   ]
  },
  {
   "cell_type": "markdown",
   "metadata": {},
   "source": [
    "Autores: Román García y Patricia Losana"
   ]
  },
  {
   "cell_type": "code",
   "execution_count": null,
   "metadata": {},
   "outputs": [],
   "source": [
    "from Datos import Datos\n",
    "from EstrategiaParticionado import *\n",
    "from Clasificador import *\n",
    "from ClasificadorAG import *\n",
    "from Roc import *\n",
    "import numpy as np\n",
    "from sklearn import preprocessing \n",
    "from sklearn.neighbors import KNeighborsClassifier\n",
    "from sklearn.linear_model import LogisticRegression\n",
    "from sklearn.model_selection import cross_val_score\n",
    "from sklearn.model_selection import train_test_split\n",
    "import pprint\n",
    "import matplotlib.pyplot as plt\n",
    "from itertools import cycle\n",
    "from sklearn.metrics import accuracy_score\n",
    "from plotModel import plotModel\n",
    "import matplotlib.pyplot as plt"
   ]
  },
  {
   "cell_type": "markdown",
   "metadata": {},
   "source": [
    "## 1. Implementación"
   ]
  },
  {
   "cell_type": "markdown",
   "metadata": {},
   "source": [
    "A continuación se muestran algunos detalles de la implementación llevada a cabo del algoritmo genético."
   ]
  },
  {
   "cell_type": "markdown",
   "metadata": {},
   "source": [
    "### 1.1 Generación de la población inicial"
   ]
  },
  {
   "cell_type": "markdown",
   "metadata": {},
   "source": [
    "Para generar la población inicial es necesario especificar el set de datos a utilizar, y el número de individuos y de generaciones que se desea. \n",
    "\n",
    "~~~~\n",
    "ag = ClasificadorAG(n_cromosomas, dataset, n_generaciones)\n",
    "~~~~\n",
    "\n",
    "En ese momento se creará una instancia de la clase ClasificadorAG, donde se generará la población inicial de individuos (cromosomas) con el método generarPoblacion(). \n",
    "\n",
    "~~~~\n",
    "def generarPoblacion(self, n_cromosomas, dataset, regla_entera):\n",
    "    for _ in range(n_cromosomas):\n",
    "        self.cromosomas.append(self.Cromosoma(dataset = dataset, regla_entera=regla_entera))\n",
    "~~~~\n",
    "\n",
    "Ese método guarda un array de objetos de la clase Cromosoma (donde cada uno de los cuales es un individuo) en el clasificador. Se ha establecido cromosoma como un conjunto de reglas distintas (set()): \n",
    "~~~~\n",
    "class Cromosoma:\n",
    "    def __init__(self, dataset, reglas = None, regla_entera = True):\n",
    "        self.regla_entera = regla_entera\n",
    "        self.n_attrs = len(dataset.nombreAtributos) - 1  #nº attrs menos la clase\n",
    "        self.rlen = randint(1, pow(dataset.k, self.n_attrs))\n",
    "        self.datos = dataset.convertirAIntervalos(dataset.datos)\n",
    "        self.n_intervalos = dataset.k\n",
    "        self.dataset = dataset\n",
    "        if reglas != None:\n",
    "            self.reglas = reglas\n",
    "        else:\n",
    "            self.reglas = set()\n",
    "            self.generarReglas(dataset)\n",
    "\n",
    "        self.fit = -1\n",
    "~~~~\n",
    "El método generarReglas crea objetos de la clase Regla dentro del cromosoma. \n",
    "\n",
    "**Número de reglas:** Para cada cromosoma se ha establecido un número aleatorio entre 1 y 100. Se ha probado también con un número aleatorio entre 1 y 20, y también con todas las posibles combinaciones distintas de intervalos para cada atributo (nº atributos^(k + 1)). Aunque el último es el que debería tener una mejor predicción, no ha sido viable a nivel computacional. Entre 1 y 100 sí ha sido viable y los resultados son significativamente mejores que con cromosomas que puedan tener hasta 20 reglas. El principal inconveniente es su elevado coste a nivel temporal.\n",
    "\n",
    "~~~~\n",
    "class Regla():\n",
    "    def __init__(self,dataset, regla_entera = True):\n",
    "        self.regla_entera = regla_entera\n",
    "        self.valores = []\n",
    "        self.n_intervalos = dataset.k  #nº attrs menos la clase\n",
    "\n",
    "        if regla_entera:\n",
    "            self.valores = np.append(np.random.randint(dataset.k + 1, size = len(dataset.nombreAtributos)-1), np.random.randint(len(dataset.diccionarios['Class']), size = 1))\n",
    "        else:\n",
    "            regla = []\n",
    "            for _ in range(len(dataset.nombreAtributos)-1):\n",
    "                regla.append(np.random.randint(2, size = dataset.k).tolist())\n",
    "            regla.append(np.random.randint(len(dataset.diccionarios['Class']), size = 1)[0])\n",
    "            self.valores = regla\n",
    "~~~~          \n",
    "                    "
   ]
  },
  {
   "cell_type": "markdown",
   "metadata": {},
   "source": [
    "### 1.2 Mecanismo de cruce implementado"
   ]
  },
  {
   "cell_type": "markdown",
   "metadata": {},
   "source": [
    "El mecanismo de cruce implementado es entre dos cromosomas por un punto de cruce. \n",
    "\n",
    "El proceso es el siguiente: para cada cromosoma se llama al método recombinar cromosomas, el cual lo recombina otro cromosoma seleccionado mediante el mecanismo de la ruleta.\n",
    "~~~~\n",
    "def recombinar(self):\n",
    "    poblacion = []\n",
    "    ruleta = ClasificadorAG.ruleta_rusa(self.cromosomas,len(self.cromosomas))\n",
    "    for cromosoma in self.cromosomas:\n",
    "        poblacion.append(cromosoma.recombinar(ruleta.pop(random.randint(0, len (ruleta) - 1))))\n",
    "    return poblacion\n",
    "\n",
    "\n",
    "def ruleta_rusa(cromosomas, n_individuos):\n",
    "    seleccion, probabilidades = [], []\n",
    "\n",
    "    total_fitness = 0\n",
    "    for cromosoma in cromosomas:\n",
    "        total_fitness += cromosoma.fitness()\n",
    "\n",
    "    if total_fitness == 0:\n",
    "        return cromosomas\n",
    "    for cromosoma in cromosomas:\n",
    "        probabilidades.append(cromosoma.fitness()/total_fitness)\n",
    "    seleccion = np.random.choice(cromosomas, n_individuos, p=probabilidades)\n",
    "    return seleccion.tolist()\n",
    "~~~~\n",
    "Posteriormente, dentro de la clase cromosoma, se recombinará con una probabilidad de cruce del 80%: es decir, si al extraer un número aleatorio de 0 a 99 sale un número inferior a 80, se procederá a recombinar a los dos cromosomas.\n",
    "\n",
    "\n",
    "~~~~   \n",
    "def recombinar(self, cromosoma):\n",
    "    if tirarDado(99) < 80:\n",
    "        return self.recombinar_cromosomas(cromosoma)\n",
    "    return self\n",
    "\n",
    "def tirarDado(caras, ini = 0):\n",
    "    return random.randint(ini,caras)\n",
    "~~~~\n",
    "\n",
    "Finalmente, si se produce la recombinación, se intercambia la primera mitad del cromosoma 1 con la segunda mitad del cromosoma 2 y viceversa. El resultado de esta combinación se devuelve al clasificador.\n",
    "~~~~\n",
    "def recombinar_cromosomas(self, cromosoma):\n",
    "    medio = round(len(self.reglas)/2)\n",
    "    medio_other = round(len(cromosoma.reglas)/2)\n",
    "\n",
    "    return ClasificadorAG.Cromosoma(self.dataset, reglas = set(list(self.reglas)[:medio] + list(cromosoma.reglas)[:medio_other]), regla_entera = self.regla_entera )\n",
    "~~~~\n"
   ]
  },
  {
   "cell_type": "markdown",
   "metadata": {},
   "source": [
    "### 1.3 Mecanismo de mutación implementado"
   ]
  },
  {
   "cell_type": "markdown",
   "metadata": {},
   "source": [
    "El mecanismo de mutación implementado es un bitflip, y la estrategia es parecida a la de recombinación: para cada cromosoma del clasificador se llama al método mutar del cromosoma. \n",
    "~~~~\n",
    "def mutar(self):\n",
    "    poblacion = []\n",
    "    for cromosoma in self.cromosomas:\n",
    "        cromosoma.mutar()\n",
    "~~~~\n",
    "Ese cromosoma tendrá un 4% de probabilidades de mutar cualquier regla, es decir: para cada regla del cromosoma, si al extraer un número aleatorio de 0 a 99 sale un número inferior a 4 (valor por defecto), se procederá a mutar esa regla.\n",
    "~~~~\n",
    "def mutar(self, porcentaje = 4):\n",
    "    for regla in self.reglas:\n",
    "        if tirarDado(99) < porcentaje:\n",
    "            regla.mutar(porcentaje)\n",
    "~~~~\n",
    "Finalmente, dentro de la regla concreta a mutar, cada posición de la regla tendrá de nuevo un 4% de probabilidades de mutar, es decir: si al extraer un número aleatorio de 0 a 99 saliese un número inferior a 4 (valor por defecto), se asigna a esa posición de la regla otro número al azar entre 0 y el número máximo del intervalo.\n",
    "~~~~\n",
    "def mutar(self, porcentaje = 4):\n",
    "    if self.regla_entera:\n",
    "        for indice, intervalo in enumerate(self.valores[:-1]):\n",
    "            if tirarDado(99) > porcentaje:\n",
    "                self.valores[indice] = tirarDado(self.n_intervalos)\n",
    "    else: \n",
    "        for index_attr, attr in enumerate(self.valores[:-1]):\n",
    "            for index_intervalo, intervalo in enumerate(attr):\n",
    "                if tirarDado(99) > porcentaje:\n",
    "                    self.valores[index_attr][index_intervalo] = tirarDado(1)\n",
    "~~~~"
   ]
  },
  {
   "cell_type": "markdown",
   "metadata": {},
   "source": [
    "## 2. Resultados de la clasificación"
   ]
  },
  {
   "cell_type": "markdown",
   "metadata": {},
   "source": [
    "A continuación se muestran los resultados de la clasificación del algoritmo genético para los datasets example1.data, example3.data, example4.data y wdbc-10.data (una versión reducida sin los últimos 10 atributos de wdbc).\n",
    "\n",
    "Para cada dataset se muestran los siguientes resultados, tanto con reglas enteras como con reglas binarias: \n",
    "\n",
    " * Tamaño de población = 100 ; Generaciones = 100\n",
    " * Tamaño de población = 100 ; Generaciones = 500\n",
    " * Tamaño de población = 100 ; Generaciones = 1000\n",
    " * Tamaño de población = 200 ; Generaciones = 100\n",
    " * Tamaño de población = 200 ; Generaciones = 500\n",
    " * Tamaño de población = 200 ; Generaciones = 1000 \n"
   ]
  },
  {
   "cell_type": "code",
   "execution_count": null,
   "metadata": {},
   "outputs": [],
   "source": [
    "generaciones = [100,500, 1000]\n",
    "poblaciones = [10,200]"
   ]
  },
  {
   "cell_type": "markdown",
   "metadata": {},
   "source": [
    "### Resultados para example1.data"
   ]
  },
  {
   "cell_type": "code",
   "execution_count": null,
   "metadata": {
    "scrolled": false
   },
   "outputs": [],
   "source": [
    "dataset = Datos(\"ConjuntosDatos/example1.data\")\n",
    "\n",
    "a, k = dataset.crearIntervalos(dataset.datos)\n",
    "for poblacion in poblaciones:\n",
    "    for generacion in generaciones:\n",
    "        print(\"-------------------------------------------------------------------\")\n",
    "        print(\"Reglas enteras: \\n\")\n",
    "        print(\"Tamaño de la poblacion = \", poblacion, \"\\nGeneración = \", generacion)\n",
    "\n",
    "        ag = ClasificadorAG(poblacion, dataset, generacion)\n",
    "        val = ag.validacion(ValidacionSimple(), dataset, ag)\n",
    "        print(val)\n",
    "        print(\"\\nPromedio del error = \", round(np.array(val).mean(),4), \"\\tDesviación típica = \", round(np.array(val).std(), 4))\n",
    "        \n",
    "        plt.plot(range(generacion), f_hulk)\n",
    "        plt.title('Evolución del fitness del mejor individuo')\n",
    "        plt.xlabel('numero de generaciones')\n",
    "        plt.ylabel('fitness')\n",
    "        plt.grid()\n",
    "        plt.show()\n",
    "        \n",
    "        plt.plot(range(generacion), f_medio)\n",
    "        plt.title('Evolución del fitness medio de la población')\n",
    "        plt.xlabel('numero de generaciones')\n",
    "        plt.ylabel('fitness')\n",
    "        plt.grid()\n",
    "        plt.show()\n",
    "        \n",
    "        print(\"\\nReglas binarias: \\n\")\n",
    "        print(\"Tamaño de la poblacion = \", poblacion, \"\\nGeneración = \", generacion)\n",
    "        ag = ClasificadorAG(poblacion, dataset, generacion, regla_entera = False)\n",
    "        val = ag.validacion(ValidacionSimple(), dataset, ag)\n",
    "        print(\"\\nErrores =\", val)\n",
    "        print(\"\\nPromedio del error = \", round(np.array(val).mean(),4), \"\\tDesviación típica = \", round(np.array(val).std(), 4))\n",
    "\n",
    "        plt.plot(range(generacion), f_hulk)\n",
    "        plt.title('Evolución del fitness del mejor individuo')\n",
    "        plt.xlabel('numero de generaciones')\n",
    "        plt.ylabel('fitness')\n",
    "        plt.grid()\n",
    "        plt.show()\n",
    "        \n",
    "        plt.plot(range(generacion), f_medio)\n",
    "        plt.title('Evolución del fitness medio de la población')\n",
    "        plt.xlabel('numero de generaciones')\n",
    "        plt.ylabel('fitness')\n",
    "        plt.grid()\n",
    "        plt.show()"
   ]
  },
  {
   "cell_type": "markdown",
   "metadata": {},
   "source": [
    "### Resultados para example3.data"
   ]
  },
  {
   "cell_type": "code",
   "execution_count": null,
   "metadata": {},
   "outputs": [],
   "source": [
    "dataset = Datos(\"ConjuntosDatos/example3.data\")\n",
    "\n",
    "a, k = dataset.crearIntervalos(dataset.datos)\n",
    "for poblacion in poblaciones:\n",
    "    for generacion in generaciones:\n",
    "        print(\"-------------------------------------------------------------------\")\n",
    "        print(\"Reglas enteras: \\n\")\n",
    "        print(\"Tamaño de la poblacion = \", poblacion, \"; \\nGeneración = \", generacion)\n",
    "\n",
    "        ag = ClasificadorAG(poblacion, dataset, generacion)\n",
    "        val = ag.validacion(ValidacionSimple(), dataset, ag)\n",
    "        print(val)\n",
    "        print(\"\\nPromedio del error = \", round(np.array(val).mean(),4), \"\\tDesviación típica = \", round(np.array(val).std(), 4))\n",
    "        \n",
    "        plt.plot(range(generacion), f_hulk)\n",
    "        plt.title('Evolución del fitness del mejor individuo')\n",
    "        plt.xlabel('numero de generaciones')\n",
    "        plt.ylabel('fitness')\n",
    "        plt.grid()\n",
    "        plt.show()\n",
    "        \n",
    "        plt.plot(range(generacion), f_medio)\n",
    "        plt.title('Evolución del fitness medio de la población')\n",
    "        plt.xlabel('numero de generaciones')\n",
    "        plt.ylabel('fitness')\n",
    "        plt.grid()\n",
    "        plt.show()\n",
    "        \n",
    "        print(\"\\nReglas binarias: \\n\")\n",
    "        print(\"Tamaño de la poblacion = \", poblacion, \"; \\nGeneración = \", generacion)\n",
    "        ag = ClasificadorAG(poblacion, dataset, generacion, regla_entera = False)\n",
    "        val = ag.validacion(ValidacionSimple(), dataset, ag)\n",
    "        print(\"\\nErrores =\", val)\n",
    "        print(\"\\nPromedio del error = \", round(np.array(val).mean(),4), \"\\tDesviación típica = \", round(np.array(val).std(), 4))\n",
    "\n",
    "        plt.plot(range(generacion), f_hulk)\n",
    "        plt.title('Evolución del fitness del mejor individuo')\n",
    "        plt.xlabel('numero de generaciones')\n",
    "        plt.ylabel('fitness')\n",
    "        plt.grid()\n",
    "        plt.show()\n",
    "        \n",
    "        plt.plot(range(generacion), f_medio)\n",
    "        plt.title('Evolución del fitness medio de la población')\n",
    "        plt.xlabel('numero de generaciones')\n",
    "        plt.ylabel('fitness')\n",
    "        plt.grid()\n",
    "        plt.show()"
   ]
  },
  {
   "cell_type": "markdown",
   "metadata": {},
   "source": [
    "### Resultados para example4.data"
   ]
  },
  {
   "cell_type": "code",
   "execution_count": null,
   "metadata": {},
   "outputs": [],
   "source": [
    "dataset = Datos(\"ConjuntosDatos/example4.data\")\n",
    "\n",
    "a, k = dataset.crearIntervalos(dataset.datos)\n",
    "for poblacion in poblaciones:\n",
    "    for generacion in generaciones:\n",
    "        print(\"-------------------------------------------------------------------\")\n",
    "        print(\"Reglas enteras: \\n\")\n",
    "        print(\"Tamaño de la poblacion = \", poblacion, \"; \\nGeneración = \", generacion)\n",
    "\n",
    "        ag = ClasificadorAG(poblacion, dataset, generacion)\n",
    "        val = ag.validacion(ValidacionSimple(), dataset, ag)\n",
    "        print(val)\n",
    "        print(\"\\nPromedio del error = \", round(np.array(val).mean(),4), \"\\tDesviación típica = \", round(np.array(val).std(), 4))\n",
    "        \n",
    "        plt.plot(range(generacion), f_hulk)\n",
    "        plt.title('Evolución del fitness del mejor individuo')\n",
    "        plt.xlabel('numero de generaciones')\n",
    "        plt.ylabel('fitness')\n",
    "        plt.grid()\n",
    "        plt.show()\n",
    "        \n",
    "        plt.plot(range(generacion), f_medio)\n",
    "        plt.title('Evolución del fitness medio de la población')\n",
    "        plt.xlabel('numero de generaciones')\n",
    "        plt.ylabel('fitness')\n",
    "        plt.grid()\n",
    "        plt.show()\n",
    "        \n",
    "        print(\"\\nReglas binarias: \\n\")\n",
    "        print(\"Tamaño de la poblacion = \", poblacion, \"; \\nGeneración = \", generacion)\n",
    "        ag = ClasificadorAG(poblacion, dataset, generacion, regla_entera = False)\n",
    "        val = ag.validacion(ValidacionSimple(), dataset, ag)\n",
    "        print(\"\\nErrores =\", val)\n",
    "        print(\"\\nPromedio del error = \", round(np.array(val).mean(),4), \"\\tDesviación típica = \", round(np.array(val).std(), 4))\n",
    "        \n",
    "        plt.plot(range(generacion), f_hulk)\n",
    "        plt.title('Evolución del fitness del mejor individuo')\n",
    "        plt.xlabel('numero de generaciones')\n",
    "        plt.ylabel('fitness')\n",
    "        plt.grid()\n",
    "        plt.show()\n",
    "        \n",
    "        plt.plot(range(generacion), f_medio)\n",
    "        plt.title('Evolución del fitness medio de la población')\n",
    "        plt.xlabel('numero de generaciones')\n",
    "        plt.ylabel('fitness')\n",
    "        plt.grid()\n",
    "        plt.show()"
   ]
  },
  {
   "cell_type": "markdown",
   "metadata": {},
   "source": [
    "### Resultados para wdbc-10.data"
   ]
  },
  {
   "cell_type": "code",
   "execution_count": null,
   "metadata": {},
   "outputs": [],
   "source": [
    "dataset = Datos(\"ConjuntosDatos/wdbc-10.data\")\n",
    "\n",
    "a, k = dataset.crearIntervalos(dataset.datos)\n",
    "for poblacion in poblaciones:\n",
    "    for generacion in generaciones:\n",
    "        print(\"-------------------------------------------------------------------\")\n",
    "        print(\"Reglas enteras: \\n\")\n",
    "        print(\"Tamaño de la poblacion = \", poblacion, \"; \\nGeneración = \", generacion)\n",
    "\n",
    "        ag = ClasificadorAG(poblacion, dataset, generacion)\n",
    "        val = ag.validacion(ValidacionSimple(), dataset, ag)\n",
    "        print(val)\n",
    "        print(\"\\nPromedio del error = \", round(np.array(val).mean(),4), \"\\tDesviación típica = \", round(np.array(val).std(), 4))\n",
    "        \n",
    "        plt.plot(range(generacion), f_hulk)\n",
    "        plt.title('Evolución del fitness del mejor individuo')\n",
    "        plt.xlabel('numero de generaciones')\n",
    "        plt.ylabel('fitness')\n",
    "        plt.grid()\n",
    "        plt.show()\n",
    "        \n",
    "        plt.plot(range(generacion), f_medio)\n",
    "        plt.title('Evolución del fitness medio de la población')\n",
    "        plt.xlabel('numero de generaciones')\n",
    "        plt.ylabel('fitness')\n",
    "        plt.grid()\n",
    "        plt.show()\n",
    "        \n",
    "        print(\"\\nReglas binarias: \\n\")\n",
    "        print(\"Tamaño de la poblacion = \", poblacion, \"; \\nGeneración = \", generacion)\n",
    "        ag = ClasificadorAG(poblacion, dataset, generacion, regla_entera = False)\n",
    "        val = ag.validacion(ValidacionSimple(), dataset, ag)\n",
    "        print(\"\\nErrores =\", val)\n",
    "        print(\"\\nPromedio del error = \", round(np.array(val).mean(),4), \"\\tDesviación típica = \", round(np.array(val).std(), 4))\n",
    "\n",
    "        plt.plot(range(generacion), f_hulk)\n",
    "        plt.title('Evolución del fitness del mejor individuo')\n",
    "        plt.xlabel('numero de generaciones')\n",
    "        plt.ylabel('fitness')\n",
    "        plt.grid()\n",
    "        plt.show()\n",
    "        \n",
    "        plt.plot(range(generacion), f_medio)\n",
    "        plt.title('Evolución del fitness medio de la población')\n",
    "        plt.xlabel('numero de generaciones')\n",
    "        plt.ylabel('fitness')\n",
    "        plt.grid()\n",
    "        plt.show()"
   ]
  },
  {
   "cell_type": "markdown",
   "metadata": {},
   "source": [
    "## 3. Análisis de los resultados"
   ]
  },
  {
   "cell_type": "markdown",
   "metadata": {},
   "source": [
    "Importancia del número de reglas\n",
    "\n",
    "Importancia del tamaño de la población\n",
    "\n",
    "Importancia de las generaciones\n",
    "\n",
    "Importancia de las tasas de cruce y mutación\n",
    "\n",
    "Importancia de la representación (enteros o cadenas binarias)"
   ]
  },
  {
   "cell_type": "markdown",
   "metadata": {},
   "source": [
    "## 4. Representaciones gráficas"
   ]
  },
  {
   "cell_type": "markdown",
   "metadata": {},
   "source": [
    "### a) Evolución del fitness del mejor individuo"
   ]
  },
  {
   "cell_type": "markdown",
   "metadata": {},
   "source": [
    "Para cada generación mostrar en pantalla el número de generación y el fitness del mejor individuo"
   ]
  },
  {
   "cell_type": "markdown",
   "metadata": {},
   "source": [
    "### b) Evolución del fitness medio de la población"
   ]
  },
  {
   "cell_type": "markdown",
   "metadata": {},
   "source": [
    "Para cada generación mostrar en pantalla el número de generación y el fitness del mejor individuo"
   ]
  },
  {
   "cell_type": "markdown",
   "metadata": {},
   "source": []
  }
 ],
 "metadata": {
  "kernelspec": {
   "display_name": "Python 3",
   "language": "python",
   "name": "python3"
  },
  "language_info": {
   "codemirror_mode": {
    "name": "ipython",
    "version": 3
   },
   "file_extension": ".py",
   "mimetype": "text/x-python",
   "name": "python",
   "nbconvert_exporter": "python",
   "pygments_lexer": "ipython3",
   "version": "3.6.5"
  }
 },
 "nbformat": 4,
 "nbformat_minor": 2
}

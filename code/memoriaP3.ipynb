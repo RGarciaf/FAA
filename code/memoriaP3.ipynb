{
 "cells": [
  {
   "cell_type": "markdown",
   "metadata": {},
   "source": [
    "# Memoria Práctica 3"
   ]
  },
  {
   "cell_type": "markdown",
   "metadata": {},
   "source": [
    "Autores: Román García y Patricia Losana"
   ]
  },
  {
   "cell_type": "code",
   "execution_count": 3,
   "metadata": {},
   "outputs": [],
   "source": [
    "from Datos import Datos\n",
    "from EstrategiaParticionado import *\n",
    "from Clasificador import *\n",
    "#from ClasificadorAG import *\n",
    "from Roc import *\n",
    "import numpy as np\n",
    "from sklearn import preprocessing \n",
    "from sklearn.neighbors import KNeighborsClassifier\n",
    "from sklearn.linear_model import LogisticRegression\n",
    "from sklearn.model_selection import cross_val_score\n",
    "from sklearn.model_selection import train_test_split\n",
    "import pprint\n",
    "import matplotlib.pyplot as plt\n",
    "from itertools import cycle\n",
    "from sklearn.metrics import accuracy_score\n",
    "from plotModel import plotModel\n",
    "import matplotlib.pyplot as plt"
   ]
  },
  {
   "cell_type": "markdown",
   "metadata": {},
   "source": [
    "## 1. Implementación"
   ]
  },
  {
   "cell_type": "markdown",
   "metadata": {},
   "source": [
    "A continuación se muestran algunos detalles de la implementación llevada a cabo del algoritmo genético."
   ]
  },
  {
   "cell_type": "markdown",
   "metadata": {},
   "source": [
    "### 1.1 Generación de la población inicial"
   ]
  },
  {
   "cell_type": "markdown",
   "metadata": {},
   "source": [
    "Para generar la población inicial es necesario especificar el set de datos a utilizar, y el número de individuos y de generaciones que se desea. \n",
    "\n",
    "~~~~\n",
    "ag = ClasificadorAG(n_cromosomas, dataset, n_generaciones)\n",
    "~~~~\n",
    "\n",
    "En ese momento se creará una instancia de la clase ClasificadorAG, donde se generará la población inicial de individuos (cromosomas) con el método generarPoblacion(). \n",
    "\n",
    "~~~~\n",
    "def generarPoblacion(self, n_cromosomas, dataset, regla_entera):\n",
    "    for _ in range(n_cromosomas):\n",
    "        self.cromosomas.append(self.Cromosoma(dataset = dataset, regla_entera=regla_entera))\n",
    "~~~~\n",
    "\n",
    "Ese método guarda un array de objetos de la clase Cromosoma (donde cada uno de los cuales es un individuo) en el clasificador. Se ha establecido cromosoma como un conjunto de reglas distintas (set()): \n",
    "~~~~\n",
    "class Cromosoma:\n",
    "    def __init__(self, dataset, reglas = None, regla_entera = True):\n",
    "        self.regla_entera = regla_entera\n",
    "        self.n_attrs = len(dataset.nombreAtributos) - 1  #nº attrs menos la clase\n",
    "        self.rlen = randint(1, pow(dataset.k, self.n_attrs))\n",
    "        self.datos = dataset.convertirAIntervalos(dataset.datos)\n",
    "        self.n_intervalos = dataset.k\n",
    "        self.dataset = dataset\n",
    "        if reglas != None:\n",
    "            self.reglas = reglas\n",
    "        else:\n",
    "            self.reglas = set()\n",
    "            self.generarReglas(dataset)\n",
    "\n",
    "        self.fit = -1\n",
    "~~~~\n",
    "El método generarReglas crea objetos\n",
    "\n",
    "~~~~\n",
    "class Regla():\n",
    "    def __init__(self,dataset, regla_entera = True):\n",
    "        self.regla_entera = regla_entera\n",
    "        self.valores = []\n",
    "        self.n_intervalos = dataset.k  #nº attrs menos la clase\n",
    "\n",
    "        if regla_entera:\n",
    "            self.valores = np.append(np.random.randint(dataset.k + 1, size = len(dataset.nombreAtributos)-1), np.random.randint(len(dataset.diccionarios['Class']), size = 1))\n",
    "        else:\n",
    "            regla = []\n",
    "            for _ in range(len(dataset.nombreAtributos)-1):\n",
    "                regla.append(np.random.randint(2, size = dataset.k).tolist())\n",
    "            regla.append(np.random.randint(len(dataset.diccionarios['Class']), size = 1)[0])\n",
    "            self.valores = regla\n",
    "~~~~          \n",
    "                    \n",
    "En cuanto al número de reglas se ha establecido un número aleatorio entre 1 y 100todas las posibles combinaciones distintas de intervalos para cada atributo. También se hicieron pruebas con un número aleatorio entre 1 y 20, y los resultados son significativamente mejores en la primera implementación. El principal problema es su elevado coste a nivel temporal."
   ]
  },
  {
   "cell_type": "markdown",
   "metadata": {},
   "source": [
    "### 1.2 Mecanismo de cruce implementado"
   ]
  },
  {
   "cell_type": "markdown",
   "metadata": {},
   "source": [
    "El mecanismo de cruce implementado es entre dos cromosomas por un punto de cruce.\n",
    "\n",
    "\n",
    "\n",
    "En **clasificador** se llama al recombinar de cromosoma:\n",
    "~~~~\n",
    "def recombinar(self):\n",
    "    poblacion = []\n",
    "    ruleta = ClasificadorAG.ruleta_rusa(self.cromosomas,len(self.cromosomas))\n",
    "    for cromosoma in self.cromosomas:\n",
    "        poblacion.append(cromosoma.recombinar(ruleta.pop(random.randint(0, len (ruleta) - 1))))\n",
    "    return poblacion\n",
    "~~~~\n",
    "Donde el mecanismo de ruleta está basado en:\n",
    "\n",
    "~~~~\n",
    "def ruleta_rusa(cromosomas, n_individuos):\n",
    "    seleccion, probabilidades = [], []\n",
    "\n",
    "    total_fitness = 0\n",
    "    for cromosoma in cromosomas:\n",
    "        total_fitness += cromosoma.fitness()\n",
    "\n",
    "    if total_fitness == 0:\n",
    "        return cromosomas\n",
    "    for cromosoma in cromosomas:\n",
    "        probabilidades.append(cromosoma.fitness()/total_fitness)\n",
    "    seleccion = np.random.choice(cromosomas, n_individuos, p=probabilidades)\n",
    "    return seleccion.tolist()\n",
    "~~~~\n",
    "\n",
    "En **cromosoma** se obtiene la probabilidad \n",
    "~~~~   \n",
    "def recombinar(self, cromosoma):\n",
    "    if tirarDado(99) < 80:\n",
    "        return self.recombinar_cromosomas(cromosoma)\n",
    "    return self\n",
    "~~~~\n",
    "Donde tirar dado es\n",
    "~~~~\n",
    "def tirarDado(caras, ini = 0):\n",
    "    return random.randint(ini,caras)\n",
    "~~~~\n",
    "\n",
    "Y recombinar_cromosomas es:\n",
    "~~~~\n",
    "def recombinar_cromosomas(self, cromosoma):\n",
    "    medio = round(len(self.reglas)/2)\n",
    "    medio_other = round(len(cromosoma.reglas)/2)\n",
    "\n",
    "    return ClasificadorAG.Cromosoma(self.dataset, reglas = set(list(self.reglas)[:medio] + list(cromosoma.reglas)[:medio_other]), regla_entera = self.regla_entera )\n",
    "~~~~\n"
   ]
  },
  {
   "cell_type": "markdown",
   "metadata": {},
   "source": [
    "### 1.3 Mecanismo de mutación implementado"
   ]
  },
  {
   "cell_type": "markdown",
   "metadata": {},
   "source": [
    "El mecanismo de mutación sigue una estrategia parecida al de recombinación: lo que cambia es la probabilidad de ocurrencia. Primero, dentro del **clasificador**\n",
    "~~~~\n",
    "def mutar(self):\n",
    "    poblacion = []\n",
    "    for cromosoma in self.cromosomas:\n",
    "        cromosoma.mutar()\n",
    "~~~~\n",
    "Después, en **cromosoma**:\n",
    "~~~~\n",
    "def mutar(self, porcentaje = 4):\n",
    "    for regla in self.reglas:\n",
    "        if tirarDado(99) < porcentaje:\n",
    "            regla.mutar(porcentaje)\n",
    "~~~~\n",
    "Finalmente, a nivel de **regla** se tiene en cuenta si el tipo de regla es binaria o entera:\n",
    "~~~~\n",
    "def mutar(self, porcentaje = 4):\n",
    "    if self.regla_entera:\n",
    "        for indice, intervalo in enumerate(self.valores[:-1]):\n",
    "            if tirarDado(99) > porcentaje:\n",
    "                self.valores[indice] = tirarDado(self.n_intervalos)\n",
    "    else: \n",
    "        for index_attr, attr in enumerate(self.valores[:-1]):\n",
    "            for index_intervalo, intervalo in enumerate(attr):\n",
    "                if tirarDado(99) > porcentaje:\n",
    "                    self.valores[index_attr][index_intervalo] = tirarDado(1)\n",
    "~~~~"
   ]
  },
  {
   "cell_type": "markdown",
   "metadata": {},
   "source": [
    "## 2. Resultados de la clasificación"
   ]
  },
  {
   "cell_type": "markdown",
   "metadata": {},
   "source": [
    "### a) Tamaño de la población = 100; Generaciones = 100"
   ]
  },
  {
   "cell_type": "code",
   "execution_count": 11,
   "metadata": {},
   "outputs": [],
   "source": [
    "dataset = [Datos(\"ConjuntosDatos/example1.data\"),Datos(\"ConjuntosDatos/example3.data\") , Datos(\"ConjuntosDatos/example4.data\"), Datos(\"ConjuntosDatos/wdbc.data\")]\n",
    "generaciones = [100, 500, 1000]\n",
    "poblaciones = [100, 200]"
   ]
  },
  {
   "cell_type": "code",
   "execution_count": null,
   "metadata": {},
   "outputs": [],
   "source": [
    "for data in dataset:  \n",
    "    for poblacion in poblaciones:\n",
    "        for generacion in generaciones:\n",
    "            print(\"-------------------------------------------------------------------\")\n",
    "            #estrategia = ValidacionCruzada()\n",
    "            knn = ClasificadorAG(k, normaliza=False)\n",
    "            val = knn.validacion(estrategia,dataset[data],knn)\n",
    "            print(\"Reglas enteras: \\n\")\n",
    "            print(\"Tamaño de la poblacion = \", poblacion, \"; \\tGeneraciones = \", generaciones)\n",
    "            print(\"\\nPromedio del error = \", round(np.array(val).mean(),4), \"\\tDesviación típica = \", round(np.array(val).std(), 4))\n",
    "\n",
    "            knn = ClasificadorAG(k, normaliza=False)\n",
    "            val = knn.validacion(estrategia,dataset[data],knn)\n",
    "            print(\"\\nReglas binarias: \\n\")\n",
    "            print(\"Tamaño de la poblacion = \", poblacion, \"; \\tGeneraciones = \", generaciones)\n",
    "            print(\"\\nPromedio del error = \", round(np.array(val).mean(),4), \"\\tDesviación típica = \", round(np.array(val).std(), 4))\n"
   ]
  },
  {
   "cell_type": "code",
   "execution_count": null,
   "metadata": {},
   "outputs": [],
   "source": [
    "for poblacion in poblaciones:\n",
    "    for generacion in generaciones:\n",
    "        print(\"-------------------------------------------------------------------\")\n",
    "        #estrategia = ValidacionCruzada()\n",
    "        knn = ClasificadorAG(k, normaliza=False)\n",
    "        val = knn.validacion(estrategia,dataset[0],knn)\n",
    "\n",
    "        print(\"Tamaño de la poblacion = \", poblacion, \"; \\tGeneraciones = \", generaciones)\n",
    "        print(\"\\nPromedio del error = \", round(np.array(val).mean(),4), \"\\tDesviación típica = \", round(np.array(val).std(), 4))\n"
   ]
  },
  {
   "cell_type": "code",
   "execution_count": null,
   "metadata": {},
   "outputs": [],
   "source": [
    "for poblacion in poblaciones:\n",
    "    for generacion in generaciones:\n",
    "        print(\"-------------------------------------------------------------------\")\n",
    "        #estrategia = ValidacionCruzada()\n",
    "        knn = ClasificadorAG(k, normaliza=False)\n",
    "        val = knn.validacion(estrategia,dataset[0],knn)\n",
    "\n",
    "        print(\"Tamaño de la poblacion = \", poblacion, \"; \\tGeneraciones = \", generaciones)\n",
    "        print(\"\\nPromedio del error = \", round(np.array(val).mean(),4), \"\\tDesviación típica = \", round(np.array(val).std(), 4))\n"
   ]
  },
  {
   "cell_type": "code",
   "execution_count": null,
   "metadata": {},
   "outputs": [],
   "source": [
    "for poblacion in poblaciones:\n",
    "    for generacion in generaciones:\n",
    "        print(\"-------------------------------------------------------------------\")\n",
    "        #estrategia = ValidacionCruzada()\n",
    "        knn = ClasificadorAG(k, normaliza=False)\n",
    "        val = knn.validacion(estrategia,dataset[0],knn)\n",
    "\n",
    "        print(\"Tamaño de la poblacion = \", poblacion, \"; \\tGeneraciones = \", generaciones)\n",
    "        print(\"\\nPromedio del error = \", round(np.array(val).mean(),4), \"\\tDesviación típica = \", round(np.array(val).std(), 4))\n"
   ]
  },
  {
   "cell_type": "markdown",
   "metadata": {},
   "source": [
    "### b) Tamaño de la población = 100; Generaciones = 500"
   ]
  },
  {
   "cell_type": "markdown",
   "metadata": {},
   "source": []
  },
  {
   "cell_type": "markdown",
   "metadata": {},
   "source": [
    "### c) Tamaño de la población = 100; Generaciones = 1000"
   ]
  },
  {
   "cell_type": "markdown",
   "metadata": {},
   "source": []
  },
  {
   "cell_type": "markdown",
   "metadata": {},
   "source": [
    "### d) Tamaño de la población = 200; Generaciones = 100"
   ]
  },
  {
   "cell_type": "markdown",
   "metadata": {},
   "source": []
  },
  {
   "cell_type": "markdown",
   "metadata": {},
   "source": [
    "### e) Tamaño de la población = 200; Generaciones = 500"
   ]
  },
  {
   "cell_type": "markdown",
   "metadata": {},
   "source": []
  },
  {
   "cell_type": "markdown",
   "metadata": {},
   "source": [
    "### f) Tamaño de la población = 200; Generaciones = 1000"
   ]
  },
  {
   "cell_type": "markdown",
   "metadata": {},
   "source": []
  },
  {
   "cell_type": "markdown",
   "metadata": {},
   "source": [
    "## 3. Análisis de los resultados"
   ]
  },
  {
   "cell_type": "markdown",
   "metadata": {},
   "source": [
    "Importancia del número de reglas\n",
    "\n",
    "Importancia del tamaño de la población\n",
    "\n",
    "Importancia de las generaciones\n",
    "\n",
    "Importancia de las tasas de cruce y mutación\n",
    "\n",
    "Importancia de la representación (enteros o cadenas binarias)"
   ]
  },
  {
   "cell_type": "markdown",
   "metadata": {},
   "source": [
    "## 4. Representaciones gráficas"
   ]
  },
  {
   "cell_type": "markdown",
   "metadata": {},
   "source": [
    "### a) Evolución del fitness del mejor individuo"
   ]
  },
  {
   "cell_type": "markdown",
   "metadata": {},
   "source": [
    "Para cada generación mostrar en pantalla el número de generación y el fitness del mejor individuo"
   ]
  },
  {
   "cell_type": "markdown",
   "metadata": {},
   "source": [
    "### b) Evolución del fitness medio de la población"
   ]
  },
  {
   "cell_type": "markdown",
   "metadata": {},
   "source": [
    "Para cada generación mostrar en pantalla el número de generación y el fitness del mejor individuo"
   ]
  },
  {
   "cell_type": "markdown",
   "metadata": {},
   "source": []
  }
 ],
 "metadata": {
  "kernelspec": {
   "display_name": "Python 3",
   "language": "python",
   "name": "python3"
  },
  "language_info": {
   "codemirror_mode": {
    "name": "ipython",
    "version": 3
   },
   "file_extension": ".py",
   "mimetype": "text/x-python",
   "name": "python",
   "nbconvert_exporter": "python",
   "pygments_lexer": "ipython3",
   "version": "3.6.5"
  }
 },
 "nbformat": 4,
 "nbformat_minor": 2
}

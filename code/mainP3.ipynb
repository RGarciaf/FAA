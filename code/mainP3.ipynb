{
 "cells": [
  {
   "cell_type": "code",
   "execution_count": 1,
   "metadata": {},
   "outputs": [],
   "source": [
    "from Datos import Datos\n",
    "from EstrategiaParticionado import *\n",
    "from Clasificador import *\n",
    "from ClasificadorAG import *\n",
    "import numpy as np"
   ]
  },
  {
   "cell_type": "code",
   "execution_count": 2,
   "metadata": {},
   "outputs": [],
   "source": [
    "dataset = Datos(\"ConjuntosDatos/example1.data\")"
   ]
  },
  {
   "cell_type": "code",
   "execution_count": 3,
   "metadata": {},
   "outputs": [],
   "source": [
    "n_cromosomas = 10\n",
    "n_generaciones = 5\n",
    "\n",
    "ag = ClasificadorAG(n_cromosomas, dataset, n_generaciones, regla_entera = True)"
   ]
  },
  {
   "cell_type": "code",
   "execution_count": 8,
   "metadata": {},
   "outputs": [
    {
     "name": "stdout",
     "output_type": "stream",
     "text": [
      "[0.9608027142857143, 0.3940834285714286]\n",
      "7\n",
      "[[4. 4. 0.]\n",
      " [3. 3. 0.]\n",
      " [4. 4. 0.]\n",
      " ...\n",
      " [5. 4. 1.]\n",
      " [3. 5. 1.]\n",
      " [3. 5. 1.]]\n"
     ]
    }
   ],
   "source": [
    "print(dataset.a)\n",
    "print(dataset.k)\n",
    "print(ag.datosIntervalizados)"
   ]
  },
  {
   "cell_type": "code",
   "execution_count": null,
   "metadata": {
    "scrolled": false
   },
   "outputs": [],
   "source": [
    "import math\n",
    "columns = np.column_stack(dataset.datos)\n",
    "datosIntervalos = np.zeros((len(columns)-1, len(dataset.datos))) #Dos parentesis, tiene que ser un shape\n",
    "mins = []\n",
    "\n",
    "for row in columns[:-1]: #Necesito los minimos de cada atributo\n",
    "    mins.append(np.amin(row))\n",
    "print(mins)\n",
    "for i, (fila_inter, col, a, col_min) in enumerate(zip(datosIntervalos, columns[:-1], dataset.a, mins)): #Itero sobre los datos correspondientes a las columnas\n",
    "    \n",
    "    for j,(attr_inter, dato) in enumerate(zip(fila_inter, col)): #por cada valor de la fila, uso el minimo de ese atributo y el \"a\" de ese atributo\n",
    "        fila_inter[j] = math.ceil((dato - col_min)/a)\n",
    "# for i in range(len(columns)-1):\n",
    "#     v_min = np.amin(columns[i])\n",
    "#     for j in range(len(datos)):\n",
    "#         datosIntervalos[i][j] = math.ceil((columns[i][j] - mins[j])/self.a[j])\n",
    "print(columns[-1])\n",
    "print(np.column_stack(datosIntervalos.tolist() + [columns[-1]]))"
   ]
  },
  {
   "cell_type": "code",
   "execution_count": null,
   "metadata": {},
   "outputs": [],
   "source": []
  }
 ],
 "metadata": {
  "kernelspec": {
   "display_name": "Python 3",
   "language": "python",
   "name": "python3"
  },
  "language_info": {
   "codemirror_mode": {
    "name": "ipython",
    "version": 3
   },
   "file_extension": ".py",
   "mimetype": "text/x-python",
   "name": "python",
   "nbconvert_exporter": "python",
   "pygments_lexer": "ipython3",
   "version": "3.6.5"
  }
 },
 "nbformat": 4,
 "nbformat_minor": 2
}

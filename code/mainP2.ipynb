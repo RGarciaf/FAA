{
 "cells": [
  {
   "cell_type": "code",
   "execution_count": 1,
   "metadata": {},
   "outputs": [],
   "source": [
    "from Datos import Datos\n",
    "from EstrategiaParticionado import *\n",
    "from Clasificador import *\n",
    "import numpy as np"
   ]
  },
  {
   "cell_type": "code",
   "execution_count": 7,
   "metadata": {},
   "outputs": [
    {
     "name": "stdout",
     "output_type": "stream",
     "text": [
      "Promedio del error =  0.29400000000000004 \n",
      "Desviación típica =  0.01786057109949175\n"
     ]
    }
   ],
   "source": [
    "dataset = Datos(\"ConjuntosDatos/german.data\")\n",
    "estrategia = ValidacionSimple()\n",
    "clas = ClasificadorNaiveBayes()\n",
    "val = clas.validacion(estrategia,dataset,clas)\n",
    "media_error1 = np.mean(val)\n",
    "desv_error1 = np.std(val)\n",
    "\n",
    "print(\"Promedio del error = \", media_error1, \"\\nDesviación típica = \", desv_error1)"
   ]
  },
  {
   "cell_type": "code",
   "execution_count": 8,
   "metadata": {},
   "outputs": [
    {
     "name": "stdout",
     "output_type": "stream",
     "text": [
      "[[-1.226 -1.242  1.352 ...  1.237 -0.204 -0.639]\n",
      " [-0.433  2.33  -0.485 ... -0.808 -0.204  1.564]\n",
      " [ 1.155 -0.732  1.352 ... -0.808 -0.204 -0.639]\n",
      " ...\n",
      " [ 1.155 -0.732 -0.485 ... -0.808 -0.204 -0.639]\n",
      " [-1.226  2.075 -0.485 ...  1.237 -0.204  1.564]\n",
      " [-0.433  2.075  1.352 ... -0.808 -0.204 -0.639]]\n"
     ]
    }
   ],
   "source": [
    "\n",
    "    \n",
    "#a = [1,2,3]\n",
    "#print(np.zeros(3,4))\n",
    "#print(normalizarDatos(a, calcularMediasDesv(a)))\n",
    "\n",
    "\n",
    "for i in range(len(estrategia.particiones)):\n",
    "#medias = {}\n",
    "    medias = dataset.calcularMediasDesv(dataset.extraeDatos(estrategia.particiones[i].indicesTrain))\n",
    "\n",
    "\n",
    "print(dataset.normalizarDatos(dataset.datos))"
   ]
  },
  {
   "cell_type": "code",
   "execution_count": null,
   "metadata": {},
   "outputs": [],
   "source": []
  }
 ],
 "metadata": {
  "kernelspec": {
   "display_name": "Python 3",
   "language": "python",
   "name": "python3"
  },
  "language_info": {
   "codemirror_mode": {
    "name": "ipython",
    "version": 3
   },
   "file_extension": ".py",
   "mimetype": "text/x-python",
   "name": "python",
   "nbconvert_exporter": "python",
   "pygments_lexer": "ipython3",
   "version": "3.6.5"
  }
 },
 "nbformat": 4,
 "nbformat_minor": 2
}

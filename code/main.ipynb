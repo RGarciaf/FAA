{
 "cells": [
  {
   "cell_type": "code",
   "execution_count": 1,
   "metadata": {},
   "outputs": [],
   "source": [
    "from Datos import Datos\n",
    "from EstrategiaParticionado import *\n",
    "import numpy as np\n"
   ]
  },
  {
   "cell_type": "code",
<<<<<<< HEAD:main.ipynb
   "execution_count": 5,
=======
   "execution_count": 2,
>>>>>>> ccd947ceaf0edbe860ff894d1c83aacb534d6559:code/main.ipynb
   "metadata": {},
   "outputs": [
    {
     "name": "stdout",
     "output_type": "stream",
     "text": [
<<<<<<< HEAD:main.ipynb
      "Estrategia Validacion Simple:\n",
      "test:  [13 19 18  8  4 15  1 10 14 12]\n",
      "train:  [ 5  2  0  7  9  3 17 16  6 11]\n",
      "test:  [16  5  0 15 12  3 11  9  7 13]\n",
      "train:  [10 14  6  8  2  4  1 19 18 17]\n",
      "test:  [ 0 13 16  7 12 14 11  8  3  9]\n",
      "train:  [ 1  5 18 19  2 10  4  6 17 15]\n",
      "test:  [12 17 19 11 16  9  5 13  2  7]\n",
      "train:  [ 1  4 14  8 18  0 15 10  3  6]\n",
      "test:  [12 14  4  6 19 15 18  1  7  8]\n",
      "train:  [13  3  2  5  9 11 10 17 16  0]\n",
      "\n",
      "Estrategia Validacion Cruzada:\n",
      "test:  [ 9  1 14  7  3]\n",
      "train:  [17 12  0  8 13 19  5  2  4 18 11  6 15 10 16]\n",
      "test:  [17 12  0  8 13]\n",
      "train:  [ 9  1 14  7  3 19  5  2  4 18 11  6 15 10 16]\n",
      "test:  [19  5  2  4 18]\n",
      "train:  [ 9  1 14  7  3 17 12  0  8 13 11  6 15 10 16]\n",
      "test:  [11  6 15 10 16]\n",
      "train:  [ 9  1 14  7  3 17 12  0  8 13 19  5  2  4 18]\n",
      "\n",
      "Estrategia Validacion Bootstrap:\n",
      "test:  [0 0 7]\n",
      "train:  [ 1  2  3  4  5  6  8  9 10 11 12 13 14 15 16 17 18 19]\n",
      "test:  [11  8  5]\n",
      "train:  [ 0  1  2  3  4  6  7  9 10 12 13 14 15 16 17 18 19]\n",
      "test:  [12 17 14]\n",
      "train:  [ 0  1  2  3  4  5  6  7  8  9 10 11 13 15 16 18 19]\n",
      "test:  [ 5 15  3]\n",
      "train:  [ 0  1  2  4  6  7  8  9 10 11 12 13 14 16 17 18 19]\n",
      "test:  [11 10 17]\n",
      "train:  [ 0  1  2  3  4  5  6  7  8  9 12 13 14 15 16 18 19]\n"
=======
      "{'A1': {'A11': 0, 'A12': 1, 'A13': 2, 'A14': 3}, 'A2': {}, 'A3': {'A30': 0, 'A31': 1, 'A32': 2, 'A33': 3, 'A34': 4}, 'A4': {'A40': 0, 'A41': 1, 'A410': 2, 'A42': 3, 'A43': 4, 'A44': 5, 'A45': 6, 'A46': 7, 'A48': 8, 'A49': 9}, 'A5': {}, 'A6': {'A61': 0, 'A62': 1, 'A63': 2, 'A64': 3, 'A65': 4}, 'A7': {'A71': 0, 'A72': 1, 'A73': 2, 'A74': 3, 'A75': 4}, 'A8': {}, 'A9': {'A91': 0, 'A92': 1, 'A93': 2, 'A94': 3}, 'A10': {'A101': 0, 'A102': 1, 'A103': 2}, 'A11': {}, 'A12': {'A121': 0, 'A122': 1, 'A123': 2, 'A124': 3}, 'A13': {}, 'A14': {'A141': 0, 'A142': 1, 'A143': 2}, 'A15': {'A151': 0, 'A152': 1, 'A153': 2}, 'A16': {}, 'A17': {'A171': 0, 'A172': 1, 'A173': 2, 'A174': 3}, 'A18': {}, 'A19': {'A191': 0, 'A192': 1}, 'A20': {'A201': 0, 'A202': 1}, 'Class': {'1': 0, '2': 1}} ['A1', 'A2', 'A3', 'A4', 'A5', 'A6', 'A7', 'A8', 'A9', 'A10', 'A11', 'A12', 'A13', 'A14', 'A15', 'A16', 'A17', 'A18', 'A19', 'A20', 'Class'] ['Nominal', 'Continuo', 'Nominal', 'Nominal', 'Continuo', 'Nominal', 'Nominal', 'Continuo', 'Nominal', 'Nominal', 'Continuo', 'Nominal', 'Continuo', 'Nominal', 'Nominal', 'Continuo', 'Nominal', 'Continuo', 'Nominal', 'Nominal', 'Nominal'] [[ 0.  6.  4. ...  1.  0.  0.]\n",
      " [ 1. 48.  2. ...  0.  0.  1.]\n",
      " [ 3. 12.  4. ...  0.  0.  0.]\n",
      " ...\n",
      " [ 3. 12.  2. ...  0.  0.  0.]\n",
      " [ 0. 45.  2. ...  1.  0.  1.]\n",
      " [ 1. 45.  4. ...  0.  0.  0.]]\n"
>>>>>>> ccd947ceaf0edbe860ff894d1c83aacb534d6559:code/main.ipynb
     ]
    }
   ],
   "source": [
<<<<<<< HEAD:main.ipynb
    "dataset = Datos(\"ConjuntosDatos/balloons.data\")\n",
    "estrategiaS = ValidacionSimple('ValidacionSimple', 5, 0.5, dataset)\n",
    "print(\"Estrategia Validacion Simple:\")\n",
    "for i in estrategiaS.particiones.keys():\n",
    "    print(\"test: \", estrategiaS.particiones[i].indicesTest)\n",
    "    print(\"train: \", estrategiaS.particiones[i].indicesTrain)\n",
    "    \n",
    "estrategiaC = ValidacionCruzada('ValidacionCruzada', 5, dataset)\n",
    "print(\"\\nEstrategia Validacion Cruzada:\")\n",
    "for i in estrategiaC.particiones.keys():\n",
    "    print(\"test: \", estrategiaC.particiones[i].indicesTest)\n",
    "    print(\"train: \", estrategiaC.particiones[i].indicesTrain)\n",
    "    \n",
    "estrategiaB = ValidacionBootstrap('ValidacionBootstrap', 5, 3, dataset)\n",
    "print(\"\\nEstrategia Validacion Bootstrap:\")\n",
    "\n",
    "for i in estrategiaB.particiones.keys():\n",
    "    print(\"test: \", estrategiaB.particiones[i].indicesTest)\n",
    "    print(\"train: \", estrategiaB.particiones[i].indicesTrain)"
=======
    "d = Datos(\"ConjuntosDatos/german.data\")\n",
    "print (d.diccionarios, d.nombreAtributos, d.tipoAtributos, d.datos)"
>>>>>>> ccd947ceaf0edbe860ff894d1c83aacb534d6559:code/main.ipynb
   ]
  },
  {
   "cell_type": "code",
   "execution_count": null,
   "metadata": {},
   "outputs": [],
   "source": [
    "import random\n",
    "\n",
    "def creaParticionesC(datos,seed=None):\n",
    "        particiones = {}\n",
    "        tamParticion = 5\n",
    "        numeroParticiones = 3\n",
    "        perms = np.arange(len(datos.datos))\n",
    "        for i in range(numeroParticiones):\n",
    "            par = Particion()\n",
    "            for _ in range(tamParticion):\n",
    "                par.indicesTest = np.append(par.indicesTest,random.choice(perms)).astype(int)\n",
    "            par.indicesTrain = np.setdiff1d(perms, par.indicesTest)\n",
    "            particiones[i] = par\n",
    "        return particiones\n",
    "\n",
    "\n",
    "\n",
    "particiones = {}\n",
    "particiones = creaParticionesC(dataset)\n",
    "print(\"\\nEstrategia Validacion Bootstrap:\")\n",
    "for i in particiones.keys():\n",
    "    print(\"test: \", particiones[i].indicesTest)\n",
    "    print(\"train: \", particiones[i].indicesTrain)"
   ]
  },
  {
   "cell_type": "code",
   "execution_count": 4,
   "metadata": {},
   "outputs": [
    {
     "name": "stdout",
     "output_type": "stream",
     "text": [
      "\n",
      "Estrategia Validacion Bootstrap:\n",
      "test:  [16  2  7]\n",
      "train:  [ 0  1  3  4  5  6  8  9 10 11 12 13 14 15 17 18 19]\n",
      "test:  [ 6 16 15]\n",
      "train:  [ 0  1  2  3  4  5  7  8  9 10 11 12 13 14 17 18 19]\n",
      "test:  [ 0 12 16]\n",
      "train:  [ 1  2  3  4  5  6  7  8  9 10 11 13 14 15 17 18 19]\n",
      "test:  [ 7 10  8]\n",
      "train:  [ 0  1  2  3  4  5  6  9 11 12 13 14 15 16 17 18 19]\n",
      "test:  [6 4 2]\n",
      "train:  [ 0  1  3  5  7  8  9 10 11 12 13 14 15 16 17 18 19]\n"
     ]
    }
   ],
   "source": []
  },
  {
   "cell_type": "code",
   "execution_count": null,
   "metadata": {},
   "outputs": [],
   "source": []
  }
 ],
 "metadata": {
  "kernelspec": {
   "display_name": "Python 3",
   "language": "python",
   "name": "python3"
  },
  "language_info": {
   "codemirror_mode": {
    "name": "ipython",
    "version": 3
   },
   "file_extension": ".py",
   "mimetype": "text/x-python",
   "name": "python",
   "nbconvert_exporter": "python",
   "pygments_lexer": "ipython3",
<<<<<<< HEAD:main.ipynb
   "version": "3.6.5"
=======
   "version": "3.6.6"
>>>>>>> ccd947ceaf0edbe860ff894d1c83aacb534d6559:code/main.ipynb
  }
 },
 "nbformat": 4,
 "nbformat_minor": 2
}

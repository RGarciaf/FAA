{
 "cells": [
  {
   "cell_type": "markdown",
   "metadata": {},
   "source": [
    "# Memoria Práctica 2"
   ]
  },
  {
   "cell_type": "markdown",
   "metadata": {},
   "source": [
    "Autores: Román García y Patricia Losana"
   ]
  },
  {
   "cell_type": "code",
   "execution_count": 2,
   "metadata": {},
   "outputs": [],
   "source": [
    "from Datos import Datos\n",
    "from EstrategiaParticionado import *\n",
    "from Clasificador import *\n",
    "from Roc import *\n",
    "import numpy as np\n",
    "from sklearn import preprocessing \n",
    "from sklearn.neighbors import KNeighborsClassifier\n",
    "from sklearn.model_selection import cross_val_score\n",
    "from sklearn.model_selection import train_test_split\n",
    "import pprint\n",
    "import matplotlib.pyplot as plt\n",
    "from itertools import cycle\n",
    "from sklearn.metrics import accuracy_score"
   ]
  },
  {
   "cell_type": "markdown",
   "metadata": {},
   "source": [
    "## 1. Vecinos Próximos"
   ]
  },
  {
   "cell_type": "markdown",
   "metadata": {},
   "source": [
    "### 1.1 Resultados de ejecución del ejemplo 1"
   ]
  },
  {
   "cell_type": "code",
   "execution_count": 71,
   "metadata": {},
   "outputs": [],
   "source": [
    "dataset = Datos(\"ConjuntosDatos/example1.data\")"
   ]
  },
  {
   "cell_type": "markdown",
   "metadata": {},
   "source": [
    "#### K = 1"
   ]
  },
  {
   "cell_type": "code",
   "execution_count": null,
   "metadata": {},
   "outputs": [],
   "source": [
    "print(\"Datos normalizados:\")\n",
    "print(\"Datos sin normalizar: \")"
   ]
  },
  {
   "cell_type": "markdown",
   "metadata": {},
   "source": [
    "#### K = 3"
   ]
  },
  {
   "cell_type": "code",
   "execution_count": null,
   "metadata": {},
   "outputs": [],
   "source": []
  },
  {
   "cell_type": "markdown",
   "metadata": {},
   "source": [
    "#### K = 5"
   ]
  },
  {
   "cell_type": "code",
   "execution_count": null,
   "metadata": {},
   "outputs": [],
   "source": []
  },
  {
   "cell_type": "markdown",
   "metadata": {},
   "source": [
    "#### K = 11"
   ]
  },
  {
   "cell_type": "code",
   "execution_count": null,
   "metadata": {},
   "outputs": [],
   "source": []
  },
  {
   "cell_type": "markdown",
   "metadata": {},
   "source": [
    "#### K = 21"
   ]
  },
  {
   "cell_type": "code",
   "execution_count": null,
   "metadata": {},
   "outputs": [],
   "source": []
  },
  {
   "cell_type": "markdown",
   "metadata": {},
   "source": [
    "#### K = 51"
   ]
  },
  {
   "cell_type": "code",
   "execution_count": null,
   "metadata": {},
   "outputs": [],
   "source": []
  },
  {
   "cell_type": "markdown",
   "metadata": {},
   "source": [
    "### 1.2 Resultados de ejecución del ejemplo 2"
   ]
  },
  {
   "cell_type": "markdown",
   "metadata": {},
   "source": [
    "#### K = 1"
   ]
  },
  {
   "cell_type": "code",
   "execution_count": null,
   "metadata": {},
   "outputs": [],
   "source": []
  },
  {
   "cell_type": "markdown",
   "metadata": {},
   "source": [
    "#### K = 3"
   ]
  },
  {
   "cell_type": "code",
   "execution_count": null,
   "metadata": {},
   "outputs": [],
   "source": []
  },
  {
   "cell_type": "markdown",
   "metadata": {},
   "source": [
    "#### K = 5"
   ]
  },
  {
   "cell_type": "code",
   "execution_count": null,
   "metadata": {},
   "outputs": [],
   "source": []
  },
  {
   "cell_type": "markdown",
   "metadata": {},
   "source": [
    "#### K = 11"
   ]
  },
  {
   "cell_type": "code",
   "execution_count": null,
   "metadata": {},
   "outputs": [],
   "source": []
  },
  {
   "cell_type": "markdown",
   "metadata": {},
   "source": [
    "#### K = 21"
   ]
  },
  {
   "cell_type": "code",
   "execution_count": null,
   "metadata": {},
   "outputs": [],
   "source": []
  },
  {
   "cell_type": "markdown",
   "metadata": {},
   "source": [
    "#### K = 51"
   ]
  },
  {
   "cell_type": "code",
   "execution_count": null,
   "metadata": {},
   "outputs": [],
   "source": []
  },
  {
   "cell_type": "markdown",
   "metadata": {},
   "source": [
    "### 1.3 Resultados de ejecución del ejemplo 3"
   ]
  },
  {
   "cell_type": "markdown",
   "metadata": {},
   "source": [
    "#### K = 1"
   ]
  },
  {
   "cell_type": "code",
   "execution_count": null,
   "metadata": {},
   "outputs": [],
   "source": []
  },
  {
   "cell_type": "markdown",
   "metadata": {},
   "source": [
    "#### K = 3"
   ]
  },
  {
   "cell_type": "code",
   "execution_count": null,
   "metadata": {},
   "outputs": [],
   "source": []
  },
  {
   "cell_type": "markdown",
   "metadata": {},
   "source": [
    "#### K = 5"
   ]
  },
  {
   "cell_type": "code",
   "execution_count": null,
   "metadata": {},
   "outputs": [],
   "source": []
  },
  {
   "cell_type": "markdown",
   "metadata": {},
   "source": [
    "#### K = 11"
   ]
  },
  {
   "cell_type": "code",
   "execution_count": null,
   "metadata": {},
   "outputs": [],
   "source": []
  },
  {
   "cell_type": "markdown",
   "metadata": {},
   "source": [
    "#### K = 21"
   ]
  },
  {
   "cell_type": "code",
   "execution_count": null,
   "metadata": {},
   "outputs": [],
   "source": []
  },
  {
   "cell_type": "markdown",
   "metadata": {},
   "source": [
    "#### K = 51"
   ]
  },
  {
   "cell_type": "code",
   "execution_count": null,
   "metadata": {},
   "outputs": [],
   "source": []
  },
  {
   "cell_type": "markdown",
   "metadata": {},
   "source": [
    "### 1.4 Resultados de ejecución del ejemplo 4"
   ]
  },
  {
   "cell_type": "markdown",
   "metadata": {},
   "source": [
    "#### K = 1"
   ]
  },
  {
   "cell_type": "code",
   "execution_count": null,
   "metadata": {},
   "outputs": [],
   "source": []
  },
  {
   "cell_type": "markdown",
   "metadata": {},
   "source": [
    "#### K = 3"
   ]
  },
  {
   "cell_type": "code",
   "execution_count": null,
   "metadata": {},
   "outputs": [],
   "source": []
  },
  {
   "cell_type": "markdown",
   "metadata": {},
   "source": [
    "#### K = 5"
   ]
  },
  {
   "cell_type": "code",
   "execution_count": null,
   "metadata": {},
   "outputs": [],
   "source": []
  },
  {
   "cell_type": "markdown",
   "metadata": {},
   "source": [
    "#### K = 11"
   ]
  },
  {
   "cell_type": "code",
   "execution_count": null,
   "metadata": {},
   "outputs": [],
   "source": []
  },
  {
   "cell_type": "markdown",
   "metadata": {},
   "source": [
    "#### K = 21"
   ]
  },
  {
   "cell_type": "code",
   "execution_count": null,
   "metadata": {},
   "outputs": [],
   "source": []
  },
  {
   "cell_type": "markdown",
   "metadata": {},
   "source": [
    "#### K = 51"
   ]
  },
  {
   "cell_type": "code",
   "execution_count": null,
   "metadata": {},
   "outputs": [],
   "source": []
  },
  {
   "cell_type": "markdown",
   "metadata": {},
   "source": [
    "### 1.5 Resultados de ejecución de WDBC"
   ]
  },
  {
   "cell_type": "markdown",
   "metadata": {},
   "source": [
    "#### K = 1"
   ]
  },
  {
   "cell_type": "code",
   "execution_count": null,
   "metadata": {},
   "outputs": [],
   "source": []
  },
  {
   "cell_type": "markdown",
   "metadata": {},
   "source": [
    "#### K = 3"
   ]
  },
  {
   "cell_type": "code",
   "execution_count": null,
   "metadata": {},
   "outputs": [],
   "source": []
  },
  {
   "cell_type": "markdown",
   "metadata": {},
   "source": [
    "#### K = 5"
   ]
  },
  {
   "cell_type": "code",
   "execution_count": null,
   "metadata": {},
   "outputs": [],
   "source": []
  },
  {
   "cell_type": "markdown",
   "metadata": {},
   "source": [
    "#### K = 11"
   ]
  },
  {
   "cell_type": "code",
   "execution_count": null,
   "metadata": {},
   "outputs": [],
   "source": []
  },
  {
   "cell_type": "markdown",
   "metadata": {},
   "source": [
    "#### K = 21"
   ]
  },
  {
   "cell_type": "code",
   "execution_count": null,
   "metadata": {},
   "outputs": [],
   "source": []
  },
  {
   "cell_type": "markdown",
   "metadata": {},
   "source": [
    "#### K = 51"
   ]
  },
  {
   "cell_type": "code",
   "execution_count": null,
   "metadata": {},
   "outputs": [],
   "source": []
  },
  {
   "cell_type": "markdown",
   "metadata": {},
   "source": [
    "## 2. Regresión Logística"
   ]
  },
  {
   "cell_type": "markdown",
   "metadata": {},
   "source": [
    "### 2.1 Resultados de ejecución del ejemplo 1"
   ]
  },
  {
   "cell_type": "markdown",
   "metadata": {},
   "source": [
    "Diferentes valores para la constante de aprendizaje y el número de pasos"
   ]
  },
  {
   "cell_type": "markdown",
   "metadata": {},
   "source": [
    "#### Valores random 1"
   ]
  },
  {
   "cell_type": "code",
   "execution_count": null,
   "metadata": {},
   "outputs": [],
   "source": []
  },
  {
   "cell_type": "markdown",
   "metadata": {},
   "source": [
    "#### Valores random 2"
   ]
  },
  {
   "cell_type": "code",
   "execution_count": null,
   "metadata": {},
   "outputs": [],
   "source": []
  },
  {
   "cell_type": "markdown",
   "metadata": {},
   "source": [
    "#### Valores random 3"
   ]
  },
  {
   "cell_type": "code",
   "execution_count": null,
   "metadata": {},
   "outputs": [],
   "source": []
  },
  {
   "cell_type": "markdown",
   "metadata": {},
   "source": [
    "#### Valores random 4"
   ]
  },
  {
   "cell_type": "code",
   "execution_count": null,
   "metadata": {},
   "outputs": [],
   "source": []
  },
  {
   "cell_type": "markdown",
   "metadata": {},
   "source": [
    "### 2.2 Resultados de ejecución del ejemplo 2"
   ]
  },
  {
   "cell_type": "markdown",
   "metadata": {},
   "source": [
    "#### Valores random 1"
   ]
  },
  {
   "cell_type": "code",
   "execution_count": null,
   "metadata": {},
   "outputs": [],
   "source": []
  },
  {
   "cell_type": "markdown",
   "metadata": {},
   "source": [
    "#### Valores random 2"
   ]
  },
  {
   "cell_type": "code",
   "execution_count": null,
   "metadata": {},
   "outputs": [],
   "source": []
  },
  {
   "cell_type": "markdown",
   "metadata": {},
   "source": [
    "#### Valores random 3"
   ]
  },
  {
   "cell_type": "code",
   "execution_count": null,
   "metadata": {},
   "outputs": [],
   "source": []
  },
  {
   "cell_type": "markdown",
   "metadata": {},
   "source": [
    "#### Valores random 4"
   ]
  },
  {
   "cell_type": "code",
   "execution_count": null,
   "metadata": {},
   "outputs": [],
   "source": []
  },
  {
   "cell_type": "markdown",
   "metadata": {},
   "source": [
    "### 2.3 Resultados de ejecución del ejemplo 3"
   ]
  },
  {
   "cell_type": "markdown",
   "metadata": {},
   "source": [
    "#### Valores random 1"
   ]
  },
  {
   "cell_type": "code",
   "execution_count": null,
   "metadata": {},
   "outputs": [],
   "source": []
  },
  {
   "cell_type": "markdown",
   "metadata": {},
   "source": [
    "#### Valores random 2"
   ]
  },
  {
   "cell_type": "code",
   "execution_count": null,
   "metadata": {},
   "outputs": [],
   "source": []
  },
  {
   "cell_type": "markdown",
   "metadata": {},
   "source": [
    "#### Valores random 3"
   ]
  },
  {
   "cell_type": "code",
   "execution_count": null,
   "metadata": {},
   "outputs": [],
   "source": []
  },
  {
   "cell_type": "markdown",
   "metadata": {},
   "source": [
    "#### Valores random 4"
   ]
  },
  {
   "cell_type": "code",
   "execution_count": null,
   "metadata": {},
   "outputs": [],
   "source": []
  },
  {
   "cell_type": "markdown",
   "metadata": {},
   "source": [
    "### 2.4 Resultados de ejecución del ejemplo 4"
   ]
  },
  {
   "cell_type": "markdown",
   "metadata": {},
   "source": [
    "#### Valores random 1"
   ]
  },
  {
   "cell_type": "code",
   "execution_count": null,
   "metadata": {},
   "outputs": [],
   "source": []
  },
  {
   "cell_type": "markdown",
   "metadata": {},
   "source": [
    "#### Valores random 2"
   ]
  },
  {
   "cell_type": "code",
   "execution_count": null,
   "metadata": {},
   "outputs": [],
   "source": []
  },
  {
   "cell_type": "markdown",
   "metadata": {},
   "source": [
    "#### Valores random 3"
   ]
  },
  {
   "cell_type": "code",
   "execution_count": null,
   "metadata": {},
   "outputs": [],
   "source": []
  },
  {
   "cell_type": "markdown",
   "metadata": {},
   "source": [
    "#### Valores random 4"
   ]
  },
  {
   "cell_type": "code",
   "execution_count": null,
   "metadata": {},
   "outputs": [],
   "source": []
  },
  {
   "cell_type": "markdown",
   "metadata": {},
   "source": [
    "### 2.5 Resultados de ejecución de WDBC"
   ]
  },
  {
   "cell_type": "markdown",
   "metadata": {},
   "source": [
    "#### Valores random 1"
   ]
  },
  {
   "cell_type": "code",
   "execution_count": null,
   "metadata": {},
   "outputs": [],
   "source": []
  },
  {
   "cell_type": "markdown",
   "metadata": {},
   "source": [
    "#### Valores random 2"
   ]
  },
  {
   "cell_type": "code",
   "execution_count": null,
   "metadata": {},
   "outputs": [],
   "source": []
  },
  {
   "cell_type": "markdown",
   "metadata": {},
   "source": [
    "#### Valores random 3"
   ]
  },
  {
   "cell_type": "code",
   "execution_count": null,
   "metadata": {},
   "outputs": [],
   "source": []
  },
  {
   "cell_type": "markdown",
   "metadata": {},
   "source": [
    "#### Valores random 4"
   ]
  },
  {
   "cell_type": "code",
   "execution_count": null,
   "metadata": {},
   "outputs": [],
   "source": []
  },
  {
   "cell_type": "markdown",
   "metadata": {},
   "source": [
    "### Análisis de los resultados"
   ]
  },
  {
   "cell_type": "markdown",
   "metadata": {},
   "source": []
  },
  {
   "cell_type": "markdown",
   "metadata": {},
   "source": [
    "## 3. Scikit-Learn y Representación Gráfica"
   ]
  },
  {
   "cell_type": "markdown",
   "metadata": {},
   "source": [
    "## 3.1 Resultados de la clasificación utilizando Scikit-Learn"
   ]
  },
  {
   "cell_type": "markdown",
   "metadata": {},
   "source": [
    "### 3.1.1 Resultados de KNN"
   ]
  },
  {
   "cell_type": "markdown",
   "metadata": {},
   "source": [
    "### Resultados de ejecución del ejemplo 1"
   ]
  },
  {
   "cell_type": "code",
   "execution_count": 55,
   "metadata": {},
   "outputs": [],
   "source": [
    "dataset = Datos(\"ConjuntosDatos/example1.data\")"
   ]
  },
  {
   "cell_type": "markdown",
   "metadata": {},
   "source": [
    "#### K = 1"
   ]
  },
  {
   "cell_type": "code",
   "execution_count": 56,
   "metadata": {},
   "outputs": [
    {
     "ename": "ValueError",
     "evalue": "X needs to contain only non-negative integers.",
     "output_type": "error",
     "traceback": [
      "\u001b[1;31m---------------------------------------------------------------------------\u001b[0m",
      "\u001b[1;31mValueError\u001b[0m                                Traceback (most recent call last)",
      "\u001b[1;32m<ipython-input-56-5cc965951f64>\u001b[0m in \u001b[0;36m<module>\u001b[1;34m()\u001b[0m\n\u001b[0;32m      7\u001b[0m \u001b[0mencAtributos\u001b[0m \u001b[1;33m=\u001b[0m \u001b[0mpreprocessing\u001b[0m\u001b[1;33m.\u001b[0m\u001b[0mOneHotEncoder\u001b[0m\u001b[1;33m(\u001b[0m\u001b[0mcategorical_features\u001b[0m\u001b[1;33m=\u001b[0m\u001b[0mdataset\u001b[0m\u001b[1;33m.\u001b[0m\u001b[0mnominalAtributos\u001b[0m\u001b[1;33m[\u001b[0m\u001b[1;33m:\u001b[0m\u001b[1;33m-\u001b[0m\u001b[1;36m1\u001b[0m\u001b[1;33m]\u001b[0m\u001b[1;33m,\u001b[0m\u001b[0msparse\u001b[0m\u001b[1;33m=\u001b[0m\u001b[1;32mFalse\u001b[0m\u001b[1;33m)\u001b[0m\u001b[1;33m\u001b[0m\u001b[0m\n\u001b[0;32m      8\u001b[0m \u001b[1;31m# X contendra la matriz de atributos codificada\u001b[0m\u001b[1;33m\u001b[0m\u001b[1;33m\u001b[0m\u001b[0m\n\u001b[1;32m----> 9\u001b[1;33m \u001b[0mX\u001b[0m \u001b[1;33m=\u001b[0m \u001b[0mencAtributos\u001b[0m\u001b[1;33m.\u001b[0m\u001b[0mfit_transform\u001b[0m\u001b[1;33m(\u001b[0m\u001b[0mdataset\u001b[0m\u001b[1;33m.\u001b[0m\u001b[0mdatos\u001b[0m\u001b[1;33m[\u001b[0m\u001b[1;33m:\u001b[0m\u001b[1;33m,\u001b[0m\u001b[1;33m:\u001b[0m\u001b[1;33m-\u001b[0m\u001b[1;36m1\u001b[0m\u001b[1;33m]\u001b[0m\u001b[1;33m)\u001b[0m\u001b[1;33m\u001b[0m\u001b[0m\n\u001b[0m\u001b[0;32m     10\u001b[0m \u001b[1;33m\u001b[0m\u001b[0m\n\u001b[0;32m     11\u001b[0m \u001b[1;31m# Y contendra la clase de cada patron\u001b[0m\u001b[1;33m\u001b[0m\u001b[1;33m\u001b[0m\u001b[0m\n",
      "\u001b[1;32m~\\Anaconda3\\lib\\site-packages\\sklearn\\preprocessing\\data.py\u001b[0m in \u001b[0;36mfit_transform\u001b[1;34m(self, X, y)\u001b[0m\n\u001b[0;32m   2017\u001b[0m         \"\"\"\n\u001b[0;32m   2018\u001b[0m         return _transform_selected(X, self._fit_transform,\n\u001b[1;32m-> 2019\u001b[1;33m                                    self.categorical_features, copy=True)\n\u001b[0m\u001b[0;32m   2020\u001b[0m \u001b[1;33m\u001b[0m\u001b[0m\n\u001b[0;32m   2021\u001b[0m     \u001b[1;32mdef\u001b[0m \u001b[0m_transform\u001b[0m\u001b[1;33m(\u001b[0m\u001b[0mself\u001b[0m\u001b[1;33m,\u001b[0m \u001b[0mX\u001b[0m\u001b[1;33m)\u001b[0m\u001b[1;33m:\u001b[0m\u001b[1;33m\u001b[0m\u001b[0m\n",
      "\u001b[1;32m~\\Anaconda3\\lib\\site-packages\\sklearn\\preprocessing\\data.py\u001b[0m in \u001b[0;36m_transform_selected\u001b[1;34m(X, transform, selected, copy)\u001b[0m\n\u001b[0;32m   1829\u001b[0m         \u001b[1;32mreturn\u001b[0m \u001b[0mtransform\u001b[0m\u001b[1;33m(\u001b[0m\u001b[0mX\u001b[0m\u001b[1;33m)\u001b[0m\u001b[1;33m\u001b[0m\u001b[0m\n\u001b[0;32m   1830\u001b[0m     \u001b[1;32melse\u001b[0m\u001b[1;33m:\u001b[0m\u001b[1;33m\u001b[0m\u001b[0m\n\u001b[1;32m-> 1831\u001b[1;33m         \u001b[0mX_sel\u001b[0m \u001b[1;33m=\u001b[0m \u001b[0mtransform\u001b[0m\u001b[1;33m(\u001b[0m\u001b[0mX\u001b[0m\u001b[1;33m[\u001b[0m\u001b[1;33m:\u001b[0m\u001b[1;33m,\u001b[0m \u001b[0mind\u001b[0m\u001b[1;33m[\u001b[0m\u001b[0msel\u001b[0m\u001b[1;33m]\u001b[0m\u001b[1;33m]\u001b[0m\u001b[1;33m)\u001b[0m\u001b[1;33m\u001b[0m\u001b[0m\n\u001b[0m\u001b[0;32m   1832\u001b[0m         \u001b[0mX_not_sel\u001b[0m \u001b[1;33m=\u001b[0m \u001b[0mX\u001b[0m\u001b[1;33m[\u001b[0m\u001b[1;33m:\u001b[0m\u001b[1;33m,\u001b[0m \u001b[0mind\u001b[0m\u001b[1;33m[\u001b[0m\u001b[0mnot_sel\u001b[0m\u001b[1;33m]\u001b[0m\u001b[1;33m]\u001b[0m\u001b[1;33m\u001b[0m\u001b[0m\n\u001b[0;32m   1833\u001b[0m \u001b[1;33m\u001b[0m\u001b[0m\n",
      "\u001b[1;32m~\\Anaconda3\\lib\\site-packages\\sklearn\\preprocessing\\data.py\u001b[0m in \u001b[0;36m_fit_transform\u001b[1;34m(self, X)\u001b[0m\n\u001b[0;32m   1961\u001b[0m         \u001b[0mX\u001b[0m \u001b[1;33m=\u001b[0m \u001b[0mcheck_array\u001b[0m\u001b[1;33m(\u001b[0m\u001b[0mX\u001b[0m\u001b[1;33m,\u001b[0m \u001b[0mdtype\u001b[0m\u001b[1;33m=\u001b[0m\u001b[0mnp\u001b[0m\u001b[1;33m.\u001b[0m\u001b[0mint\u001b[0m\u001b[1;33m)\u001b[0m\u001b[1;33m\u001b[0m\u001b[0m\n\u001b[0;32m   1962\u001b[0m         \u001b[1;32mif\u001b[0m \u001b[0mnp\u001b[0m\u001b[1;33m.\u001b[0m\u001b[0many\u001b[0m\u001b[1;33m(\u001b[0m\u001b[0mX\u001b[0m \u001b[1;33m<\u001b[0m \u001b[1;36m0\u001b[0m\u001b[1;33m)\u001b[0m\u001b[1;33m:\u001b[0m\u001b[1;33m\u001b[0m\u001b[0m\n\u001b[1;32m-> 1963\u001b[1;33m             \u001b[1;32mraise\u001b[0m \u001b[0mValueError\u001b[0m\u001b[1;33m(\u001b[0m\u001b[1;34m\"X needs to contain only non-negative integers.\"\u001b[0m\u001b[1;33m)\u001b[0m\u001b[1;33m\u001b[0m\u001b[0m\n\u001b[0m\u001b[0;32m   1964\u001b[0m         \u001b[0mn_samples\u001b[0m\u001b[1;33m,\u001b[0m \u001b[0mn_features\u001b[0m \u001b[1;33m=\u001b[0m \u001b[0mX\u001b[0m\u001b[1;33m.\u001b[0m\u001b[0mshape\u001b[0m\u001b[1;33m\u001b[0m\u001b[0m\n\u001b[0;32m   1965\u001b[0m         if (isinstance(self.n_values, six.string_types) and\n",
      "\u001b[1;31mValueError\u001b[0m: X needs to contain only non-negative integers."
     ]
    }
   ],
   "source": [
    "k = 1\n",
    "\n",
    "estrategia = ValidacionCruzada()\n",
    "knn = ClasificadorVecinosProximos(k)\n",
    "val = knn.validacion(estrategia,dataset,knn)\n",
    "\n",
    "encAtributos = preprocessing.OneHotEncoder(categorical_features=dataset.nominalAtributos[:-1],sparse=False)\n",
    "# X contendra la matriz de atributos codificada\n",
    "X = encAtributos.fit_transform(dataset.datos[:,:-1])\n",
    "\n",
    "# Y contendra la clase de cada patron\n",
    "Y =dataset.datos[:,-1] \n",
    "\n",
    "clf = KNeighborsClassifier(k)\n",
    "pred_kfolds = cross_val_score(clf, X, Y, cv = 5)\n",
    "\n",
    "#Obtenemos el error de la media de las predicciones\n",
    "media_error = 1 - pred_kfolds.mean()\n",
    "\n",
    "#Obtenemos la desviacion tipica de las predicciones\n",
    "desv_error = pred_kfolds.std()\n",
    "\n",
    "#sk_err = []\n",
    "#for i in range(len(estrategia.particiones)):\n",
    "#    train = dataset.extraeDatos(estrategia.particiones[i].indicesTrain)\n",
    "#    test =dataset.extraeDatos(estrategia.particiones[i].indicesTest)\n",
    "    \n",
    "#    clf = KNeighborsClassifier(k)\n",
    "#    clf.fit(train[:,:-1], train[:,-1])\n",
    "#    sk_err.append(clf.score(test[:,:-1], test[:,-1]))\n",
    "#sk_err = np.array(sk_err)\n",
    "\n",
    "#Obtenemos el error de la media de las predicciones\n",
    "media_error = 1 - sk_err.mean()\n",
    "\n",
    "#Obtenemos la desviacion tipica de las predicciones\n",
    "desv_error = sk_err.std()\n",
    "\n",
    "print(\"Resultados implementación propia:\")\n",
    "print(\"Promedio del error = \", np.array(val).mean(), \"\\tDesviación típica = \", np.array(val).std())\n",
    "print(\"\\nResultados sklearn:\")\n",
    "print(\"Promedio del error = \", media_error, \"\\tDesviación típica = \", desv_error)"
   ]
  },
  {
   "cell_type": "markdown",
   "metadata": {},
   "source": [
    "#### K = 3"
   ]
  },
  {
   "cell_type": "code",
   "execution_count": 26,
   "metadata": {},
   "outputs": [
    {
     "name": "stdout",
     "output_type": "stream",
     "text": [
      "Resultados implementación propia:\n",
      "Promedio del error =  0.1425 \tDesviación típica =  0.14210471491122315\n",
      "\n",
      "Resultados sklearn:\n",
      "Promedio del error =  0.14 \tDesviación típica =  0.1392838827718412\n"
     ]
    }
   ],
   "source": [
    "k = 3\n",
    "\n",
    "estrategia = ValidacionCruzada()\n",
    "knn = ClasificadorVecinosProximos(k)\n",
    "val = knn.validacion(estrategia,dataset,knn)\n",
    "\n",
    "sk_err = []\n",
    "for i in range(len(estrategia.particiones)):\n",
    "    train = dataset.extraeDatos(estrategia.particiones[i].indicesTrain)\n",
    "    test =dataset.extraeDatos(estrategia.particiones[i].indicesTest)\n",
    "    \n",
    "    clf = KNeighborsClassifier(k)\n",
    "    clf.fit(train[:,:-1], train[:,-1])\n",
    "    sk_err.append(clf.score(test[:,:-1], test[:,-1]))\n",
    "sk_err = np.array(sk_err)\n",
    "\n",
    "#Obtenemos el error de la media de las predicciones\n",
    "media_error = 1 - sk_err.mean()\n",
    "\n",
    "#Obtenemos la desviacion tipica de las predicciones\n",
    "desv_error = sk_err.std()\n",
    "\n",
    "print(\"Resultados implementación propia:\")\n",
    "print(\"Promedio del error = \", np.array(val).mean(), \"\\tDesviación típica = \", np.array(val).std())\n",
    "print(\"\\nResultados sklearn:\")\n",
    "print(\"Promedio del error = \", media_error, \"\\tDesviación típica = \", desv_error)"
   ]
  },
  {
   "cell_type": "markdown",
   "metadata": {},
   "source": [
    "#### K = 5"
   ]
  },
  {
   "cell_type": "code",
   "execution_count": 27,
   "metadata": {},
   "outputs": [
    {
     "name": "stdout",
     "output_type": "stream",
     "text": [
      "Resultados implementación propia:\n",
      "Promedio del error =  0.1375 \tDesviación típica =  0.14694812009685598\n",
      "\n",
      "Resultados sklearn:\n",
      "Promedio del error =  0.14 \tDesviación típica =  0.14628738838327793\n"
     ]
    }
   ],
   "source": [
    "k = 5\n",
    "\n",
    "estrategia = ValidacionCruzada()\n",
    "knn = ClasificadorVecinosProximos(k)\n",
    "val = knn.validacion(estrategia,dataset,knn)\n",
    "\n",
    "sk_err = []\n",
    "for i in range(len(estrategia.particiones)):\n",
    "    train = dataset.extraeDatos(estrategia.particiones[i].indicesTrain)\n",
    "    test =dataset.extraeDatos(estrategia.particiones[i].indicesTest)\n",
    "    \n",
    "    clf = KNeighborsClassifier(k)\n",
    "    clf.fit(train[:,:-1], train[:,-1])\n",
    "    sk_err.append(clf.score(test[:,:-1], test[:,-1]))\n",
    "sk_err = np.array(sk_err)\n",
    "\n",
    "#Obtenemos el error de la media de las predicciones\n",
    "media_error = 1 - sk_err.mean()\n",
    "\n",
    "#Obtenemos la desviacion tipica de las predicciones\n",
    "desv_error = sk_err.std()\n",
    "\n",
    "print(\"Resultados implementación propia:\")\n",
    "print(\"Promedio del error = \", np.array(val).mean(), \"\\tDesviación típica = \", np.array(val).std())\n",
    "print(\"\\nResultados sklearn:\")\n",
    "print(\"Promedio del error = \", media_error, \"\\tDesviación típica = \", desv_error)"
   ]
  },
  {
   "cell_type": "markdown",
   "metadata": {},
   "source": [
    "#### K = 11"
   ]
  },
  {
   "cell_type": "code",
   "execution_count": 28,
   "metadata": {},
   "outputs": [
    {
     "name": "stdout",
     "output_type": "stream",
     "text": [
      "Resultados implementación propia:\n",
      "Promedio del error =  0.175 \tDesviación típica =  0.15612494995995996\n",
      "\n",
      "Resultados sklearn:\n",
      "Promedio del error =  0.1725000000000001 \tDesviación típica =  0.15730146216739374\n"
     ]
    }
   ],
   "source": [
    "k = 1\n",
    "\n",
    "estrategia = ValidacionCruzada()\n",
    "knn = ClasificadorVecinosProximos(k)\n",
    "val = knn.validacion(estrategia,dataset,knn)\n",
    "\n",
    "sk_err = []\n",
    "for i in range(len(estrategia.particiones)):\n",
    "    train = dataset.extraeDatos(estrategia.particiones[i].indicesTrain)\n",
    "    test =dataset.extraeDatos(estrategia.particiones[i].indicesTest)\n",
    "    \n",
    "    clf = KNeighborsClassifier(k)\n",
    "    clf.fit(train[:,:-1], train[:,-1])\n",
    "    sk_err.append(clf.score(test[:,:-1], test[:,-1]))\n",
    "sk_err = np.array(sk_err)\n",
    "\n",
    "#Obtenemos el error de la media de las predicciones\n",
    "media_error = 1 - sk_err.mean()\n",
    "\n",
    "#Obtenemos la desviacion tipica de las predicciones\n",
    "desv_error = sk_err.std()\n",
    "\n",
    "print(\"Resultados implementación propia:\")\n",
    "print(\"Promedio del error = \", np.array(val).mean(), \"\\tDesviación típica = \", np.array(val).std())\n",
    "print(\"\\nResultados sklearn:\")\n",
    "print(\"Promedio del error = \", media_error, \"\\tDesviación típica = \", desv_error)"
   ]
  },
  {
   "cell_type": "markdown",
   "metadata": {},
   "source": [
    "#### K = 21"
   ]
  },
  {
   "cell_type": "code",
   "execution_count": 29,
   "metadata": {},
   "outputs": [
    {
     "name": "stdout",
     "output_type": "stream",
     "text": [
      "Resultados implementación propia:\n",
      "Promedio del error =  0.145 \tDesviación típica =  0.14823967080373593\n",
      "\n",
      "Resultados sklearn:\n",
      "Promedio del error =  0.1449999999999999 \tDesviación típica =  0.14823967080373593\n"
     ]
    }
   ],
   "source": [
    "k = 21\n",
    "\n",
    "estrategia = ValidacionCruzada()\n",
    "knn = ClasificadorVecinosProximos(k)\n",
    "val = knn.validacion(estrategia,dataset,knn)\n",
    "\n",
    "sk_err = []\n",
    "for i in range(len(estrategia.particiones)):\n",
    "    train = dataset.extraeDatos(estrategia.particiones[i].indicesTrain)\n",
    "    test =dataset.extraeDatos(estrategia.particiones[i].indicesTest)\n",
    "    \n",
    "    clf = KNeighborsClassifier(k)\n",
    "    clf.fit(train[:,:-1], train[:,-1])\n",
    "    sk_err.append(clf.score(test[:,:-1], test[:,-1]))\n",
    "sk_err = np.array(sk_err)\n",
    "\n",
    "#Obtenemos el error de la media de las predicciones\n",
    "media_error = 1 - sk_err.mean()\n",
    "\n",
    "#Obtenemos la desviacion tipica de las predicciones\n",
    "desv_error = sk_err.std()\n",
    "\n",
    "print(\"Resultados implementación propia:\")\n",
    "print(\"Promedio del error = \", np.array(val).mean(), \"\\tDesviación típica = \", np.array(val).std())\n",
    "print(\"\\nResultados sklearn:\")\n",
    "print(\"Promedio del error = \", media_error, \"\\tDesviación típica = \", desv_error)"
   ]
  },
  {
   "cell_type": "markdown",
   "metadata": {},
   "source": [
    "#### K = 51"
   ]
  },
  {
   "cell_type": "code",
   "execution_count": 30,
   "metadata": {},
   "outputs": [
    {
     "name": "stdout",
     "output_type": "stream",
     "text": [
      "Resultados implementación propia:\n",
      "Promedio del error =  0.1375 \tDesviación típica =  0.15360257159305635\n",
      "\n",
      "Resultados sklearn:\n",
      "Promedio del error =  0.13749999999999996 \tDesviación típica =  0.15360257159305635\n"
     ]
    }
   ],
   "source": [
    "k = 51\n",
    "\n",
    "estrategia = ValidacionCruzada()\n",
    "knn = ClasificadorVecinosProximos(k)\n",
    "val = knn.validacion(estrategia,dataset,knn)\n",
    "\n",
    "sk_err = []\n",
    "\n",
    "encAtributos = preprocessing.OneHotEncoder(categorical_features=dataset.nominalAtributos[:-1], sparse=False)\n",
    "X = encAtributos.fit_transform(dataset.datos[:, :-1])\n",
    "Y = dataset.datos[:, -1]\n",
    "for i in range(len(estrategia.particiones)):\n",
    "    train = dataset.extraeDatos(estrategia.particiones[i].indicesTrain)\n",
    "    test =dataset.extraeDatos(estrategia.particiones[i].indicesTest)\n",
    "    \n",
    "    clf = KNeighborsClassifier(k)\n",
    "    clf.fit(train[:,:-1], train[:,-1])\n",
    "    sk_err.append(clf.score(test[:,:-1], test[:,-1]))\n",
    "sk_err = np.array(sk_err)\n",
    "\n",
    "#Obtenemos el error de la media de las predicciones\n",
    "media_error = 1 - sk_err.mean()\n",
    "\n",
    "#Obtenemos la desviacion tipica de las predicciones\n",
    "desv_error = sk_err.std()\n",
    "\n",
    "print(\"Resultados implementación propia:\")\n",
    "print(\"Promedio del error = \", np.array(val).mean(), \"\\tDesviación típica = \", np.array(val).std())\n",
    "print(\"\\nResultados sklearn:\")\n",
    "print(\"Promedio del error = \", media_error, \"\\tDesviación típica = \", desv_error)"
   ]
  },
  {
   "cell_type": "markdown",
   "metadata": {},
   "source": [
    "### Resultados de ejecución del ejemplo 2"
   ]
  },
  {
   "cell_type": "code",
   "execution_count": 32,
   "metadata": {},
   "outputs": [],
   "source": [
    "dataset = Datos(\"ConjuntosDatos/example2.data\")"
   ]
  },
  {
   "cell_type": "markdown",
   "metadata": {},
   "source": [
    "#### K = 1"
   ]
  },
  {
   "cell_type": "code",
   "execution_count": 33,
   "metadata": {},
   "outputs": [
    {
     "name": "stdout",
     "output_type": "stream",
     "text": [
      "Resultados implementación propia:\n",
      "Promedio del error =  0.0 \tDesviación típica =  0.0\n",
      "\n",
      "Resultados sklearn:\n",
      "Promedio del error =  0.0 \tDesviación típica =  0.0\n"
     ]
    }
   ],
   "source": [
    "k = 1\n",
    "\n",
    "estrategia = ValidacionCruzada()\n",
    "knn = ClasificadorVecinosProximos(k)\n",
    "val = knn.validacion(estrategia,dataset,knn)\n",
    "\n",
    "sk_err = []\n",
    "for i in range(len(estrategia.particiones)):\n",
    "    train = dataset.extraeDatos(estrategia.particiones[i].indicesTrain)\n",
    "    test =dataset.extraeDatos(estrategia.particiones[i].indicesTest)\n",
    "    \n",
    "    clf = KNeighborsClassifier(k)\n",
    "    clf.fit(train[:,:-1], train[:,-1])\n",
    "    sk_err.append(clf.score(test[:,:-1], test[:,-1]))\n",
    "sk_err = np.array(sk_err)\n",
    "\n",
    "#Obtenemos el error de la media de las predicciones\n",
    "media_error = 1 - sk_err.mean()\n",
    "\n",
    "#Obtenemos la desviacion tipica de las predicciones\n",
    "desv_error = sk_err.std()\n",
    "\n",
    "print(\"Resultados implementación propia:\")\n",
    "print(\"Promedio del error = \", np.array(val).mean(), \"\\tDesviación típica = \", np.array(val).std())\n",
    "print(\"\\nResultados sklearn:\")\n",
    "print(\"Promedio del error = \", media_error, \"\\tDesviación típica = \", desv_error)"
   ]
  },
  {
   "cell_type": "markdown",
   "metadata": {},
   "source": [
    "#### K = 3"
   ]
  },
  {
   "cell_type": "code",
   "execution_count": 34,
   "metadata": {},
   "outputs": [
    {
     "name": "stdout",
     "output_type": "stream",
     "text": [
      "Resultados implementación propia:\n",
      "Promedio del error =  0.0 \tDesviación típica =  0.0\n",
      "\n",
      "Resultados sklearn:\n",
      "Promedio del error =  0.0 \tDesviación típica =  0.0\n"
     ]
    }
   ],
   "source": [
    "k = 3\n",
    "\n",
    "estrategia = ValidacionCruzada()\n",
    "knn = ClasificadorVecinosProximos(k)\n",
    "val = knn.validacion(estrategia,dataset,knn)\n",
    "\n",
    "sk_err = []\n",
    "for i in range(len(estrategia.particiones)):\n",
    "    train = dataset.extraeDatos(estrategia.particiones[i].indicesTrain)\n",
    "    test =dataset.extraeDatos(estrategia.particiones[i].indicesTest)\n",
    "    \n",
    "    clf = KNeighborsClassifier(k)\n",
    "    clf.fit(train[:,:-1], train[:,-1])\n",
    "    sk_err.append(clf.score(test[:,:-1], test[:,-1]))\n",
    "sk_err = np.array(sk_err)\n",
    "\n",
    "#Obtenemos el error de la media de las predicciones\n",
    "media_error = 1 - sk_err.mean()\n",
    "\n",
    "#Obtenemos la desviacion tipica de las predicciones\n",
    "desv_error = sk_err.std()\n",
    "\n",
    "print(\"Resultados implementación propia:\")\n",
    "print(\"Promedio del error = \", np.array(val).mean(), \"\\tDesviación típica = \", np.array(val).std())\n",
    "print(\"\\nResultados sklearn:\")\n",
    "print(\"Promedio del error = \", media_error, \"\\tDesviación típica = \", desv_error)"
   ]
  },
  {
   "cell_type": "markdown",
   "metadata": {},
   "source": [
    "#### K = 5"
   ]
  },
  {
   "cell_type": "code",
   "execution_count": 35,
   "metadata": {},
   "outputs": [
    {
     "name": "stdout",
     "output_type": "stream",
     "text": [
      "Resultados implementación propia:\n",
      "Promedio del error =  0.0 \tDesviación típica =  0.0\n",
      "\n",
      "Resultados sklearn:\n",
      "Promedio del error =  0.0 \tDesviación típica =  0.0\n"
     ]
    }
   ],
   "source": [
    "k = 5\n",
    "\n",
    "estrategia = ValidacionCruzada()\n",
    "knn = ClasificadorVecinosProximos(k)\n",
    "val = knn.validacion(estrategia,dataset,knn)\n",
    "\n",
    "sk_err = []\n",
    "for i in range(len(estrategia.particiones)):\n",
    "    train = dataset.extraeDatos(estrategia.particiones[i].indicesTrain)\n",
    "    test =dataset.extraeDatos(estrategia.particiones[i].indicesTest)\n",
    "    \n",
    "    clf = KNeighborsClassifier(k)\n",
    "    clf.fit(train[:,:-1], train[:,-1])\n",
    "    sk_err.append(clf.score(test[:,:-1], test[:,-1]))\n",
    "sk_err = np.array(sk_err)\n",
    "\n",
    "#Obtenemos el error de la media de las predicciones\n",
    "media_error = 1 - sk_err.mean()\n",
    "\n",
    "#Obtenemos la desviacion tipica de las predicciones\n",
    "desv_error = sk_err.std()\n",
    "\n",
    "print(\"Resultados implementación propia:\")\n",
    "print(\"Promedio del error = \", np.array(val).mean(), \"\\tDesviación típica = \", np.array(val).std())\n",
    "print(\"\\nResultados sklearn:\")\n",
    "print(\"Promedio del error = \", media_error, \"\\tDesviación típica = \", desv_error)"
   ]
  },
  {
   "cell_type": "markdown",
   "metadata": {},
   "source": [
    "#### K = 11"
   ]
  },
  {
   "cell_type": "code",
   "execution_count": 36,
   "metadata": {},
   "outputs": [
    {
     "name": "stdout",
     "output_type": "stream",
     "text": [
      "Resultados implementación propia:\n",
      "Promedio del error =  0.0 \tDesviación típica =  0.0\n",
      "\n",
      "Resultados sklearn:\n",
      "Promedio del error =  0.0 \tDesviación típica =  0.0\n"
     ]
    }
   ],
   "source": [
    "k = 11\n",
    "\n",
    "estrategia = ValidacionCruzada()\n",
    "knn = ClasificadorVecinosProximos(k)\n",
    "val = knn.validacion(estrategia,dataset,knn)\n",
    "\n",
    "sk_err = []\n",
    "for i in range(len(estrategia.particiones)):\n",
    "    train = dataset.extraeDatos(estrategia.particiones[i].indicesTrain)\n",
    "    test =dataset.extraeDatos(estrategia.particiones[i].indicesTest)\n",
    "    \n",
    "    clf = KNeighborsClassifier(k)\n",
    "    clf.fit(train[:,:-1], train[:,-1])\n",
    "    sk_err.append(clf.score(test[:,:-1], test[:,-1]))\n",
    "sk_err = np.array(sk_err)\n",
    "\n",
    "#Obtenemos el error de la media de las predicciones\n",
    "media_error = 1 - sk_err.mean()\n",
    "\n",
    "#Obtenemos la desviacion tipica de las predicciones\n",
    "desv_error = sk_err.std()\n",
    "\n",
    "print(\"Resultados implementación propia:\")\n",
    "print(\"Promedio del error = \", np.array(val).mean(), \"\\tDesviación típica = \", np.array(val).std())\n",
    "print(\"\\nResultados sklearn:\")\n",
    "print(\"Promedio del error = \", media_error, \"\\tDesviación típica = \", desv_error)"
   ]
  },
  {
   "cell_type": "markdown",
   "metadata": {},
   "source": [
    "#### K = 21"
   ]
  },
  {
   "cell_type": "code",
   "execution_count": 37,
   "metadata": {},
   "outputs": [
    {
     "name": "stdout",
     "output_type": "stream",
     "text": [
      "Resultados implementación propia:\n",
      "Promedio del error =  0.0 \tDesviación típica =  0.0\n",
      "\n",
      "Resultados sklearn:\n",
      "Promedio del error =  0.0 \tDesviación típica =  0.0\n"
     ]
    }
   ],
   "source": [
    "k = 21\n",
    "\n",
    "estrategia = ValidacionCruzada()\n",
    "knn = ClasificadorVecinosProximos(k)\n",
    "val = knn.validacion(estrategia,dataset,knn)\n",
    "\n",
    "sk_err = []\n",
    "for i in range(len(estrategia.particiones)):\n",
    "    train = dataset.extraeDatos(estrategia.particiones[i].indicesTrain)\n",
    "    test =dataset.extraeDatos(estrategia.particiones[i].indicesTest)\n",
    "    \n",
    "    clf = KNeighborsClassifier(k)\n",
    "    clf.fit(train[:,:-1], train[:,-1])\n",
    "    sk_err.append(clf.score(test[:,:-1], test[:,-1]))\n",
    "sk_err = np.array(sk_err)\n",
    "\n",
    "#Obtenemos el error de la media de las predicciones\n",
    "media_error = 1 - sk_err.mean()\n",
    "\n",
    "#Obtenemos la desviacion tipica de las predicciones\n",
    "desv_error = sk_err.std()\n",
    "\n",
    "print(\"Resultados implementación propia:\")\n",
    "print(\"Promedio del error = \", np.array(val).mean(), \"\\tDesviación típica = \", np.array(val).std())\n",
    "print(\"\\nResultados sklearn:\")\n",
    "print(\"Promedio del error = \", media_error, \"\\tDesviación típica = \", desv_error)"
   ]
  },
  {
   "cell_type": "markdown",
   "metadata": {},
   "source": [
    "#### K = 51"
   ]
  },
  {
   "cell_type": "code",
   "execution_count": 38,
   "metadata": {},
   "outputs": [
    {
     "name": "stdout",
     "output_type": "stream",
     "text": [
      "Resultados implementación propia:\n",
      "Promedio del error =  0.0 \tDesviación típica =  0.0\n",
      "\n",
      "Resultados sklearn:\n",
      "Promedio del error =  0.0 \tDesviación típica =  0.0\n"
     ]
    }
   ],
   "source": [
    "k = 51\n",
    "\n",
    "estrategia = ValidacionCruzada()\n",
    "knn = ClasificadorVecinosProximos(k)\n",
    "val = knn.validacion(estrategia,dataset,knn)\n",
    "\n",
    "sk_err = []\n",
    "for i in range(len(estrategia.particiones)):\n",
    "    train = dataset.extraeDatos(estrategia.particiones[i].indicesTrain)\n",
    "    test =dataset.extraeDatos(estrategia.particiones[i].indicesTest)\n",
    "    \n",
    "    clf = KNeighborsClassifier(k)\n",
    "    clf.fit(train[:,:-1], train[:,-1])\n",
    "    sk_err.append(clf.score(test[:,:-1], test[:,-1]))\n",
    "sk_err = np.array(sk_err)\n",
    "\n",
    "#Obtenemos el error de la media de las predicciones\n",
    "media_error = 1 - sk_err.mean()\n",
    "\n",
    "#Obtenemos la desviacion tipica de las predicciones\n",
    "desv_error = sk_err.std()\n",
    "\n",
    "print(\"Resultados implementación propia:\")\n",
    "print(\"Promedio del error = \", np.array(val).mean(), \"\\tDesviación típica = \", np.array(val).std())\n",
    "print(\"\\nResultados sklearn:\")\n",
    "print(\"Promedio del error = \", media_error, \"\\tDesviación típica = \", desv_error)"
   ]
  },
  {
   "cell_type": "markdown",
   "metadata": {},
   "source": [
    "### Resultados de ejecución del ejemplo 3"
   ]
  },
  {
   "cell_type": "code",
   "execution_count": 40,
   "metadata": {},
   "outputs": [],
   "source": [
    "dataset = Datos(\"ConjuntosDatos/example3.data\")"
   ]
  },
  {
   "cell_type": "markdown",
   "metadata": {},
   "source": [
    "#### K = 1"
   ]
  },
  {
   "cell_type": "code",
   "execution_count": 41,
   "metadata": {},
   "outputs": [
    {
     "name": "stdout",
     "output_type": "stream",
     "text": [
      "Resultados implementación propia:\n",
      "Promedio del error =  0.0225 \tDesviación típica =  0.0631961232988227\n",
      "\n",
      "Resultados sklearn:\n",
      "Promedio del error =  0.022499999999999964 \tDesviación típica =  0.06319612329882268\n"
     ]
    }
   ],
   "source": [
    "k = 1\n",
    "\n",
    "estrategia = ValidacionCruzada()\n",
    "knn = ClasificadorVecinosProximos(k)\n",
    "val = knn.validacion(estrategia,dataset,knn)\n",
    "\n",
    "sk_err = []\n",
    "for i in range(len(estrategia.particiones)):\n",
    "    train = dataset.extraeDatos(estrategia.particiones[i].indicesTrain)\n",
    "    test =dataset.extraeDatos(estrategia.particiones[i].indicesTest)\n",
    "    \n",
    "    clf = KNeighborsClassifier(k)\n",
    "    clf.fit(train[:,:-1], train[:,-1])\n",
    "    sk_err.append(clf.score(test[:,:-1], test[:,-1]))\n",
    "sk_err = np.array(sk_err)\n",
    "\n",
    "#Obtenemos el error de la media de las predicciones\n",
    "media_error = 1 - sk_err.mean()\n",
    "\n",
    "#Obtenemos la desviacion tipica de las predicciones\n",
    "desv_error = sk_err.std()\n",
    "\n",
    "print(\"Resultados implementación propia:\")\n",
    "print(\"Promedio del error = \", np.array(val).mean(), \"\\tDesviación típica = \", np.array(val).std())\n",
    "print(\"\\nResultados sklearn:\")\n",
    "print(\"Promedio del error = \", media_error, \"\\tDesviación típica = \", desv_error)"
   ]
  },
  {
   "cell_type": "markdown",
   "metadata": {},
   "source": [
    "#### K = 3"
   ]
  },
  {
   "cell_type": "code",
   "execution_count": 42,
   "metadata": {},
   "outputs": [
    {
     "name": "stdout",
     "output_type": "stream",
     "text": [
      "Resultados implementación propia:\n",
      "Promedio del error =  0.03250000000000001 \tDesviación típica =  0.08027297179001161\n",
      "\n",
      "Resultados sklearn:\n",
      "Promedio del error =  0.03249999999999997 \tDesviación típica =  0.0802729717900116\n"
     ]
    }
   ],
   "source": [
    "k = 3\n",
    "\n",
    "estrategia = ValidacionCruzada()\n",
    "knn = ClasificadorVecinosProximos(k)\n",
    "val = knn.validacion(estrategia,dataset,knn)\n",
    "\n",
    "sk_err = []\n",
    "for i in range(len(estrategia.particiones)):\n",
    "    train = dataset.extraeDatos(estrategia.particiones[i].indicesTrain)\n",
    "    test =dataset.extraeDatos(estrategia.particiones[i].indicesTest)\n",
    "    \n",
    "    clf = KNeighborsClassifier(k)\n",
    "    clf.fit(train[:,:-1], train[:,-1])\n",
    "    sk_err.append(clf.score(test[:,:-1], test[:,-1]))\n",
    "sk_err = np.array(sk_err)\n",
    "\n",
    "#Obtenemos el error de la media de las predicciones\n",
    "media_error = 1 - sk_err.mean()\n",
    "\n",
    "#Obtenemos la desviacion tipica de las predicciones\n",
    "desv_error = sk_err.std()\n",
    "\n",
    "print(\"Resultados implementación propia:\")\n",
    "print(\"Promedio del error = \", np.array(val).mean(), \"\\tDesviación típica = \", np.array(val).std())\n",
    "print(\"\\nResultados sklearn:\")\n",
    "print(\"Promedio del error = \", media_error, \"\\tDesviación típica = \", desv_error)"
   ]
  },
  {
   "cell_type": "markdown",
   "metadata": {},
   "source": [
    "#### K = 5"
   ]
  },
  {
   "cell_type": "code",
   "execution_count": 43,
   "metadata": {},
   "outputs": [
    {
     "name": "stdout",
     "output_type": "stream",
     "text": [
      "Resultados implementación propia:\n",
      "Promedio del error =  0.032499999999999994 \tDesviación típica =  0.07378177281686854\n",
      "\n",
      "Resultados sklearn:\n",
      "Promedio del error =  0.03249999999999997 \tDesviación típica =  0.0737817728168685\n"
     ]
    }
   ],
   "source": [
    "k = 5\n",
    "\n",
    "estrategia = ValidacionCruzada()\n",
    "knn = ClasificadorVecinosProximos(k)\n",
    "val = knn.validacion(estrategia,dataset,knn)\n",
    "\n",
    "sk_err = []\n",
    "for i in range(len(estrategia.particiones)):\n",
    "    train = dataset.extraeDatos(estrategia.particiones[i].indicesTrain)\n",
    "    test =dataset.extraeDatos(estrategia.particiones[i].indicesTest)\n",
    "    \n",
    "    clf = KNeighborsClassifier(k)\n",
    "    clf.fit(train[:,:-1], train[:,-1])\n",
    "    sk_err.append(clf.score(test[:,:-1], test[:,-1]))\n",
    "sk_err = np.array(sk_err)\n",
    "\n",
    "#Obtenemos el error de la media de las predicciones\n",
    "media_error = 1 - sk_err.mean()\n",
    "\n",
    "#Obtenemos la desviacion tipica de las predicciones\n",
    "desv_error = sk_err.std()\n",
    "\n",
    "print(\"Resultados implementación propia:\")\n",
    "print(\"Promedio del error = \", np.array(val).mean(), \"\\tDesviación típica = \", np.array(val).std())\n",
    "print(\"\\nResultados sklearn:\")\n",
    "print(\"Promedio del error = \", media_error, \"\\tDesviación típica = \", desv_error)"
   ]
  },
  {
   "cell_type": "markdown",
   "metadata": {},
   "source": [
    "#### K = 11"
   ]
  },
  {
   "cell_type": "code",
   "execution_count": 44,
   "metadata": {},
   "outputs": [
    {
     "name": "stdout",
     "output_type": "stream",
     "text": [
      "Resultados implementación propia:\n",
      "Promedio del error =  0.02 \tDesviación típica =  0.06\n",
      "\n",
      "Resultados sklearn:\n",
      "Promedio del error =  0.019999999999999907 \tDesviación típica =  0.05999999999999999\n"
     ]
    }
   ],
   "source": [
    "k = 11\n",
    "\n",
    "estrategia = ValidacionCruzada()\n",
    "knn = ClasificadorVecinosProximos(k)\n",
    "val = knn.validacion(estrategia,dataset,knn)\n",
    "\n",
    "sk_err = []\n",
    "for i in range(len(estrategia.particiones)):\n",
    "    train = dataset.extraeDatos(estrategia.particiones[i].indicesTrain)\n",
    "    test =dataset.extraeDatos(estrategia.particiones[i].indicesTest)\n",
    "    \n",
    "    clf = KNeighborsClassifier(k)\n",
    "    clf.fit(train[:,:-1], train[:,-1])\n",
    "    sk_err.append(clf.score(test[:,:-1], test[:,-1]))\n",
    "sk_err = np.array(sk_err)\n",
    "\n",
    "#Obtenemos el error de la media de las predicciones\n",
    "media_error = 1 - sk_err.mean()\n",
    "\n",
    "#Obtenemos la desviacion tipica de las predicciones\n",
    "desv_error = sk_err.std()\n",
    "\n",
    "print(\"Resultados implementación propia:\")\n",
    "print(\"Promedio del error = \", np.array(val).mean(), \"\\tDesviación típica = \", np.array(val).std())\n",
    "print(\"\\nResultados sklearn:\")\n",
    "print(\"Promedio del error = \", media_error, \"\\tDesviación típica = \", desv_error)"
   ]
  },
  {
   "cell_type": "markdown",
   "metadata": {},
   "source": [
    "#### K = 21"
   ]
  },
  {
   "cell_type": "code",
   "execution_count": 45,
   "metadata": {},
   "outputs": [
    {
     "name": "stdout",
     "output_type": "stream",
     "text": [
      "Resultados implementación propia:\n",
      "Promedio del error =  0.030000000000000006 \tDesviación típica =  0.07141428428542851\n",
      "\n",
      "Resultados sklearn:\n",
      "Promedio del error =  0.030000000000000027 \tDesviación típica =  0.0714142842854285\n"
     ]
    }
   ],
   "source": [
    "k = 21\n",
    "\n",
    "estrategia = ValidacionCruzada()\n",
    "knn = ClasificadorVecinosProximos(k)\n",
    "val = knn.validacion(estrategia,dataset,knn)\n",
    "\n",
    "sk_err = []\n",
    "for i in range(len(estrategia.particiones)):\n",
    "    train = dataset.extraeDatos(estrategia.particiones[i].indicesTrain)\n",
    "    test =dataset.extraeDatos(estrategia.particiones[i].indicesTest)\n",
    "    \n",
    "    clf = KNeighborsClassifier(k)\n",
    "    clf.fit(train[:,:-1], train[:,-1])\n",
    "    sk_err.append(clf.score(test[:,:-1], test[:,-1]))\n",
    "sk_err = np.array(sk_err)\n",
    "\n",
    "#Obtenemos el error de la media de las predicciones\n",
    "media_error = 1 - sk_err.mean()\n",
    "\n",
    "#Obtenemos la desviacion tipica de las predicciones\n",
    "desv_error = sk_err.std()\n",
    "\n",
    "print(\"Resultados implementación propia:\")\n",
    "print(\"Promedio del error = \", np.array(val).mean(), \"\\tDesviación típica = \", np.array(val).std())\n",
    "print(\"\\nResultados sklearn:\")\n",
    "print(\"Promedio del error = \", media_error, \"\\tDesviación típica = \", desv_error)"
   ]
  },
  {
   "cell_type": "markdown",
   "metadata": {},
   "source": [
    "#### K = 51"
   ]
  },
  {
   "cell_type": "code",
   "execution_count": 46,
   "metadata": {},
   "outputs": [
    {
     "name": "stdout",
     "output_type": "stream",
     "text": [
      "Resultados implementación propia:\n",
      "Promedio del error =  0.0175 \tDesviación típica =  0.05651327277728657\n",
      "\n",
      "Resultados sklearn:\n",
      "Promedio del error =  0.01749999999999985 \tDesviación típica =  0.05651327277728656\n"
     ]
    }
   ],
   "source": [
    "k = 51\n",
    "\n",
    "estrategia = ValidacionCruzada()\n",
    "knn = ClasificadorVecinosProximos(k)\n",
    "val = knn.validacion(estrategia,dataset,knn)\n",
    "\n",
    "sk_err = []\n",
    "for i in range(len(estrategia.particiones)):\n",
    "    train = dataset.extraeDatos(estrategia.particiones[i].indicesTrain)\n",
    "    test =dataset.extraeDatos(estrategia.particiones[i].indicesTest)\n",
    "    \n",
    "    clf = KNeighborsClassifier(k)\n",
    "    clf.fit(train[:,:-1], train[:,-1])\n",
    "    sk_err.append(clf.score(test[:,:-1], test[:,-1]))\n",
    "sk_err = np.array(sk_err)\n",
    "\n",
    "#Obtenemos el error de la media de las predicciones\n",
    "media_error = 1 - sk_err.mean()\n",
    "\n",
    "#Obtenemos la desviacion tipica de las predicciones\n",
    "desv_error = sk_err.std()\n",
    "\n",
    "print(\"Resultados implementación propia:\")\n",
    "print(\"Promedio del error = \", np.array(val).mean(), \"\\tDesviación típica = \", np.array(val).std())\n",
    "print(\"\\nResultados sklearn:\")\n",
    "print(\"Promedio del error = \", media_error, \"\\tDesviación típica = \", desv_error)"
   ]
  },
  {
   "cell_type": "markdown",
   "metadata": {},
   "source": [
    "### Resultados de ejecución del ejemplo 4\n"
   ]
  },
  {
   "cell_type": "code",
   "execution_count": 47,
   "metadata": {},
   "outputs": [],
   "source": [
    "dataset = Datos(\"ConjuntosDatos/example4.data\")"
   ]
  },
  {
   "cell_type": "markdown",
   "metadata": {},
   "source": [
    "#### K = 1"
   ]
  },
  {
   "cell_type": "code",
   "execution_count": 48,
   "metadata": {},
   "outputs": [
    {
     "name": "stdout",
     "output_type": "stream",
     "text": [
      "Resultados implementación propia:\n",
      "Promedio del error =  0.030000000000000006 \tDesviación típica =  0.09539392014169458\n",
      "\n",
      "Resultados sklearn:\n",
      "Promedio del error =  0.030000000000000027 \tDesviación típica =  0.09539392014169458\n"
     ]
    }
   ],
   "source": [
    "k = 1\n",
    "\n",
    "estrategia = ValidacionCruzada()\n",
    "knn = ClasificadorVecinosProximos(k)\n",
    "val = knn.validacion(estrategia,dataset,knn)\n",
    "\n",
    "sk_err = []\n",
    "for i in range(len(estrategia.particiones)):\n",
    "    train = dataset.extraeDatos(estrategia.particiones[i].indicesTrain)\n",
    "    test =dataset.extraeDatos(estrategia.particiones[i].indicesTest)\n",
    "    \n",
    "    clf = KNeighborsClassifier(k)\n",
    "    clf.fit(train[:,:-1], train[:,-1])\n",
    "    sk_err.append(clf.score(test[:,:-1], test[:,-1]))\n",
    "sk_err = np.array(sk_err)\n",
    "\n",
    "#Obtenemos el error de la media de las predicciones\n",
    "media_error = 1 - sk_err.mean()\n",
    "\n",
    "#Obtenemos la desviacion tipica de las predicciones\n",
    "desv_error = sk_err.std()\n",
    "\n",
    "print(\"Resultados implementación propia:\")\n",
    "print(\"Promedio del error = \", np.array(val).mean(), \"\\tDesviación típica = \", np.array(val).std())\n",
    "print(\"\\nResultados sklearn:\")\n",
    "print(\"Promedio del error = \", media_error, \"\\tDesviación típica = \", desv_error)"
   ]
  },
  {
   "cell_type": "markdown",
   "metadata": {},
   "source": [
    "#### K = 3"
   ]
  },
  {
   "cell_type": "code",
   "execution_count": 49,
   "metadata": {},
   "outputs": [
    {
     "name": "stdout",
     "output_type": "stream",
     "text": [
      "Resultados implementación propia:\n",
      "Promedio del error =  0.6000000000000001 \tDesviación típica =  0.20976176963403032\n",
      "\n",
      "Resultados sklearn:\n",
      "Promedio del error =  0.6 \tDesviación típica =  0.20976176963403032\n"
     ]
    }
   ],
   "source": [
    "k = 53\n",
    "\n",
    "estrategia = ValidacionCruzada()\n",
    "knn = ClasificadorVecinosProximos(k)\n",
    "val = knn.validacion(estrategia,dataset,knn)\n",
    "\n",
    "sk_err = []\n",
    "for i in range(len(estrategia.particiones)):\n",
    "    train = dataset.extraeDatos(estrategia.particiones[i].indicesTrain)\n",
    "    test =dataset.extraeDatos(estrategia.particiones[i].indicesTest)\n",
    "    \n",
    "    clf = KNeighborsClassifier(k)\n",
    "    clf.fit(train[:,:-1], train[:,-1])\n",
    "    sk_err.append(clf.score(test[:,:-1], test[:,-1]))\n",
    "sk_err = np.array(sk_err)\n",
    "\n",
    "#Obtenemos el error de la media de las predicciones\n",
    "media_error = 1 - sk_err.mean()\n",
    "\n",
    "#Obtenemos la desviacion tipica de las predicciones\n",
    "desv_error = sk_err.std()\n",
    "\n",
    "print(\"Resultados implementación propia:\")\n",
    "print(\"Promedio del error = \", np.array(val).mean(), \"\\tDesviación típica = \", np.array(val).std())\n",
    "print(\"\\nResultados sklearn:\")\n",
    "print(\"Promedio del error = \", media_error, \"\\tDesviación típica = \", desv_error)"
   ]
  },
  {
   "cell_type": "markdown",
   "metadata": {},
   "source": [
    "#### K = 5"
   ]
  },
  {
   "cell_type": "code",
   "execution_count": 50,
   "metadata": {},
   "outputs": [
    {
     "name": "stdout",
     "output_type": "stream",
     "text": [
      "Resultados implementación propia:\n",
      "Promedio del error =  0.1 \tDesviación típica =  0.1341640786499874\n",
      "\n",
      "Resultados sklearn:\n",
      "Promedio del error =  0.08999999999999986 \tDesviación típica =  0.11789826122551596\n"
     ]
    }
   ],
   "source": [
    "k = 5\n",
    "\n",
    "estrategia = ValidacionCruzada()\n",
    "knn = ClasificadorVecinosProximos(k)\n",
    "val = knn.validacion(estrategia,dataset,knn)\n",
    "\n",
    "sk_err = []\n",
    "for i in range(len(estrategia.particiones)):\n",
    "    train = dataset.extraeDatos(estrategia.particiones[i].indicesTrain)\n",
    "    test =dataset.extraeDatos(estrategia.particiones[i].indicesTest)\n",
    "    \n",
    "    clf = KNeighborsClassifier(k)\n",
    "    clf.fit(train[:,:-1], train[:,-1])\n",
    "    sk_err.append(clf.score(test[:,:-1], test[:,-1]))\n",
    "sk_err = np.array(sk_err)\n",
    "\n",
    "#Obtenemos el error de la media de las predicciones\n",
    "media_error = 1 - sk_err.mean()\n",
    "\n",
    "#Obtenemos la desviacion tipica de las predicciones\n",
    "desv_error = sk_err.std()\n",
    "\n",
    "print(\"Resultados implementación propia:\")\n",
    "print(\"Promedio del error = \", np.array(val).mean(), \"\\tDesviación típica = \", np.array(val).std())\n",
    "print(\"\\nResultados sklearn:\")\n",
    "print(\"Promedio del error = \", media_error, \"\\tDesviación típica = \", desv_error)"
   ]
  },
  {
   "cell_type": "markdown",
   "metadata": {},
   "source": [
    "#### K = 11"
   ]
  },
  {
   "cell_type": "code",
   "execution_count": 51,
   "metadata": {
    "scrolled": true
   },
   "outputs": [
    {
     "name": "stdout",
     "output_type": "stream",
     "text": [
      "Resultados implementación propia:\n",
      "Promedio del error =  0.21000000000000002 \tDesviación típica =  0.1841195263952197\n",
      "\n",
      "Resultados sklearn:\n",
      "Promedio del error =  0.20999999999999996 \tDesviación típica =  0.1841195263952197\n"
     ]
    }
   ],
   "source": [
    "k = 11\n",
    "\n",
    "estrategia = ValidacionCruzada()\n",
    "knn = ClasificadorVecinosProximos(k)\n",
    "val = knn.validacion(estrategia,dataset,knn)\n",
    "\n",
    "sk_err = []\n",
    "for i in range(len(estrategia.particiones)):\n",
    "    train = dataset.extraeDatos(estrategia.particiones[i].indicesTrain)\n",
    "    test =dataset.extraeDatos(estrategia.particiones[i].indicesTest)\n",
    "    \n",
    "    clf = KNeighborsClassifier(k)\n",
    "    clf.fit(train[:,:-1], train[:,-1])\n",
    "    sk_err.append(clf.score(test[:,:-1], test[:,-1]))\n",
    "sk_err = np.array(sk_err)\n",
    "\n",
    "#Obtenemos el error de la media de las predicciones\n",
    "media_error = 1 - sk_err.mean()\n",
    "\n",
    "#Obtenemos la desviacion tipica de las predicciones\n",
    "desv_error = sk_err.std()\n",
    "\n",
    "print(\"Resultados implementación propia:\")\n",
    "print(\"Promedio del error = \", np.array(val).mean(), \"\\tDesviación típica = \", np.array(val).std())\n",
    "print(\"\\nResultados sklearn:\")\n",
    "print(\"Promedio del error = \", media_error, \"\\tDesviación típica = \", desv_error)"
   ]
  },
  {
   "cell_type": "markdown",
   "metadata": {},
   "source": [
    "#### K = 21"
   ]
  },
  {
   "cell_type": "code",
   "execution_count": 52,
   "metadata": {},
   "outputs": [
    {
     "name": "stdout",
     "output_type": "stream",
     "text": [
      "Resultados implementación propia:\n",
      "Promedio del error =  0.37000000000000005 \tDesviación típica =  0.2389560629069704\n",
      "\n",
      "Resultados sklearn:\n",
      "Promedio del error =  0.37 \tDesviación típica =  0.2389560629069704\n"
     ]
    }
   ],
   "source": [
    "k = 21\n",
    "\n",
    "estrategia = ValidacionCruzada()\n",
    "knn = ClasificadorVecinosProximos(k)\n",
    "val = knn.validacion(estrategia,dataset,knn)\n",
    "\n",
    "sk_err = []\n",
    "for i in range(len(estrategia.particiones)):\n",
    "    train = dataset.extraeDatos(estrategia.particiones[i].indicesTrain)\n",
    "    test =dataset.extraeDatos(estrategia.particiones[i].indicesTest)\n",
    "    \n",
    "    clf = KNeighborsClassifier(k)\n",
    "    clf.fit(train[:,:-1], train[:,-1])\n",
    "    sk_err.append(clf.score(test[:,:-1], test[:,-1]))\n",
    "sk_err = np.array(sk_err)\n",
    "\n",
    "#Obtenemos el error de la media de las predicciones\n",
    "media_error = 1 - sk_err.mean()\n",
    "\n",
    "#Obtenemos la desviacion tipica de las predicciones\n",
    "desv_error = sk_err.std()\n",
    "\n",
    "print(\"Resultados implementación propia:\")\n",
    "print(\"Promedio del error = \", np.array(val).mean(), \"\\tDesviación típica = \", np.array(val).std())\n",
    "print(\"\\nResultados sklearn:\")\n",
    "print(\"Promedio del error = \", media_error, \"\\tDesviación típica = \", desv_error)"
   ]
  },
  {
   "cell_type": "markdown",
   "metadata": {},
   "source": [
    "#### K = 51"
   ]
  },
  {
   "cell_type": "code",
   "execution_count": 53,
   "metadata": {},
   "outputs": [
    {
     "name": "stdout",
     "output_type": "stream",
     "text": [
      "Resultados implementación propia:\n",
      "Promedio del error =  0.59 \tDesviación típica =  0.1841195263952197\n",
      "\n",
      "Resultados sklearn:\n",
      "Promedio del error =  0.5900000000000001 \tDesviación típica =  0.1841195263952197\n"
     ]
    }
   ],
   "source": [
    "k = 51\n",
    "\n",
    "estrategia = ValidacionCruzada()\n",
    "knn = ClasificadorVecinosProximos(k)\n",
    "val = knn.validacion(estrategia,dataset,knn)\n",
    "\n",
    "sk_err = []\n",
    "for i in range(len(estrategia.particiones)):\n",
    "    train = dataset.extraeDatos(estrategia.particiones[i].indicesTrain)\n",
    "    test =dataset.extraeDatos(estrategia.particiones[i].indicesTest)\n",
    "    \n",
    "    clf = KNeighborsClassifier(k)\n",
    "    clf.fit(train[:,:-1], train[:,-1])\n",
    "    sk_err.append(clf.score(test[:,:-1], test[:,-1]))\n",
    "sk_err = np.array(sk_err)\n",
    "\n",
    "#Obtenemos el error de la media de las predicciones\n",
    "media_error = 1 - sk_err.mean()\n",
    "\n",
    "#Obtenemos la desviacion tipica de las predicciones\n",
    "desv_error = sk_err.std()\n",
    "\n",
    "print(\"Resultados implementación propia:\")\n",
    "print(\"Promedio del error = \", np.array(val).mean(), \"\\tDesviación típica = \", np.array(val).std())\n",
    "print(\"\\nResultados sklearn:\")\n",
    "print(\"Promedio del error = \", media_error, \"\\tDesviación típica = \", desv_error)"
   ]
  },
  {
   "cell_type": "markdown",
   "metadata": {},
   "source": [
    "### Resultados de ejecución de wdbc"
   ]
  },
  {
   "cell_type": "code",
   "execution_count": 57,
   "metadata": {},
   "outputs": [],
   "source": [
    "dataset = Datos(\"ConjuntosDatos/wdbc.data\")"
   ]
  },
  {
   "cell_type": "markdown",
   "metadata": {},
   "source": [
    "#### K = 1"
   ]
  },
  {
   "cell_type": "code",
   "execution_count": 58,
   "metadata": {},
   "outputs": [
    {
     "name": "stdout",
     "output_type": "stream",
     "text": [
      "Resultados implementación propia:\n",
      "Promedio del error =  0.08421052631578947 \tDesviación típica =  0.12675362714518204\n",
      "\n",
      "Resultados sklearn:\n",
      "Promedio del error =  0.0842105263157894 \tDesviación típica =  0.12675362714518204\n"
     ]
    }
   ],
   "source": [
    "k = 1\n",
    "\n",
    "estrategia = ValidacionCruzada()\n",
    "knn = ClasificadorVecinosProximos(k)\n",
    "val = knn.validacion(estrategia,dataset,knn)\n",
    "\n",
    "sk_err = []\n",
    "for i in range(len(estrategia.particiones)):\n",
    "    train = dataset.extraeDatos(estrategia.particiones[i].indicesTrain)\n",
    "    test =dataset.extraeDatos(estrategia.particiones[i].indicesTest)\n",
    "    \n",
    "    clf = KNeighborsClassifier(k)\n",
    "    clf.fit(train[:,:-1], train[:,-1])\n",
    "    sk_err.append(clf.score(test[:,:-1], test[:,-1]))\n",
    "sk_err = np.array(sk_err)\n",
    "\n",
    "#Obtenemos el error de la media de las predicciones\n",
    "media_error = 1 - sk_err.mean()\n",
    "\n",
    "#Obtenemos la desviacion tipica de las predicciones\n",
    "desv_error = sk_err.std()\n",
    "\n",
    "print(\"Resultados implementación propia:\")\n",
    "print(\"Promedio del error = \", np.array(val).mean(), \"\\tDesviación típica = \", np.array(val).std())\n",
    "print(\"\\nResultados sklearn:\")\n",
    "print(\"Promedio del error = \", media_error, \"\\tDesviación típica = \", desv_error)"
   ]
  },
  {
   "cell_type": "markdown",
   "metadata": {},
   "source": [
    "#### K = 3"
   ]
  },
  {
   "cell_type": "code",
   "execution_count": 61,
   "metadata": {},
   "outputs": [
    {
     "name": "stdout",
     "output_type": "stream",
     "text": [
      "Resultados implementación propia:\n",
      "Promedio del error =  0.07543859649122808 \tDesviación típica =  0.1136024180530672\n",
      "\n",
      "Resultados sklearn:\n",
      "Promedio del error =  0.07543859649122797 \tDesviación típica =  0.11360241805306719\n"
     ]
    }
   ],
   "source": [
    "k = 3\n",
    "\n",
    "estrategia = ValidacionCruzada()\n",
    "knn = ClasificadorVecinosProximos(k)\n",
    "val = knn.validacion(estrategia,dataset,knn)\n",
    "\n",
    "sk_err = []\n",
    "for i in range(len(estrategia.particiones)):\n",
    "    train = dataset.extraeDatos(estrategia.particiones[i].indicesTrain)\n",
    "    test =dataset.extraeDatos(estrategia.particiones[i].indicesTest)\n",
    "    \n",
    "    clf = KNeighborsClassifier(k)\n",
    "    clf.fit(train[:,:-1], train[:,-1])\n",
    "    sk_err.append(clf.score(test[:,:-1], test[:,-1]))\n",
    "sk_err = np.array(sk_err)\n",
    "\n",
    "#Obtenemos el error de la media de las predicciones\n",
    "media_error = 1 - sk_err.mean()\n",
    "\n",
    "#Obtenemos la desviacion tipica de las predicciones\n",
    "desv_error = sk_err.std()\n",
    "\n",
    "print(\"Resultados implementación propia:\")\n",
    "print(\"Promedio del error = \", np.array(val).mean(), \"\\tDesviación típica = \", np.array(val).std())\n",
    "print(\"\\nResultados sklearn:\")\n",
    "print(\"Promedio del error = \", media_error, \"\\tDesviación típica = \", desv_error)"
   ]
  },
  {
   "cell_type": "markdown",
   "metadata": {},
   "source": [
    "#### K = 5"
   ]
  },
  {
   "cell_type": "code",
   "execution_count": 62,
   "metadata": {},
   "outputs": [
    {
     "name": "stdout",
     "output_type": "stream",
     "text": [
      "Resultados implementación propia:\n",
      "Promedio del error =  0.06666666666666667 \tDesviación típica =  0.11134478352717496\n",
      "\n",
      "Resultados sklearn:\n",
      "Promedio del error =  0.06666666666666665 \tDesviación típica =  0.11134478352717495\n"
     ]
    }
   ],
   "source": [
    "k = 5\n",
    "\n",
    "estrategia = ValidacionCruzada()\n",
    "knn = ClasificadorVecinosProximos(k)\n",
    "val = knn.validacion(estrategia,dataset,knn)\n",
    "\n",
    "sk_err = []\n",
    "for i in range(len(estrategia.particiones)):\n",
    "    train = dataset.extraeDatos(estrategia.particiones[i].indicesTrain)\n",
    "    test =dataset.extraeDatos(estrategia.particiones[i].indicesTest)\n",
    "    \n",
    "    clf = KNeighborsClassifier(k)\n",
    "    clf.fit(train[:,:-1], train[:,-1])\n",
    "    sk_err.append(clf.score(test[:,:-1], test[:,-1]))\n",
    "sk_err = np.array(sk_err)\n",
    "\n",
    "#Obtenemos el error de la media de las predicciones\n",
    "media_error = 1 - sk_err.mean()\n",
    "\n",
    "#Obtenemos la desviacion tipica de las predicciones\n",
    "desv_error = sk_err.std()\n",
    "\n",
    "print(\"Resultados implementación propia:\")\n",
    "print(\"Promedio del error = \", np.array(val).mean(), \"\\tDesviación típica = \", np.array(val).std())\n",
    "print(\"\\nResultados sklearn:\")\n",
    "print(\"Promedio del error = \", media_error, \"\\tDesviación típica = \", desv_error)"
   ]
  },
  {
   "cell_type": "markdown",
   "metadata": {},
   "source": [
    "#### K = 11"
   ]
  },
  {
   "cell_type": "code",
   "execution_count": 63,
   "metadata": {},
   "outputs": [
    {
     "name": "stdout",
     "output_type": "stream",
     "text": [
      "Resultados implementación propia:\n",
      "Promedio del error =  0.06710526315789474 \tDesviación típica =  0.11806721015019389\n",
      "\n",
      "Resultados sklearn:\n",
      "Promedio del error =  0.06710526315789467 \tDesviación típica =  0.11806721015019388\n"
     ]
    }
   ],
   "source": [
    "k = 11\n",
    "\n",
    "estrategia = ValidacionCruzada()\n",
    "knn = ClasificadorVecinosProximos(k)\n",
    "val = knn.validacion(estrategia,dataset,knn)\n",
    "\n",
    "sk_err = []\n",
    "for i in range(len(estrategia.particiones)):\n",
    "    train = dataset.extraeDatos(estrategia.particiones[i].indicesTrain)\n",
    "    test =dataset.extraeDatos(estrategia.particiones[i].indicesTest)\n",
    "    \n",
    "    clf = KNeighborsClassifier(k)\n",
    "    clf.fit(train[:,:-1], train[:,-1])\n",
    "    sk_err.append(clf.score(test[:,:-1], test[:,-1]))\n",
    "sk_err = np.array(sk_err)\n",
    "\n",
    "#Obtenemos el error de la media de las predicciones\n",
    "media_error = 1 - sk_err.mean()\n",
    "\n",
    "#Obtenemos la desviacion tipica de las predicciones\n",
    "desv_error = sk_err.std()\n",
    "\n",
    "print(\"Resultados implementación propia:\")\n",
    "print(\"Promedio del error = \", np.array(val).mean(), \"\\tDesviación típica = \", np.array(val).std())\n",
    "print(\"\\nResultados sklearn:\")\n",
    "print(\"Promedio del error = \", media_error, \"\\tDesviación típica = \", desv_error)"
   ]
  },
  {
   "cell_type": "markdown",
   "metadata": {},
   "source": [
    "#### K = 21"
   ]
  },
  {
   "cell_type": "code",
   "execution_count": 64,
   "metadata": {},
   "outputs": [
    {
     "name": "stdout",
     "output_type": "stream",
     "text": [
      "Resultados implementación propia:\n",
      "Promedio del error =  0.07017543859649122 \tDesviación típica =  0.10916736270950209\n",
      "\n",
      "Resultados sklearn:\n",
      "Promedio del error =  0.07017543859649122 \tDesviación típica =  0.10916736270950206\n"
     ]
    }
   ],
   "source": [
    "k = 21\n",
    "\n",
    "estrategia = ValidacionCruzada()\n",
    "knn = ClasificadorVecinosProximos(k)\n",
    "val = knn.validacion(estrategia,dataset,knn)\n",
    "\n",
    "sk_err = []\n",
    "for i in range(len(estrategia.particiones)):\n",
    "    train = dataset.extraeDatos(estrategia.particiones[i].indicesTrain)\n",
    "    test =dataset.extraeDatos(estrategia.particiones[i].indicesTest)\n",
    "    \n",
    "    clf = KNeighborsClassifier(k)\n",
    "    clf.fit(train[:,:-1], train[:,-1])\n",
    "    sk_err.append(clf.score(test[:,:-1], test[:,-1]))\n",
    "sk_err = np.array(sk_err)\n",
    "\n",
    "#Obtenemos el error de la media de las predicciones\n",
    "media_error = 1 - sk_err.mean()\n",
    "\n",
    "#Obtenemos la desviacion tipica de las predicciones\n",
    "desv_error = sk_err.std()\n",
    "\n",
    "print(\"Resultados implementación propia:\")\n",
    "print(\"Promedio del error = \", np.array(val).mean(), \"\\tDesviación típica = \", np.array(val).std())\n",
    "print(\"\\nResultados sklearn:\")\n",
    "print(\"Promedio del error = \", media_error, \"\\tDesviación típica = \", desv_error)"
   ]
  },
  {
   "cell_type": "markdown",
   "metadata": {},
   "source": [
    "#### K = 51"
   ]
  },
  {
   "cell_type": "code",
   "execution_count": 65,
   "metadata": {},
   "outputs": [
    {
     "name": "stdout",
     "output_type": "stream",
     "text": [
      "Resultados implementación propia:\n",
      "Promedio del error =  0.07938596491228071 \tDesviación típica =  0.12081800934448342\n",
      "\n",
      "Resultados sklearn:\n",
      "Promedio del error =  0.07938596491228056 \tDesviación típica =  0.12081800934448339\n"
     ]
    }
   ],
   "source": [
    "k = 51\n",
    "\n",
    "estrategia = ValidacionCruzada()\n",
    "knn = ClasificadorVecinosProximos(k)\n",
    "val = knn.validacion(estrategia,dataset,knn)\n",
    "\n",
    "sk_err = []\n",
    "for i in range(len(estrategia.particiones)):\n",
    "    train = dataset.extraeDatos(estrategia.particiones[i].indicesTrain)\n",
    "    test =dataset.extraeDatos(estrategia.particiones[i].indicesTest)\n",
    "    \n",
    "    clf = KNeighborsClassifier(k)\n",
    "    clf.fit(train[:,:-1], train[:,-1])\n",
    "    sk_err.append(clf.score(test[:,:-1], test[:,-1]))\n",
    "sk_err = np.array(sk_err)\n",
    "\n",
    "#Obtenemos el error de la media de las predicciones\n",
    "media_error = 1 - sk_err.mean()\n",
    "\n",
    "#Obtenemos la desviacion tipica de las predicciones\n",
    "desv_error = sk_err.std()\n",
    "\n",
    "print(\"Resultados implementación propia:\")\n",
    "print(\"Promedio del error = \", np.array(val).mean(), \"\\tDesviación típica = \", np.array(val).std())\n",
    "print(\"\\nResultados sklearn:\")\n",
    "print(\"Promedio del error = \", media_error, \"\\tDesviación típica = \", desv_error)"
   ]
  },
  {
   "cell_type": "markdown",
   "metadata": {},
   "source": [
    "### Análisis de los resultados"
   ]
  },
  {
   "cell_type": "markdown",
   "metadata": {},
   "source": []
  },
  {
   "cell_type": "markdown",
   "metadata": {},
   "source": [
    "### 3.1.2 Resultados de Regresión Logística\n"
   ]
  },
  {
   "cell_type": "markdown",
   "metadata": {},
   "source": [
    "### Resultados de ejecución del Ejemplo 1\n"
   ]
  },
  {
   "cell_type": "code",
   "execution_count": 66,
   "metadata": {},
   "outputs": [],
   "source": [
    "dataset = Datos(\"ConjuntosDatos/example1.data\")"
   ]
  },
  {
   "cell_type": "markdown",
   "metadata": {},
   "source": [
    "#### Valores random (nepocas y w) 1"
   ]
  },
  {
   "cell_type": "code",
   "execution_count": null,
   "metadata": {},
   "outputs": [],
   "source": []
  },
  {
   "cell_type": "markdown",
   "metadata": {},
   "source": [
    "#### Valores random 2"
   ]
  },
  {
   "cell_type": "code",
   "execution_count": null,
   "metadata": {},
   "outputs": [],
   "source": []
  },
  {
   "cell_type": "markdown",
   "metadata": {},
   "source": [
    "#### Valores random 3"
   ]
  },
  {
   "cell_type": "code",
   "execution_count": null,
   "metadata": {},
   "outputs": [],
   "source": []
  },
  {
   "cell_type": "markdown",
   "metadata": {},
   "source": [
    "#### Valores random 4"
   ]
  },
  {
   "cell_type": "code",
   "execution_count": null,
   "metadata": {},
   "outputs": [],
   "source": []
  },
  {
   "cell_type": "markdown",
   "metadata": {},
   "source": [
    "### Resultados de ejecución del Ejemplo 2"
   ]
  },
  {
   "cell_type": "code",
   "execution_count": 67,
   "metadata": {},
   "outputs": [],
   "source": [
    "dataset = Datos(\"ConjuntosDatos/example2.data\")"
   ]
  },
  {
   "cell_type": "markdown",
   "metadata": {},
   "source": [
    "#### Valores random 1"
   ]
  },
  {
   "cell_type": "code",
   "execution_count": null,
   "metadata": {},
   "outputs": [],
   "source": []
  },
  {
   "cell_type": "markdown",
   "metadata": {},
   "source": [
    "#### Valores random 2"
   ]
  },
  {
   "cell_type": "code",
   "execution_count": null,
   "metadata": {},
   "outputs": [],
   "source": []
  },
  {
   "cell_type": "markdown",
   "metadata": {},
   "source": [
    "#### Valores random 3"
   ]
  },
  {
   "cell_type": "code",
   "execution_count": null,
   "metadata": {},
   "outputs": [],
   "source": []
  },
  {
   "cell_type": "markdown",
   "metadata": {},
   "source": [
    "#### Valores random 4"
   ]
  },
  {
   "cell_type": "code",
   "execution_count": null,
   "metadata": {},
   "outputs": [],
   "source": []
  },
  {
   "cell_type": "markdown",
   "metadata": {},
   "source": [
    "### Resultados de ejecución del Ejemplo 3"
   ]
  },
  {
   "cell_type": "code",
   "execution_count": 68,
   "metadata": {},
   "outputs": [],
   "source": [
    "dataset = Datos(\"ConjuntosDatos/example3.data\")"
   ]
  },
  {
   "cell_type": "markdown",
   "metadata": {},
   "source": [
    "#### Valores random 1"
   ]
  },
  {
   "cell_type": "code",
   "execution_count": null,
   "metadata": {},
   "outputs": [],
   "source": []
  },
  {
   "cell_type": "markdown",
   "metadata": {},
   "source": [
    "#### Valores random 2"
   ]
  },
  {
   "cell_type": "code",
   "execution_count": null,
   "metadata": {},
   "outputs": [],
   "source": []
  },
  {
   "cell_type": "markdown",
   "metadata": {},
   "source": [
    "#### Valores random 3"
   ]
  },
  {
   "cell_type": "code",
   "execution_count": null,
   "metadata": {},
   "outputs": [],
   "source": []
  },
  {
   "cell_type": "markdown",
   "metadata": {},
   "source": [
    "#### Valores random 4"
   ]
  },
  {
   "cell_type": "code",
   "execution_count": null,
   "metadata": {},
   "outputs": [],
   "source": []
  },
  {
   "cell_type": "markdown",
   "metadata": {},
   "source": [
    "### Resultados de ejecución del Ejemplo 4"
   ]
  },
  {
   "cell_type": "code",
   "execution_count": 69,
   "metadata": {},
   "outputs": [],
   "source": [
    "dataset = Datos(\"ConjuntosDatos/example4.data\")"
   ]
  },
  {
   "cell_type": "markdown",
   "metadata": {},
   "source": [
    "#### Valores random 1"
   ]
  },
  {
   "cell_type": "code",
   "execution_count": null,
   "metadata": {},
   "outputs": [],
   "source": []
  },
  {
   "cell_type": "markdown",
   "metadata": {},
   "source": [
    "#### Valores random 2"
   ]
  },
  {
   "cell_type": "code",
   "execution_count": null,
   "metadata": {},
   "outputs": [],
   "source": []
  },
  {
   "cell_type": "markdown",
   "metadata": {},
   "source": [
    "#### Valores random 3"
   ]
  },
  {
   "cell_type": "code",
   "execution_count": null,
   "metadata": {},
   "outputs": [],
   "source": []
  },
  {
   "cell_type": "markdown",
   "metadata": {},
   "source": [
    "#### Valores random 4"
   ]
  },
  {
   "cell_type": "code",
   "execution_count": null,
   "metadata": {},
   "outputs": [],
   "source": []
  },
  {
   "cell_type": "markdown",
   "metadata": {},
   "source": [
    "### Resultados de ejecución de wdbc"
   ]
  },
  {
   "cell_type": "code",
   "execution_count": 70,
   "metadata": {},
   "outputs": [],
   "source": [
    "dataset = Datos(\"ConjuntosDatos/wdbc.data\")"
   ]
  },
  {
   "cell_type": "markdown",
   "metadata": {},
   "source": [
    "#### Valores random 1"
   ]
  },
  {
   "cell_type": "code",
   "execution_count": null,
   "metadata": {},
   "outputs": [],
   "source": []
  },
  {
   "cell_type": "markdown",
   "metadata": {},
   "source": [
    "#### Valores random 2"
   ]
  },
  {
   "cell_type": "code",
   "execution_count": null,
   "metadata": {},
   "outputs": [],
   "source": []
  },
  {
   "cell_type": "markdown",
   "metadata": {},
   "source": [
    "#### Valores random 3"
   ]
  },
  {
   "cell_type": "code",
   "execution_count": null,
   "metadata": {},
   "outputs": [],
   "source": []
  },
  {
   "cell_type": "markdown",
   "metadata": {},
   "source": [
    "#### Valores random 4"
   ]
  },
  {
   "cell_type": "code",
   "execution_count": null,
   "metadata": {},
   "outputs": [],
   "source": []
  },
  {
   "cell_type": "markdown",
   "metadata": {},
   "source": [
    "### Análisis de los resultados"
   ]
  },
  {
   "cell_type": "code",
   "execution_count": null,
   "metadata": {},
   "outputs": [],
   "source": []
  },
  {
   "cell_type": "markdown",
   "metadata": {},
   "source": [
    "## 3.2 Representación gráfica"
   ]
  },
  {
   "cell_type": "markdown",
   "metadata": {},
   "source": [
    "## Vecinos próximos"
   ]
  },
  {
   "cell_type": "markdown",
   "metadata": {},
   "source": [
    "### Representación de los resultados de ejecución del ejemplo 1"
   ]
  },
  {
   "cell_type": "markdown",
   "metadata": {},
   "source": [
    "#### K = 1"
   ]
  },
  {
   "cell_type": "code",
   "execution_count": null,
   "metadata": {},
   "outputs": [],
   "source": []
  },
  {
   "cell_type": "markdown",
   "metadata": {},
   "source": [
    "#### K = 3"
   ]
  },
  {
   "cell_type": "code",
   "execution_count": null,
   "metadata": {},
   "outputs": [],
   "source": []
  },
  {
   "cell_type": "markdown",
   "metadata": {},
   "source": [
    "#### K = 5"
   ]
  },
  {
   "cell_type": "code",
   "execution_count": null,
   "metadata": {},
   "outputs": [],
   "source": []
  },
  {
   "cell_type": "markdown",
   "metadata": {},
   "source": [
    "#### K = 11"
   ]
  },
  {
   "cell_type": "code",
   "execution_count": null,
   "metadata": {},
   "outputs": [],
   "source": []
  },
  {
   "cell_type": "markdown",
   "metadata": {},
   "source": [
    "#### K = 21"
   ]
  },
  {
   "cell_type": "code",
   "execution_count": null,
   "metadata": {},
   "outputs": [],
   "source": []
  },
  {
   "cell_type": "markdown",
   "metadata": {},
   "source": [
    "#### K = 51"
   ]
  },
  {
   "cell_type": "code",
   "execution_count": null,
   "metadata": {},
   "outputs": [],
   "source": []
  },
  {
   "cell_type": "markdown",
   "metadata": {},
   "source": [
    "### Representación de los resultados de ejecución del ejemplo 2"
   ]
  },
  {
   "cell_type": "markdown",
   "metadata": {},
   "source": [
    "#### K = 1"
   ]
  },
  {
   "cell_type": "code",
   "execution_count": null,
   "metadata": {},
   "outputs": [],
   "source": []
  },
  {
   "cell_type": "markdown",
   "metadata": {},
   "source": [
    "#### K = 3"
   ]
  },
  {
   "cell_type": "code",
   "execution_count": null,
   "metadata": {},
   "outputs": [],
   "source": []
  },
  {
   "cell_type": "markdown",
   "metadata": {},
   "source": [
    "#### K = 5"
   ]
  },
  {
   "cell_type": "code",
   "execution_count": null,
   "metadata": {},
   "outputs": [],
   "source": []
  },
  {
   "cell_type": "markdown",
   "metadata": {},
   "source": [
    "#### K = 11"
   ]
  },
  {
   "cell_type": "code",
   "execution_count": null,
   "metadata": {},
   "outputs": [],
   "source": []
  },
  {
   "cell_type": "markdown",
   "metadata": {},
   "source": [
    "#### K = 21"
   ]
  },
  {
   "cell_type": "code",
   "execution_count": null,
   "metadata": {},
   "outputs": [],
   "source": []
  },
  {
   "cell_type": "markdown",
   "metadata": {},
   "source": [
    "#### K = 51"
   ]
  },
  {
   "cell_type": "code",
   "execution_count": null,
   "metadata": {},
   "outputs": [],
   "source": []
  },
  {
   "cell_type": "markdown",
   "metadata": {},
   "source": [
    "### Representación de los resultados de ejecución del ejemplo 3"
   ]
  },
  {
   "cell_type": "markdown",
   "metadata": {},
   "source": [
    "#### K = 1"
   ]
  },
  {
   "cell_type": "code",
   "execution_count": null,
   "metadata": {},
   "outputs": [],
   "source": []
  },
  {
   "cell_type": "markdown",
   "metadata": {},
   "source": [
    "#### K = 3"
   ]
  },
  {
   "cell_type": "code",
   "execution_count": null,
   "metadata": {},
   "outputs": [],
   "source": []
  },
  {
   "cell_type": "markdown",
   "metadata": {},
   "source": [
    "#### K = 5"
   ]
  },
  {
   "cell_type": "code",
   "execution_count": null,
   "metadata": {},
   "outputs": [],
   "source": []
  },
  {
   "cell_type": "markdown",
   "metadata": {},
   "source": [
    "#### K = 11"
   ]
  },
  {
   "cell_type": "code",
   "execution_count": null,
   "metadata": {},
   "outputs": [],
   "source": []
  },
  {
   "cell_type": "markdown",
   "metadata": {},
   "source": [
    "#### K = 21"
   ]
  },
  {
   "cell_type": "code",
   "execution_count": null,
   "metadata": {},
   "outputs": [],
   "source": []
  },
  {
   "cell_type": "markdown",
   "metadata": {},
   "source": [
    "#### K = 51"
   ]
  },
  {
   "cell_type": "code",
   "execution_count": null,
   "metadata": {},
   "outputs": [],
   "source": []
  },
  {
   "cell_type": "markdown",
   "metadata": {},
   "source": [
    "### Representación de los resultados de ejecución del ejemplo 4"
   ]
  },
  {
   "cell_type": "markdown",
   "metadata": {},
   "source": [
    "#### K = 1"
   ]
  },
  {
   "cell_type": "code",
   "execution_count": null,
   "metadata": {},
   "outputs": [],
   "source": []
  },
  {
   "cell_type": "markdown",
   "metadata": {},
   "source": [
    "#### K = 3"
   ]
  },
  {
   "cell_type": "code",
   "execution_count": null,
   "metadata": {},
   "outputs": [],
   "source": []
  },
  {
   "cell_type": "markdown",
   "metadata": {},
   "source": [
    "#### K = 5"
   ]
  },
  {
   "cell_type": "code",
   "execution_count": null,
   "metadata": {},
   "outputs": [],
   "source": []
  },
  {
   "cell_type": "markdown",
   "metadata": {},
   "source": [
    "#### K = 11"
   ]
  },
  {
   "cell_type": "code",
   "execution_count": null,
   "metadata": {},
   "outputs": [],
   "source": []
  },
  {
   "cell_type": "markdown",
   "metadata": {},
   "source": [
    "#### K = 21"
   ]
  },
  {
   "cell_type": "code",
   "execution_count": null,
   "metadata": {},
   "outputs": [],
   "source": []
  },
  {
   "cell_type": "markdown",
   "metadata": {},
   "source": [
    "#### K = 51"
   ]
  },
  {
   "cell_type": "code",
   "execution_count": null,
   "metadata": {},
   "outputs": [],
   "source": []
  },
  {
   "cell_type": "markdown",
   "metadata": {},
   "source": [
    "## Regresión Logística"
   ]
  },
  {
   "cell_type": "markdown",
   "metadata": {},
   "source": [
    "### Representación de los resultados de ejecución del ejemplo 1"
   ]
  },
  {
   "cell_type": "markdown",
   "metadata": {},
   "source": [
    "#### Valores random 1"
   ]
  },
  {
   "cell_type": "code",
   "execution_count": null,
   "metadata": {},
   "outputs": [],
   "source": []
  },
  {
   "cell_type": "markdown",
   "metadata": {},
   "source": [
    "#### Valores random 2"
   ]
  },
  {
   "cell_type": "code",
   "execution_count": null,
   "metadata": {},
   "outputs": [],
   "source": []
  },
  {
   "cell_type": "markdown",
   "metadata": {},
   "source": [
    "#### Valores random 3"
   ]
  },
  {
   "cell_type": "code",
   "execution_count": null,
   "metadata": {},
   "outputs": [],
   "source": []
  },
  {
   "cell_type": "markdown",
   "metadata": {},
   "source": [
    "#### Valores random 4"
   ]
  },
  {
   "cell_type": "code",
   "execution_count": null,
   "metadata": {},
   "outputs": [],
   "source": []
  },
  {
   "cell_type": "markdown",
   "metadata": {},
   "source": [
    "### Representación de los resultados de ejecución del ejemplo 2"
   ]
  },
  {
   "cell_type": "markdown",
   "metadata": {},
   "source": [
    "#### Valores random 1"
   ]
  },
  {
   "cell_type": "code",
   "execution_count": null,
   "metadata": {},
   "outputs": [],
   "source": []
  },
  {
   "cell_type": "markdown",
   "metadata": {},
   "source": [
    "#### Valores random 2"
   ]
  },
  {
   "cell_type": "code",
   "execution_count": null,
   "metadata": {},
   "outputs": [],
   "source": []
  },
  {
   "cell_type": "markdown",
   "metadata": {},
   "source": [
    "#### Valores random 3"
   ]
  },
  {
   "cell_type": "code",
   "execution_count": null,
   "metadata": {},
   "outputs": [],
   "source": []
  },
  {
   "cell_type": "markdown",
   "metadata": {},
   "source": [
    "#### Valores random 4"
   ]
  },
  {
   "cell_type": "code",
   "execution_count": null,
   "metadata": {},
   "outputs": [],
   "source": []
  },
  {
   "cell_type": "markdown",
   "metadata": {},
   "source": [
    "### Representación de los resultados de ejecución del ejemplo 3"
   ]
  },
  {
   "cell_type": "markdown",
   "metadata": {},
   "source": [
    "#### Valores random 1"
   ]
  },
  {
   "cell_type": "code",
   "execution_count": null,
   "metadata": {},
   "outputs": [],
   "source": []
  },
  {
   "cell_type": "markdown",
   "metadata": {},
   "source": [
    "#### Valores random 2"
   ]
  },
  {
   "cell_type": "code",
   "execution_count": null,
   "metadata": {},
   "outputs": [],
   "source": []
  },
  {
   "cell_type": "markdown",
   "metadata": {},
   "source": [
    "#### Valores random 3"
   ]
  },
  {
   "cell_type": "code",
   "execution_count": null,
   "metadata": {},
   "outputs": [],
   "source": []
  },
  {
   "cell_type": "markdown",
   "metadata": {},
   "source": [
    "#### Valores random 4"
   ]
  },
  {
   "cell_type": "code",
   "execution_count": null,
   "metadata": {},
   "outputs": [],
   "source": []
  },
  {
   "cell_type": "markdown",
   "metadata": {},
   "source": [
    "### Representación de los resultados de ejecución del ejemplo 4"
   ]
  },
  {
   "cell_type": "markdown",
   "metadata": {},
   "source": [
    "#### Valores random 1"
   ]
  },
  {
   "cell_type": "code",
   "execution_count": null,
   "metadata": {},
   "outputs": [],
   "source": []
  },
  {
   "cell_type": "markdown",
   "metadata": {},
   "source": [
    "#### Valores random 2"
   ]
  },
  {
   "cell_type": "code",
   "execution_count": null,
   "metadata": {},
   "outputs": [],
   "source": []
  },
  {
   "cell_type": "markdown",
   "metadata": {},
   "source": [
    "#### Valores random 3"
   ]
  },
  {
   "cell_type": "code",
   "execution_count": null,
   "metadata": {},
   "outputs": [],
   "source": []
  },
  {
   "cell_type": "markdown",
   "metadata": {},
   "source": [
    "#### Valores random 4"
   ]
  },
  {
   "cell_type": "code",
   "execution_count": null,
   "metadata": {},
   "outputs": [],
   "source": []
  },
  {
   "cell_type": "markdown",
   "metadata": {},
   "source": [
    "# Conclusiones"
   ]
  },
  {
   "cell_type": "markdown",
   "metadata": {},
   "source": []
  }
 ],
 "metadata": {
  "kernelspec": {
   "display_name": "Python 3",
   "language": "python",
   "name": "python3"
  },
  "language_info": {
   "codemirror_mode": {
    "name": "ipython",
    "version": 3
   },
   "file_extension": ".py",
   "mimetype": "text/x-python",
   "name": "python",
   "nbconvert_exporter": "python",
   "pygments_lexer": "ipython3",
   "version": "3.6.5"
  }
 },
 "nbformat": 4,
 "nbformat_minor": 2
}

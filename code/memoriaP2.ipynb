{
 "cells": [
  {
   "cell_type": "markdown",
   "metadata": {},
   "source": [
    "# Memoria Práctica 2"
   ]
  },
  {
   "cell_type": "markdown",
   "metadata": {},
   "source": [
    "Autores: Román García y Patricia Losana"
   ]
  },
  {
   "cell_type": "code",
   "execution_count": 2,
   "metadata": {},
   "outputs": [],
   "source": [
    "from Datos import Datos\n",
    "from EstrategiaParticionado import *\n",
    "from Clasificador import *\n",
    "from Roc import *\n",
    "import numpy as np\n",
    "from sklearn import preprocessing \n",
    "from sklearn.neighbors import KNeighborsClassifier\n",
    "from sklearn.linear_model import LogisticRegression\n",
    "from sklearn.model_selection import cross_val_score\n",
    "from sklearn.model_selection import train_test_split\n",
    "import pprint\n",
    "import matplotlib.pyplot as plt\n",
    "from itertools import cycle\n",
    "from sklearn.metrics import accuracy_score"
   ]
  },
  {
   "cell_type": "markdown",
   "metadata": {},
   "source": [
    "## 1. Vecinos Próximos"
   ]
  },
  {
   "cell_type": "markdown",
   "metadata": {},
   "source": [
    "### 1.1 Resultados de ejecución del ejemplo 1"
   ]
  },
  {
   "cell_type": "code",
   "execution_count": 17,
   "metadata": {},
   "outputs": [
    {
     "name": "stdout",
     "output_type": "stream",
     "text": [
      "-------------------------------------------------------------------\n",
      "K =  1\n",
      "\n",
      "Datos sin normalizar: \n",
      "Promedio del error =  0.0 \tDesviación típica =  0.0\n",
      "\n",
      "Datos normalizados:\n",
      "Promedio del error =  0.1788 \tDesviación típica =  0.1697\n",
      "-------------------------------------------------------------------\n",
      "K =  3\n",
      "\n",
      "Datos sin normalizar: \n",
      "Promedio del error =  0.0 \tDesviación típica =  0.0\n",
      "\n",
      "Datos normalizados:\n",
      "Promedio del error =  0.1387 \tDesviación típica =  0.1597\n",
      "-------------------------------------------------------------------\n",
      "K =  5\n",
      "\n",
      "Datos sin normalizar: \n",
      "Promedio del error =  0.0 \tDesviación típica =  0.0\n",
      "\n",
      "Datos normalizados:\n",
      "Promedio del error =  0.1362 \tDesviación típica =  0.1473\n",
      "-------------------------------------------------------------------\n",
      "K =  11\n",
      "\n",
      "Datos sin normalizar: \n",
      "Promedio del error =  0.0 \tDesviación típica =  0.0\n",
      "\n",
      "Datos normalizados:\n",
      "Promedio del error =  0.1312 \tDesviación típica =  0.1534\n",
      "-------------------------------------------------------------------\n",
      "K =  21\n",
      "\n",
      "Datos sin normalizar: \n",
      "Promedio del error =  0.0 \tDesviación típica =  0.0\n",
      "\n",
      "Datos normalizados:\n",
      "Promedio del error =  0.145 \tDesviación típica =  0.1532\n",
      "-------------------------------------------------------------------\n",
      "K =  51\n",
      "\n",
      "Datos sin normalizar: \n",
      "Promedio del error =  0.0 \tDesviación típica =  0.0\n",
      "\n",
      "Datos normalizados:\n",
      "Promedio del error =  0.1325 \tDesviación típica =  0.1498\n"
     ]
    }
   ],
   "source": [
    "dataset = Datos(\"ConjuntosDatos/example1.data\")\n",
    "k_values = [1, 3, 5, 11, 21, 51]\n",
    "\n",
    "for k in k_values:\n",
    "    print(\"-------------------------------------------------------------------\")\n",
    "    estrategia = ValidacionCruzada()\n",
    "    knn = ClasificadorVecinosProximos(k, normaliza=False)\n",
    "    val = knn.validacion(estrategia,dataset,knn)\n",
    "    \n",
    "    print(\"K = \", k)\n",
    "    print(\"\\nDatos sin normalizar: \")\n",
    "    print(\"Promedio del error = \", round(np.array(val).mean(),4), \"\\tDesviación típica = \", round(np.array(val).std(), 4))\n",
    "\n",
    "    knn = ClasificadorVecinosProximos(k, normaliza=True)\n",
    "    val = knn.validacion(estrategia,dataset,knn)\n",
    "\n",
    "    print(\"\\nDatos normalizados:\")\n",
    "    print(\"Promedio del error = \", round(np.array(val).mean(),4), \"\\tDesviación típica = \", round(np.array(val).std(),4))"
   ]
  },
  {
   "cell_type": "markdown",
   "metadata": {},
   "source": [
    "### 1.2 Resultados de ejecución del ejemplo 2"
   ]
  },
  {
   "cell_type": "code",
   "execution_count": 18,
   "metadata": {
    "scrolled": true
   },
   "outputs": [
    {
     "name": "stdout",
     "output_type": "stream",
     "text": [
      "-------------------------------------------------------------------\n",
      "K =  1\n",
      "\n",
      "Datos sin normalizar: \n",
      "Promedio del error =  0.0 \tDesviación típica =  0.0\n",
      "\n",
      "Datos normalizados:\n",
      "Promedio del error =  0.0 \tDesviación típica =  0.0\n",
      "-------------------------------------------------------------------\n",
      "K =  3\n",
      "\n",
      "Datos sin normalizar: \n",
      "Promedio del error =  0.0 \tDesviación típica =  0.0\n",
      "\n",
      "Datos normalizados:\n",
      "Promedio del error =  0.0 \tDesviación típica =  0.0\n",
      "-------------------------------------------------------------------\n",
      "K =  5\n",
      "\n",
      "Datos sin normalizar: \n",
      "Promedio del error =  0.0 \tDesviación típica =  0.0\n",
      "\n",
      "Datos normalizados:\n",
      "Promedio del error =  0.0 \tDesviación típica =  0.0\n",
      "-------------------------------------------------------------------\n",
      "K =  11\n",
      "\n",
      "Datos sin normalizar: \n",
      "Promedio del error =  0.0 \tDesviación típica =  0.0\n",
      "\n",
      "Datos normalizados:\n",
      "Promedio del error =  0.0 \tDesviación típica =  0.0\n",
      "-------------------------------------------------------------------\n",
      "K =  21\n",
      "\n",
      "Datos sin normalizar: \n",
      "Promedio del error =  0.0 \tDesviación típica =  0.0\n",
      "\n",
      "Datos normalizados:\n",
      "Promedio del error =  0.0 \tDesviación típica =  0.0\n",
      "-------------------------------------------------------------------\n",
      "K =  51\n",
      "\n",
      "Datos sin normalizar: \n",
      "Promedio del error =  0.0 \tDesviación típica =  0.0\n",
      "\n",
      "Datos normalizados:\n",
      "Promedio del error =  0.0 \tDesviación típica =  0.0\n"
     ]
    }
   ],
   "source": [
    "dataset = Datos(\"ConjuntosDatos/example2.data\")\n",
    "k_values = [1, 3, 5, 11, 21, 51]\n",
    "\n",
    "for k in k_values:\n",
    "    print(\"-------------------------------------------------------------------\")\n",
    "    estrategia = ValidacionCruzada()\n",
    "    knn = ClasificadorVecinosProximos(k, normaliza=False)\n",
    "    val = knn.validacion(estrategia,dataset,knn)\n",
    "    \n",
    "    print(\"K = \", k)\n",
    "    print(\"\\nDatos sin normalizar: \")\n",
    "    print(\"Promedio del error = \", round(np.array(val).mean(),4), \"\\tDesviación típica = \", round(np.array(val).std(), 4))\n",
    "\n",
    "    knn = ClasificadorVecinosProximos(k, normaliza=True)\n",
    "    val = knn.validacion(estrategia,dataset,knn)\n",
    "\n",
    "    print(\"\\nDatos normalizados:\")\n",
    "    print(\"Promedio del error = \", round(np.array(val).mean(),4), \"\\tDesviación típica = \", round(np.array(val).std(),4))"
   ]
  },
  {
   "cell_type": "markdown",
   "metadata": {},
   "source": [
    "### 1.3 Resultados de ejecución del ejemplo 3"
   ]
  },
  {
   "cell_type": "code",
   "execution_count": 19,
   "metadata": {},
   "outputs": [
    {
     "name": "stdout",
     "output_type": "stream",
     "text": [
      "-------------------------------------------------------------------\n",
      "K =  1\n",
      "\n",
      "Datos sin normalizar: \n",
      "Promedio del error =  0.005 \tDesviación típica =  0.0312\n",
      "\n",
      "Datos normalizados:\n",
      "Promedio del error =  0.0225 \tDesviación típica =  0.067\n",
      "-------------------------------------------------------------------\n",
      "K =  3\n",
      "\n",
      "Datos sin normalizar: \n",
      "Promedio del error =  0.0025 \tDesviación típica =  0.0222\n",
      "\n",
      "Datos normalizados:\n",
      "Promedio del error =  0.035 \tDesviación típica =  0.0853\n",
      "-------------------------------------------------------------------\n",
      "K =  5\n",
      "\n",
      "Datos sin normalizar: \n",
      "Promedio del error =  0.0125 \tDesviación típica =  0.0484\n",
      "\n",
      "Datos normalizados:\n",
      "Promedio del error =  0.0325 \tDesviación típica =  0.0738\n",
      "-------------------------------------------------------------------\n",
      "K =  11\n",
      "\n",
      "Datos sin normalizar: \n",
      "Promedio del error =  0.015 \tDesviación típica =  0.0527\n",
      "\n",
      "Datos normalizados:\n",
      "Promedio del error =  0.0175 \tDesviación típica =  0.0565\n",
      "-------------------------------------------------------------------\n",
      "K =  21\n",
      "\n",
      "Datos sin normalizar: \n",
      "Promedio del error =  0.0175 \tDesviación típica =  0.0565\n",
      "\n",
      "Datos normalizados:\n",
      "Promedio del error =  0.0288 \tDesviación típica =  0.0702\n",
      "-------------------------------------------------------------------\n",
      "K =  51\n",
      "\n",
      "Datos sin normalizar: \n",
      "Promedio del error =  0.015 \tDesviación típica =  0.0527\n",
      "\n",
      "Datos normalizados:\n",
      "Promedio del error =  0.0162 \tDesviación típica =  0.059\n"
     ]
    }
   ],
   "source": [
    "dataset = Datos(\"ConjuntosDatos/example3.data\")\n",
    "k_values = [1, 3, 5, 11, 21, 51]\n",
    "\n",
    "for k in k_values:\n",
    "    print(\"-------------------------------------------------------------------\")\n",
    "    estrategia = ValidacionCruzada()\n",
    "    knn = ClasificadorVecinosProximos(k, normaliza=False)\n",
    "    val = knn.validacion(estrategia,dataset,knn)\n",
    "    \n",
    "    print(\"K = \", k)\n",
    "    print(\"\\nDatos sin normalizar: \")\n",
    "    print(\"Promedio del error = \", round(np.array(val).mean(),4), \"\\tDesviación típica = \", round(np.array(val).std(), 4))\n",
    "\n",
    "    knn = ClasificadorVecinosProximos(k, normaliza=True)\n",
    "    val = knn.validacion(estrategia,dataset,knn)\n",
    "\n",
    "    print(\"\\nDatos normalizados:\")\n",
    "    print(\"Promedio del error = \", round(np.array(val).mean(),4), \"\\tDesviación típica = \", round(np.array(val).std(),4))"
   ]
  },
  {
   "cell_type": "markdown",
   "metadata": {},
   "source": [
    "### 1.4 Resultados de ejecución del ejemplo 4"
   ]
  },
  {
   "cell_type": "code",
   "execution_count": 20,
   "metadata": {},
   "outputs": [
    {
     "name": "stdout",
     "output_type": "stream",
     "text": [
      "-------------------------------------------------------------------\n",
      "K =  1\n",
      "\n",
      "Datos sin normalizar: \n",
      "Promedio del error =  0.0 \tDesviación típica =  0.0\n",
      "\n",
      "Datos normalizados:\n",
      "Promedio del error =  0.03 \tDesviación típica =  0.0714\n",
      "-------------------------------------------------------------------\n",
      "K =  3\n",
      "\n",
      "Datos sin normalizar: \n",
      "Promedio del error =  0.01 \tDesviación típica =  0.0436\n",
      "\n",
      "Datos normalizados:\n",
      "Promedio del error =  0.095 \tDesviación típica =  0.1182\n",
      "-------------------------------------------------------------------\n",
      "K =  5\n",
      "\n",
      "Datos sin normalizar: \n",
      "Promedio del error =  0.02 \tDesviación típica =  0.06\n",
      "\n",
      "Datos normalizados:\n",
      "Promedio del error =  0.105 \tDesviación típica =  0.1182\n",
      "-------------------------------------------------------------------\n",
      "K =  11\n",
      "\n",
      "Datos sin normalizar: \n",
      "Promedio del error =  0.01 \tDesviación típica =  0.0436\n",
      "\n",
      "Datos normalizados:\n",
      "Promedio del error =  0.18 \tDesviación típica =  0.1833\n",
      "-------------------------------------------------------------------\n",
      "K =  21\n",
      "\n",
      "Datos sin normalizar: \n",
      "Promedio del error =  0.09 \tDesviación típica =  0.1609\n",
      "\n",
      "Datos normalizados:\n",
      "Promedio del error =  0.345 \tDesviación típica =  0.2236\n",
      "-------------------------------------------------------------------\n",
      "K =  51\n",
      "\n",
      "Datos sin normalizar: \n",
      "Promedio del error =  0.09 \tDesviación típica =  0.0995\n",
      "\n",
      "Datos normalizados:\n",
      "Promedio del error =  0.585 \tDesviación típica =  0.2253\n"
     ]
    }
   ],
   "source": [
    "dataset = Datos(\"ConjuntosDatos/example4.data\")\n",
    "k_values = [1, 3, 5, 11, 21, 51]\n",
    "\n",
    "for k in k_values:\n",
    "    print(\"-------------------------------------------------------------------\")\n",
    "    estrategia = ValidacionCruzada()\n",
    "    knn = ClasificadorVecinosProximos(k, normaliza=False)\n",
    "    val = knn.validacion(estrategia,dataset,knn)\n",
    "    \n",
    "    print(\"K = \", k)\n",
    "    print(\"\\nDatos sin normalizar: \")\n",
    "    print(\"Promedio del error = \", round(np.array(val).mean(),4), \"\\tDesviación típica = \", round(np.array(val).std(), 4))\n",
    "\n",
    "    knn = ClasificadorVecinosProximos(k, normaliza=True)\n",
    "    val = knn.validacion(estrategia,dataset,knn)\n",
    "\n",
    "    print(\"\\nDatos normalizados:\")\n",
    "    print(\"Promedio del error = \", round(np.array(val).mean(),4), \"\\tDesviación típica = \", round(np.array(val).std(),4))"
   ]
  },
  {
   "cell_type": "markdown",
   "metadata": {},
   "source": [
    "### 1.5 Resultados de ejecución de WDBC"
   ]
  },
  {
   "cell_type": "code",
   "execution_count": 21,
   "metadata": {},
   "outputs": [
    {
     "name": "stdout",
     "output_type": "stream",
     "text": [
      "-------------------------------------------------------------------\n",
      "K =  1\n",
      "\n",
      "Datos sin normalizar: \n",
      "Promedio del error =  0.0829 \tDesviación típica =  0.1297\n",
      "\n",
      "Datos normalizados:\n",
      "Promedio del error =  0.0855 \tDesviación típica =  0.1273\n",
      "-------------------------------------------------------------------\n",
      "K =  3\n",
      "\n",
      "Datos sin normalizar: \n",
      "Promedio del error =  0.0754 \tDesviación típica =  0.1105\n",
      "\n",
      "Datos normalizados:\n",
      "Promedio del error =  0.0757 \tDesviación típica =  0.1092\n",
      "-------------------------------------------------------------------\n",
      "K =  5\n",
      "\n",
      "Datos sin normalizar: \n",
      "Promedio del error =  0.0649 \tDesviación típica =  0.1108\n",
      "\n",
      "Datos normalizados:\n",
      "Promedio del error =  0.0658 \tDesviación típica =  0.1142\n",
      "-------------------------------------------------------------------\n",
      "K =  11\n",
      "\n",
      "Datos sin normalizar: \n",
      "Promedio del error =  0.0667 \tDesviación típica =  0.1113\n",
      "\n",
      "Datos normalizados:\n",
      "Promedio del error =  0.0667 \tDesviación típica =  0.1113\n",
      "-------------------------------------------------------------------\n",
      "K =  21\n",
      "\n",
      "Datos sin normalizar: \n",
      "Promedio del error =  0.0706 \tDesviación típica =  0.1098\n",
      "\n",
      "Datos normalizados:\n",
      "Promedio del error =  0.0706 \tDesviación típica =  0.1114\n",
      "-------------------------------------------------------------------\n",
      "K =  51\n",
      "\n",
      "Datos sin normalizar: \n",
      "Promedio del error =  0.0825 \tDesviación típica =  0.1372\n",
      "\n",
      "Datos normalizados:\n",
      "Promedio del error =  0.0809 \tDesviación típica =  0.1293\n"
     ]
    }
   ],
   "source": [
    "dataset = Datos(\"ConjuntosDatos/wdbc.data\")\n",
    "k_values = [1, 3, 5, 11, 21, 51]\n",
    "\n",
    "for k in k_values:\n",
    "    print(\"-------------------------------------------------------------------\")\n",
    "    estrategia = ValidacionCruzada()\n",
    "    knn = ClasificadorVecinosProximos(k, normaliza=False)\n",
    "    val = knn.validacion(estrategia,dataset,knn)\n",
    "    \n",
    "    print(\"K = \", k)\n",
    "    print(\"\\nDatos sin normalizar: \")\n",
    "    print(\"Promedio del error = \", round(np.array(val).mean(),4), \"\\tDesviación típica = \", round(np.array(val).std(), 4))\n",
    "\n",
    "    knn = ClasificadorVecinosProximos(k, normaliza=True)\n",
    "    val = knn.validacion(estrategia,dataset,knn)\n",
    "\n",
    "    print(\"\\nDatos normalizados:\")\n",
    "    print(\"Promedio del error = \", round(np.array(val).mean(),4), \"\\tDesviación típica = \", round(np.array(val).std(),4))"
   ]
  },
  {
   "cell_type": "markdown",
   "metadata": {},
   "source": [
    "## 2. Regresión Logística"
   ]
  },
  {
   "cell_type": "markdown",
   "metadata": {},
   "source": [
    "### 2.1 Resultados de ejecución del ejemplo 1"
   ]
  },
  {
   "cell_type": "code",
   "execution_count": 27,
   "metadata": {},
   "outputs": [
    {
     "name": "stdout",
     "output_type": "stream",
     "text": [
      "-------------------------------------------------------------------\n",
      "pasos =  10 η =  1\n",
      "Promedio del error =  0.5475 \tDesviación típica =  0.2253\n",
      "-------------------------------------------------------------------\n",
      "pasos =  100 η =  1\n",
      "Promedio del error =  0.53 \tDesviación típica =  0.2238\n",
      "-------------------------------------------------------------------\n",
      "pasos =  10 η =  0.5\n",
      "Promedio del error =  0.5258 \tDesviación típica =  0.2221\n",
      "-------------------------------------------------------------------\n",
      "pasos =  100 η =  0.5\n",
      "Promedio del error =  0.5056 \tDesviación típica =  0.223\n"
     ]
    }
   ],
   "source": [
    "dataset = Datos(\"ConjuntosDatos/example1.data\")\n",
    "pasos = [10, 100, 10, 100]\n",
    "aprend = [1, 1, 0.5, 0.5]\n",
    "\n",
    "estrategia = ValidacionCruzada()\n",
    "\n",
    "for i in range(len(pasos)):\n",
    "    reglog = ClasificadorRegresionLogistica(pasos[i], aprend[i])\n",
    "    val = reglog.validacion(estrategia,dataset,reglog)\n",
    "    print(\"-------------------------------------------------------------------\")\n",
    "    print(\"pasos = \", pasos[i], \"η = \", aprend[i])\n",
    "    print(\"Promedio del error = \", round(np.array(val).mean(),4), \"\\tDesviación típica = \", round(np.array(val).std(), 4))\n"
   ]
  },
  {
   "cell_type": "markdown",
   "metadata": {},
   "source": [
    "### 2.2 Resultados de ejecución del ejemplo 2"
   ]
  },
  {
   "cell_type": "code",
   "execution_count": 28,
   "metadata": {},
   "outputs": [
    {
     "name": "stdout",
     "output_type": "stream",
     "text": [
      "-------------------------------------------------------------------\n",
      "pasos =  10 η =  1\n",
      "Promedio del error =  0.49 \tDesviación típica =  0.2406\n",
      "-------------------------------------------------------------------\n",
      "pasos =  100 η =  1\n",
      "Promedio del error =  0.6125 \tDesviación típica =  0.2566\n",
      "-------------------------------------------------------------------\n",
      "pasos =  10 η =  0.5\n",
      "Promedio del error =  0.6383 \tDesviación típica =  0.293\n",
      "-------------------------------------------------------------------\n",
      "pasos =  100 η =  0.5\n",
      "Promedio del error =  0.6 \tDesviación típica =  0.2881\n"
     ]
    }
   ],
   "source": [
    "dataset = Datos(\"ConjuntosDatos/example2.data\")\n",
    "pasos = [10, 100, 10, 100]\n",
    "aprend = [1, 1, 0.5, 0.5]\n",
    "\n",
    "estrategia = ValidacionCruzada()\n",
    "\n",
    "for i in range(len(pasos)):\n",
    "    reglog = ClasificadorRegresionLogistica(pasos[i], aprend[i])\n",
    "    val = reglog.validacion(estrategia,dataset,reglog)\n",
    "    print(\"-------------------------------------------------------------------\")\n",
    "    print(\"pasos = \", pasos[i], \"η = \", aprend[i])\n",
    "    print(\"Promedio del error = \", round(np.array(val).mean(),4), \"\\tDesviación típica = \", round(np.array(val).std(), 4))\n"
   ]
  },
  {
   "cell_type": "markdown",
   "metadata": {},
   "source": [
    "### 2.3 Resultados de ejecución del ejemplo 3"
   ]
  },
  {
   "cell_type": "code",
   "execution_count": 29,
   "metadata": {},
   "outputs": [
    {
     "name": "stdout",
     "output_type": "stream",
     "text": [
      "-------------------------------------------------------------------\n",
      "pasos =  10 η =  1\n",
      "Promedio del error =  0.4625 \tDesviación típica =  0.2135\n",
      "-------------------------------------------------------------------\n",
      "pasos =  100 η =  1\n",
      "Promedio del error =  0.4787 \tDesviación típica =  0.2378\n",
      "-------------------------------------------------------------------\n",
      "pasos =  10 η =  0.5\n",
      "Promedio del error =  0.4958 \tDesviación típica =  0.2251\n",
      "-------------------------------------------------------------------\n",
      "pasos =  100 η =  0.5\n",
      "Promedio del error =  0.4969 \tDesviación típica =  0.2264\n"
     ]
    }
   ],
   "source": [
    "dataset = Datos(\"ConjuntosDatos/example3.data\")\n",
    "pasos = [10, 100, 10, 100]\n",
    "aprend = [1, 1, 0.5, 0.5]\n",
    "\n",
    "estrategia = ValidacionCruzada()\n",
    "\n",
    "for i in range(len(pasos)):\n",
    "    reglog = ClasificadorRegresionLogistica(pasos[i], aprend[i])\n",
    "    val = reglog.validacion(estrategia,dataset,reglog)\n",
    "    print(\"-------------------------------------------------------------------\")\n",
    "    print(\"pasos = \", pasos[i], \"η = \", aprend[i])\n",
    "    print(\"Promedio del error = \", round(np.array(val).mean(),4), \"\\tDesviación típica = \", round(np.array(val).std(), 4))\n"
   ]
  },
  {
   "cell_type": "markdown",
   "metadata": {},
   "source": [
    "### 2.4 Resultados de ejecución del ejemplo 4"
   ]
  },
  {
   "cell_type": "code",
   "execution_count": 30,
   "metadata": {},
   "outputs": [
    {
     "name": "stdout",
     "output_type": "stream",
     "text": [
      "-------------------------------------------------------------------\n",
      "pasos =  10 η =  1\n",
      "Promedio del error =  0.47 \tDesviación típica =  0.1706\n",
      "-------------------------------------------------------------------\n",
      "pasos =  100 η =  1\n",
      "Promedio del error =  0.47 \tDesviación típica =  0.2304\n",
      "-------------------------------------------------------------------\n",
      "pasos =  10 η =  0.5\n",
      "Promedio del error =  0.47 \tDesviación típica =  0.2333\n",
      "-------------------------------------------------------------------\n",
      "pasos =  100 η =  0.5\n",
      "Promedio del error =  0.47 \tDesviación típica =  0.2216\n"
     ]
    }
   ],
   "source": [
    "dataset = Datos(\"ConjuntosDatos/example4.data\")\n",
    "pasos = [10, 100, 10, 100]\n",
    "aprend = [1, 1, 0.5, 0.5]\n",
    "\n",
    "estrategia = ValidacionCruzada()\n",
    "\n",
    "for i in range(len(pasos)):\n",
    "    reglog = ClasificadorRegresionLogistica(pasos[i], aprend[i])\n",
    "    val = reglog.validacion(estrategia,dataset,reglog)\n",
    "    print(\"-------------------------------------------------------------------\")\n",
    "    print(\"pasos = \", pasos[i], \"η = \", aprend[i])\n",
    "    print(\"Promedio del error = \", round(np.array(val).mean(),4), \"\\tDesviación típica = \", round(np.array(val).std(), 4))\n"
   ]
  },
  {
   "cell_type": "markdown",
   "metadata": {},
   "source": [
    "### 2.5 Resultados de ejecución de WDBC"
   ]
  },
  {
   "cell_type": "code",
   "execution_count": 31,
   "metadata": {},
   "outputs": [
    {
     "name": "stdout",
     "output_type": "stream",
     "text": [
      "-------------------------------------------------------------------\n",
      "pasos =  10 η =  1\n",
      "Promedio del error =  0.3728 \tDesviación típica =  0.2326\n",
      "-------------------------------------------------------------------\n",
      "pasos =  100 η =  1\n",
      "Promedio del error =  0.373 \tDesviación típica =  0.2248\n",
      "-------------------------------------------------------------------\n",
      "pasos =  10 η =  0.5\n",
      "Promedio del error =  0.373 \tDesviación típica =  0.2264\n",
      "-------------------------------------------------------------------\n",
      "pasos =  100 η =  0.5\n",
      "Promedio del error =  0.3728 \tDesviación típica =  0.2184\n"
     ]
    }
   ],
   "source": [
    "dataset = Datos(\"ConjuntosDatos/wdbc.data\")\n",
    "pasos = [10, 100, 10, 100]\n",
    "aprend = [1, 1, 0.5, 0.5]\n",
    "\n",
    "estrategia = ValidacionCruzada()\n",
    "\n",
    "for i in range(len(pasos)):\n",
    "    reglog = ClasificadorRegresionLogistica(pasos[i], aprend[i])\n",
    "    val = reglog.validacion(estrategia,dataset,reglog)\n",
    "    print(\"-------------------------------------------------------------------\")\n",
    "    print(\"pasos = \", pasos[i], \"η = \", aprend[i])\n",
    "    print(\"Promedio del error = \", round(np.array(val).mean(),4), \"\\tDesviación típica = \", round(np.array(val).std(), 4))\n"
   ]
  },
  {
   "cell_type": "markdown",
   "metadata": {},
   "source": [
    "### Análisis de los resultados"
   ]
  },
  {
   "cell_type": "markdown",
   "metadata": {},
   "source": [
    "Aquí va el análisis de los resultados"
   ]
  },
  {
   "cell_type": "markdown",
   "metadata": {},
   "source": [
    "## 3. Scikit-Learn y Representación Gráfica"
   ]
  },
  {
   "cell_type": "markdown",
   "metadata": {},
   "source": [
    "## 3.1 Resultados de la clasificación utilizando Scikit-Learn"
   ]
  },
  {
   "cell_type": "markdown",
   "metadata": {},
   "source": [
    "### 3.1.1 Resultados de KNN"
   ]
  },
  {
   "cell_type": "markdown",
   "metadata": {},
   "source": [
    "### Resultados de ejecución del ejemplo 1"
   ]
  },
  {
   "cell_type": "code",
   "execution_count": 15,
   "metadata": {},
   "outputs": [
    {
     "name": "stdout",
     "output_type": "stream",
     "text": [
      "-------------------------------------------------------------------\n",
      "K =  1\n",
      "\n",
      "Resultados implementación propia: \n",
      "Promedio del error =  0.1775 \tDesviación típica =  0.1643\n",
      "\n",
      "Resultados sklearn:\n",
      "Promedio del error =  0.1625 \tDesviación típica =  0.0362\n",
      "-------------------------------------------------------------------\n",
      "K =  3\n",
      "\n",
      "Resultados implementación propia: \n",
      "Promedio del error =  0.14 \tDesviación típica =  0.153\n",
      "\n",
      "Resultados sklearn:\n",
      "Promedio del error =  0.145 \tDesviación típica =  0.0392\n",
      "-------------------------------------------------------------------\n",
      "K =  5\n",
      "\n",
      "Resultados implementación propia: \n",
      "Promedio del error =  0.1375 \tDesviación típica =  0.1469\n",
      "\n",
      "Resultados sklearn:\n",
      "Promedio del error =  0.13 \tDesviación típica =  0.0491\n",
      "-------------------------------------------------------------------\n",
      "K =  11\n",
      "\n",
      "Resultados implementación propia: \n",
      "Promedio del error =  0.1325 \tDesviación típica =  0.1481\n",
      "\n",
      "Resultados sklearn:\n",
      "Promedio del error =  0.135 \tDesviación típica =  0.0477\n",
      "-------------------------------------------------------------------\n",
      "K =  21\n",
      "\n",
      "Resultados implementación propia: \n",
      "Promedio del error =  0.1425 \tDesviación típica =  0.1649\n",
      "\n",
      "Resultados sklearn:\n",
      "Promedio del error =  0.1325 \tDesviación típica =  0.0557\n",
      "-------------------------------------------------------------------\n",
      "K =  51\n",
      "\n",
      "Resultados implementación propia: \n",
      "Promedio del error =  0.1425 \tDesviación típica =  0.1555\n",
      "\n",
      "Resultados sklearn:\n",
      "Promedio del error =  0.16 \tDesviación típica =  0.0483\n"
     ]
    }
   ],
   "source": [
    "dataset = Datos(\"ConjuntosDatos/example1.data\")\n",
    "k_values = [1, 3, 5, 11, 21, 51]\n",
    "\n",
    "for k in k_values:\n",
    "    print(\"-------------------------------------------------------------------\")\n",
    "    estrategia = ValidacionCruzada()\n",
    "    knn = ClasificadorVecinosProximos(k, normaliza=True)\n",
    "    val = knn.validacion(estrategia,dataset,knn)\n",
    "    \n",
    "    print(\"K = \", k)\n",
    "    print(\"\\nResultados implementación propia: \")\n",
    "    print(\"Promedio del error = \", round(np.array(val).mean(),4), \"\\tDesviación típica = \", round(np.array(val).std(), 4))\n",
    "\n",
    "    clf = KNeighborsClassifier(k)\n",
    "    pred_kfolds = cross_val_score(clf, dataset.datos[:,:-1], dataset.datos[:,-1] , cv = 5)\n",
    "\n",
    "    #Obtenemos el error de la media de las predicciones\n",
    "    media_error = 1 - pred_kfolds.mean()\n",
    "\n",
    "    #Obtenemos la desviacion tipica de las predicciones\n",
    "    desv_error = pred_kfolds.std()\n",
    "\n",
    "    print(\"\\nResultados sklearn:\")\n",
    "    print(\"Promedio del error = \", round(media_error,4), \"\\tDesviación típica = \", round(desv_error,4))\n",
    "\n"
   ]
  },
  {
   "cell_type": "markdown",
   "metadata": {},
   "source": [
    "### Resultados de ejecución del ejemplo 2"
   ]
  },
  {
   "cell_type": "code",
   "execution_count": 16,
   "metadata": {},
   "outputs": [
    {
     "name": "stdout",
     "output_type": "stream",
     "text": [
      "-------------------------------------------------------------------\n",
      "K =  1\n",
      "\n",
      "Resultados implementación propia: \n",
      "Promedio del error =  0.0 \tDesviación típica =  0.0\n",
      "\n",
      "Resultados sklearn:\n",
      "Promedio del error =  0.0 \tDesviación típica =  0.0\n",
      "-------------------------------------------------------------------\n",
      "K =  3\n",
      "\n",
      "Resultados implementación propia: \n",
      "Promedio del error =  0.0 \tDesviación típica =  0.0\n",
      "\n",
      "Resultados sklearn:\n",
      "Promedio del error =  0.0 \tDesviación típica =  0.0\n",
      "-------------------------------------------------------------------\n",
      "K =  5\n",
      "\n",
      "Resultados implementación propia: \n",
      "Promedio del error =  0.0 \tDesviación típica =  0.0\n",
      "\n",
      "Resultados sklearn:\n",
      "Promedio del error =  0.0 \tDesviación típica =  0.0\n",
      "-------------------------------------------------------------------\n",
      "K =  11\n",
      "\n",
      "Resultados implementación propia: \n",
      "Promedio del error =  0.0 \tDesviación típica =  0.0\n",
      "\n",
      "Resultados sklearn:\n",
      "Promedio del error =  0.0 \tDesviación típica =  0.0\n",
      "-------------------------------------------------------------------\n",
      "K =  21\n",
      "\n",
      "Resultados implementación propia: \n",
      "Promedio del error =  0.0 \tDesviación típica =  0.0\n",
      "\n",
      "Resultados sklearn:\n",
      "Promedio del error =  0.0 \tDesviación típica =  0.0\n",
      "-------------------------------------------------------------------\n",
      "K =  51\n",
      "\n",
      "Resultados implementación propia: \n",
      "Promedio del error =  0.0 \tDesviación típica =  0.0\n",
      "\n",
      "Resultados sklearn:\n",
      "Promedio del error =  0.0 \tDesviación típica =  0.0\n"
     ]
    }
   ],
   "source": [
    "dataset = Datos(\"ConjuntosDatos/example2.data\")\n",
    "k_values = [1, 3, 5, 11, 21, 51]\n",
    "\n",
    "for k in k_values:\n",
    "    print(\"-------------------------------------------------------------------\")\n",
    "    estrategia = ValidacionCruzada()\n",
    "    knn = ClasificadorVecinosProximos(k, normaliza=True)\n",
    "    val = knn.validacion(estrategia,dataset,knn)\n",
    "    \n",
    "    print(\"K = \", k)\n",
    "    print(\"\\nResultados implementación propia: \")\n",
    "    print(\"Promedio del error = \", round(np.array(val).mean(),4), \"\\tDesviación típica = \", round(np.array(val).std(), 4))\n",
    "\n",
    "    clf = KNeighborsClassifier(k)\n",
    "    pred_kfolds = cross_val_score(clf, dataset.datos[:,:-1], dataset.datos[:,-1] , cv = 5)\n",
    "\n",
    "    #Obtenemos el error de la media de las predicciones\n",
    "    media_error = 1 - pred_kfolds.mean()\n",
    "\n",
    "    #Obtenemos la desviacion tipica de las predicciones\n",
    "    desv_error = pred_kfolds.std()\n",
    "\n",
    "    print(\"\\nResultados sklearn:\")\n",
    "    print(\"Promedio del error = \", round(media_error,4), \"\\tDesviación típica = \", round(desv_error,4))\n",
    "\n"
   ]
  },
  {
   "cell_type": "markdown",
   "metadata": {},
   "source": [
    "### Resultados de ejecución del ejemplo 3"
   ]
  },
  {
   "cell_type": "code",
   "execution_count": 22,
   "metadata": {},
   "outputs": [
    {
     "name": "stdout",
     "output_type": "stream",
     "text": [
      "-------------------------------------------------------------------\n",
      "K =  1\n",
      "\n",
      "Resultados implementación propia: \n",
      "Promedio del error =  0.0225 \tDesviación típica =  0.0632\n",
      "\n",
      "Resultados sklearn:\n",
      "Promedio del error =  0.0325 \tDesviación típica =  0.0127\n",
      "-------------------------------------------------------------------\n",
      "K =  3\n",
      "\n",
      "Resultados implementación propia: \n",
      "Promedio del error =  0.035 \tDesviación típica =  0.076\n",
      "\n",
      "Resultados sklearn:\n",
      "Promedio del error =  0.0425 \tDesviación típica =  0.0245\n",
      "-------------------------------------------------------------------\n",
      "K =  5\n",
      "\n",
      "Resultados implementación propia: \n",
      "Promedio del error =  0.035 \tDesviación típica =  0.0823\n",
      "\n",
      "Resultados sklearn:\n",
      "Promedio del error =  0.035 \tDesviación típica =  0.0242\n",
      "-------------------------------------------------------------------\n",
      "K =  11\n",
      "\n",
      "Resultados implementación propia: \n",
      "Promedio del error =  0.0175 \tDesviación típica =  0.0565\n",
      "\n",
      "Resultados sklearn:\n",
      "Promedio del error =  0.0375 \tDesviación típica =  0.0158\n",
      "-------------------------------------------------------------------\n",
      "K =  21\n",
      "\n",
      "Resultados implementación propia: \n",
      "Promedio del error =  0.0275 \tDesviación típica =  0.0758\n",
      "\n",
      "Resultados sklearn:\n",
      "Promedio del error =  0.04 \tDesviación típica =  0.0229\n",
      "-------------------------------------------------------------------\n",
      "K =  51\n",
      "\n",
      "Resultados implementación propia: \n",
      "Promedio del error =  0.0125 \tDesviación típica =  0.0484\n",
      "\n",
      "Resultados sklearn:\n",
      "Promedio del error =  0.035 \tDesviación típica =  0.0094\n"
     ]
    }
   ],
   "source": [
    "dataset = Datos(\"ConjuntosDatos/example3.data\")\n",
    "k_values = [1, 3, 5, 11, 21, 51]\n",
    "\n",
    "for k in k_values:\n",
    "    print(\"-------------------------------------------------------------------\")\n",
    "    estrategia = ValidacionCruzada()\n",
    "    knn = ClasificadorVecinosProximos(k, normaliza=True)\n",
    "    val = knn.validacion(estrategia,dataset,knn)\n",
    "    \n",
    "    print(\"K = \", k)\n",
    "    print(\"\\nResultados implementación propia: \")\n",
    "    print(\"Promedio del error = \", round(np.array(val).mean(),4), \"\\tDesviación típica = \", round(np.array(val).std(), 4))\n",
    "\n",
    "    clf = KNeighborsClassifier(k)\n",
    "    pred_kfolds = cross_val_score(clf, dataset.datos[:,:-1], dataset.datos[:,-1] , cv = 5)\n",
    "\n",
    "    #Obtenemos el error de la media de las predicciones\n",
    "    media_error = 1 - pred_kfolds.mean()\n",
    "\n",
    "    #Obtenemos la desviacion tipica de las predicciones\n",
    "    desv_error = pred_kfolds.std()\n",
    "\n",
    "    print(\"\\nResultados sklearn:\")\n",
    "    print(\"Promedio del error = \", round(media_error,4), \"\\tDesviación típica = \", round(desv_error,4))\n",
    "\n"
   ]
  },
  {
   "cell_type": "markdown",
   "metadata": {},
   "source": [
    "### Resultados de ejecución del ejemplo 4\n"
   ]
  },
  {
   "cell_type": "code",
   "execution_count": 23,
   "metadata": {},
   "outputs": [
    {
     "name": "stdout",
     "output_type": "stream",
     "text": [
      "-------------------------------------------------------------------\n",
      "K =  1\n",
      "\n",
      "Resultados implementación propia: \n",
      "Promedio del error =  0.03 \tDesviación típica =  0.0714\n",
      "\n",
      "Resultados sklearn:\n",
      "Promedio del error =  0.04 \tDesviación típica =  0.0374\n",
      "-------------------------------------------------------------------\n",
      "K =  3\n",
      "\n",
      "Resultados implementación propia: \n",
      "Promedio del error =  0.1 \tDesviación típica =  0.1342\n",
      "\n",
      "Resultados sklearn:\n",
      "Promedio del error =  0.1 \tDesviación típica =  0.0707\n",
      "-------------------------------------------------------------------\n",
      "K =  5\n",
      "\n",
      "Resultados implementación propia: \n",
      "Promedio del error =  0.11 \tDesviación típica =  0.148\n",
      "\n",
      "Resultados sklearn:\n",
      "Promedio del error =  0.1 \tDesviación típica =  0.0837\n",
      "-------------------------------------------------------------------\n",
      "K =  11\n",
      "\n",
      "Resultados implementación propia: \n",
      "Promedio del error =  0.19 \tDesviación típica =  0.148\n",
      "\n",
      "Resultados sklearn:\n",
      "Promedio del error =  0.21 \tDesviación típica =  0.0735\n",
      "-------------------------------------------------------------------\n",
      "K =  21\n",
      "\n",
      "Resultados implementación propia: \n",
      "Promedio del error =  0.35 \tDesviación típica =  0.2269\n",
      "\n",
      "Resultados sklearn:\n",
      "Promedio del error =  0.35 \tDesviación típica =  0.114\n",
      "-------------------------------------------------------------------\n",
      "K =  51\n",
      "\n",
      "Resultados implementación propia: \n",
      "Promedio del error =  0.65 \tDesviación típica =  0.1987\n",
      "\n",
      "Resultados sklearn:\n",
      "Promedio del error =  0.5 \tDesviación típica =  0.1378\n"
     ]
    }
   ],
   "source": [
    "dataset = Datos(\"ConjuntosDatos/example4.data\")\n",
    "k_values = [1, 3, 5, 11, 21, 51]\n",
    "\n",
    "for k in k_values:\n",
    "    print(\"-------------------------------------------------------------------\")\n",
    "    estrategia = ValidacionCruzada()\n",
    "    knn = ClasificadorVecinosProximos(k, normaliza=True)\n",
    "    val = knn.validacion(estrategia,dataset,knn)\n",
    "    \n",
    "    print(\"K = \", k)\n",
    "    print(\"\\nResultados implementación propia: \")\n",
    "    print(\"Promedio del error = \", round(np.array(val).mean(),4), \"\\tDesviación típica = \", round(np.array(val).std(), 4))\n",
    "\n",
    "    clf = KNeighborsClassifier(k)\n",
    "    pred_kfolds = cross_val_score(clf, dataset.datos[:,:-1], dataset.datos[:,-1] , cv = 5)\n",
    "\n",
    "    #Obtenemos el error de la media de las predicciones\n",
    "    media_error = 1 - pred_kfolds.mean()\n",
    "\n",
    "    #Obtenemos la desviacion tipica de las predicciones\n",
    "    desv_error = pred_kfolds.std()\n",
    "\n",
    "    print(\"\\nResultados sklearn:\")\n",
    "    print(\"Promedio del error = \", round(media_error,4), \"\\tDesviación típica = \", round(desv_error,4))\n",
    "\n"
   ]
  },
  {
   "cell_type": "markdown",
   "metadata": {},
   "source": [
    "### Resultados de ejecución de wdbc"
   ]
  },
  {
   "cell_type": "code",
   "execution_count": 24,
   "metadata": {},
   "outputs": [
    {
     "name": "stdout",
     "output_type": "stream",
     "text": [
      "-------------------------------------------------------------------\n",
      "K =  1\n",
      "\n",
      "Resultados implementación propia: \n",
      "Promedio del error =  0.0846 \tDesviación típica =  0.1272\n",
      "\n",
      "Resultados sklearn:\n",
      "Promedio del error =  0.0948 \tDesviación típica =  0.0233\n",
      "-------------------------------------------------------------------\n",
      "K =  3\n",
      "\n",
      "Resultados implementación propia: \n",
      "Promedio del error =  0.0737 \tDesviación típica =  0.1101\n",
      "\n",
      "Resultados sklearn:\n",
      "Promedio del error =  0.0807 \tDesviación típica =  0.0239\n",
      "-------------------------------------------------------------------\n",
      "K =  5\n",
      "\n",
      "Resultados implementación propia: \n",
      "Promedio del error =  0.0684 \tDesviación típica =  0.102\n",
      "\n",
      "Resultados sklearn:\n",
      "Promedio del error =  0.072 \tDesviación típica =  0.0213\n",
      "-------------------------------------------------------------------\n",
      "K =  11\n",
      "\n",
      "Resultados implementación propia: \n",
      "Promedio del error =  0.0671 \tDesviación típica =  0.1055\n",
      "\n",
      "Resultados sklearn:\n",
      "Promedio del error =  0.0702 \tDesviación típica =  0.0272\n",
      "-------------------------------------------------------------------\n",
      "K =  21\n",
      "\n",
      "Resultados implementación propia: \n",
      "Promedio del error =  0.0702 \tDesviación típica =  0.1154\n",
      "\n",
      "Resultados sklearn:\n",
      "Promedio del error =  0.0701 \tDesviación típica =  0.0336\n",
      "-------------------------------------------------------------------\n",
      "K =  51\n",
      "\n",
      "Resultados implementación propia: \n",
      "Promedio del error =  0.0798 \tDesviación típica =  0.1201\n",
      "\n",
      "Resultados sklearn:\n",
      "Promedio del error =  0.0842 \tDesviación típica =  0.0251\n"
     ]
    }
   ],
   "source": [
    "dataset = Datos(\"ConjuntosDatos/wdbc.data\")\n",
    "k_values = [1, 3, 5, 11, 21, 51]\n",
    "\n",
    "for k in k_values:\n",
    "    print(\"-------------------------------------------------------------------\")\n",
    "    estrategia = ValidacionCruzada()\n",
    "    knn = ClasificadorVecinosProximos(k, normaliza=True)\n",
    "    val = knn.validacion(estrategia,dataset,knn)\n",
    "    \n",
    "    print(\"K = \", k)\n",
    "    print(\"\\nResultados implementación propia: \")\n",
    "    print(\"Promedio del error = \", round(np.array(val).mean(),4), \"\\tDesviación típica = \", round(np.array(val).std(), 4))\n",
    "\n",
    "    clf = KNeighborsClassifier(k)\n",
    "    pred_kfolds = cross_val_score(clf, dataset.datos[:,:-1], dataset.datos[:,-1] , cv = 5)\n",
    "\n",
    "    #Obtenemos el error de la media de las predicciones\n",
    "    media_error = 1 - pred_kfolds.mean()\n",
    "\n",
    "    #Obtenemos la desviacion tipica de las predicciones\n",
    "    desv_error = pred_kfolds.std()\n",
    "\n",
    "    print(\"\\nResultados sklearn:\")\n",
    "    print(\"Promedio del error = \", round(media_error,4), \"\\tDesviación típica = \", round(desv_error,4))\n",
    "\n"
   ]
  },
  {
   "cell_type": "markdown",
   "metadata": {},
   "source": [
    "### Análisis de los resultados"
   ]
  },
  {
   "cell_type": "markdown",
   "metadata": {},
   "source": [
    "Aquí va un análisis de los resultados"
   ]
  },
  {
   "cell_type": "markdown",
   "metadata": {},
   "source": [
    "### 3.1.2 Resultados de Regresión Logística\n"
   ]
  },
  {
   "cell_type": "markdown",
   "metadata": {},
   "source": [
    "### Resultados de ejecución del Ejemplo 1\n"
   ]
  },
  {
   "cell_type": "code",
   "execution_count": 34,
   "metadata": {},
   "outputs": [
    {
     "name": "stdout",
     "output_type": "stream",
     "text": [
      "-------------------------------------------------------------------\n",
      "pasos =  10 η =  1\n",
      "Resultados implementación propia:\n",
      "Promedio del error =  0.515 \tDesviación típica =  0.1994\n",
      "\n",
      "Resultados sklearn:\n",
      "Promedio del error =  0.58 \tDesviación típica =  0.031224989991991997\n",
      "-------------------------------------------------------------------\n",
      "pasos =  100 η =  1\n",
      "Resultados implementación propia:\n",
      "Promedio del error =  0.5125 \tDesviación típica =  0.2141\n",
      "\n",
      "Resultados sklearn:\n",
      "Promedio del error =  0.58 \tDesviación típica =  0.031224989991991997\n",
      "-------------------------------------------------------------------\n",
      "pasos =  10 η =  0.5\n",
      "Resultados implementación propia:\n",
      "Promedio del error =  0.5383 \tDesviación típica =  0.2306\n",
      "\n",
      "Resultados sklearn:\n",
      "Promedio del error =  0.58 \tDesviación típica =  0.031224989991991997\n",
      "-------------------------------------------------------------------\n",
      "pasos =  100 η =  0.5\n",
      "Resultados implementación propia:\n",
      "Promedio del error =  0.5287 \tDesviación típica =  0.2317\n",
      "\n",
      "Resultados sklearn:\n",
      "Promedio del error =  0.58 \tDesviación típica =  0.031224989991991997\n"
     ]
    }
   ],
   "source": [
    "dataset = Datos(\"ConjuntosDatos/example1.data\")\n",
    "pasos = [10, 100, 10, 100]\n",
    "aprend = [1, 1, 0.5, 0.5]\n",
    "X = dataset.datos[:,:-1]\n",
    "Y = dataset.datos[:,-1]\n",
    "estrategia = ValidacionCruzada()\n",
    "\n",
    "for i in range(len(pasos)):\n",
    "    reglog = ClasificadorRegresionLogistica(pasos[i], aprend[i])\n",
    "    val = reglog.validacion(estrategia,dataset,reglog)\n",
    "    print(\"-------------------------------------------------------------------\")\n",
    "    print(\"pasos = \", pasos[i], \"η = \", aprend[i])\n",
    "    print(\"Resultados implementación propia:\")\n",
    "    print(\"Promedio del error = \", round(np.array(val).mean(),4), \"\\tDesviación típica = \", round(np.array(val).std(), 4))\n",
    "    \n",
    "    clf = LogisticRegression(solver='sag', max_iter=200).fit(X, Y)\n",
    "    pred_clf = cross_val_score(clf, dataset.datos[:,:-1], dataset.datos[:,-1] , cv = 5)\n",
    "    #Obtenemos el error de la media de las predicciones\n",
    "    media_error = 1 - pred_clf.mean()\n",
    "\n",
    "    #Obtenemos la desviacion tipica de las predicciones\n",
    "    desv_error = pred_clf.std()\n",
    "    print(\"\\nResultados sklearn:\")\n",
    "    print(\"Promedio del error = \", media_error, \"\\tDesviación típica = \", desv_error)\n"
   ]
  },
  {
   "cell_type": "markdown",
   "metadata": {},
   "source": [
    "### Resultados de ejecución del Ejemplo 2"
   ]
  },
  {
   "cell_type": "code",
   "execution_count": 36,
   "metadata": {},
   "outputs": [
    {
     "name": "stdout",
     "output_type": "stream",
     "text": [
      "-------------------------------------------------------------------\n",
      "pasos =  10 η =  1\n",
      "Resultados implementación propia:\n",
      "Promedio del error =  0.0125 \tDesviación típica =  0.0913\n",
      "\n",
      "Resultados sklearn:\n",
      "Promedio del error =  0.5549999999999999 \tDesviación típica =  0.025739075352467493\n"
     ]
    },
    {
     "name": "stderr",
     "output_type": "stream",
     "text": [
      "C:\\Users\\patri\\Anaconda3\\lib\\site-packages\\sklearn\\linear_model\\sag.py:326: ConvergenceWarning: The max_iter was reached which means the coef_ did not converge\n",
      "  \"the coef_ did not converge\", ConvergenceWarning)\n"
     ]
    },
    {
     "name": "stdout",
     "output_type": "stream",
     "text": [
      "-------------------------------------------------------------------\n",
      "pasos =  100 η =  1\n",
      "Resultados implementación propia:\n",
      "Promedio del error =  0.1312 \tDesviación típica =  0.1885\n",
      "\n",
      "Resultados sklearn:\n",
      "Promedio del error =  0.5549999999999999 \tDesviación típica =  0.025739075352467493\n"
     ]
    },
    {
     "name": "stderr",
     "output_type": "stream",
     "text": [
      "C:\\Users\\patri\\Anaconda3\\lib\\site-packages\\sklearn\\linear_model\\sag.py:326: ConvergenceWarning: The max_iter was reached which means the coef_ did not converge\n",
      "  \"the coef_ did not converge\", ConvergenceWarning)\n"
     ]
    },
    {
     "name": "stdout",
     "output_type": "stream",
     "text": [
      "-------------------------------------------------------------------\n",
      "pasos =  10 η =  0.5\n",
      "Resultados implementación propia:\n",
      "Promedio del error =  0.3283 \tDesviación típica =  0.2399\n",
      "\n",
      "Resultados sklearn:\n",
      "Promedio del error =  0.5549999999999999 \tDesviación típica =  0.025739075352467493\n"
     ]
    },
    {
     "name": "stderr",
     "output_type": "stream",
     "text": [
      "C:\\Users\\patri\\Anaconda3\\lib\\site-packages\\sklearn\\linear_model\\sag.py:326: ConvergenceWarning: The max_iter was reached which means the coef_ did not converge\n",
      "  \"the coef_ did not converge\", ConvergenceWarning)\n"
     ]
    },
    {
     "name": "stdout",
     "output_type": "stream",
     "text": [
      "-------------------------------------------------------------------\n",
      "pasos =  100 η =  0.5\n",
      "Resultados implementación propia:\n",
      "Promedio del error =  0.3112 \tDesviación típica =  0.2348\n",
      "\n",
      "Resultados sklearn:\n",
      "Promedio del error =  0.5549999999999999 \tDesviación típica =  0.025739075352467493\n"
     ]
    },
    {
     "name": "stderr",
     "output_type": "stream",
     "text": [
      "C:\\Users\\patri\\Anaconda3\\lib\\site-packages\\sklearn\\linear_model\\sag.py:326: ConvergenceWarning: The max_iter was reached which means the coef_ did not converge\n",
      "  \"the coef_ did not converge\", ConvergenceWarning)\n"
     ]
    }
   ],
   "source": [
    "dataset = Datos(\"ConjuntosDatos/example2.data\")\n",
    "pasos = [10, 100, 10, 100]\n",
    "aprend = [1, 1, 0.5, 0.5]\n",
    "X = dataset.datos[:,:-1]\n",
    "Y = dataset.datos[:,-1]\n",
    "estrategia = ValidacionCruzada()\n",
    "\n",
    "for i in range(len(pasos)):\n",
    "    reglog = ClasificadorRegresionLogistica(pasos[i], aprend[i])\n",
    "    val = reglog.validacion(estrategia,dataset,reglog)\n",
    "    print(\"-------------------------------------------------------------------\")\n",
    "    print(\"pasos = \", pasos[i], \"η = \", aprend[i])\n",
    "    print(\"Resultados implementación propia:\")\n",
    "    print(\"Promedio del error = \", round(np.array(val).mean(),4), \"\\tDesviación típica = \", round(np.array(val).std(), 4))\n",
    "    \n",
    "    clf = LogisticRegression(solver='sag', max_iter=1000).fit(X, Y)\n",
    "    pred_clf = cross_val_score(clf, dataset.datos[:,:-1], dataset.datos[:,-1] , cv = 5)\n",
    "    #Obtenemos el error de la media de las predicciones\n",
    "    media_error = 1 - pred_clf.mean()\n",
    "\n",
    "    #Obtenemos la desviacion tipica de las predicciones\n",
    "    desv_error = pred_clf.std()\n",
    "    print(\"\\nResultados sklearn:\")\n",
    "    print(\"Promedio del error = \", media_error, \"\\tDesviación típica = \", desv_error)\n"
   ]
  },
  {
   "cell_type": "markdown",
   "metadata": {},
   "source": [
    "### Resultados de ejecución del Ejemplo 3"
   ]
  },
  {
   "cell_type": "code",
   "execution_count": 37,
   "metadata": {
    "scrolled": true
   },
   "outputs": [
    {
     "name": "stdout",
     "output_type": "stream",
     "text": [
      "-------------------------------------------------------------------\n",
      "pasos =  10 η =  1\n",
      "Resultados implementación propia:\n",
      "Promedio del error =  0.4775 \tDesviación típica =  0.2439\n",
      "\n",
      "Resultados sklearn:\n",
      "Promedio del error =  0.5075000000000001 \tDesviación típica =  0.02318404623873924\n",
      "-------------------------------------------------------------------\n",
      "pasos =  100 η =  1\n",
      "Resultados implementación propia:\n",
      "Promedio del error =  0.4863 \tDesviación típica =  0.2152\n",
      "\n",
      "Resultados sklearn:\n",
      "Promedio del error =  0.5075000000000001 \tDesviación típica =  0.02318404623873924\n",
      "-------------------------------------------------------------------\n",
      "pasos =  10 η =  0.5\n",
      "Resultados implementación propia:\n",
      "Promedio del error =  0.4975 \tDesviación típica =  0.2228\n",
      "\n",
      "Resultados sklearn:\n",
      "Promedio del error =  0.5075000000000001 \tDesviación típica =  0.02318404623873924\n",
      "-------------------------------------------------------------------\n",
      "pasos =  100 η =  0.5\n",
      "Resultados implementación propia:\n",
      "Promedio del error =  0.4981 \tDesviación típica =  0.2225\n",
      "\n",
      "Resultados sklearn:\n",
      "Promedio del error =  0.5075000000000001 \tDesviación típica =  0.02318404623873924\n"
     ]
    }
   ],
   "source": [
    "dataset = Datos(\"ConjuntosDatos/example3.data\")\n",
    "pasos = [10, 100, 10, 100]\n",
    "aprend = [1, 1, 0.5, 0.5]\n",
    "X = dataset.datos[:,:-1]\n",
    "Y = dataset.datos[:,-1]\n",
    "estrategia = ValidacionCruzada()\n",
    "\n",
    "for i in range(len(pasos)):\n",
    "    reglog = ClasificadorRegresionLogistica(pasos[i], aprend[i])\n",
    "    val = reglog.validacion(estrategia,dataset,reglog)\n",
    "    print(\"-------------------------------------------------------------------\")\n",
    "    print(\"pasos = \", pasos[i], \"η = \", aprend[i])\n",
    "    print(\"Resultados implementación propia:\")\n",
    "    print(\"Promedio del error = \", round(np.array(val).mean(),4), \"\\tDesviación típica = \", round(np.array(val).std(), 4))\n",
    "    \n",
    "    clf = LogisticRegression(solver='sag', max_iter=1000).fit(X, Y)\n",
    "    pred_clf = cross_val_score(clf, dataset.datos[:,:-1], dataset.datos[:,-1] , cv = 5)\n",
    "    #Obtenemos el error de la media de las predicciones\n",
    "    media_error = 1 - pred_clf.mean()\n",
    "\n",
    "    #Obtenemos la desviacion tipica de las predicciones\n",
    "    desv_error = pred_clf.std()\n",
    "    print(\"\\nResultados sklearn:\")\n",
    "    print(\"Promedio del error = \", media_error, \"\\tDesviación típica = \", desv_error)\n"
   ]
  },
  {
   "cell_type": "markdown",
   "metadata": {},
   "source": [
    "### Resultados de ejecución del Ejemplo 4"
   ]
  },
  {
   "cell_type": "code",
   "execution_count": 38,
   "metadata": {},
   "outputs": [
    {
     "name": "stdout",
     "output_type": "stream",
     "text": [
      "-------------------------------------------------------------------\n",
      "pasos =  10 η =  1\n",
      "Resultados implementación propia:\n",
      "Promedio del error =  0.47 \tDesviación típica =  0.2216\n",
      "\n",
      "Resultados sklearn:\n",
      "Promedio del error =  0.0 \tDesviación típica =  0.0\n",
      "-------------------------------------------------------------------\n",
      "pasos =  100 η =  1\n",
      "Resultados implementación propia:\n",
      "Promedio del error =  0.47 \tDesviación típica =  0.2304\n",
      "\n",
      "Resultados sklearn:\n",
      "Promedio del error =  0.0 \tDesviación típica =  0.0\n",
      "-------------------------------------------------------------------\n",
      "pasos =  10 η =  0.5\n",
      "Resultados implementación propia:\n",
      "Promedio del error =  0.47 \tDesviación típica =  0.2246\n",
      "\n",
      "Resultados sklearn:\n",
      "Promedio del error =  0.0 \tDesviación típica =  0.0\n",
      "-------------------------------------------------------------------\n",
      "pasos =  100 η =  0.5\n",
      "Resultados implementación propia:\n",
      "Promedio del error =  0.47 \tDesviación típica =  0.2238\n",
      "\n",
      "Resultados sklearn:\n",
      "Promedio del error =  0.0 \tDesviación típica =  0.0\n"
     ]
    }
   ],
   "source": [
    "dataset = Datos(\"ConjuntosDatos/example4.data\")\n",
    "pasos = [10, 100, 10, 100]\n",
    "aprend = [1, 1, 0.5, 0.5]\n",
    "X = dataset.datos[:,:-1]\n",
    "Y = dataset.datos[:,-1]\n",
    "estrategia = ValidacionCruzada()\n",
    "\n",
    "for i in range(len(pasos)):\n",
    "    reglog = ClasificadorRegresionLogistica(pasos[i], aprend[i])\n",
    "    val = reglog.validacion(estrategia,dataset,reglog)\n",
    "    print(\"-------------------------------------------------------------------\")\n",
    "    print(\"pasos = \", pasos[i], \"η = \", aprend[i])\n",
    "    print(\"Resultados implementación propia:\")\n",
    "    print(\"Promedio del error = \", round(np.array(val).mean(),4), \"\\tDesviación típica = \", round(np.array(val).std(), 4))\n",
    "    \n",
    "    clf = LogisticRegression(solver='sag', max_iter=1000).fit(X, Y)\n",
    "    pred_clf = cross_val_score(clf, dataset.datos[:,:-1], dataset.datos[:,-1] , cv = 5)\n",
    "    #Obtenemos el error de la media de las predicciones\n",
    "    media_error = 1 - pred_clf.mean()\n",
    "\n",
    "    #Obtenemos la desviacion tipica de las predicciones\n",
    "    desv_error = pred_clf.std()\n",
    "    print(\"\\nResultados sklearn:\")\n",
    "    print(\"Promedio del error = \", media_error, \"\\tDesviación típica = \", desv_error)\n"
   ]
  },
  {
   "cell_type": "markdown",
   "metadata": {},
   "source": [
    "### Resultados de ejecución de wdbc"
   ]
  },
  {
   "cell_type": "code",
   "execution_count": 39,
   "metadata": {},
   "outputs": [
    {
     "name": "stdout",
     "output_type": "stream",
     "text": [
      "-------------------------------------------------------------------\n",
      "pasos =  10 η =  1\n",
      "Resultados implementación propia:\n",
      "Promedio del error =  0.3728 \tDesviación típica =  0.2036\n"
     ]
    },
    {
     "name": "stderr",
     "output_type": "stream",
     "text": [
      "C:\\Users\\patri\\Anaconda3\\lib\\site-packages\\sklearn\\linear_model\\sag.py:326: ConvergenceWarning: The max_iter was reached which means the coef_ did not converge\n",
      "  \"the coef_ did not converge\", ConvergenceWarning)\n",
      "C:\\Users\\patri\\Anaconda3\\lib\\site-packages\\sklearn\\linear_model\\sag.py:326: ConvergenceWarning: The max_iter was reached which means the coef_ did not converge\n",
      "  \"the coef_ did not converge\", ConvergenceWarning)\n",
      "C:\\Users\\patri\\Anaconda3\\lib\\site-packages\\sklearn\\linear_model\\sag.py:326: ConvergenceWarning: The max_iter was reached which means the coef_ did not converge\n",
      "  \"the coef_ did not converge\", ConvergenceWarning)\n",
      "C:\\Users\\patri\\Anaconda3\\lib\\site-packages\\sklearn\\linear_model\\sag.py:326: ConvergenceWarning: The max_iter was reached which means the coef_ did not converge\n",
      "  \"the coef_ did not converge\", ConvergenceWarning)\n",
      "C:\\Users\\patri\\Anaconda3\\lib\\site-packages\\sklearn\\linear_model\\sag.py:326: ConvergenceWarning: The max_iter was reached which means the coef_ did not converge\n",
      "  \"the coef_ did not converge\", ConvergenceWarning)\n",
      "C:\\Users\\patri\\Anaconda3\\lib\\site-packages\\sklearn\\linear_model\\sag.py:326: ConvergenceWarning: The max_iter was reached which means the coef_ did not converge\n",
      "  \"the coef_ did not converge\", ConvergenceWarning)\n"
     ]
    },
    {
     "name": "stdout",
     "output_type": "stream",
     "text": [
      "\n",
      "Resultados sklearn:\n",
      "Promedio del error =  0.07906117737591367 \tDesviación típica =  0.02000358675666642\n",
      "-------------------------------------------------------------------\n",
      "pasos =  100 η =  1\n",
      "Resultados implementación propia:\n",
      "Promedio del error =  0.3724 \tDesviación típica =  0.2271\n"
     ]
    },
    {
     "name": "stderr",
     "output_type": "stream",
     "text": [
      "C:\\Users\\patri\\Anaconda3\\lib\\site-packages\\sklearn\\linear_model\\sag.py:326: ConvergenceWarning: The max_iter was reached which means the coef_ did not converge\n",
      "  \"the coef_ did not converge\", ConvergenceWarning)\n",
      "C:\\Users\\patri\\Anaconda3\\lib\\site-packages\\sklearn\\linear_model\\sag.py:326: ConvergenceWarning: The max_iter was reached which means the coef_ did not converge\n",
      "  \"the coef_ did not converge\", ConvergenceWarning)\n",
      "C:\\Users\\patri\\Anaconda3\\lib\\site-packages\\sklearn\\linear_model\\sag.py:326: ConvergenceWarning: The max_iter was reached which means the coef_ did not converge\n",
      "  \"the coef_ did not converge\", ConvergenceWarning)\n",
      "C:\\Users\\patri\\Anaconda3\\lib\\site-packages\\sklearn\\linear_model\\sag.py:326: ConvergenceWarning: The max_iter was reached which means the coef_ did not converge\n",
      "  \"the coef_ did not converge\", ConvergenceWarning)\n",
      "C:\\Users\\patri\\Anaconda3\\lib\\site-packages\\sklearn\\linear_model\\sag.py:326: ConvergenceWarning: The max_iter was reached which means the coef_ did not converge\n",
      "  \"the coef_ did not converge\", ConvergenceWarning)\n"
     ]
    },
    {
     "name": "stdout",
     "output_type": "stream",
     "text": [
      "\n",
      "Resultados sklearn:\n",
      "Promedio del error =  0.07906117737591367 \tDesviación típica =  0.02000358675666642\n",
      "-------------------------------------------------------------------\n",
      "pasos =  10 η =  0.5\n",
      "Resultados implementación propia:\n",
      "Promedio del error =  0.3724 \tDesviación típica =  0.2139\n"
     ]
    },
    {
     "name": "stderr",
     "output_type": "stream",
     "text": [
      "C:\\Users\\patri\\Anaconda3\\lib\\site-packages\\sklearn\\linear_model\\sag.py:326: ConvergenceWarning: The max_iter was reached which means the coef_ did not converge\n",
      "  \"the coef_ did not converge\", ConvergenceWarning)\n",
      "C:\\Users\\patri\\Anaconda3\\lib\\site-packages\\sklearn\\linear_model\\sag.py:326: ConvergenceWarning: The max_iter was reached which means the coef_ did not converge\n",
      "  \"the coef_ did not converge\", ConvergenceWarning)\n",
      "C:\\Users\\patri\\Anaconda3\\lib\\site-packages\\sklearn\\linear_model\\sag.py:326: ConvergenceWarning: The max_iter was reached which means the coef_ did not converge\n",
      "  \"the coef_ did not converge\", ConvergenceWarning)\n",
      "C:\\Users\\patri\\Anaconda3\\lib\\site-packages\\sklearn\\linear_model\\sag.py:326: ConvergenceWarning: The max_iter was reached which means the coef_ did not converge\n",
      "  \"the coef_ did not converge\", ConvergenceWarning)\n",
      "C:\\Users\\patri\\Anaconda3\\lib\\site-packages\\sklearn\\linear_model\\sag.py:326: ConvergenceWarning: The max_iter was reached which means the coef_ did not converge\n",
      "  \"the coef_ did not converge\", ConvergenceWarning)\n"
     ]
    },
    {
     "name": "stdout",
     "output_type": "stream",
     "text": [
      "\n",
      "Resultados sklearn:\n",
      "Promedio del error =  0.07906117737591367 \tDesviación típica =  0.02000358675666642\n",
      "-------------------------------------------------------------------\n",
      "pasos =  100 η =  0.5\n",
      "Resultados implementación propia:\n",
      "Promedio del error =  0.3726 \tDesviación típica =  0.2155\n"
     ]
    },
    {
     "name": "stderr",
     "output_type": "stream",
     "text": [
      "C:\\Users\\patri\\Anaconda3\\lib\\site-packages\\sklearn\\linear_model\\sag.py:326: ConvergenceWarning: The max_iter was reached which means the coef_ did not converge\n",
      "  \"the coef_ did not converge\", ConvergenceWarning)\n",
      "C:\\Users\\patri\\Anaconda3\\lib\\site-packages\\sklearn\\linear_model\\sag.py:326: ConvergenceWarning: The max_iter was reached which means the coef_ did not converge\n",
      "  \"the coef_ did not converge\", ConvergenceWarning)\n",
      "C:\\Users\\patri\\Anaconda3\\lib\\site-packages\\sklearn\\linear_model\\sag.py:326: ConvergenceWarning: The max_iter was reached which means the coef_ did not converge\n",
      "  \"the coef_ did not converge\", ConvergenceWarning)\n",
      "C:\\Users\\patri\\Anaconda3\\lib\\site-packages\\sklearn\\linear_model\\sag.py:326: ConvergenceWarning: The max_iter was reached which means the coef_ did not converge\n",
      "  \"the coef_ did not converge\", ConvergenceWarning)\n"
     ]
    },
    {
     "name": "stdout",
     "output_type": "stream",
     "text": [
      "\n",
      "Resultados sklearn:\n",
      "Promedio del error =  0.07906117737591367 \tDesviación típica =  0.02000358675666642\n"
     ]
    },
    {
     "name": "stderr",
     "output_type": "stream",
     "text": [
      "C:\\Users\\patri\\Anaconda3\\lib\\site-packages\\sklearn\\linear_model\\sag.py:326: ConvergenceWarning: The max_iter was reached which means the coef_ did not converge\n",
      "  \"the coef_ did not converge\", ConvergenceWarning)\n"
     ]
    }
   ],
   "source": [
    "dataset = Datos(\"ConjuntosDatos/wdbc.data\")\n",
    "pasos = [10, 100, 10, 100]\n",
    "aprend = [1, 1, 0.5, 0.5]\n",
    "X = dataset.datos[:,:-1]\n",
    "Y = dataset.datos[:,-1]\n",
    "estrategia = ValidacionCruzada()\n",
    "\n",
    "for i in range(len(pasos)):\n",
    "    reglog = ClasificadorRegresionLogistica(pasos[i], aprend[i])\n",
    "    val = reglog.validacion(estrategia,dataset,reglog)\n",
    "    print(\"-------------------------------------------------------------------\")\n",
    "    print(\"pasos = \", pasos[i], \"η = \", aprend[i])\n",
    "    print(\"Resultados implementación propia:\")\n",
    "    print(\"Promedio del error = \", round(np.array(val).mean(),4), \"\\tDesviación típica = \", round(np.array(val).std(), 4))\n",
    "    \n",
    "    clf = LogisticRegression(solver='sag', max_iter=1000).fit(X, Y)\n",
    "    pred_clf = cross_val_score(clf, dataset.datos[:,:-1], dataset.datos[:,-1] , cv = 5)\n",
    "    #Obtenemos el error de la media de las predicciones\n",
    "    media_error = 1 - pred_clf.mean()\n",
    "\n",
    "    #Obtenemos la desviacion tipica de las predicciones\n",
    "    desv_error = pred_clf.std()\n",
    "    print(\"\\nResultados sklearn:\")\n",
    "    print(\"Promedio del error = \", media_error, \"\\tDesviación típica = \", desv_error)\n"
   ]
  },
  {
   "cell_type": "markdown",
   "metadata": {},
   "source": [
    "#### η = 1, pasos = 10"
   ]
  },
  {
   "cell_type": "code",
   "execution_count": null,
   "metadata": {},
   "outputs": [],
   "source": []
  },
  {
   "cell_type": "markdown",
   "metadata": {},
   "source": [
    "#### η = 1, pasos = 100"
   ]
  },
  {
   "cell_type": "code",
   "execution_count": null,
   "metadata": {},
   "outputs": [],
   "source": []
  },
  {
   "cell_type": "markdown",
   "metadata": {},
   "source": [
    "#### η = 0'5, pasos = 10"
   ]
  },
  {
   "cell_type": "code",
   "execution_count": null,
   "metadata": {},
   "outputs": [],
   "source": []
  },
  {
   "cell_type": "markdown",
   "metadata": {},
   "source": [
    "#### η = 0'5, pasos = 100"
   ]
  },
  {
   "cell_type": "code",
   "execution_count": null,
   "metadata": {},
   "outputs": [],
   "source": []
  },
  {
   "cell_type": "markdown",
   "metadata": {},
   "source": [
    "### Análisis de los resultados"
   ]
  },
  {
   "cell_type": "code",
   "execution_count": null,
   "metadata": {},
   "outputs": [],
   "source": []
  },
  {
   "cell_type": "markdown",
   "metadata": {},
   "source": [
    "## 3.2 Representación gráfica"
   ]
  },
  {
   "cell_type": "markdown",
   "metadata": {},
   "source": [
    "## Vecinos próximos"
   ]
  },
  {
   "cell_type": "markdown",
   "metadata": {},
   "source": [
    "### Representación de los resultados de ejecución del ejemplo 1"
   ]
  },
  {
   "cell_type": "code",
   "execution_count": null,
   "metadata": {},
   "outputs": [],
   "source": [
    "dataset = Datos(\"ConjuntosDatos/example1.data\")"
   ]
  },
  {
   "cell_type": "markdown",
   "metadata": {},
   "source": [
    "#### K = 1"
   ]
  },
  {
   "cell_type": "code",
   "execution_count": null,
   "metadata": {},
   "outputs": [],
   "source": []
  },
  {
   "cell_type": "markdown",
   "metadata": {},
   "source": [
    "#### K = 3"
   ]
  },
  {
   "cell_type": "code",
   "execution_count": null,
   "metadata": {},
   "outputs": [],
   "source": []
  },
  {
   "cell_type": "markdown",
   "metadata": {},
   "source": [
    "#### K = 5"
   ]
  },
  {
   "cell_type": "code",
   "execution_count": null,
   "metadata": {},
   "outputs": [],
   "source": []
  },
  {
   "cell_type": "markdown",
   "metadata": {},
   "source": [
    "#### K = 11"
   ]
  },
  {
   "cell_type": "code",
   "execution_count": null,
   "metadata": {},
   "outputs": [],
   "source": []
  },
  {
   "cell_type": "markdown",
   "metadata": {},
   "source": [
    "#### K = 21"
   ]
  },
  {
   "cell_type": "code",
   "execution_count": null,
   "metadata": {},
   "outputs": [],
   "source": []
  },
  {
   "cell_type": "markdown",
   "metadata": {},
   "source": [
    "#### K = 51"
   ]
  },
  {
   "cell_type": "code",
   "execution_count": null,
   "metadata": {},
   "outputs": [],
   "source": []
  },
  {
   "cell_type": "markdown",
   "metadata": {},
   "source": [
    "### Representación de los resultados de ejecución del ejemplo 2"
   ]
  },
  {
   "cell_type": "code",
   "execution_count": null,
   "metadata": {},
   "outputs": [],
   "source": [
    "dataset = Datos(\"ConjuntosDatos/example2.data\")"
   ]
  },
  {
   "cell_type": "markdown",
   "metadata": {},
   "source": [
    "#### K = 1"
   ]
  },
  {
   "cell_type": "code",
   "execution_count": null,
   "metadata": {},
   "outputs": [],
   "source": []
  },
  {
   "cell_type": "markdown",
   "metadata": {},
   "source": [
    "#### K = 3"
   ]
  },
  {
   "cell_type": "code",
   "execution_count": null,
   "metadata": {},
   "outputs": [],
   "source": []
  },
  {
   "cell_type": "markdown",
   "metadata": {},
   "source": [
    "#### K = 5"
   ]
  },
  {
   "cell_type": "code",
   "execution_count": null,
   "metadata": {},
   "outputs": [],
   "source": []
  },
  {
   "cell_type": "markdown",
   "metadata": {},
   "source": [
    "#### K = 11"
   ]
  },
  {
   "cell_type": "code",
   "execution_count": null,
   "metadata": {},
   "outputs": [],
   "source": []
  },
  {
   "cell_type": "markdown",
   "metadata": {},
   "source": [
    "#### K = 21"
   ]
  },
  {
   "cell_type": "code",
   "execution_count": null,
   "metadata": {},
   "outputs": [],
   "source": []
  },
  {
   "cell_type": "markdown",
   "metadata": {},
   "source": [
    "#### K = 51"
   ]
  },
  {
   "cell_type": "code",
   "execution_count": null,
   "metadata": {},
   "outputs": [],
   "source": []
  },
  {
   "cell_type": "markdown",
   "metadata": {},
   "source": [
    "### Representación de los resultados de ejecución del ejemplo 3"
   ]
  },
  {
   "cell_type": "code",
   "execution_count": null,
   "metadata": {},
   "outputs": [],
   "source": [
    "dataset = Datos(\"ConjuntosDatos/example3.data\")"
   ]
  },
  {
   "cell_type": "markdown",
   "metadata": {},
   "source": [
    "#### K = 1"
   ]
  },
  {
   "cell_type": "code",
   "execution_count": null,
   "metadata": {},
   "outputs": [],
   "source": []
  },
  {
   "cell_type": "markdown",
   "metadata": {},
   "source": [
    "#### K = 3"
   ]
  },
  {
   "cell_type": "code",
   "execution_count": null,
   "metadata": {},
   "outputs": [],
   "source": []
  },
  {
   "cell_type": "markdown",
   "metadata": {},
   "source": [
    "#### K = 5"
   ]
  },
  {
   "cell_type": "code",
   "execution_count": null,
   "metadata": {},
   "outputs": [],
   "source": []
  },
  {
   "cell_type": "markdown",
   "metadata": {},
   "source": [
    "#### K = 11"
   ]
  },
  {
   "cell_type": "code",
   "execution_count": null,
   "metadata": {},
   "outputs": [],
   "source": []
  },
  {
   "cell_type": "markdown",
   "metadata": {},
   "source": [
    "#### K = 21"
   ]
  },
  {
   "cell_type": "code",
   "execution_count": null,
   "metadata": {},
   "outputs": [],
   "source": []
  },
  {
   "cell_type": "markdown",
   "metadata": {},
   "source": [
    "#### K = 51"
   ]
  },
  {
   "cell_type": "code",
   "execution_count": null,
   "metadata": {},
   "outputs": [],
   "source": []
  },
  {
   "cell_type": "markdown",
   "metadata": {},
   "source": [
    "### Representación de los resultados de ejecución del ejemplo 4"
   ]
  },
  {
   "cell_type": "code",
   "execution_count": null,
   "metadata": {},
   "outputs": [],
   "source": [
    "dataset = Datos(\"ConjuntosDatos/example4.data\")"
   ]
  },
  {
   "cell_type": "markdown",
   "metadata": {},
   "source": [
    "#### K = 1"
   ]
  },
  {
   "cell_type": "code",
   "execution_count": null,
   "metadata": {},
   "outputs": [],
   "source": []
  },
  {
   "cell_type": "markdown",
   "metadata": {},
   "source": [
    "#### K = 3"
   ]
  },
  {
   "cell_type": "code",
   "execution_count": null,
   "metadata": {},
   "outputs": [],
   "source": []
  },
  {
   "cell_type": "markdown",
   "metadata": {},
   "source": [
    "#### K = 5"
   ]
  },
  {
   "cell_type": "code",
   "execution_count": null,
   "metadata": {},
   "outputs": [],
   "source": []
  },
  {
   "cell_type": "markdown",
   "metadata": {},
   "source": [
    "#### K = 11"
   ]
  },
  {
   "cell_type": "code",
   "execution_count": null,
   "metadata": {},
   "outputs": [],
   "source": []
  },
  {
   "cell_type": "markdown",
   "metadata": {},
   "source": [
    "#### K = 21"
   ]
  },
  {
   "cell_type": "code",
   "execution_count": null,
   "metadata": {},
   "outputs": [],
   "source": []
  },
  {
   "cell_type": "markdown",
   "metadata": {},
   "source": [
    "#### K = 51"
   ]
  },
  {
   "cell_type": "code",
   "execution_count": null,
   "metadata": {},
   "outputs": [],
   "source": []
  },
  {
   "cell_type": "markdown",
   "metadata": {},
   "source": [
    "## Regresión Logística"
   ]
  },
  {
   "cell_type": "markdown",
   "metadata": {},
   "source": [
    "### Representación de los resultados de ejecución del ejemplo 1"
   ]
  },
  {
   "cell_type": "code",
   "execution_count": null,
   "metadata": {},
   "outputs": [],
   "source": [
    "dataset = Datos(\"ConjuntosDatos/example1.data\")"
   ]
  },
  {
   "cell_type": "markdown",
   "metadata": {},
   "source": [
    "#### η = 1, pasos = 10"
   ]
  },
  {
   "cell_type": "code",
   "execution_count": null,
   "metadata": {},
   "outputs": [],
   "source": []
  },
  {
   "cell_type": "markdown",
   "metadata": {},
   "source": [
    "#### η = 1, pasos = 100"
   ]
  },
  {
   "cell_type": "code",
   "execution_count": null,
   "metadata": {},
   "outputs": [],
   "source": []
  },
  {
   "cell_type": "markdown",
   "metadata": {},
   "source": [
    "#### η = 0'5, pasos = 10"
   ]
  },
  {
   "cell_type": "code",
   "execution_count": null,
   "metadata": {},
   "outputs": [],
   "source": []
  },
  {
   "cell_type": "markdown",
   "metadata": {},
   "source": [
    "#### η = 0'5, pasos = 100"
   ]
  },
  {
   "cell_type": "code",
   "execution_count": null,
   "metadata": {},
   "outputs": [],
   "source": []
  },
  {
   "cell_type": "markdown",
   "metadata": {},
   "source": [
    "### Representación de los resultados de ejecución del ejemplo 2"
   ]
  },
  {
   "cell_type": "code",
   "execution_count": null,
   "metadata": {},
   "outputs": [],
   "source": [
    "dataset = Datos(\"ConjuntosDatos/example2.data\")"
   ]
  },
  {
   "cell_type": "markdown",
   "metadata": {},
   "source": [
    "#### η = 1, pasos = 10"
   ]
  },
  {
   "cell_type": "code",
   "execution_count": null,
   "metadata": {},
   "outputs": [],
   "source": []
  },
  {
   "cell_type": "markdown",
   "metadata": {},
   "source": [
    "#### η = 1, pasos = 100"
   ]
  },
  {
   "cell_type": "code",
   "execution_count": null,
   "metadata": {},
   "outputs": [],
   "source": []
  },
  {
   "cell_type": "markdown",
   "metadata": {},
   "source": [
    "#### η = 0'5, pasos = 10"
   ]
  },
  {
   "cell_type": "code",
   "execution_count": null,
   "metadata": {},
   "outputs": [],
   "source": []
  },
  {
   "cell_type": "markdown",
   "metadata": {},
   "source": [
    "#### η = 0'5, pasos = 100"
   ]
  },
  {
   "cell_type": "code",
   "execution_count": null,
   "metadata": {},
   "outputs": [],
   "source": []
  },
  {
   "cell_type": "markdown",
   "metadata": {},
   "source": [
    "### Representación de los resultados de ejecución del ejemplo 3"
   ]
  },
  {
   "cell_type": "code",
   "execution_count": null,
   "metadata": {},
   "outputs": [],
   "source": [
    "dataset = Datos(\"ConjuntosDatos/example3.data\")"
   ]
  },
  {
   "cell_type": "markdown",
   "metadata": {},
   "source": [
    "#### η = 1, pasos = 10"
   ]
  },
  {
   "cell_type": "code",
   "execution_count": null,
   "metadata": {},
   "outputs": [],
   "source": []
  },
  {
   "cell_type": "markdown",
   "metadata": {},
   "source": [
    "#### η = 1, pasos = 100"
   ]
  },
  {
   "cell_type": "code",
   "execution_count": null,
   "metadata": {},
   "outputs": [],
   "source": []
  },
  {
   "cell_type": "markdown",
   "metadata": {},
   "source": [
    "#### η = 0'5, pasos = 10"
   ]
  },
  {
   "cell_type": "code",
   "execution_count": null,
   "metadata": {},
   "outputs": [],
   "source": []
  },
  {
   "cell_type": "markdown",
   "metadata": {},
   "source": [
    "#### η = 0'5, pasos = 100"
   ]
  },
  {
   "cell_type": "code",
   "execution_count": null,
   "metadata": {},
   "outputs": [],
   "source": []
  },
  {
   "cell_type": "markdown",
   "metadata": {},
   "source": [
    "### Representación de los resultados de ejecución del ejemplo 4"
   ]
  },
  {
   "cell_type": "code",
   "execution_count": null,
   "metadata": {},
   "outputs": [],
   "source": [
    "dataset = Datos(\"ConjuntosDatos/example4.data\")"
   ]
  },
  {
   "cell_type": "markdown",
   "metadata": {},
   "source": [
    "#### η = 1, pasos = 10"
   ]
  },
  {
   "cell_type": "code",
   "execution_count": null,
   "metadata": {},
   "outputs": [],
   "source": []
  },
  {
   "cell_type": "markdown",
   "metadata": {},
   "source": [
    "#### η = 1, pasos = 100"
   ]
  },
  {
   "cell_type": "code",
   "execution_count": null,
   "metadata": {},
   "outputs": [],
   "source": []
  },
  {
   "cell_type": "markdown",
   "metadata": {},
   "source": [
    "#### η = 0'5, pasos = 10"
   ]
  },
  {
   "cell_type": "code",
   "execution_count": null,
   "metadata": {},
   "outputs": [],
   "source": []
  },
  {
   "cell_type": "markdown",
   "metadata": {},
   "source": [
    "#### η = 0'5, pasos = 100"
   ]
  },
  {
   "cell_type": "code",
   "execution_count": null,
   "metadata": {},
   "outputs": [],
   "source": []
  },
  {
   "cell_type": "markdown",
   "metadata": {},
   "source": [
    "# Conclusiones"
   ]
  },
  {
   "cell_type": "markdown",
   "metadata": {},
   "source": []
  }
 ],
 "metadata": {
  "kernelspec": {
   "display_name": "Python 3",
   "language": "python",
   "name": "python3"
  },
  "language_info": {
   "codemirror_mode": {
    "name": "ipython",
    "version": 3
   },
   "file_extension": ".py",
   "mimetype": "text/x-python",
   "name": "python",
   "nbconvert_exporter": "python",
   "pygments_lexer": "ipython3",
   "version": "3.6.5"
  }
 },
 "nbformat": 4,
 "nbformat_minor": 2
}

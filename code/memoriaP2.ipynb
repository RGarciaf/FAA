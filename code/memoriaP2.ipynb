{
 "cells": [
  {
   "cell_type": "markdown",
   "metadata": {},
   "source": [
    "# Memoria Práctica 2"
   ]
  },
  {
   "cell_type": "markdown",
   "metadata": {},
   "source": [
    "Autores: Román García y Patricia Losana"
   ]
  },
  {
   "cell_type": "code",
   "execution_count": 57,
   "metadata": {
    "collapsed": true
   },
   "outputs": [],
   "source": [
    "from Datos import Datos\n",
    "from EstrategiaParticionado import *\n",
    "from Clasificador import *\n",
    "from Roc import *\n",
    "import numpy as np\n",
    "from sklearn import preprocessing \n",
    "from sklearn.neighbors import KNeighborsClassifier\n",
    "from sklearn.linear_model import LogisticRegression\n",
    "from sklearn.model_selection import cross_val_score\n",
    "from sklearn.model_selection import train_test_split\n",
    "import pprint\n",
    "import matplotlib.pyplot as plt\n",
    "from itertools import cycle\n",
    "from sklearn.metrics import accuracy_score"
   ]
  },
  {
   "cell_type": "markdown",
   "metadata": {},
   "source": [
    "## 1. Vecinos Próximos"
   ]
  },
  {
   "cell_type": "markdown",
   "metadata": {},
   "source": [
    "### 1.1 Resultados de ejecución del ejemplo 1"
   ]
  },
  {
   "cell_type": "code",
   "execution_count": 71,
   "metadata": {
    "collapsed": true
   },
   "outputs": [],
   "source": [
    "dataset = Datos(\"ConjuntosDatos/example1.data\")"
   ]
  },
  {
   "cell_type": "markdown",
   "metadata": {},
   "source": [
    "#### K = 1"
   ]
  },
  {
   "cell_type": "code",
   "execution_count": null,
   "metadata": {
    "collapsed": true
   },
   "outputs": [],
   "source": [
    "k = 1\n",
    "\n",
    "estrategia = ValidacionCruzada()\n",
    "knn = ClasificadorVecinosProximos(k, normaliza=False)\n",
    "val = knn.validacion(estrategia,dataset,knn)\n",
    "\n",
    "print(\"Datos sin normalizar: \")\n",
    "print(\"Promedio del error = \", np.array(val).mean(), \"\\tDesviación típica = \", np.array(val).std())\n",
    "\n",
    "knn = ClasificadorVecinosProximos(k, normaliza=True)\n",
    "val = knn.validacion(estrategia,dataset,knn)\n",
    "\n",
    "\n",
    "print(\"Datos normalizados:\")\n",
    "print(\"Promedio del error = \", np.array(val).mean(), \"\\tDesviación típica = \", np.array(val).std())"
   ]
  },
  {
   "cell_type": "markdown",
   "metadata": {},
   "source": [
    "#### K = 3"
   ]
  },
  {
   "cell_type": "code",
   "execution_count": null,
   "metadata": {
    "collapsed": true
   },
   "outputs": [],
   "source": [
    "k = 3\n",
    "\n",
    "estrategia = ValidacionCruzada()\n",
    "knn = ClasificadorVecinosProximos(k, normaliza=False)\n",
    "val = knn.validacion(estrategia,dataset,knn)\n",
    "\n",
    "print(\"Datos sin normalizar: \")\n",
    "print(\"Promedio del error = \", np.array(val).mean(), \"\\tDesviación típica = \", np.array(val).std())\n",
    "\n",
    "knn = ClasificadorVecinosProximos(k, normaliza=True)\n",
    "val = knn.validacion(estrategia,dataset,knn)\n",
    "\n",
    "\n",
    "print(\"Datos normalizados:\")\n",
    "print(\"Promedio del error = \", np.array(val).mean(), \"\\tDesviación típica = \", np.array(val).std())"
   ]
  },
  {
   "cell_type": "markdown",
   "metadata": {},
   "source": [
    "#### K = 5"
   ]
  },
  {
   "cell_type": "code",
   "execution_count": null,
   "metadata": {
    "collapsed": true
   },
   "outputs": [],
   "source": [
    "k = 5\n",
    "\n",
    "estrategia = ValidacionCruzada()\n",
    "knn = ClasificadorVecinosProximos(k, normaliza=False)\n",
    "val = knn.validacion(estrategia,dataset,knn)\n",
    "\n",
    "print(\"Datos sin normalizar: \")\n",
    "print(\"Promedio del error = \", np.array(val).mean(), \"\\tDesviación típica = \", np.array(val).std())\n",
    "\n",
    "knn = ClasificadorVecinosProximos(k, normaliza=True)\n",
    "val = knn.validacion(estrategia,dataset,knn)\n",
    "\n",
    "\n",
    "print(\"Datos normalizados:\")\n",
    "print(\"Promedio del error = \", np.array(val).mean(), \"\\tDesviación típica = \", np.array(val).std())"
   ]
  },
  {
   "cell_type": "markdown",
   "metadata": {},
   "source": [
    "#### K = 11"
   ]
  },
  {
   "cell_type": "code",
   "execution_count": null,
   "metadata": {
    "collapsed": true
   },
   "outputs": [],
   "source": [
    "k = 11\n",
    "\n",
    "estrategia = ValidacionCruzada()\n",
    "knn = ClasificadorVecinosProximos(k, normaliza=False)\n",
    "val = knn.validacion(estrategia,dataset,knn)\n",
    "\n",
    "print(\"Datos sin normalizar: \")\n",
    "print(\"Promedio del error = \", np.array(val).mean(), \"\\tDesviación típica = \", np.array(val).std())\n",
    "\n",
    "knn = ClasificadorVecinosProximos(k, normaliza=True)\n",
    "val = knn.validacion(estrategia,dataset,knn)\n",
    "\n",
    "\n",
    "print(\"Datos normalizados:\")\n",
    "print(\"Promedio del error = \", np.array(val).mean(), \"\\tDesviación típica = \", np.array(val).std())"
   ]
  },
  {
   "cell_type": "markdown",
   "metadata": {},
   "source": [
    "#### K = 21"
   ]
  },
  {
   "cell_type": "code",
   "execution_count": null,
   "metadata": {
    "collapsed": true
   },
   "outputs": [],
   "source": [
    "k = 21\n",
    "\n",
    "estrategia = ValidacionCruzada()\n",
    "knn = ClasificadorVecinosProximos(k, normaliza=False)\n",
    "val = knn.validacion(estrategia,dataset,knn)\n",
    "\n",
    "print(\"Datos sin normalizar: \")\n",
    "print(\"Promedio del error = \", np.array(val).mean(), \"\\tDesviación típica = \", np.array(val).std())\n",
    "\n",
    "knn = ClasificadorVecinosProximos(k, normaliza=True)\n",
    "val = knn.validacion(estrategia,dataset,knn)\n",
    "\n",
    "\n",
    "print(\"Datos normalizados:\")\n",
    "print(\"Promedio del error = \", np.array(val).mean(), \"\\tDesviación típica = \", np.array(val).std())"
   ]
  },
  {
   "cell_type": "markdown",
   "metadata": {},
   "source": [
    "#### K = 51"
   ]
  },
  {
   "cell_type": "code",
   "execution_count": null,
   "metadata": {
    "collapsed": true
   },
   "outputs": [],
   "source": [
    "k = 51\n",
    "\n",
    "estrategia = ValidacionCruzada()\n",
    "knn = ClasificadorVecinosProximos(k, normaliza=False)\n",
    "val = knn.validacion(estrategia,dataset,knn)\n",
    "\n",
    "print(\"Datos sin normalizar: \")\n",
    "print(\"Promedio del error = \", np.array(val).mean(), \"\\tDesviación típica = \", np.array(val).std())\n",
    "\n",
    "knn = ClasificadorVecinosProximos(k, normaliza=True)\n",
    "val = knn.validacion(estrategia,dataset,knn)\n",
    "\n",
    "\n",
    "print(\"Datos normalizados:\")\n",
    "print(\"Promedio del error = \", np.array(val).mean(), \"\\tDesviación típica = \", np.array(val).std())"
   ]
  },
  {
   "cell_type": "markdown",
   "metadata": {},
   "source": [
    "### 1.2 Resultados de ejecución del ejemplo 2"
   ]
  },
  {
   "cell_type": "code",
   "execution_count": null,
   "metadata": {
    "collapsed": true
   },
   "outputs": [],
   "source": [
    "dataset = Datos(\"ConjuntosDatos/example2.data\")"
   ]
  },
  {
   "cell_type": "markdown",
   "metadata": {},
   "source": [
    "#### K = 1"
   ]
  },
  {
   "cell_type": "code",
   "execution_count": null,
   "metadata": {
    "collapsed": true
   },
   "outputs": [],
   "source": [
    "k = 1\n",
    "\n",
    "estrategia = ValidacionCruzada()\n",
    "knn = ClasificadorVecinosProximos(k, normaliza=False)\n",
    "val = knn.validacion(estrategia,dataset,knn)\n",
    "\n",
    "print(\"Datos sin normalizar: \")\n",
    "print(\"Promedio del error = \", np.array(val).mean(), \"\\tDesviación típica = \", np.array(val).std())\n",
    "\n",
    "knn = ClasificadorVecinosProximos(k, normaliza=True)\n",
    "val = knn.validacion(estrategia,dataset,knn)\n",
    "\n",
    "\n",
    "print(\"Datos normalizados:\")\n",
    "print(\"Promedio del error = \", np.array(val).mean(), \"\\tDesviación típica = \", np.array(val).std())"
   ]
  },
  {
   "cell_type": "markdown",
   "metadata": {},
   "source": [
    "#### K = 3"
   ]
  },
  {
   "cell_type": "code",
   "execution_count": null,
   "metadata": {
    "collapsed": true
   },
   "outputs": [],
   "source": [
    "k = 3\n",
    "\n",
    "estrategia = ValidacionCruzada()\n",
    "knn = ClasificadorVecinosProximos(k, normaliza=False)\n",
    "val = knn.validacion(estrategia,dataset,knn)\n",
    "\n",
    "print(\"Datos sin normalizar: \")\n",
    "print(\"Promedio del error = \", np.array(val).mean(), \"\\tDesviación típica = \", np.array(val).std())\n",
    "\n",
    "knn = ClasificadorVecinosProximos(k, normaliza=True)\n",
    "val = knn.validacion(estrategia,dataset,knn)\n",
    "\n",
    "\n",
    "print(\"Datos normalizados:\")\n",
    "print(\"Promedio del error = \", np.array(val).mean(), \"\\tDesviación típica = \", np.array(val).std())"
   ]
  },
  {
   "cell_type": "markdown",
   "metadata": {},
   "source": [
    "#### K = 5"
   ]
  },
  {
   "cell_type": "code",
   "execution_count": null,
   "metadata": {
    "collapsed": true
   },
   "outputs": [],
   "source": [
    "k = 5\n",
    "\n",
    "estrategia = ValidacionCruzada()\n",
    "knn = ClasificadorVecinosProximos(k, normaliza=False)\n",
    "val = knn.validacion(estrategia,dataset,knn)\n",
    "\n",
    "print(\"Datos sin normalizar: \")\n",
    "print(\"Promedio del error = \", np.array(val).mean(), \"\\tDesviación típica = \", np.array(val).std())\n",
    "\n",
    "knn = ClasificadorVecinosProximos(k, normaliza=True)\n",
    "val = knn.validacion(estrategia,dataset,knn)\n",
    "\n",
    "\n",
    "print(\"Datos normalizados:\")\n",
    "print(\"Promedio del error = \", np.array(val).mean(), \"\\tDesviación típica = \", np.array(val).std())"
   ]
  },
  {
   "cell_type": "markdown",
   "metadata": {},
   "source": [
    "#### K = 11"
   ]
  },
  {
   "cell_type": "code",
   "execution_count": null,
   "metadata": {
    "collapsed": true
   },
   "outputs": [],
   "source": [
    "k = 11\n",
    "\n",
    "estrategia = ValidacionCruzada()\n",
    "knn = ClasificadorVecinosProximos(k, normaliza=False)\n",
    "val = knn.validacion(estrategia,dataset,knn)\n",
    "\n",
    "print(\"Datos sin normalizar: \")\n",
    "print(\"Promedio del error = \", np.array(val).mean(), \"\\tDesviación típica = \", np.array(val).std())\n",
    "\n",
    "knn = ClasificadorVecinosProximos(k, normaliza=True)\n",
    "val = knn.validacion(estrategia,dataset,knn)\n",
    "\n",
    "\n",
    "print(\"Datos normalizados:\")\n",
    "print(\"Promedio del error = \", np.array(val).mean(), \"\\tDesviación típica = \", np.array(val).std())"
   ]
  },
  {
   "cell_type": "markdown",
   "metadata": {},
   "source": [
    "#### K = 21"
   ]
  },
  {
   "cell_type": "code",
   "execution_count": null,
   "metadata": {
    "collapsed": true
   },
   "outputs": [],
   "source": [
    "k = 21\n",
    "\n",
    "estrategia = ValidacionCruzada()\n",
    "knn = ClasificadorVecinosProximos(k, normaliza=False)\n",
    "val = knn.validacion(estrategia,dataset,knn)\n",
    "\n",
    "print(\"Datos sin normalizar: \")\n",
    "print(\"Promedio del error = \", np.array(val).mean(), \"\\tDesviación típica = \", np.array(val).std())\n",
    "\n",
    "knn = ClasificadorVecinosProximos(k, normaliza=True)\n",
    "val = knn.validacion(estrategia,dataset,knn)\n",
    "\n",
    "\n",
    "print(\"Datos normalizados:\")\n",
    "print(\"Promedio del error = \", np.array(val).mean(), \"\\tDesviación típica = \", np.array(val).std())"
   ]
  },
  {
   "cell_type": "markdown",
   "metadata": {},
   "source": [
    "#### K = 51"
   ]
  },
  {
   "cell_type": "code",
   "execution_count": null,
   "metadata": {
    "collapsed": true
   },
   "outputs": [],
   "source": [
    "k = 51\n",
    "\n",
    "estrategia = ValidacionCruzada()\n",
    "knn = ClasificadorVecinosProximos(k, normaliza=False)\n",
    "val = knn.validacion(estrategia,dataset,knn)\n",
    "\n",
    "print(\"Datos sin normalizar: \")\n",
    "print(\"Promedio del error = \", np.array(val).mean(), \"\\tDesviación típica = \", np.array(val).std())\n",
    "\n",
    "knn = ClasificadorVecinosProximos(k, normaliza=True)\n",
    "val = knn.validacion(estrategia,dataset,knn)\n",
    "\n",
    "\n",
    "print(\"Datos normalizados:\")\n",
    "print(\"Promedio del error = \", np.array(val).mean(), \"\\tDesviación típica = \", np.array(val).std())"
   ]
  },
  {
   "cell_type": "markdown",
   "metadata": {},
   "source": [
    "### 1.3 Resultados de ejecución del ejemplo 3"
   ]
  },
  {
   "cell_type": "code",
   "execution_count": null,
   "metadata": {
    "collapsed": true
   },
   "outputs": [],
   "source": [
    "dataset = Datos(\"ConjuntosDatos/example3.data\")"
   ]
  },
  {
   "cell_type": "markdown",
   "metadata": {},
   "source": [
    "#### K = 1"
   ]
  },
  {
   "cell_type": "code",
   "execution_count": null,
   "metadata": {
    "collapsed": true
   },
   "outputs": [],
   "source": [
    "k = 1\n",
    "\n",
    "estrategia = ValidacionCruzada()\n",
    "knn = ClasificadorVecinosProximos(k, normaliza=False)\n",
    "val = knn.validacion(estrategia,dataset,knn)\n",
    "\n",
    "print(\"Datos sin normalizar: \")\n",
    "print(\"Promedio del error = \", np.array(val).mean(), \"\\tDesviación típica = \", np.array(val).std())\n",
    "\n",
    "knn = ClasificadorVecinosProximos(k, normaliza=True)\n",
    "val = knn.validacion(estrategia,dataset,knn)\n",
    "\n",
    "\n",
    "print(\"Datos normalizados:\")\n",
    "print(\"Promedio del error = \", np.array(val).mean(), \"\\tDesviación típica = \", np.array(val).std())"
   ]
  },
  {
   "cell_type": "markdown",
   "metadata": {},
   "source": [
    "#### K = 3"
   ]
  },
  {
   "cell_type": "code",
   "execution_count": null,
   "metadata": {
    "collapsed": true
   },
   "outputs": [],
   "source": [
    "k = 3\n",
    "\n",
    "estrategia = ValidacionCruzada()\n",
    "knn = ClasificadorVecinosProximos(k, normaliza=False)\n",
    "val = knn.validacion(estrategia,dataset,knn)\n",
    "\n",
    "print(\"Datos sin normalizar: \")\n",
    "print(\"Promedio del error = \", np.array(val).mean(), \"\\tDesviación típica = \", np.array(val).std())\n",
    "\n",
    "knn = ClasificadorVecinosProximos(k, normaliza=True)\n",
    "val = knn.validacion(estrategia,dataset,knn)\n",
    "\n",
    "\n",
    "print(\"Datos normalizados:\")\n",
    "print(\"Promedio del error = \", np.array(val).mean(), \"\\tDesviación típica = \", np.array(val).std())"
   ]
  },
  {
   "cell_type": "markdown",
   "metadata": {},
   "source": [
    "#### K = 5"
   ]
  },
  {
   "cell_type": "code",
   "execution_count": null,
   "metadata": {
    "collapsed": true
   },
   "outputs": [],
   "source": [
    "k = 5\n",
    "\n",
    "estrategia = ValidacionCruzada()\n",
    "knn = ClasificadorVecinosProximos(k, normaliza=False)\n",
    "val = knn.validacion(estrategia,dataset,knn)\n",
    "\n",
    "print(\"Datos sin normalizar: \")\n",
    "print(\"Promedio del error = \", np.array(val).mean(), \"\\tDesviación típica = \", np.array(val).std())\n",
    "\n",
    "knn = ClasificadorVecinosProximos(k, normaliza=True)\n",
    "val = knn.validacion(estrategia,dataset,knn)\n",
    "\n",
    "\n",
    "print(\"Datos normalizados:\")\n",
    "print(\"Promedio del error = \", np.array(val).mean(), \"\\tDesviación típica = \", np.array(val).std())"
   ]
  },
  {
   "cell_type": "markdown",
   "metadata": {},
   "source": [
    "#### K = 11"
   ]
  },
  {
   "cell_type": "code",
   "execution_count": null,
   "metadata": {
    "collapsed": true
   },
   "outputs": [],
   "source": [
    "k = 11\n",
    "\n",
    "estrategia = ValidacionCruzada()\n",
    "knn = ClasificadorVecinosProximos(k, normaliza=False)\n",
    "val = knn.validacion(estrategia,dataset,knn)\n",
    "\n",
    "print(\"Datos sin normalizar: \")\n",
    "print(\"Promedio del error = \", np.array(val).mean(), \"\\tDesviación típica = \", np.array(val).std())\n",
    "\n",
    "knn = ClasificadorVecinosProximos(k, normaliza=True)\n",
    "val = knn.validacion(estrategia,dataset,knn)\n",
    "\n",
    "\n",
    "print(\"Datos normalizados:\")\n",
    "print(\"Promedio del error = \", np.array(val).mean(), \"\\tDesviación típica = \", np.array(val).std())"
   ]
  },
  {
   "cell_type": "markdown",
   "metadata": {},
   "source": [
    "#### K = 21"
   ]
  },
  {
   "cell_type": "code",
   "execution_count": null,
   "metadata": {
    "collapsed": true
   },
   "outputs": [],
   "source": [
    "k = 21\n",
    "\n",
    "estrategia = ValidacionCruzada()\n",
    "knn = ClasificadorVecinosProximos(k, normaliza=False)\n",
    "val = knn.validacion(estrategia,dataset,knn)\n",
    "\n",
    "print(\"Datos sin normalizar: \")\n",
    "print(\"Promedio del error = \", np.array(val).mean(), \"\\tDesviación típica = \", np.array(val).std())\n",
    "\n",
    "knn = ClasificadorVecinosProximos(k, normaliza=True)\n",
    "val = knn.validacion(estrategia,dataset,knn)\n",
    "\n",
    "\n",
    "print(\"Datos normalizados:\")\n",
    "print(\"Promedio del error = \", np.array(val).mean(), \"\\tDesviación típica = \", np.array(val).std())"
   ]
  },
  {
   "cell_type": "markdown",
   "metadata": {},
   "source": [
    "#### K = 51"
   ]
  },
  {
   "cell_type": "code",
   "execution_count": null,
   "metadata": {
    "collapsed": true
   },
   "outputs": [],
   "source": [
    "k = 51\n",
    "\n",
    "estrategia = ValidacionCruzada()\n",
    "knn = ClasificadorVecinosProximos(k, normaliza=False)\n",
    "val = knn.validacion(estrategia,dataset,knn)\n",
    "\n",
    "print(\"Datos sin normalizar: \")\n",
    "print(\"Promedio del error = \", np.array(val).mean(), \"\\tDesviación típica = \", np.array(val).std())\n",
    "\n",
    "knn = ClasificadorVecinosProximos(k, normaliza=True)\n",
    "val = knn.validacion(estrategia,dataset,knn)\n",
    "\n",
    "\n",
    "print(\"Datos normalizados:\")\n",
    "print(\"Promedio del error = \", np.array(val).mean(), \"\\tDesviación típica = \", np.array(val).std())"
   ]
  },
  {
   "cell_type": "markdown",
   "metadata": {},
   "source": [
    "### 1.4 Resultados de ejecución del ejemplo 4"
   ]
  },
  {
   "cell_type": "code",
   "execution_count": null,
   "metadata": {
    "collapsed": true
   },
   "outputs": [],
   "source": [
    "dataset = Datos(\"ConjuntosDatos/example4.data\")"
   ]
  },
  {
   "cell_type": "markdown",
   "metadata": {},
   "source": [
    "#### K = 1"
   ]
  },
  {
   "cell_type": "code",
   "execution_count": null,
   "metadata": {
    "collapsed": true
   },
   "outputs": [],
   "source": [
    "k = 1\n",
    "\n",
    "estrategia = ValidacionCruzada()\n",
    "knn = ClasificadorVecinosProximos(k, normaliza=False)\n",
    "val = knn.validacion(estrategia,dataset,knn)\n",
    "\n",
    "print(\"Datos sin normalizar: \")\n",
    "print(\"Promedio del error = \", np.array(val).mean(), \"\\tDesviación típica = \", np.array(val).std())\n",
    "\n",
    "knn = ClasificadorVecinosProximos(k, normaliza=True)\n",
    "val = knn.validacion(estrategia,dataset,knn)\n",
    "\n",
    "\n",
    "print(\"Datos normalizados:\")\n",
    "print(\"Promedio del error = \", np.array(val).mean(), \"\\tDesviación típica = \", np.array(val).std())"
   ]
  },
  {
   "cell_type": "markdown",
   "metadata": {},
   "source": [
    "#### K = 3"
   ]
  },
  {
   "cell_type": "code",
   "execution_count": null,
   "metadata": {
    "collapsed": true
   },
   "outputs": [],
   "source": [
    "k = 3\n",
    "\n",
    "estrategia = ValidacionCruzada()\n",
    "knn = ClasificadorVecinosProximos(k, normaliza=False)\n",
    "val = knn.validacion(estrategia,dataset,knn)\n",
    "\n",
    "print(\"Datos sin normalizar: \")\n",
    "print(\"Promedio del error = \", np.array(val).mean(), \"\\tDesviación típica = \", np.array(val).std())\n",
    "\n",
    "knn = ClasificadorVecinosProximos(k, normaliza=True)\n",
    "val = knn.validacion(estrategia,dataset,knn)\n",
    "\n",
    "\n",
    "print(\"Datos normalizados:\")\n",
    "print(\"Promedio del error = \", np.array(val).mean(), \"\\tDesviación típica = \", np.array(val).std())"
   ]
  },
  {
   "cell_type": "markdown",
   "metadata": {},
   "source": [
    "#### K = 5"
   ]
  },
  {
   "cell_type": "code",
   "execution_count": null,
   "metadata": {
    "collapsed": true
   },
   "outputs": [],
   "source": [
    "k = 5\n",
    "\n",
    "estrategia = ValidacionCruzada()\n",
    "knn = ClasificadorVecinosProximos(k, normaliza=False)\n",
    "val = knn.validacion(estrategia,dataset,knn)\n",
    "\n",
    "print(\"Datos sin normalizar: \")\n",
    "print(\"Promedio del error = \", np.array(val).mean(), \"\\tDesviación típica = \", np.array(val).std())\n",
    "\n",
    "knn = ClasificadorVecinosProximos(k, normaliza=True)\n",
    "val = knn.validacion(estrategia,dataset,knn)\n",
    "\n",
    "\n",
    "print(\"Datos normalizados:\")\n",
    "print(\"Promedio del error = \", np.array(val).mean(), \"\\tDesviación típica = \", np.array(val).std())"
   ]
  },
  {
   "cell_type": "markdown",
   "metadata": {},
   "source": [
    "#### K = 11"
   ]
  },
  {
   "cell_type": "code",
   "execution_count": null,
   "metadata": {
    "collapsed": true
   },
   "outputs": [],
   "source": [
    "k = 11\n",
    "\n",
    "estrategia = ValidacionCruzada()\n",
    "knn = ClasificadorVecinosProximos(k, normaliza=False)\n",
    "val = knn.validacion(estrategia,dataset,knn)\n",
    "\n",
    "print(\"Datos sin normalizar: \")\n",
    "print(\"Promedio del error = \", np.array(val).mean(), \"\\tDesviación típica = \", np.array(val).std())\n",
    "\n",
    "knn = ClasificadorVecinosProximos(k, normaliza=True)\n",
    "val = knn.validacion(estrategia,dataset,knn)\n",
    "\n",
    "\n",
    "print(\"Datos normalizados:\")\n",
    "print(\"Promedio del error = \", np.array(val).mean(), \"\\tDesviación típica = \", np.array(val).std())"
   ]
  },
  {
   "cell_type": "markdown",
   "metadata": {},
   "source": [
    "#### K = 21"
   ]
  },
  {
   "cell_type": "code",
   "execution_count": null,
   "metadata": {
    "collapsed": true
   },
   "outputs": [],
   "source": [
    "k = 21\n",
    "\n",
    "estrategia = ValidacionCruzada()\n",
    "knn = ClasificadorVecinosProximos(k, normaliza=False)\n",
    "val = knn.validacion(estrategia,dataset,knn)\n",
    "\n",
    "print(\"Datos sin normalizar: \")\n",
    "print(\"Promedio del error = \", np.array(val).mean(), \"\\tDesviación típica = \", np.array(val).std())\n",
    "\n",
    "knn = ClasificadorVecinosProximos(k, normaliza=True)\n",
    "val = knn.validacion(estrategia,dataset,knn)\n",
    "\n",
    "\n",
    "print(\"Datos normalizados:\")\n",
    "print(\"Promedio del error = \", np.array(val).mean(), \"\\tDesviación típica = \", np.array(val).std())"
   ]
  },
  {
   "cell_type": "markdown",
   "metadata": {},
   "source": [
    "#### K = 51"
   ]
  },
  {
   "cell_type": "code",
   "execution_count": null,
   "metadata": {
    "collapsed": true
   },
   "outputs": [],
   "source": [
    "k = 51\n",
    "\n",
    "estrategia = ValidacionCruzada()\n",
    "knn = ClasificadorVecinosProximos(k, normaliza=False)\n",
    "val = knn.validacion(estrategia,dataset,knn)\n",
    "\n",
    "print(\"Datos sin normalizar: \")\n",
    "print(\"Promedio del error = \", np.array(val).mean(), \"\\tDesviación típica = \", np.array(val).std())\n",
    "\n",
    "knn = ClasificadorVecinosProximos(k, normaliza=True)\n",
    "val = knn.validacion(estrategia,dataset,knn)\n",
    "\n",
    "\n",
    "print(\"Datos normalizados:\")\n",
    "print(\"Promedio del error = \", np.array(val).mean(), \"\\tDesviación típica = \", np.array(val).std())"
   ]
  },
  {
   "cell_type": "markdown",
   "metadata": {},
   "source": [
    "### 1.5 Resultados de ejecución de WDBC"
   ]
  },
  {
   "cell_type": "code",
   "execution_count": null,
   "metadata": {
    "collapsed": true
   },
   "outputs": [],
   "source": [
    "dataset = Datos(\"ConjuntosDatos/wdbc.data\")"
   ]
  },
  {
   "cell_type": "markdown",
   "metadata": {},
   "source": [
    "#### K = 1"
   ]
  },
  {
   "cell_type": "code",
   "execution_count": null,
   "metadata": {
    "collapsed": true
   },
   "outputs": [],
   "source": [
    "k = 1\n",
    "\n",
    "estrategia = ValidacionCruzada()\n",
    "knn = ClasificadorVecinosProximos(k, normaliza=False)\n",
    "val = knn.validacion(estrategia,dataset,knn)\n",
    "\n",
    "print(\"Datos sin normalizar: \")\n",
    "print(\"Promedio del error = \", np.array(val).mean(), \"\\tDesviación típica = \", np.array(val).std())\n",
    "\n",
    "knn = ClasificadorVecinosProximos(k, normaliza=True)\n",
    "val = knn.validacion(estrategia,dataset,knn)\n",
    "\n",
    "\n",
    "print(\"Datos normalizados:\")\n",
    "print(\"Promedio del error = \", np.array(val).mean(), \"\\tDesviación típica = \", np.array(val).std())"
   ]
  },
  {
   "cell_type": "markdown",
   "metadata": {},
   "source": [
    "#### K = 3"
   ]
  },
  {
   "cell_type": "code",
   "execution_count": null,
   "metadata": {
    "collapsed": true
   },
   "outputs": [],
   "source": [
    "k = 3\n",
    "\n",
    "estrategia = ValidacionCruzada()\n",
    "knn = ClasificadorVecinosProximos(k, normaliza=False)\n",
    "val = knn.validacion(estrategia,dataset,knn)\n",
    "\n",
    "print(\"Datos sin normalizar: \")\n",
    "print(\"Promedio del error = \", np.array(val).mean(), \"\\tDesviación típica = \", np.array(val).std())\n",
    "\n",
    "knn = ClasificadorVecinosProximos(k, normaliza=True)\n",
    "val = knn.validacion(estrategia,dataset,knn)\n",
    "\n",
    "\n",
    "print(\"Datos normalizados:\")\n",
    "print(\"Promedio del error = \", np.array(val).mean(), \"\\tDesviación típica = \", np.array(val).std())"
   ]
  },
  {
   "cell_type": "markdown",
   "metadata": {},
   "source": [
    "#### K = 5"
   ]
  },
  {
   "cell_type": "code",
   "execution_count": null,
   "metadata": {
    "collapsed": true
   },
   "outputs": [],
   "source": [
    "k = 5\n",
    "\n",
    "estrategia = ValidacionCruzada()\n",
    "knn = ClasificadorVecinosProximos(k, normaliza=False)\n",
    "val = knn.validacion(estrategia,dataset,knn)\n",
    "\n",
    "print(\"Datos sin normalizar: \")\n",
    "print(\"Promedio del error = \", np.array(val).mean(), \"\\tDesviación típica = \", np.array(val).std())\n",
    "\n",
    "knn = ClasificadorVecinosProximos(k, normaliza=True)\n",
    "val = knn.validacion(estrategia,dataset,knn)\n",
    "\n",
    "\n",
    "print(\"Datos normalizados:\")\n",
    "print(\"Promedio del error = \", np.array(val).mean(), \"\\tDesviación típica = \", np.array(val).std())"
   ]
  },
  {
   "cell_type": "markdown",
   "metadata": {},
   "source": [
    "#### K = 11"
   ]
  },
  {
   "cell_type": "code",
   "execution_count": null,
   "metadata": {
    "collapsed": true
   },
   "outputs": [],
   "source": [
    "k = 11\n",
    "\n",
    "estrategia = ValidacionCruzada()\n",
    "knn = ClasificadorVecinosProximos(k, normaliza=False)\n",
    "val = knn.validacion(estrategia,dataset,knn)\n",
    "\n",
    "print(\"Datos sin normalizar: \")\n",
    "print(\"Promedio del error = \", np.array(val).mean(), \"\\tDesviación típica = \", np.array(val).std())\n",
    "\n",
    "knn = ClasificadorVecinosProximos(k, normaliza=True)\n",
    "val = knn.validacion(estrategia,dataset,knn)\n",
    "\n",
    "\n",
    "print(\"Datos normalizados:\")\n",
    "print(\"Promedio del error = \", np.array(val).mean(), \"\\tDesviación típica = \", np.array(val).std())"
   ]
  },
  {
   "cell_type": "markdown",
   "metadata": {},
   "source": [
    "#### K = 21"
   ]
  },
  {
   "cell_type": "code",
   "execution_count": null,
   "metadata": {
    "collapsed": true
   },
   "outputs": [],
   "source": [
    "k = 21\n",
    "\n",
    "estrategia = ValidacionCruzada()\n",
    "knn = ClasificadorVecinosProximos(k, normaliza=False)\n",
    "val = knn.validacion(estrategia,dataset,knn)\n",
    "\n",
    "print(\"Datos sin normalizar: \")\n",
    "print(\"Promedio del error = \", np.array(val).mean(), \"\\tDesviación típica = \", np.array(val).std())\n",
    "\n",
    "knn = ClasificadorVecinosProximos(k, normaliza=True)\n",
    "val = knn.validacion(estrategia,dataset,knn)\n",
    "\n",
    "\n",
    "print(\"Datos normalizados:\")\n",
    "print(\"Promedio del error = \", np.array(val).mean(), \"\\tDesviación típica = \", np.array(val).std())"
   ]
  },
  {
   "cell_type": "markdown",
   "metadata": {},
   "source": [
    "#### K = 51"
   ]
  },
  {
   "cell_type": "code",
   "execution_count": null,
   "metadata": {
    "collapsed": true
   },
   "outputs": [],
   "source": [
    "k = 51\n",
    "\n",
    "estrategia = ValidacionCruzada()\n",
    "knn = ClasificadorVecinosProximos(k, normaliza=False)\n",
    "val = knn.validacion(estrategia,dataset,knn)\n",
    "\n",
    "print(\"Datos sin normalizar: \")\n",
    "print(\"Promedio del error = \", np.array(val).mean(), \"\\tDesviación típica = \", np.array(val).std())\n",
    "\n",
    "knn = ClasificadorVecinosProximos(k, normaliza=True)\n",
    "val = knn.validacion(estrategia,dataset,knn)\n",
    "\n",
    "\n",
    "print(\"Datos normalizados:\")\n",
    "print(\"Promedio del error = \", np.array(val).mean(), \"\\tDesviación típica = \", np.array(val).std())"
   ]
  },
  {
   "cell_type": "markdown",
   "metadata": {},
   "source": [
    "## 2. Regresión Logística"
   ]
  },
  {
   "cell_type": "markdown",
   "metadata": {},
   "source": [
    "### 2.1 Resultados de ejecución del ejemplo 1"
   ]
  },
  {
   "cell_type": "code",
   "execution_count": null,
   "metadata": {
    "collapsed": true
   },
   "outputs": [],
   "source": [
    "dataset = Datos(\"ConjuntosDatos/example1.data\")"
   ]
  },
  {
   "cell_type": "markdown",
   "metadata": {},
   "source": [
    "#### η = 1, pasos = 10"
   ]
  },
  {
   "cell_type": "code",
   "execution_count": null,
   "metadata": {
    "collapsed": true
   },
   "outputs": [],
   "source": [
    "estrategia = ValidacionCruzada()\n",
    "reglog = ClasificadorRegresionLogistica(1, 10)\n",
    "val = reglog.validacion(estrategia,dataset,reglog)\n",
    "\n",
    "print(\"Promedio del error = \", np.array(val).mean(), \"\\tDesviación típica = \", np.array(val).std())"
   ]
  },
  {
   "cell_type": "markdown",
   "metadata": {},
   "source": [
    "#### η = 1, pasos = 100"
   ]
  },
  {
   "cell_type": "code",
   "execution_count": null,
   "metadata": {
    "collapsed": true
   },
   "outputs": [],
   "source": [
    "estrategia = ValidacionCruzada()\n",
    "reglog = ClasificadorRegresionLogistica(1, 100)\n",
    "val = reglog.validacion(estrategia,dataset,reglog)\n",
    "\n",
    "print(\"Promedio del error = \", np.array(val).mean(), \"\\tDesviación típica = \", np.array(val).std())"
   ]
  },
  {
   "cell_type": "markdown",
   "metadata": {},
   "source": [
    "#### η = 0'5, pasos = 10"
   ]
  },
  {
   "cell_type": "code",
   "execution_count": null,
   "metadata": {
    "collapsed": true
   },
   "outputs": [],
   "source": [
    "estrategia = ValidacionCruzada()\n",
    "reglog = ClasificadorRegresionLogistica(0.5, 10)\n",
    "val = reglog.validacion(estrategia,dataset,reglog)\n",
    "\n",
    "print(\"Promedio del error = \", np.array(val).mean(), \"\\tDesviación típica = \", np.array(val).std())"
   ]
  },
  {
   "cell_type": "markdown",
   "metadata": {},
   "source": [
    "#### η = 0'5, pasos = 100"
   ]
  },
  {
   "cell_type": "code",
   "execution_count": null,
   "metadata": {
    "collapsed": true
   },
   "outputs": [],
   "source": [
    "estrategia = ValidacionCruzada()\n",
    "reglog = ClasificadorRegresionLogistica(0.5, 100)\n",
    "val = reglog.validacion(estrategia,dataset,reglog)\n",
    "\n",
    "print(\"Promedio del error = \", np.array(val).mean(), \"\\tDesviación típica = \", np.array(val).std())"
   ]
  },
  {
   "cell_type": "markdown",
   "metadata": {},
   "source": [
    "### 2.2 Resultados de ejecución del ejemplo 2"
   ]
  },
  {
   "cell_type": "code",
   "execution_count": null,
   "metadata": {
    "collapsed": true
   },
   "outputs": [],
   "source": [
    "dataset = Datos(\"ConjuntosDatos/example2.data\")"
   ]
  },
  {
   "cell_type": "markdown",
   "metadata": {},
   "source": [
    "#### η = 1, pasos = 10"
   ]
  },
  {
   "cell_type": "code",
   "execution_count": null,
   "metadata": {
    "collapsed": true
   },
   "outputs": [],
   "source": [
    "estrategia = ValidacionCruzada()\n",
    "reglog = ClasificadorRegresionLogistica(1, 10)\n",
    "val = reglog.validacion(estrategia,dataset,reglog)\n",
    "\n",
    "print(\"Promedio del error = \", np.array(val).mean(), \"\\tDesviación típica = \", np.array(val).std())"
   ]
  },
  {
   "cell_type": "markdown",
   "metadata": {},
   "source": [
    "#### η = 1, pasos = 100"
   ]
  },
  {
   "cell_type": "code",
   "execution_count": null,
   "metadata": {
    "collapsed": true
   },
   "outputs": [],
   "source": [
    "estrategia = ValidacionCruzada()\n",
    "reglog = ClasificadorRegresionLogistica(1, 100)\n",
    "val = reglog.validacion(estrategia,dataset,reglog)\n",
    "\n",
    "print(\"Promedio del error = \", np.array(val).mean(), \"\\tDesviación típica = \", np.array(val).std())\n"
   ]
  },
  {
   "cell_type": "markdown",
   "metadata": {},
   "source": [
    "#### η = 0'5, pasos = 10"
   ]
  },
  {
   "cell_type": "code",
   "execution_count": null,
   "metadata": {
    "collapsed": true
   },
   "outputs": [],
   "source": [
    "estrategia = ValidacionCruzada()\n",
    "reglog = ClasificadorRegresionLogistica(0.5, 10)\n",
    "val = reglog.validacion(estrategia,dataset,reglog)\n",
    "\n",
    "print(\"Promedio del error = \", np.array(val).mean(), \"\\tDesviación típica = \", np.array(val).std())\n"
   ]
  },
  {
   "cell_type": "markdown",
   "metadata": {},
   "source": [
    "#### η = 0'5, pasos = 100"
   ]
  },
  {
   "cell_type": "code",
   "execution_count": null,
   "metadata": {
    "collapsed": true
   },
   "outputs": [],
   "source": [
    "estrategia = ValidacionCruzada()\n",
    "reglog = ClasificadorRegresionLogistica(0.5, 100)\n",
    "val = reglog.validacion(estrategia,dataset,reglog)\n",
    "\n",
    "print(\"Promedio del error = \", np.array(val).mean(), \"\\tDesviación típica = \", np.array(val).std())\n"
   ]
  },
  {
   "cell_type": "markdown",
   "metadata": {},
   "source": [
    "### 2.3 Resultados de ejecución del ejemplo 3"
   ]
  },
  {
   "cell_type": "code",
   "execution_count": null,
   "metadata": {
    "collapsed": true
   },
   "outputs": [],
   "source": [
    "dataset = Datos(\"ConjuntosDatos/example3.data\")"
   ]
  },
  {
   "cell_type": "markdown",
   "metadata": {},
   "source": [
    "#### η = 1, pasos = 10"
   ]
  },
  {
   "cell_type": "code",
   "execution_count": null,
   "metadata": {
    "collapsed": true
   },
   "outputs": [],
   "source": [
    "estrategia = ValidacionCruzada()\n",
    "reglog = ClasificadorRegresionLogistica(1, 10)\n",
    "val = reglog.validacion(estrategia,dataset,reglog)\n",
    "\n",
    "print(\"Promedio del error = \", np.array(val).mean(), \"\\tDesviación típica = \", np.array(val).std())\n"
   ]
  },
  {
   "cell_type": "markdown",
   "metadata": {},
   "source": [
    "#### η = 1, pasos = 100"
   ]
  },
  {
   "cell_type": "code",
   "execution_count": null,
   "metadata": {
    "collapsed": true
   },
   "outputs": [],
   "source": [
    "estrategia = ValidacionCruzada()\n",
    "reglog = ClasificadorRegresionLogistica(1, 100)\n",
    "val = reglog.validacion(estrategia,dataset,reglog)\n",
    "\n",
    "print(\"Promedio del error = \", np.array(val).mean(), \"\\tDesviación típica = \", np.array(val).std())\n"
   ]
  },
  {
   "cell_type": "markdown",
   "metadata": {},
   "source": [
    "#### η = 0'5, pasos = 10"
   ]
  },
  {
   "cell_type": "code",
   "execution_count": null,
   "metadata": {
    "collapsed": true
   },
   "outputs": [],
   "source": [
    "estrategia = ValidacionCruzada()\n",
    "reglog = ClasificadorRegresionLogistica(0.5, 10)\n",
    "val = reglog.validacion(estrategia,dataset,reglog)\n",
    "\n",
    "print(\"Promedio del error = \", np.array(val).mean(), \"\\tDesviación típica = \", np.array(val).std())\n"
   ]
  },
  {
   "cell_type": "markdown",
   "metadata": {},
   "source": [
    "#### η = 0'5, pasos = 100"
   ]
  },
  {
   "cell_type": "code",
   "execution_count": null,
   "metadata": {
    "collapsed": true
   },
   "outputs": [],
   "source": [
    "estrategia = ValidacionCruzada()\n",
    "reglog = ClasificadorRegresionLogistica(0.5, 100)\n",
    "val = reglog.validacion(estrategia,dataset,reglog)\n",
    "\n",
    "print(\"Promedio del error = \", np.array(val).mean(), \"\\tDesviación típica = \", np.array(val).std())\n"
   ]
  },
  {
   "cell_type": "markdown",
   "metadata": {},
   "source": [
    "### 2.4 Resultados de ejecución del ejemplo 4"
   ]
  },
  {
   "cell_type": "code",
   "execution_count": null,
   "metadata": {
    "collapsed": true
   },
   "outputs": [],
   "source": [
    "dataset = Datos(\"ConjuntosDatos/example4.data\")"
   ]
  },
  {
   "cell_type": "markdown",
   "metadata": {},
   "source": [
    "#### η = 1, pasos = 10"
   ]
  },
  {
   "cell_type": "code",
   "execution_count": null,
   "metadata": {
    "collapsed": true
   },
   "outputs": [],
   "source": [
    "estrategia = ValidacionCruzada()\n",
    "reglog = ClasificadorRegresionLogistica(1, 10)\n",
    "val = reglog.validacion(estrategia,dataset,reglog)\n",
    "\n",
    "print(\"Promedio del error = \", np.array(val).mean(), \"\\tDesviación típica = \", np.array(val).std())\n"
   ]
  },
  {
   "cell_type": "markdown",
   "metadata": {},
   "source": [
    "#### η = 1, pasos = 100"
   ]
  },
  {
   "cell_type": "code",
   "execution_count": null,
   "metadata": {
    "collapsed": true
   },
   "outputs": [],
   "source": [
    "estrategia = ValidacionCruzada()\n",
    "reglog = ClasificadorRegresionLogistica(1, 100)\n",
    "val = reglog.validacion(estrategia,dataset,reglog)\n",
    "\n",
    "print(\"Promedio del error = \", np.array(val).mean(), \"\\tDesviación típica = \", np.array(val).std())\n"
   ]
  },
  {
   "cell_type": "markdown",
   "metadata": {},
   "source": [
    "#### η = 0'5, pasos = 10"
   ]
  },
  {
   "cell_type": "code",
   "execution_count": null,
   "metadata": {
    "collapsed": true
   },
   "outputs": [],
   "source": [
    "estrategia = ValidacionCruzada()\n",
    "reglog = ClasificadorRegresionLogistica(0.5, 10)\n",
    "val = reglog.validacion(estrategia,dataset,reglog)\n",
    "\n",
    "print(\"Promedio del error = \", np.array(val).mean(), \"\\tDesviación típica = \", np.array(val).std())\n"
   ]
  },
  {
   "cell_type": "markdown",
   "metadata": {},
   "source": [
    "#### η = 0'5, pasos = 100"
   ]
  },
  {
   "cell_type": "code",
   "execution_count": null,
   "metadata": {
    "collapsed": true
   },
   "outputs": [],
   "source": [
    "estrategia = ValidacionCruzada()\n",
    "reglog = ClasificadorRegresionLogistica(0.5, 100)\n",
    "val = reglog.validacion(estrategia,dataset,reglog)\n",
    "\n",
    "print(\"Promedio del error = \", np.array(val).mean(), \"\\tDesviación típica = \", np.array(val).std())\n"
   ]
  },
  {
   "cell_type": "markdown",
   "metadata": {},
   "source": [
    "### 2.5 Resultados de ejecución de WDBC"
   ]
  },
  {
   "cell_type": "code",
   "execution_count": null,
   "metadata": {
    "collapsed": true
   },
   "outputs": [],
   "source": [
    "dataset = Datos(\"ConjuntosDatos/wdbc.data\")"
   ]
  },
  {
   "cell_type": "markdown",
   "metadata": {},
   "source": [
    "#### η = 1, pasos = 10"
   ]
  },
  {
   "cell_type": "code",
   "execution_count": null,
   "metadata": {
    "collapsed": true
   },
   "outputs": [],
   "source": [
    "estrategia = ValidacionCruzada()\n",
    "reglog = ClasificadorRegresionLogistica(1, 10)\n",
    "val = reglog.validacion(estrategia,dataset,reglog)\n",
    "\n",
    "print(\"Promedio del error = \", np.array(val).mean(), \"\\tDesviación típica = \", np.array(val).std())\n"
   ]
  },
  {
   "cell_type": "markdown",
   "metadata": {},
   "source": [
    "#### η = 1, pasos = 100"
   ]
  },
  {
   "cell_type": "code",
   "execution_count": null,
   "metadata": {
    "collapsed": true
   },
   "outputs": [],
   "source": [
    "estrategia = ValidacionCruzada()\n",
    "reglog = ClasificadorRegresionLogistica(1, 100)\n",
    "val = reglog.validacion(estrategia,dataset,reglog)\n",
    "\n",
    "print(\"Promedio del error = \", np.array(val).mean(), \"\\tDesviación típica = \", np.array(val).std())"
   ]
  },
  {
   "cell_type": "markdown",
   "metadata": {},
   "source": [
    "#### η = 0'5, pasos = 10"
   ]
  },
  {
   "cell_type": "code",
   "execution_count": null,
   "metadata": {
    "collapsed": true
   },
   "outputs": [],
   "source": [
    "estrategia = ValidacionCruzada()\n",
    "reglog = ClasificadorRegresionLogistica(0.5, 10)\n",
    "val = reglog.validacion(estrategia,dataset,reglog)\n",
    "\n",
    "print(\"Promedio del error = \", np.array(val).mean(), \"\\tDesviación típica = \", np.array(val).std())"
   ]
  },
  {
   "cell_type": "markdown",
   "metadata": {},
   "source": [
    "#### η = 0'5, pasos = 100"
   ]
  },
  {
   "cell_type": "code",
   "execution_count": null,
   "metadata": {
    "collapsed": true
   },
   "outputs": [],
   "source": [
    "estrategia = ValidacionCruzada()\n",
    "reglog = ClasificadorRegresionLogistica(0.5, 100)\n",
    "val = reglog.validacion(estrategia,dataset,reglog)\n",
    "\n",
    "print(\"Promedio del error = \", np.array(val).mean(), \"\\tDesviación típica = \", np.array(val).std())"
   ]
  },
  {
   "cell_type": "markdown",
   "metadata": {},
   "source": [
    "### Análisis de los resultados"
   ]
  },
  {
   "cell_type": "markdown",
   "metadata": {},
   "source": []
  },
  {
   "cell_type": "markdown",
   "metadata": {},
   "source": [
    "## 3. Scikit-Learn y Representación Gráfica"
   ]
  },
  {
   "cell_type": "markdown",
   "metadata": {},
   "source": [
    "## 3.1 Resultados de la clasificación utilizando Scikit-Learn"
   ]
  },
  {
   "cell_type": "markdown",
   "metadata": {},
   "source": [
    "### 3.1.1 Resultados de KNN"
   ]
  },
  {
   "cell_type": "markdown",
   "metadata": {},
   "source": [
    "### Resultados de ejecución del ejemplo 1"
   ]
  },
  {
   "cell_type": "code",
   "execution_count": 2,
   "metadata": {
    "collapsed": true
   },
   "outputs": [],
   "source": [
    "dataset = Datos(\"ConjuntosDatos/example1.data\")"
   ]
  },
  {
   "cell_type": "markdown",
   "metadata": {},
   "source": [
    "#### K = 1"
   ]
  },
  {
   "cell_type": "code",
   "execution_count": 18,
   "metadata": {},
   "outputs": [
    {
     "name": "stdout",
     "output_type": "stream",
     "text": [
      "Resultados implementación propia:\n",
      "Promedio del error =  0.1775 \tDesviación típica =  0.176050418915\n",
      "\n",
      "Resultados sklearn:\n",
      "Promedio del error =  0.1625 \tDesviación típica =  0.0362284418655\n"
     ]
    }
   ],
   "source": [
    "k = 1\n",
    "\n",
    "estrategia = ValidacionCruzada()\n",
    "knn = ClasificadorVecinosProximos(k)\n",
    "val = knn.validacion(estrategia,dataset,knn)\n",
    "\n",
    "clf = KNeighborsClassifier(k)\n",
    "pred_kfolds = cross_val_score(clf, dataset.datos[:,:-1], dataset.datos[:,-1] , cv = 5)\n",
    "\n",
    "#Obtenemos el error de la media de las predicciones\n",
    "media_error = 1 - pred_kfolds.mean()\n",
    "\n",
    "#Obtenemos la desviacion tipica de las predicciones\n",
    "desv_error = pred_kfolds.std()\n",
    "\n",
    "\n",
    "print(\"Resultados implementación propia:\")\n",
    "print(\"Promedio del error = \", np.array(val).mean(), \"\\tDesviación típica = \", np.array(val).std())\n",
    "print(\"\\nResultados sklearn:\")\n",
    "print(\"Promedio del error = \", media_error, \"\\tDesviación típica = \", desv_error)"
   ]
  },
  {
   "cell_type": "markdown",
   "metadata": {},
   "source": [
    "#### K = 3"
   ]
  },
  {
   "cell_type": "code",
   "execution_count": 19,
   "metadata": {},
   "outputs": [
    {
     "name": "stdout",
     "output_type": "stream",
     "text": [
      "Resultados implementación propia:\n",
      "Promedio del error =  0.145 \tDesviación típica =  0.154838625672\n",
      "\n",
      "Resultados sklearn:\n",
      "Promedio del error =  0.145 \tDesviación típica =  0.0392109678534\n"
     ]
    }
   ],
   "source": [
    "k = 3\n",
    "\n",
    "estrategia = ValidacionCruzada()\n",
    "knn = ClasificadorVecinosProximos(k)\n",
    "val = knn.validacion(estrategia,dataset,knn)\n",
    "\n",
    "clf = KNeighborsClassifier(k)\n",
    "pred_kfolds = cross_val_score(clf, dataset.datos[:,:-1], dataset.datos[:,-1] , cv = 5)\n",
    "\n",
    "#Obtenemos el error de la media de las predicciones\n",
    "media_error = 1 - pred_kfolds.mean()\n",
    "\n",
    "#Obtenemos la desviacion tipica de las predicciones\n",
    "desv_error = pred_kfolds.std()\n",
    "\n",
    "\n",
    "print(\"Resultados implementación propia:\")\n",
    "print(\"Promedio del error = \", np.array(val).mean(), \"\\tDesviación típica = \", np.array(val).std())\n",
    "print(\"\\nResultados sklearn:\")\n",
    "print(\"Promedio del error = \", media_error, \"\\tDesviación típica = \", desv_error)"
   ]
  },
  {
   "cell_type": "markdown",
   "metadata": {},
   "source": [
    "#### K = 5"
   ]
  },
  {
   "cell_type": "code",
   "execution_count": 20,
   "metadata": {},
   "outputs": [
    {
     "name": "stdout",
     "output_type": "stream",
     "text": [
      "Resultados implementación propia:\n",
      "Promedio del error =  0.1325 \tDesviación típica =  0.137636296085\n",
      "\n",
      "Resultados sklearn:\n",
      "Promedio del error =  0.13 \tDesviación típica =  0.049117206761\n"
     ]
    }
   ],
   "source": [
    "k = 5\n",
    "\n",
    "estrategia = ValidacionCruzada()\n",
    "knn = ClasificadorVecinosProximos(k)\n",
    "val = knn.validacion(estrategia,dataset,knn)\n",
    "\n",
    "clf = KNeighborsClassifier(k)\n",
    "pred_kfolds = cross_val_score(clf, dataset.datos[:,:-1], dataset.datos[:,-1] , cv = 5)\n",
    "\n",
    "#Obtenemos el error de la media de las predicciones\n",
    "media_error = 1 - pred_kfolds.mean()\n",
    "\n",
    "#Obtenemos la desviacion tipica de las predicciones\n",
    "desv_error = pred_kfolds.std()\n",
    "\n",
    "\n",
    "print(\"Resultados implementación propia:\")\n",
    "print(\"Promedio del error = \", np.array(val).mean(), \"\\tDesviación típica = \", np.array(val).std())\n",
    "print(\"\\nResultados sklearn:\")\n",
    "print(\"Promedio del error = \", media_error, \"\\tDesviación típica = \", desv_error)"
   ]
  },
  {
   "cell_type": "markdown",
   "metadata": {},
   "source": [
    "#### K = 11"
   ]
  },
  {
   "cell_type": "code",
   "execution_count": 21,
   "metadata": {},
   "outputs": [
    {
     "name": "stdout",
     "output_type": "stream",
     "text": [
      "Resultados implementación propia:\n",
      "Promedio del error =  0.13 \tDesviación típica =  0.151986841536\n",
      "\n",
      "Resultados sklearn:\n",
      "Promedio del error =  0.135 \tDesviación típica =  0.0476969600708\n"
     ]
    }
   ],
   "source": [
    "k = 11\n",
    "\n",
    "estrategia = ValidacionCruzada()\n",
    "knn = ClasificadorVecinosProximos(k)\n",
    "val = knn.validacion(estrategia,dataset,knn)\n",
    "\n",
    "clf = KNeighborsClassifier(k)\n",
    "pred_kfolds = cross_val_score(clf, dataset.datos[:,:-1], dataset.datos[:,-1] , cv = 5)\n",
    "\n",
    "#Obtenemos el error de la media de las predicciones\n",
    "media_error = 1 - pred_kfolds.mean()\n",
    "\n",
    "#Obtenemos la desviacion tipica de las predicciones\n",
    "desv_error = pred_kfolds.std()\n",
    "\n",
    "\n",
    "print(\"Resultados implementación propia:\")\n",
    "print(\"Promedio del error = \", np.array(val).mean(), \"\\tDesviación típica = \", np.array(val).std())\n",
    "print(\"\\nResultados sklearn:\")\n",
    "print(\"Promedio del error = \", media_error, \"\\tDesviación típica = \", desv_error)"
   ]
  },
  {
   "cell_type": "markdown",
   "metadata": {},
   "source": [
    "#### K = 21"
   ]
  },
  {
   "cell_type": "code",
   "execution_count": 22,
   "metadata": {},
   "outputs": [
    {
     "name": "stdout",
     "output_type": "stream",
     "text": [
      "Resultados implementación propia:\n",
      "Promedio del error =  0.1475 \tDesviación típica =  0.163535164414\n",
      "\n",
      "Resultados sklearn:\n",
      "Promedio del error =  0.1325 \tDesviación típica =  0.0556776436283\n"
     ]
    }
   ],
   "source": [
    "k = 21\n",
    "\n",
    "estrategia = ValidacionCruzada()\n",
    "knn = ClasificadorVecinosProximos(k)\n",
    "val = knn.validacion(estrategia,dataset,knn)\n",
    "\n",
    "clf = KNeighborsClassifier(k)\n",
    "pred_kfolds = cross_val_score(clf, dataset.datos[:,:-1], dataset.datos[:,-1] , cv = 5)\n",
    "\n",
    "#Obtenemos el error de la media de las predicciones\n",
    "media_error = 1 - pred_kfolds.mean()\n",
    "\n",
    "#Obtenemos la desviacion tipica de las predicciones\n",
    "desv_error = pred_kfolds.std()\n",
    "\n",
    "\n",
    "print(\"Resultados implementación propia:\")\n",
    "print(\"Promedio del error = \", np.array(val).mean(), \"\\tDesviación típica = \", np.array(val).std())\n",
    "print(\"\\nResultados sklearn:\")\n",
    "print(\"Promedio del error = \", media_error, \"\\tDesviación típica = \", desv_error)"
   ]
  },
  {
   "cell_type": "markdown",
   "metadata": {},
   "source": [
    "#### K = 51"
   ]
  },
  {
   "cell_type": "code",
   "execution_count": 23,
   "metadata": {},
   "outputs": [
    {
     "name": "stdout",
     "output_type": "stream",
     "text": [
      "Resultados implementación propia:\n",
      "Promedio del error =  0.1375 \tDesviación típica =  0.150312175156\n",
      "\n",
      "Resultados sklearn:\n",
      "Promedio del error =  0.16 \tDesviación típica =  0.0483476990145\n"
     ]
    }
   ],
   "source": [
    "k = 51\n",
    "\n",
    "estrategia = ValidacionCruzada()\n",
    "knn = ClasificadorVecinosProximos(k)\n",
    "val = knn.validacion(estrategia,dataset,knn)\n",
    "\n",
    "clf = KNeighborsClassifier(k)\n",
    "pred_kfolds = cross_val_score(clf, dataset.datos[:,:-1], dataset.datos[:,-1] , cv = 5)\n",
    "\n",
    "#Obtenemos el error de la media de las predicciones\n",
    "media_error = 1 - pred_kfolds.mean()\n",
    "\n",
    "#Obtenemos la desviacion tipica de las predicciones\n",
    "desv_error = pred_kfolds.std()\n",
    "\n",
    "\n",
    "print(\"Resultados implementación propia:\")\n",
    "print(\"Promedio del error = \", np.array(val).mean(), \"\\tDesviación típica = \", np.array(val).std())\n",
    "print(\"\\nResultados sklearn:\")\n",
    "print(\"Promedio del error = \", media_error, \"\\tDesviación típica = \", desv_error)"
   ]
  },
  {
   "cell_type": "markdown",
   "metadata": {},
   "source": [
    "### Resultados de ejecución del ejemplo 2"
   ]
  },
  {
   "cell_type": "code",
   "execution_count": 27,
   "metadata": {
    "collapsed": true
   },
   "outputs": [],
   "source": [
    "dataset = Datos(\"ConjuntosDatos/example2.data\")"
   ]
  },
  {
   "cell_type": "markdown",
   "metadata": {},
   "source": [
    "#### K = 1"
   ]
  },
  {
   "cell_type": "code",
   "execution_count": 28,
   "metadata": {},
   "outputs": [
    {
     "name": "stdout",
     "output_type": "stream",
     "text": [
      "Resultados implementación propia:\n",
      "Promedio del error =  0.0 \tDesviación típica =  0.0\n",
      "\n",
      "Resultados sklearn:\n",
      "Promedio del error =  0.0 \tDesviación típica =  0.0\n"
     ]
    }
   ],
   "source": [
    "k = 1\n",
    "\n",
    "estrategia = ValidacionCruzada()\n",
    "knn = ClasificadorVecinosProximos(k)\n",
    "val = knn.validacion(estrategia,dataset,knn)\n",
    "\n",
    "clf = KNeighborsClassifier(k)\n",
    "pred_kfolds = cross_val_score(clf, dataset.datos[:,:-1], dataset.datos[:,-1] , cv = 5)\n",
    "\n",
    "#Obtenemos el error de la media de las predicciones\n",
    "media_error = 1 - pred_kfolds.mean()\n",
    "\n",
    "#Obtenemos la desviacion tipica de las predicciones\n",
    "desv_error = pred_kfolds.std()\n",
    "\n",
    "\n",
    "print(\"Resultados implementación propia:\")\n",
    "print(\"Promedio del error = \", np.array(val).mean(), \"\\tDesviación típica = \", np.array(val).std())\n",
    "print(\"\\nResultados sklearn:\")\n",
    "print(\"Promedio del error = \", media_error, \"\\tDesviación típica = \", desv_error)"
   ]
  },
  {
   "cell_type": "markdown",
   "metadata": {},
   "source": [
    "#### K = 3"
   ]
  },
  {
   "cell_type": "code",
   "execution_count": 29,
   "metadata": {},
   "outputs": [
    {
     "name": "stdout",
     "output_type": "stream",
     "text": [
      "Resultados implementación propia:\n",
      "Promedio del error =  0.0 \tDesviación típica =  0.0\n",
      "\n",
      "Resultados sklearn:\n",
      "Promedio del error =  0.0 \tDesviación típica =  0.0\n"
     ]
    }
   ],
   "source": [
    "k = 3\n",
    "\n",
    "estrategia = ValidacionCruzada()\n",
    "knn = ClasificadorVecinosProximos(k)\n",
    "val = knn.validacion(estrategia,dataset,knn)\n",
    "\n",
    "clf = KNeighborsClassifier(k)\n",
    "pred_kfolds = cross_val_score(clf, dataset.datos[:,:-1], dataset.datos[:,-1] , cv = 5)\n",
    "\n",
    "#Obtenemos el error de la media de las predicciones\n",
    "media_error = 1 - pred_kfolds.mean()\n",
    "\n",
    "#Obtenemos la desviacion tipica de las predicciones\n",
    "desv_error = pred_kfolds.std()\n",
    "\n",
    "\n",
    "print(\"Resultados implementación propia:\")\n",
    "print(\"Promedio del error = \", np.array(val).mean(), \"\\tDesviación típica = \", np.array(val).std())\n",
    "print(\"\\nResultados sklearn:\")\n",
    "print(\"Promedio del error = \", media_error, \"\\tDesviación típica = \", desv_error)"
   ]
  },
  {
   "cell_type": "markdown",
   "metadata": {},
   "source": [
    "#### K = 5"
   ]
  },
  {
   "cell_type": "code",
   "execution_count": 30,
   "metadata": {},
   "outputs": [
    {
     "name": "stdout",
     "output_type": "stream",
     "text": [
      "Resultados implementación propia:\n",
      "Promedio del error =  0.0 \tDesviación típica =  0.0\n",
      "\n",
      "Resultados sklearn:\n",
      "Promedio del error =  0.0 \tDesviación típica =  0.0\n"
     ]
    }
   ],
   "source": [
    "k = 5\n",
    "\n",
    "estrategia = ValidacionCruzada()\n",
    "knn = ClasificadorVecinosProximos(k)\n",
    "val = knn.validacion(estrategia,dataset,knn)\n",
    "\n",
    "clf = KNeighborsClassifier(k)\n",
    "pred_kfolds = cross_val_score(clf, dataset.datos[:,:-1], dataset.datos[:,-1] , cv = 5)\n",
    "\n",
    "#Obtenemos el error de la media de las predicciones\n",
    "media_error = 1 - pred_kfolds.mean()\n",
    "\n",
    "#Obtenemos la desviacion tipica de las predicciones\n",
    "desv_error = pred_kfolds.std()\n",
    "\n",
    "\n",
    "print(\"Resultados implementación propia:\")\n",
    "print(\"Promedio del error = \", np.array(val).mean(), \"\\tDesviación típica = \", np.array(val).std())\n",
    "print(\"\\nResultados sklearn:\")\n",
    "print(\"Promedio del error = \", media_error, \"\\tDesviación típica = \", desv_error)"
   ]
  },
  {
   "cell_type": "markdown",
   "metadata": {},
   "source": [
    "#### K = 11"
   ]
  },
  {
   "cell_type": "code",
   "execution_count": 32,
   "metadata": {},
   "outputs": [
    {
     "name": "stdout",
     "output_type": "stream",
     "text": [
      "Resultados implementación propia:\n",
      "Promedio del error =  0.0 \tDesviación típica =  0.0\n",
      "\n",
      "Resultados sklearn:\n",
      "Promedio del error =  0.0 \tDesviación típica =  0.0\n"
     ]
    }
   ],
   "source": [
    "k = 11\n",
    "\n",
    "estrategia = ValidacionCruzada()\n",
    "knn = ClasificadorVecinosProximos(k)\n",
    "val = knn.validacion(estrategia,dataset,knn)\n",
    "\n",
    "clf = KNeighborsClassifier(k)\n",
    "pred_kfolds = cross_val_score(clf, dataset.datos[:,:-1], dataset.datos[:,-1] , cv = 5)\n",
    "\n",
    "#Obtenemos el error de la media de las predicciones\n",
    "media_error = 1 - pred_kfolds.mean()\n",
    "\n",
    "#Obtenemos la desviacion tipica de las predicciones\n",
    "desv_error = pred_kfolds.std()\n",
    "\n",
    "\n",
    "print(\"Resultados implementación propia:\")\n",
    "print(\"Promedio del error = \", np.array(val).mean(), \"\\tDesviación típica = \", np.array(val).std())\n",
    "print(\"\\nResultados sklearn:\")\n",
    "print(\"Promedio del error = \", media_error, \"\\tDesviación típica = \", desv_error)"
   ]
  },
  {
   "cell_type": "markdown",
   "metadata": {},
   "source": [
    "#### K = 21"
   ]
  },
  {
   "cell_type": "code",
   "execution_count": 33,
   "metadata": {},
   "outputs": [
    {
     "name": "stdout",
     "output_type": "stream",
     "text": [
      "Resultados implementación propia:\n",
      "Promedio del error =  0.0 \tDesviación típica =  0.0\n",
      "\n",
      "Resultados sklearn:\n",
      "Promedio del error =  0.0 \tDesviación típica =  0.0\n"
     ]
    }
   ],
   "source": [
    "k = 21\n",
    "\n",
    "estrategia = ValidacionCruzada()\n",
    "knn = ClasificadorVecinosProximos(k)\n",
    "val = knn.validacion(estrategia,dataset,knn)\n",
    "\n",
    "clf = KNeighborsClassifier(k)\n",
    "pred_kfolds = cross_val_score(clf, dataset.datos[:,:-1], dataset.datos[:,-1] , cv = 5)\n",
    "\n",
    "#Obtenemos el error de la media de las predicciones\n",
    "media_error = 1 - pred_kfolds.mean()\n",
    "\n",
    "#Obtenemos la desviacion tipica de las predicciones\n",
    "desv_error = pred_kfolds.std()\n",
    "\n",
    "\n",
    "print(\"Resultados implementación propia:\")\n",
    "print(\"Promedio del error = \", np.array(val).mean(), \"\\tDesviación típica = \", np.array(val).std())\n",
    "print(\"\\nResultados sklearn:\")\n",
    "print(\"Promedio del error = \", media_error, \"\\tDesviación típica = \", desv_error)"
   ]
  },
  {
   "cell_type": "markdown",
   "metadata": {},
   "source": [
    "#### K = 51"
   ]
  },
  {
   "cell_type": "code",
   "execution_count": 34,
   "metadata": {},
   "outputs": [
    {
     "name": "stdout",
     "output_type": "stream",
     "text": [
      "Resultados implementación propia:\n",
      "Promedio del error =  0.0 \tDesviación típica =  0.0\n",
      "\n",
      "Resultados sklearn:\n",
      "Promedio del error =  0.0 \tDesviación típica =  0.0\n"
     ]
    }
   ],
   "source": [
    "k = 51\n",
    "\n",
    "estrategia = ValidacionCruzada()\n",
    "knn = ClasificadorVecinosProximos(k)\n",
    "val = knn.validacion(estrategia,dataset,knn)\n",
    "\n",
    "clf = KNeighborsClassifier(k)\n",
    "pred_kfolds = cross_val_score(clf, dataset.datos[:,:-1], dataset.datos[:,-1] , cv = 5)\n",
    "\n",
    "#Obtenemos el error de la media de las predicciones\n",
    "media_error = 1 - pred_kfolds.mean()\n",
    "\n",
    "#Obtenemos la desviacion tipica de las predicciones\n",
    "desv_error = pred_kfolds.std()\n",
    "\n",
    "\n",
    "print(\"Resultados implementación propia:\")\n",
    "print(\"Promedio del error = \", np.array(val).mean(), \"\\tDesviación típica = \", np.array(val).std())\n",
    "print(\"\\nResultados sklearn:\")\n",
    "print(\"Promedio del error = \", media_error, \"\\tDesviación típica = \", desv_error)"
   ]
  },
  {
   "cell_type": "markdown",
   "metadata": {},
   "source": [
    "### Resultados de ejecución del ejemplo 3"
   ]
  },
  {
   "cell_type": "code",
   "execution_count": 35,
   "metadata": {
    "collapsed": true
   },
   "outputs": [],
   "source": [
    "dataset = Datos(\"ConjuntosDatos/example3.data\")"
   ]
  },
  {
   "cell_type": "markdown",
   "metadata": {},
   "source": [
    "#### K = 1"
   ]
  },
  {
   "cell_type": "code",
   "execution_count": 36,
   "metadata": {},
   "outputs": [
    {
     "name": "stdout",
     "output_type": "stream",
     "text": [
      "Resultados implementación propia:\n",
      "Promedio del error =  0.0225 \tDesviación típica =  0.0631961232988\n",
      "\n",
      "Resultados sklearn:\n",
      "Promedio del error =  0.0325 \tDesviación típica =  0.012747548784\n"
     ]
    }
   ],
   "source": [
    "k = 1\n",
    "\n",
    "estrategia = ValidacionCruzada()\n",
    "knn = ClasificadorVecinosProximos(k)\n",
    "val = knn.validacion(estrategia,dataset,knn)\n",
    "\n",
    "clf = KNeighborsClassifier(k)\n",
    "pred_kfolds = cross_val_score(clf, dataset.datos[:,:-1], dataset.datos[:,-1] , cv = 5)\n",
    "\n",
    "#Obtenemos el error de la media de las predicciones\n",
    "media_error = 1 - pred_kfolds.mean()\n",
    "\n",
    "#Obtenemos la desviacion tipica de las predicciones\n",
    "desv_error = pred_kfolds.std()\n",
    "\n",
    "\n",
    "print(\"Resultados implementación propia:\")\n",
    "print(\"Promedio del error = \", np.array(val).mean(), \"\\tDesviación típica = \", np.array(val).std())\n",
    "print(\"\\nResultados sklearn:\")\n",
    "print(\"Promedio del error = \", media_error, \"\\tDesviación típica = \", desv_error)"
   ]
  },
  {
   "cell_type": "markdown",
   "metadata": {},
   "source": [
    "#### K = 3"
   ]
  },
  {
   "cell_type": "code",
   "execution_count": 37,
   "metadata": {},
   "outputs": [
    {
     "name": "stdout",
     "output_type": "stream",
     "text": [
      "Resultados implementación propia:\n",
      "Promedio del error =  0.035 \tDesviación típica =  0.0759934207679\n",
      "\n",
      "Resultados sklearn:\n",
      "Promedio del error =  0.0425 \tDesviación típica =  0.0244948974278\n"
     ]
    }
   ],
   "source": [
    "k = 3\n",
    "\n",
    "estrategia = ValidacionCruzada()\n",
    "knn = ClasificadorVecinosProximos(k)\n",
    "val = knn.validacion(estrategia,dataset,knn)\n",
    "\n",
    "clf = KNeighborsClassifier(k)\n",
    "pred_kfolds = cross_val_score(clf, dataset.datos[:,:-1], dataset.datos[:,-1] , cv = 5)\n",
    "\n",
    "#Obtenemos el error de la media de las predicciones\n",
    "media_error = 1 - pred_kfolds.mean()\n",
    "\n",
    "#Obtenemos la desviacion tipica de las predicciones\n",
    "desv_error = pred_kfolds.std()\n",
    "\n",
    "\n",
    "print(\"Resultados implementación propia:\")\n",
    "print(\"Promedio del error = \", np.array(val).mean(), \"\\tDesviación típica = \", np.array(val).std())\n",
    "print(\"\\nResultados sklearn:\")\n",
    "print(\"Promedio del error = \", media_error, \"\\tDesviación típica = \", desv_error)"
   ]
  },
  {
   "cell_type": "markdown",
   "metadata": {},
   "source": [
    "#### K = 5"
   ]
  },
  {
   "cell_type": "code",
   "execution_count": 38,
   "metadata": {},
   "outputs": [
    {
     "name": "stdout",
     "output_type": "stream",
     "text": [
      "Resultados implementación propia:\n",
      "Promedio del error =  0.0325 \tDesviación típica =  0.08027297179\n",
      "\n",
      "Resultados sklearn:\n",
      "Promedio del error =  0.035 \tDesviación típica =  0.0242383992871\n"
     ]
    }
   ],
   "source": [
    "k = 5\n",
    "\n",
    "estrategia = ValidacionCruzada()\n",
    "knn = ClasificadorVecinosProximos(k)\n",
    "val = knn.validacion(estrategia,dataset,knn)\n",
    "\n",
    "clf = KNeighborsClassifier(k)\n",
    "pred_kfolds = cross_val_score(clf, dataset.datos[:,:-1], dataset.datos[:,-1] , cv = 5)\n",
    "\n",
    "#Obtenemos el error de la media de las predicciones\n",
    "media_error = 1 - pred_kfolds.mean()\n",
    "\n",
    "#Obtenemos la desviacion tipica de las predicciones\n",
    "desv_error = pred_kfolds.std()\n",
    "\n",
    "\n",
    "print(\"Resultados implementación propia:\")\n",
    "print(\"Promedio del error = \", np.array(val).mean(), \"\\tDesviación típica = \", np.array(val).std())\n",
    "print(\"\\nResultados sklearn:\")\n",
    "print(\"Promedio del error = \", media_error, \"\\tDesviación típica = \", desv_error)"
   ]
  },
  {
   "cell_type": "markdown",
   "metadata": {},
   "source": [
    "#### K = 11"
   ]
  },
  {
   "cell_type": "code",
   "execution_count": 39,
   "metadata": {},
   "outputs": [
    {
     "name": "stdout",
     "output_type": "stream",
     "text": [
      "Resultados implementación propia:\n",
      "Promedio del error =  0.02 \tDesviación típica =  0.0748331477355\n",
      "\n",
      "Resultados sklearn:\n",
      "Promedio del error =  0.0375 \tDesviación típica =  0.0158113883008\n"
     ]
    }
   ],
   "source": [
    "k = 11\n",
    "\n",
    "estrategia = ValidacionCruzada()\n",
    "knn = ClasificadorVecinosProximos(k)\n",
    "val = knn.validacion(estrategia,dataset,knn)\n",
    "\n",
    "clf = KNeighborsClassifier(k)\n",
    "pred_kfolds = cross_val_score(clf, dataset.datos[:,:-1], dataset.datos[:,-1] , cv = 5)\n",
    "\n",
    "#Obtenemos el error de la media de las predicciones\n",
    "media_error = 1 - pred_kfolds.mean()\n",
    "\n",
    "#Obtenemos la desviacion tipica de las predicciones\n",
    "desv_error = pred_kfolds.std()\n",
    "\n",
    "\n",
    "print(\"Resultados implementación propia:\")\n",
    "print(\"Promedio del error = \", np.array(val).mean(), \"\\tDesviación típica = \", np.array(val).std())\n",
    "print(\"\\nResultados sklearn:\")\n",
    "print(\"Promedio del error = \", media_error, \"\\tDesviación típica = \", desv_error)"
   ]
  },
  {
   "cell_type": "markdown",
   "metadata": {},
   "source": [
    "#### K = 21"
   ]
  },
  {
   "cell_type": "code",
   "execution_count": 40,
   "metadata": {},
   "outputs": [
    {
     "name": "stdout",
     "output_type": "stream",
     "text": [
      "Resultados implementación propia:\n",
      "Promedio del error =  0.03 \tDesviación típica =  0.0714142842854\n",
      "\n",
      "Resultados sklearn:\n",
      "Promedio del error =  0.04 \tDesviación típica =  0.0229128784748\n"
     ]
    }
   ],
   "source": [
    "k = 21\n",
    "\n",
    "estrategia = ValidacionCruzada()\n",
    "knn = ClasificadorVecinosProximos(k)\n",
    "val = knn.validacion(estrategia,dataset,knn)\n",
    "\n",
    "clf = KNeighborsClassifier(k)\n",
    "pred_kfolds = cross_val_score(clf, dataset.datos[:,:-1], dataset.datos[:,-1] , cv = 5)\n",
    "\n",
    "#Obtenemos el error de la media de las predicciones\n",
    "media_error = 1 - pred_kfolds.mean()\n",
    "\n",
    "#Obtenemos la desviacion tipica de las predicciones\n",
    "desv_error = pred_kfolds.std()\n",
    "\n",
    "\n",
    "print(\"Resultados implementación propia:\")\n",
    "print(\"Promedio del error = \", np.array(val).mean(), \"\\tDesviación típica = \", np.array(val).std())\n",
    "print(\"\\nResultados sklearn:\")\n",
    "print(\"Promedio del error = \", media_error, \"\\tDesviación típica = \", desv_error)"
   ]
  },
  {
   "cell_type": "markdown",
   "metadata": {},
   "source": [
    "#### K = 51"
   ]
  },
  {
   "cell_type": "code",
   "execution_count": 41,
   "metadata": {},
   "outputs": [
    {
     "name": "stdout",
     "output_type": "stream",
     "text": [
      "Resultados implementación propia:\n",
      "Promedio del error =  0.015 \tDesviación típica =  0.0526782687643\n",
      "\n",
      "Resultados sklearn:\n",
      "Promedio del error =  0.035 \tDesviación típica =  0.00935414346693\n"
     ]
    }
   ],
   "source": [
    "k = 51\n",
    "\n",
    "estrategia = ValidacionCruzada()\n",
    "knn = ClasificadorVecinosProximos(k)\n",
    "val = knn.validacion(estrategia,dataset,knn)\n",
    "\n",
    "clf = KNeighborsClassifier(k)\n",
    "pred_kfolds = cross_val_score(clf, dataset.datos[:,:-1], dataset.datos[:,-1] , cv = 5)\n",
    "\n",
    "#Obtenemos el error de la media de las predicciones\n",
    "media_error = 1 - pred_kfolds.mean()\n",
    "\n",
    "#Obtenemos la desviacion tipica de las predicciones\n",
    "desv_error = pred_kfolds.std()\n",
    "\n",
    "\n",
    "print(\"Resultados implementación propia:\")\n",
    "print(\"Promedio del error = \", np.array(val).mean(), \"\\tDesviación típica = \", np.array(val).std())\n",
    "print(\"\\nResultados sklearn:\")\n",
    "print(\"Promedio del error = \", media_error, \"\\tDesviación típica = \", desv_error)"
   ]
  },
  {
   "cell_type": "markdown",
   "metadata": {},
   "source": [
    "### Resultados de ejecución del ejemplo 4\n"
   ]
  },
  {
   "cell_type": "code",
   "execution_count": 42,
   "metadata": {
    "collapsed": true
   },
   "outputs": [],
   "source": [
    "dataset = Datos(\"ConjuntosDatos/example4.data\")"
   ]
  },
  {
   "cell_type": "markdown",
   "metadata": {},
   "source": [
    "#### K = 1"
   ]
  },
  {
   "cell_type": "code",
   "execution_count": 43,
   "metadata": {},
   "outputs": [
    {
     "name": "stdout",
     "output_type": "stream",
     "text": [
      "Resultados implementación propia:\n",
      "Promedio del error =  0.03 \tDesviación típica =  0.0714142842854\n",
      "\n",
      "Resultados sklearn:\n",
      "Promedio del error =  0.04 \tDesviación típica =  0.0374165738677\n"
     ]
    }
   ],
   "source": [
    "k = 1\n",
    "\n",
    "estrategia = ValidacionCruzada()\n",
    "knn = ClasificadorVecinosProximos(k)\n",
    "val = knn.validacion(estrategia,dataset,knn)\n",
    "\n",
    "clf = KNeighborsClassifier(k)\n",
    "pred_kfolds = cross_val_score(clf, dataset.datos[:,:-1], dataset.datos[:,-1] , cv = 5)\n",
    "\n",
    "#Obtenemos el error de la media de las predicciones\n",
    "media_error = 1 - pred_kfolds.mean()\n",
    "\n",
    "#Obtenemos la desviacion tipica de las predicciones\n",
    "desv_error = pred_kfolds.std()\n",
    "\n",
    "\n",
    "print(\"Resultados implementación propia:\")\n",
    "print(\"Promedio del error = \", np.array(val).mean(), \"\\tDesviación típica = \", np.array(val).std())\n",
    "print(\"\\nResultados sklearn:\")\n",
    "print(\"Promedio del error = \", media_error, \"\\tDesviación típica = \", desv_error)"
   ]
  },
  {
   "cell_type": "markdown",
   "metadata": {},
   "source": [
    "#### K = 3"
   ]
  },
  {
   "cell_type": "code",
   "execution_count": 44,
   "metadata": {},
   "outputs": [
    {
     "name": "stdout",
     "output_type": "stream",
     "text": [
      "Resultados implementación propia:\n",
      "Promedio del error =  0.57 \tDesviación típica =  0.247184141886\n",
      "\n",
      "Resultados sklearn:\n",
      "Promedio del error =  0.53 \tDesviación típica =  0.10295630141\n"
     ]
    }
   ],
   "source": [
    "k = 53\n",
    "\n",
    "estrategia = ValidacionCruzada()\n",
    "knn = ClasificadorVecinosProximos(k)\n",
    "val = knn.validacion(estrategia,dataset,knn)\n",
    "\n",
    "clf = KNeighborsClassifier(k)\n",
    "pred_kfolds = cross_val_score(clf, dataset.datos[:,:-1], dataset.datos[:,-1] , cv = 5)\n",
    "\n",
    "#Obtenemos el error de la media de las predicciones\n",
    "media_error = 1 - pred_kfolds.mean()\n",
    "\n",
    "#Obtenemos la desviacion tipica de las predicciones\n",
    "desv_error = pred_kfolds.std()\n",
    "\n",
    "\n",
    "print(\"Resultados implementación propia:\")\n",
    "print(\"Promedio del error = \", np.array(val).mean(), \"\\tDesviación típica = \", np.array(val).std())\n",
    "print(\"\\nResultados sklearn:\")\n",
    "print(\"Promedio del error = \", media_error, \"\\tDesviación típica = \", desv_error)"
   ]
  },
  {
   "cell_type": "markdown",
   "metadata": {},
   "source": [
    "#### K = 5"
   ]
  },
  {
   "cell_type": "code",
   "execution_count": 45,
   "metadata": {},
   "outputs": [
    {
     "name": "stdout",
     "output_type": "stream",
     "text": [
      "Resultados implementación propia:\n",
      "Promedio del error =  0.12 \tDesviación típica =  0.16\n",
      "\n",
      "Resultados sklearn:\n",
      "Promedio del error =  0.1 \tDesviación típica =  0.0836660026534\n"
     ]
    }
   ],
   "source": [
    "k = 5\n",
    "\n",
    "estrategia = ValidacionCruzada()\n",
    "knn = ClasificadorVecinosProximos(k)\n",
    "val = knn.validacion(estrategia,dataset,knn)\n",
    "\n",
    "clf = KNeighborsClassifier(k)\n",
    "pred_kfolds = cross_val_score(clf, dataset.datos[:,:-1], dataset.datos[:,-1] , cv = 5)\n",
    "\n",
    "#Obtenemos el error de la media de las predicciones\n",
    "media_error = 1 - pred_kfolds.mean()\n",
    "\n",
    "#Obtenemos la desviacion tipica de las predicciones\n",
    "desv_error = pred_kfolds.std()\n",
    "\n",
    "\n",
    "print(\"Resultados implementación propia:\")\n",
    "print(\"Promedio del error = \", np.array(val).mean(), \"\\tDesviación típica = \", np.array(val).std())\n",
    "print(\"\\nResultados sklearn:\")\n",
    "print(\"Promedio del error = \", media_error, \"\\tDesviación típica = \", desv_error)"
   ]
  },
  {
   "cell_type": "markdown",
   "metadata": {},
   "source": [
    "#### K = 11"
   ]
  },
  {
   "cell_type": "code",
   "execution_count": 46,
   "metadata": {
    "scrolled": true
   },
   "outputs": [
    {
     "name": "stdout",
     "output_type": "stream",
     "text": [
      "Resultados implementación propia:\n",
      "Promedio del error =  0.2 \tDesviación típica =  0.167332005307\n",
      "\n",
      "Resultados sklearn:\n",
      "Promedio del error =  0.21 \tDesviación típica =  0.0734846922835\n"
     ]
    }
   ],
   "source": [
    "k = 11\n",
    "\n",
    "estrategia = ValidacionCruzada()\n",
    "knn = ClasificadorVecinosProximos(k)\n",
    "val = knn.validacion(estrategia,dataset,knn)\n",
    "\n",
    "clf = KNeighborsClassifier(k)\n",
    "pred_kfolds = cross_val_score(clf, dataset.datos[:,:-1], dataset.datos[:,-1] , cv = 5)\n",
    "\n",
    "#Obtenemos el error de la media de las predicciones\n",
    "media_error = 1 - pred_kfolds.mean()\n",
    "\n",
    "#Obtenemos la desviacion tipica de las predicciones\n",
    "desv_error = pred_kfolds.std()\n",
    "\n",
    "\n",
    "print(\"Resultados implementación propia:\")\n",
    "print(\"Promedio del error = \", np.array(val).mean(), \"\\tDesviación típica = \", np.array(val).std())\n",
    "print(\"\\nResultados sklearn:\")\n",
    "print(\"Promedio del error = \", media_error, \"\\tDesviación típica = \", desv_error)"
   ]
  },
  {
   "cell_type": "markdown",
   "metadata": {},
   "source": [
    "#### K = 21"
   ]
  },
  {
   "cell_type": "code",
   "execution_count": 47,
   "metadata": {},
   "outputs": [
    {
     "name": "stdout",
     "output_type": "stream",
     "text": [
      "Resultados implementación propia:\n",
      "Promedio del error =  0.36 \tDesviación típica =  0.20591260282\n",
      "\n",
      "Resultados sklearn:\n",
      "Promedio del error =  0.35 \tDesviación típica =  0.11401754251\n"
     ]
    }
   ],
   "source": [
    "k = 21\n",
    "\n",
    "estrategia = ValidacionCruzada()\n",
    "knn = ClasificadorVecinosProximos(k)\n",
    "val = knn.validacion(estrategia,dataset,knn)\n",
    "\n",
    "clf = KNeighborsClassifier(k)\n",
    "pred_kfolds = cross_val_score(clf, dataset.datos[:,:-1], dataset.datos[:,-1] , cv = 5)\n",
    "\n",
    "#Obtenemos el error de la media de las predicciones\n",
    "media_error = 1 - pred_kfolds.mean()\n",
    "\n",
    "#Obtenemos la desviacion tipica de las predicciones\n",
    "desv_error = pred_kfolds.std()\n",
    "\n",
    "\n",
    "print(\"Resultados implementación propia:\")\n",
    "print(\"Promedio del error = \", np.array(val).mean(), \"\\tDesviación típica = \", np.array(val).std())\n",
    "print(\"\\nResultados sklearn:\")\n",
    "print(\"Promedio del error = \", media_error, \"\\tDesviación típica = \", desv_error)"
   ]
  },
  {
   "cell_type": "markdown",
   "metadata": {},
   "source": [
    "#### K = 51"
   ]
  },
  {
   "cell_type": "code",
   "execution_count": 48,
   "metadata": {},
   "outputs": [
    {
     "name": "stdout",
     "output_type": "stream",
     "text": [
      "Resultados implementación propia:\n",
      "Promedio del error =  0.55 \tDesviación típica =  0.198746069144\n",
      "\n",
      "Resultados sklearn:\n",
      "Promedio del error =  0.5 \tDesviación típica =  0.137840487521\n"
     ]
    }
   ],
   "source": [
    "k = 51\n",
    "\n",
    "estrategia = ValidacionCruzada()\n",
    "knn = ClasificadorVecinosProximos(k)\n",
    "val = knn.validacion(estrategia,dataset,knn)\n",
    "\n",
    "clf = KNeighborsClassifier(k)\n",
    "pred_kfolds = cross_val_score(clf, dataset.datos[:,:-1], dataset.datos[:,-1] , cv = 5)\n",
    "\n",
    "#Obtenemos el error de la media de las predicciones\n",
    "media_error = 1 - pred_kfolds.mean()\n",
    "\n",
    "#Obtenemos la desviacion tipica de las predicciones\n",
    "desv_error = pred_kfolds.std()\n",
    "\n",
    "\n",
    "print(\"Resultados implementación propia:\")\n",
    "print(\"Promedio del error = \", np.array(val).mean(), \"\\tDesviación típica = \", np.array(val).std())\n",
    "print(\"\\nResultados sklearn:\")\n",
    "print(\"Promedio del error = \", media_error, \"\\tDesviación típica = \", desv_error)"
   ]
  },
  {
   "cell_type": "markdown",
   "metadata": {},
   "source": [
    "### Resultados de ejecución de wdbc"
   ]
  },
  {
   "cell_type": "code",
   "execution_count": 49,
   "metadata": {
    "collapsed": true
   },
   "outputs": [],
   "source": [
    "dataset = Datos(\"ConjuntosDatos/wdbc.data\")"
   ]
  },
  {
   "cell_type": "markdown",
   "metadata": {},
   "source": [
    "#### K = 1"
   ]
  },
  {
   "cell_type": "code",
   "execution_count": 50,
   "metadata": {},
   "outputs": [
    {
     "name": "stdout",
     "output_type": "stream",
     "text": [
      "Resultados implementación propia:\n",
      "Promedio del error =  0.0850877192982 \tDesviación típica =  0.137159438624\n",
      "\n",
      "Resultados sklearn:\n",
      "Promedio del error =  0.0948364755675 \tDesviación típica =  0.0233290049696\n"
     ]
    }
   ],
   "source": [
    "k = 1\n",
    "\n",
    "estrategia = ValidacionCruzada()\n",
    "knn = ClasificadorVecinosProximos(k)\n",
    "val = knn.validacion(estrategia,dataset,knn)\n",
    "\n",
    "clf = KNeighborsClassifier(k)\n",
    "pred_kfolds = cross_val_score(clf, dataset.datos[:,:-1], dataset.datos[:,-1] , cv = 5)\n",
    "\n",
    "#Obtenemos el error de la media de las predicciones\n",
    "media_error = 1 - pred_kfolds.mean()\n",
    "\n",
    "#Obtenemos la desviacion tipica de las predicciones\n",
    "desv_error = pred_kfolds.std()\n",
    "\n",
    "\n",
    "print(\"Resultados implementación propia:\")\n",
    "print(\"Promedio del error = \", np.array(val).mean(), \"\\tDesviación típica = \", np.array(val).std())\n",
    "print(\"\\nResultados sklearn:\")\n",
    "print(\"Promedio del error = \", media_error, \"\\tDesviación típica = \", desv_error)"
   ]
  },
  {
   "cell_type": "markdown",
   "metadata": {},
   "source": [
    "#### K = 3"
   ]
  },
  {
   "cell_type": "code",
   "execution_count": 51,
   "metadata": {},
   "outputs": [
    {
     "name": "stdout",
     "output_type": "stream",
     "text": [
      "Resultados implementación propia:\n",
      "Promedio del error =  0.0736842105263 \tDesviación típica =  0.119246634863\n",
      "\n",
      "Resultados sklearn:\n",
      "Promedio del error =  0.0807079646018 \tDesviación típica =  0.0239353941924\n"
     ]
    }
   ],
   "source": [
    "k = 3\n",
    "\n",
    "estrategia = ValidacionCruzada()\n",
    "knn = ClasificadorVecinosProximos(k)\n",
    "val = knn.validacion(estrategia,dataset,knn)\n",
    "\n",
    "clf = KNeighborsClassifier(k)\n",
    "pred_kfolds = cross_val_score(clf, dataset.datos[:,:-1], dataset.datos[:,-1] , cv = 5)\n",
    "\n",
    "#Obtenemos el error de la media de las predicciones\n",
    "media_error = 1 - pred_kfolds.mean()\n",
    "\n",
    "#Obtenemos la desviacion tipica de las predicciones\n",
    "desv_error = pred_kfolds.std()\n",
    "\n",
    "\n",
    "print(\"Resultados implementación propia:\")\n",
    "print(\"Promedio del error = \", np.array(val).mean(), \"\\tDesviación típica = \", np.array(val).std())\n",
    "print(\"\\nResultados sklearn:\")\n",
    "print(\"Promedio del error = \", media_error, \"\\tDesviación típica = \", desv_error)"
   ]
  },
  {
   "cell_type": "markdown",
   "metadata": {},
   "source": [
    "#### K = 5"
   ]
  },
  {
   "cell_type": "code",
   "execution_count": 52,
   "metadata": {},
   "outputs": [
    {
     "name": "stdout",
     "output_type": "stream",
     "text": [
      "Resultados implementación propia:\n",
      "Promedio del error =  0.0666666666667 \tDesviación típica =  0.123307251865\n",
      "\n",
      "Resultados sklearn:\n",
      "Promedio del error =  0.0719507502886 \tDesviación típica =  0.021299132348\n"
     ]
    }
   ],
   "source": [
    "k = 5\n",
    "\n",
    "estrategia = ValidacionCruzada()\n",
    "knn = ClasificadorVecinosProximos(k)\n",
    "val = knn.validacion(estrategia,dataset,knn)\n",
    "\n",
    "clf = KNeighborsClassifier(k)\n",
    "pred_kfolds = cross_val_score(clf, dataset.datos[:,:-1], dataset.datos[:,-1] , cv = 5)\n",
    "\n",
    "#Obtenemos el error de la media de las predicciones\n",
    "media_error = 1 - pred_kfolds.mean()\n",
    "\n",
    "#Obtenemos la desviacion tipica de las predicciones\n",
    "desv_error = pred_kfolds.std()\n",
    "\n",
    "\n",
    "print(\"Resultados implementación propia:\")\n",
    "print(\"Promedio del error = \", np.array(val).mean(), \"\\tDesviación típica = \", np.array(val).std())\n",
    "print(\"\\nResultados sklearn:\")\n",
    "print(\"Promedio del error = \", media_error, \"\\tDesviación típica = \", desv_error)"
   ]
  },
  {
   "cell_type": "markdown",
   "metadata": {},
   "source": [
    "#### K = 11"
   ]
  },
  {
   "cell_type": "code",
   "execution_count": 53,
   "metadata": {},
   "outputs": [
    {
     "name": "stdout",
     "output_type": "stream",
     "text": [
      "Resultados implementación propia:\n",
      "Promedio del error =  0.0671052631579 \tDesviación típica =  0.111965875787\n",
      "\n",
      "Resultados sklearn:\n",
      "Promedio del error =  0.0701500577145 \tDesviación típica =  0.0272385770708\n"
     ]
    }
   ],
   "source": [
    "k = 11\n",
    "\n",
    "estrategia = ValidacionCruzada()\n",
    "knn = ClasificadorVecinosProximos(k)\n",
    "val = knn.validacion(estrategia,dataset,knn)\n",
    "\n",
    "clf = KNeighborsClassifier(k)\n",
    "pred_kfolds = cross_val_score(clf, dataset.datos[:,:-1], dataset.datos[:,-1] , cv = 5)\n",
    "\n",
    "#Obtenemos el error de la media de las predicciones\n",
    "media_error = 1 - pred_kfolds.mean()\n",
    "\n",
    "#Obtenemos la desviacion tipica de las predicciones\n",
    "desv_error = pred_kfolds.std()\n",
    "\n",
    "\n",
    "print(\"Resultados implementación propia:\")\n",
    "print(\"Promedio del error = \", np.array(val).mean(), \"\\tDesviación típica = \", np.array(val).std())\n",
    "print(\"\\nResultados sklearn:\")\n",
    "print(\"Promedio del error = \", media_error, \"\\tDesviación típica = \", desv_error)"
   ]
  },
  {
   "cell_type": "markdown",
   "metadata": {},
   "source": [
    "#### K = 21"
   ]
  },
  {
   "cell_type": "code",
   "execution_count": 54,
   "metadata": {},
   "outputs": [
    {
     "name": "stdout",
     "output_type": "stream",
     "text": [
      "Resultados implementación propia:\n",
      "Promedio del error =  0.0701754385965 \tDesviación típica =  0.121344676953\n",
      "\n",
      "Resultados sklearn:\n",
      "Promedio del error =  0.0700577145056 \tDesviación típica =  0.0336032723434\n"
     ]
    }
   ],
   "source": [
    "k = 21\n",
    "\n",
    "estrategia = ValidacionCruzada()\n",
    "knn = ClasificadorVecinosProximos(k)\n",
    "val = knn.validacion(estrategia,dataset,knn)\n",
    "\n",
    "clf = KNeighborsClassifier(k)\n",
    "pred_kfolds = cross_val_score(clf, dataset.datos[:,:-1], dataset.datos[:,-1] , cv = 5)\n",
    "\n",
    "#Obtenemos el error de la media de las predicciones\n",
    "media_error = 1 - pred_kfolds.mean()\n",
    "\n",
    "#Obtenemos la desviacion tipica de las predicciones\n",
    "desv_error = pred_kfolds.std()\n",
    "\n",
    "\n",
    "print(\"Resultados implementación propia:\")\n",
    "print(\"Promedio del error = \", np.array(val).mean(), \"\\tDesviación típica = \", np.array(val).std())\n",
    "print(\"\\nResultados sklearn:\")\n",
    "print(\"Promedio del error = \", media_error, \"\\tDesviación típica = \", desv_error)"
   ]
  },
  {
   "cell_type": "markdown",
   "metadata": {},
   "source": [
    "#### K = 51"
   ]
  },
  {
   "cell_type": "code",
   "execution_count": 55,
   "metadata": {},
   "outputs": [
    {
     "name": "stdout",
     "output_type": "stream",
     "text": [
      "Resultados implementación propia:\n",
      "Promedio del error =  0.080701754386 \tDesviación típica =  0.126267047126\n",
      "\n",
      "Resultados sklearn:\n",
      "Promedio del error =  0.0841862254713 \tDesviación típica =  0.025125254323\n"
     ]
    }
   ],
   "source": [
    "k = 51\n",
    "\n",
    "estrategia = ValidacionCruzada()\n",
    "knn = ClasificadorVecinosProximos(k)\n",
    "val = knn.validacion(estrategia,dataset,knn)\n",
    "\n",
    "clf = KNeighborsClassifier(k)\n",
    "pred_kfolds = cross_val_score(clf, dataset.datos[:,:-1], dataset.datos[:,-1] , cv = 5)\n",
    "\n",
    "#Obtenemos el error de la media de las predicciones\n",
    "media_error = 1 - pred_kfolds.mean()\n",
    "\n",
    "#Obtenemos la desviacion tipica de las predicciones\n",
    "desv_error = pred_kfolds.std()\n",
    "\n",
    "\n",
    "print(\"Resultados implementación propia:\")\n",
    "print(\"Promedio del error = \", np.array(val).mean(), \"\\tDesviación típica = \", np.array(val).std())\n",
    "print(\"\\nResultados sklearn:\")\n",
    "print(\"Promedio del error = \", media_error, \"\\tDesviación típica = \", desv_error)"
   ]
  },
  {
   "cell_type": "markdown",
   "metadata": {},
   "source": [
    "### Análisis de los resultados"
   ]
  },
  {
   "cell_type": "markdown",
   "metadata": {},
   "source": []
  },
  {
   "cell_type": "markdown",
   "metadata": {},
   "source": [
    "### 3.1.2 Resultados de Regresión Logística\n"
   ]
  },
  {
   "cell_type": "markdown",
   "metadata": {},
   "source": [
    "### Resultados de ejecución del Ejemplo 1\n"
   ]
  },
  {
   "cell_type": "code",
   "execution_count": 61,
   "metadata": {
    "collapsed": true
   },
   "outputs": [],
   "source": [
    "dataset = Datos(\"ConjuntosDatos/example1.data\")"
   ]
  },
  {
   "cell_type": "markdown",
   "metadata": {},
   "source": [
    "#### η = 1, pasos = 10"
   ]
  },
  {
   "cell_type": "code",
   "execution_count": 64,
   "metadata": {},
   "outputs": [
    {
     "name": "stdout",
     "output_type": "stream",
     "text": [
      "Resultados implementación propia:\n",
      "Promedio del error =  0.0 \tDesviación típica =  0.0\n",
      "\n",
      "Resultados sklearn:\n",
      "Promedio del error =  0.58 \tDesviación típica =  0.031224989992\n"
     ]
    }
   ],
   "source": [
    "estrategia = ValidacionCruzada()\n",
    "reglog = ClasificadorRegresionLogistica()\n",
    "val = reglog.validacion(estrategia,dataset,reglog)\n",
    "\n",
    "\n",
    "X = dataset.datos[:,:-1]\n",
    "Y = dataset.datos[:,-1]\n",
    "\n",
    "clf = LogisticRegression(solver='sag', max_iter=200).fit(X, Y)\n",
    "\n",
    "pred_clf = cross_val_score(clf, dataset.datos[:,:-1], dataset.datos[:,-1] , cv = 5)\n",
    "\n",
    "#Obtenemos el error de la media de las predicciones\n",
    "media_error = 1 - pred_clf.mean()\n",
    "\n",
    "#Obtenemos la desviacion tipica de las predicciones\n",
    "desv_error = pred_clf.std()\n",
    "\n",
    "\n",
    "print(\"Resultados implementación propia:\")\n",
    "print(\"Promedio del error = \", np.array(val).mean(), \"\\tDesviación típica = \", np.array(val).std())\n",
    "print(\"\\nResultados sklearn:\")\n",
    "print(\"Promedio del error = \", media_error, \"\\tDesviación típica = \", desv_error)"
   ]
  },
  {
   "cell_type": "markdown",
   "metadata": {},
   "source": [
    "#### η = 1, pasos = 100"
   ]
  },
  {
   "cell_type": "code",
   "execution_count": null,
   "metadata": {
    "collapsed": true
   },
   "outputs": [],
   "source": []
  },
  {
   "cell_type": "markdown",
   "metadata": {},
   "source": [
    "#### η = 0'5, pasos = 10"
   ]
  },
  {
   "cell_type": "code",
   "execution_count": null,
   "metadata": {
    "collapsed": true
   },
   "outputs": [],
   "source": []
  },
  {
   "cell_type": "markdown",
   "metadata": {},
   "source": [
    "#### η = 0'5, pasos = 100"
   ]
  },
  {
   "cell_type": "code",
   "execution_count": null,
   "metadata": {
    "collapsed": true
   },
   "outputs": [],
   "source": []
  },
  {
   "cell_type": "markdown",
   "metadata": {},
   "source": [
    "### Resultados de ejecución del Ejemplo 2"
   ]
  },
  {
   "cell_type": "code",
   "execution_count": 67,
   "metadata": {
    "collapsed": true
   },
   "outputs": [],
   "source": [
    "dataset = Datos(\"ConjuntosDatos/example2.data\")"
   ]
  },
  {
   "cell_type": "markdown",
   "metadata": {},
   "source": [
    "#### η = 1, pasos = 10"
   ]
  },
  {
   "cell_type": "code",
   "execution_count": null,
   "metadata": {
    "collapsed": true
   },
   "outputs": [],
   "source": []
  },
  {
   "cell_type": "markdown",
   "metadata": {},
   "source": [
    "#### η = 1, pasos = 100"
   ]
  },
  {
   "cell_type": "code",
   "execution_count": null,
   "metadata": {
    "collapsed": true
   },
   "outputs": [],
   "source": []
  },
  {
   "cell_type": "markdown",
   "metadata": {},
   "source": [
    "#### η = 0'5, pasos = 10"
   ]
  },
  {
   "cell_type": "code",
   "execution_count": null,
   "metadata": {
    "collapsed": true
   },
   "outputs": [],
   "source": []
  },
  {
   "cell_type": "markdown",
   "metadata": {},
   "source": [
    "#### η = 0'5, pasos = 10"
   ]
  },
  {
   "cell_type": "code",
   "execution_count": null,
   "metadata": {
    "collapsed": true
   },
   "outputs": [],
   "source": []
  },
  {
   "cell_type": "markdown",
   "metadata": {},
   "source": [
    "### Resultados de ejecución del Ejemplo 3"
   ]
  },
  {
   "cell_type": "code",
   "execution_count": 68,
   "metadata": {
    "collapsed": true
   },
   "outputs": [],
   "source": [
    "dataset = Datos(\"ConjuntosDatos/example3.data\")"
   ]
  },
  {
   "cell_type": "markdown",
   "metadata": {},
   "source": [
    "#### η = 1, pasos = 10"
   ]
  },
  {
   "cell_type": "code",
   "execution_count": null,
   "metadata": {
    "collapsed": true
   },
   "outputs": [],
   "source": []
  },
  {
   "cell_type": "markdown",
   "metadata": {},
   "source": [
    "#### η = 1, pasos = 100"
   ]
  },
  {
   "cell_type": "code",
   "execution_count": null,
   "metadata": {
    "collapsed": true
   },
   "outputs": [],
   "source": []
  },
  {
   "cell_type": "markdown",
   "metadata": {},
   "source": [
    "#### η = 0'5, pasos = 10"
   ]
  },
  {
   "cell_type": "code",
   "execution_count": null,
   "metadata": {
    "collapsed": true
   },
   "outputs": [],
   "source": []
  },
  {
   "cell_type": "markdown",
   "metadata": {},
   "source": [
    "#### η = 0'5, pasos = 100"
   ]
  },
  {
   "cell_type": "code",
   "execution_count": null,
   "metadata": {
    "collapsed": true
   },
   "outputs": [],
   "source": []
  },
  {
   "cell_type": "markdown",
   "metadata": {},
   "source": [
    "### Resultados de ejecución del Ejemplo 4"
   ]
  },
  {
   "cell_type": "code",
   "execution_count": 69,
   "metadata": {
    "collapsed": true
   },
   "outputs": [],
   "source": [
    "dataset = Datos(\"ConjuntosDatos/example4.data\")"
   ]
  },
  {
   "cell_type": "markdown",
   "metadata": {},
   "source": [
    "#### η = 1, pasos = 10"
   ]
  },
  {
   "cell_type": "code",
   "execution_count": null,
   "metadata": {
    "collapsed": true
   },
   "outputs": [],
   "source": []
  },
  {
   "cell_type": "markdown",
   "metadata": {},
   "source": [
    "#### η = 1, pasos = 100"
   ]
  },
  {
   "cell_type": "code",
   "execution_count": null,
   "metadata": {
    "collapsed": true
   },
   "outputs": [],
   "source": []
  },
  {
   "cell_type": "markdown",
   "metadata": {},
   "source": [
    "#### η = 0'5, pasos = 10"
   ]
  },
  {
   "cell_type": "code",
   "execution_count": null,
   "metadata": {
    "collapsed": true
   },
   "outputs": [],
   "source": []
  },
  {
   "cell_type": "markdown",
   "metadata": {},
   "source": [
    "#### η = 0'5, pasos = 100"
   ]
  },
  {
   "cell_type": "code",
   "execution_count": null,
   "metadata": {
    "collapsed": true
   },
   "outputs": [],
   "source": []
  },
  {
   "cell_type": "markdown",
   "metadata": {},
   "source": [
    "### Resultados de ejecución de wdbc"
   ]
  },
  {
   "cell_type": "code",
   "execution_count": 70,
   "metadata": {
    "collapsed": true
   },
   "outputs": [],
   "source": [
    "dataset = Datos(\"ConjuntosDatos/wdbc.data\")"
   ]
  },
  {
   "cell_type": "markdown",
   "metadata": {},
   "source": [
    "#### η = 1, pasos = 10"
   ]
  },
  {
   "cell_type": "code",
   "execution_count": null,
   "metadata": {
    "collapsed": true
   },
   "outputs": [],
   "source": []
  },
  {
   "cell_type": "markdown",
   "metadata": {},
   "source": [
    "#### η = 1, pasos = 100"
   ]
  },
  {
   "cell_type": "code",
   "execution_count": null,
   "metadata": {
    "collapsed": true
   },
   "outputs": [],
   "source": []
  },
  {
   "cell_type": "markdown",
   "metadata": {},
   "source": [
    "#### η = 0'5, pasos = 10"
   ]
  },
  {
   "cell_type": "code",
   "execution_count": null,
   "metadata": {
    "collapsed": true
   },
   "outputs": [],
   "source": []
  },
  {
   "cell_type": "markdown",
   "metadata": {},
   "source": [
    "#### η = 0'5, pasos = 100"
   ]
  },
  {
   "cell_type": "code",
   "execution_count": null,
   "metadata": {
    "collapsed": true
   },
   "outputs": [],
   "source": []
  },
  {
   "cell_type": "markdown",
   "metadata": {},
   "source": [
    "### Análisis de los resultados"
   ]
  },
  {
   "cell_type": "code",
   "execution_count": null,
   "metadata": {
    "collapsed": true
   },
   "outputs": [],
   "source": []
  },
  {
   "cell_type": "markdown",
   "metadata": {},
   "source": [
    "## 3.2 Representación gráfica"
   ]
  },
  {
   "cell_type": "markdown",
   "metadata": {},
   "source": [
    "## Vecinos próximos"
   ]
  },
  {
   "cell_type": "markdown",
   "metadata": {},
   "source": [
    "### Representación de los resultados de ejecución del ejemplo 1"
   ]
  },
  {
   "cell_type": "code",
   "execution_count": null,
   "metadata": {
    "collapsed": true
   },
   "outputs": [],
   "source": [
    "dataset = Datos(\"ConjuntosDatos/example1.data\")"
   ]
  },
  {
   "cell_type": "markdown",
   "metadata": {},
   "source": [
    "#### K = 1"
   ]
  },
  {
   "cell_type": "code",
   "execution_count": null,
   "metadata": {
    "collapsed": true
   },
   "outputs": [],
   "source": []
  },
  {
   "cell_type": "markdown",
   "metadata": {},
   "source": [
    "#### K = 3"
   ]
  },
  {
   "cell_type": "code",
   "execution_count": null,
   "metadata": {
    "collapsed": true
   },
   "outputs": [],
   "source": []
  },
  {
   "cell_type": "markdown",
   "metadata": {},
   "source": [
    "#### K = 5"
   ]
  },
  {
   "cell_type": "code",
   "execution_count": null,
   "metadata": {
    "collapsed": true
   },
   "outputs": [],
   "source": []
  },
  {
   "cell_type": "markdown",
   "metadata": {},
   "source": [
    "#### K = 11"
   ]
  },
  {
   "cell_type": "code",
   "execution_count": null,
   "metadata": {
    "collapsed": true
   },
   "outputs": [],
   "source": []
  },
  {
   "cell_type": "markdown",
   "metadata": {},
   "source": [
    "#### K = 21"
   ]
  },
  {
   "cell_type": "code",
   "execution_count": null,
   "metadata": {
    "collapsed": true
   },
   "outputs": [],
   "source": []
  },
  {
   "cell_type": "markdown",
   "metadata": {},
   "source": [
    "#### K = 51"
   ]
  },
  {
   "cell_type": "code",
   "execution_count": null,
   "metadata": {
    "collapsed": true
   },
   "outputs": [],
   "source": []
  },
  {
   "cell_type": "markdown",
   "metadata": {},
   "source": [
    "### Representación de los resultados de ejecución del ejemplo 2"
   ]
  },
  {
   "cell_type": "code",
   "execution_count": null,
   "metadata": {
    "collapsed": true
   },
   "outputs": [],
   "source": [
    "dataset = Datos(\"ConjuntosDatos/example2.data\")"
   ]
  },
  {
   "cell_type": "markdown",
   "metadata": {},
   "source": [
    "#### K = 1"
   ]
  },
  {
   "cell_type": "code",
   "execution_count": null,
   "metadata": {
    "collapsed": true
   },
   "outputs": [],
   "source": []
  },
  {
   "cell_type": "markdown",
   "metadata": {},
   "source": [
    "#### K = 3"
   ]
  },
  {
   "cell_type": "code",
   "execution_count": null,
   "metadata": {
    "collapsed": true
   },
   "outputs": [],
   "source": []
  },
  {
   "cell_type": "markdown",
   "metadata": {},
   "source": [
    "#### K = 5"
   ]
  },
  {
   "cell_type": "code",
   "execution_count": null,
   "metadata": {
    "collapsed": true
   },
   "outputs": [],
   "source": []
  },
  {
   "cell_type": "markdown",
   "metadata": {},
   "source": [
    "#### K = 11"
   ]
  },
  {
   "cell_type": "code",
   "execution_count": null,
   "metadata": {
    "collapsed": true
   },
   "outputs": [],
   "source": []
  },
  {
   "cell_type": "markdown",
   "metadata": {},
   "source": [
    "#### K = 21"
   ]
  },
  {
   "cell_type": "code",
   "execution_count": null,
   "metadata": {
    "collapsed": true
   },
   "outputs": [],
   "source": []
  },
  {
   "cell_type": "markdown",
   "metadata": {},
   "source": [
    "#### K = 51"
   ]
  },
  {
   "cell_type": "code",
   "execution_count": null,
   "metadata": {
    "collapsed": true
   },
   "outputs": [],
   "source": []
  },
  {
   "cell_type": "markdown",
   "metadata": {},
   "source": [
    "### Representación de los resultados de ejecución del ejemplo 3"
   ]
  },
  {
   "cell_type": "code",
   "execution_count": null,
   "metadata": {
    "collapsed": true
   },
   "outputs": [],
   "source": [
    "dataset = Datos(\"ConjuntosDatos/example3.data\")"
   ]
  },
  {
   "cell_type": "markdown",
   "metadata": {},
   "source": [
    "#### K = 1"
   ]
  },
  {
   "cell_type": "code",
   "execution_count": null,
   "metadata": {
    "collapsed": true
   },
   "outputs": [],
   "source": []
  },
  {
   "cell_type": "markdown",
   "metadata": {},
   "source": [
    "#### K = 3"
   ]
  },
  {
   "cell_type": "code",
   "execution_count": null,
   "metadata": {
    "collapsed": true
   },
   "outputs": [],
   "source": []
  },
  {
   "cell_type": "markdown",
   "metadata": {},
   "source": [
    "#### K = 5"
   ]
  },
  {
   "cell_type": "code",
   "execution_count": null,
   "metadata": {
    "collapsed": true
   },
   "outputs": [],
   "source": []
  },
  {
   "cell_type": "markdown",
   "metadata": {},
   "source": [
    "#### K = 11"
   ]
  },
  {
   "cell_type": "code",
   "execution_count": null,
   "metadata": {
    "collapsed": true
   },
   "outputs": [],
   "source": []
  },
  {
   "cell_type": "markdown",
   "metadata": {},
   "source": [
    "#### K = 21"
   ]
  },
  {
   "cell_type": "code",
   "execution_count": null,
   "metadata": {
    "collapsed": true
   },
   "outputs": [],
   "source": []
  },
  {
   "cell_type": "markdown",
   "metadata": {},
   "source": [
    "#### K = 51"
   ]
  },
  {
   "cell_type": "code",
   "execution_count": null,
   "metadata": {
    "collapsed": true
   },
   "outputs": [],
   "source": []
  },
  {
   "cell_type": "markdown",
   "metadata": {},
   "source": [
    "### Representación de los resultados de ejecución del ejemplo 4"
   ]
  },
  {
   "cell_type": "code",
   "execution_count": null,
   "metadata": {
    "collapsed": true
   },
   "outputs": [],
   "source": [
    "dataset = Datos(\"ConjuntosDatos/example4.data\")"
   ]
  },
  {
   "cell_type": "markdown",
   "metadata": {},
   "source": [
    "#### K = 1"
   ]
  },
  {
   "cell_type": "code",
   "execution_count": null,
   "metadata": {
    "collapsed": true
   },
   "outputs": [],
   "source": []
  },
  {
   "cell_type": "markdown",
   "metadata": {},
   "source": [
    "#### K = 3"
   ]
  },
  {
   "cell_type": "code",
   "execution_count": null,
   "metadata": {
    "collapsed": true
   },
   "outputs": [],
   "source": []
  },
  {
   "cell_type": "markdown",
   "metadata": {},
   "source": [
    "#### K = 5"
   ]
  },
  {
   "cell_type": "code",
   "execution_count": null,
   "metadata": {
    "collapsed": true
   },
   "outputs": [],
   "source": []
  },
  {
   "cell_type": "markdown",
   "metadata": {},
   "source": [
    "#### K = 11"
   ]
  },
  {
   "cell_type": "code",
   "execution_count": null,
   "metadata": {
    "collapsed": true
   },
   "outputs": [],
   "source": []
  },
  {
   "cell_type": "markdown",
   "metadata": {},
   "source": [
    "#### K = 21"
   ]
  },
  {
   "cell_type": "code",
   "execution_count": null,
   "metadata": {
    "collapsed": true
   },
   "outputs": [],
   "source": []
  },
  {
   "cell_type": "markdown",
   "metadata": {},
   "source": [
    "#### K = 51"
   ]
  },
  {
   "cell_type": "code",
   "execution_count": null,
   "metadata": {
    "collapsed": true
   },
   "outputs": [],
   "source": []
  },
  {
   "cell_type": "markdown",
   "metadata": {},
   "source": [
    "## Regresión Logística"
   ]
  },
  {
   "cell_type": "markdown",
   "metadata": {},
   "source": [
    "### Representación de los resultados de ejecución del ejemplo 1"
   ]
  },
  {
   "cell_type": "code",
   "execution_count": null,
   "metadata": {
    "collapsed": true
   },
   "outputs": [],
   "source": [
    "dataset = Datos(\"ConjuntosDatos/example1.data\")"
   ]
  },
  {
   "cell_type": "markdown",
   "metadata": {},
   "source": [
    "#### η = 1, pasos = 10"
   ]
  },
  {
   "cell_type": "code",
   "execution_count": null,
   "metadata": {
    "collapsed": true
   },
   "outputs": [],
   "source": []
  },
  {
   "cell_type": "markdown",
   "metadata": {},
   "source": [
    "#### η = 1, pasos = 100"
   ]
  },
  {
   "cell_type": "code",
   "execution_count": null,
   "metadata": {
    "collapsed": true
   },
   "outputs": [],
   "source": []
  },
  {
   "cell_type": "markdown",
   "metadata": {},
   "source": [
    "#### η = 0'5, pasos = 10"
   ]
  },
  {
   "cell_type": "code",
   "execution_count": null,
   "metadata": {
    "collapsed": true
   },
   "outputs": [],
   "source": []
  },
  {
   "cell_type": "markdown",
   "metadata": {},
   "source": [
    "#### η = 0'5, pasos = 100"
   ]
  },
  {
   "cell_type": "code",
   "execution_count": null,
   "metadata": {
    "collapsed": true
   },
   "outputs": [],
   "source": []
  },
  {
   "cell_type": "markdown",
   "metadata": {},
   "source": [
    "### Representación de los resultados de ejecución del ejemplo 2"
   ]
  },
  {
   "cell_type": "code",
   "execution_count": null,
   "metadata": {
    "collapsed": true
   },
   "outputs": [],
   "source": [
    "dataset = Datos(\"ConjuntosDatos/example2.data\")"
   ]
  },
  {
   "cell_type": "markdown",
   "metadata": {},
   "source": [
    "#### η = 1, pasos = 10"
   ]
  },
  {
   "cell_type": "code",
   "execution_count": null,
   "metadata": {
    "collapsed": true
   },
   "outputs": [],
   "source": []
  },
  {
   "cell_type": "markdown",
   "metadata": {},
   "source": [
    "#### η = 1, pasos = 100"
   ]
  },
  {
   "cell_type": "code",
   "execution_count": null,
   "metadata": {
    "collapsed": true
   },
   "outputs": [],
   "source": []
  },
  {
   "cell_type": "markdown",
   "metadata": {},
   "source": [
    "#### η = 0'5, pasos = 10"
   ]
  },
  {
   "cell_type": "code",
   "execution_count": null,
   "metadata": {
    "collapsed": true
   },
   "outputs": [],
   "source": []
  },
  {
   "cell_type": "markdown",
   "metadata": {},
   "source": [
    "#### η = 0'5, pasos = 100"
   ]
  },
  {
   "cell_type": "code",
   "execution_count": null,
   "metadata": {
    "collapsed": true
   },
   "outputs": [],
   "source": []
  },
  {
   "cell_type": "markdown",
   "metadata": {},
   "source": [
    "### Representación de los resultados de ejecución del ejemplo 3"
   ]
  },
  {
   "cell_type": "code",
   "execution_count": null,
   "metadata": {
    "collapsed": true
   },
   "outputs": [],
   "source": [
    "dataset = Datos(\"ConjuntosDatos/example3.data\")"
   ]
  },
  {
   "cell_type": "markdown",
   "metadata": {},
   "source": [
    "#### η = 1, pasos = 10"
   ]
  },
  {
   "cell_type": "code",
   "execution_count": null,
   "metadata": {
    "collapsed": true
   },
   "outputs": [],
   "source": []
  },
  {
   "cell_type": "markdown",
   "metadata": {},
   "source": [
    "#### η = 1, pasos = 100"
   ]
  },
  {
   "cell_type": "code",
   "execution_count": null,
   "metadata": {
    "collapsed": true
   },
   "outputs": [],
   "source": []
  },
  {
   "cell_type": "markdown",
   "metadata": {},
   "source": [
    "#### η = 0'5, pasos = 10"
   ]
  },
  {
   "cell_type": "code",
   "execution_count": null,
   "metadata": {
    "collapsed": true
   },
   "outputs": [],
   "source": []
  },
  {
   "cell_type": "markdown",
   "metadata": {},
   "source": [
    "#### η = 0'5, pasos = 100"
   ]
  },
  {
   "cell_type": "code",
   "execution_count": null,
   "metadata": {
    "collapsed": true
   },
   "outputs": [],
   "source": []
  },
  {
   "cell_type": "markdown",
   "metadata": {},
   "source": [
    "### Representación de los resultados de ejecución del ejemplo 4"
   ]
  },
  {
   "cell_type": "code",
   "execution_count": null,
   "metadata": {
    "collapsed": true
   },
   "outputs": [],
   "source": [
    "dataset = Datos(\"ConjuntosDatos/example4.data\")"
   ]
  },
  {
   "cell_type": "markdown",
   "metadata": {},
   "source": [
    "#### η = 1, pasos = 10"
   ]
  },
  {
   "cell_type": "code",
   "execution_count": null,
   "metadata": {
    "collapsed": true
   },
   "outputs": [],
   "source": []
  },
  {
   "cell_type": "markdown",
   "metadata": {},
   "source": [
    "#### η = 1, pasos = 100"
   ]
  },
  {
   "cell_type": "code",
   "execution_count": null,
   "metadata": {
    "collapsed": true
   },
   "outputs": [],
   "source": []
  },
  {
   "cell_type": "markdown",
   "metadata": {},
   "source": [
    "#### η = 0'5, pasos = 10"
   ]
  },
  {
   "cell_type": "code",
   "execution_count": null,
   "metadata": {
    "collapsed": true
   },
   "outputs": [],
   "source": []
  },
  {
   "cell_type": "markdown",
   "metadata": {},
   "source": [
    "#### η = 0'5, pasos = 100"
   ]
  },
  {
   "cell_type": "code",
   "execution_count": null,
   "metadata": {
    "collapsed": true
   },
   "outputs": [],
   "source": []
  },
  {
   "cell_type": "markdown",
   "metadata": {},
   "source": [
    "# Conclusiones"
   ]
  },
  {
   "cell_type": "markdown",
   "metadata": {},
   "source": []
  }
 ],
 "metadata": {
  "kernelspec": {
   "display_name": "Python 3",
   "language": "python",
   "name": "python3"
  },
  "language_info": {
   "codemirror_mode": {
    "name": "ipython",
    "version": 3
   },
   "file_extension": ".py",
   "mimetype": "text/x-python",
   "name": "python",
   "nbconvert_exporter": "python",
   "pygments_lexer": "ipython3",
   "version": "3.6.3"
  }
 },
 "nbformat": 4,
 "nbformat_minor": 2
}

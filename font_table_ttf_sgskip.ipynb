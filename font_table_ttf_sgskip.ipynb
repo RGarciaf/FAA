{
 "cells": [
  {
   "cell_type": "code",
   "execution_count": 1,
   "metadata": {},
   "outputs": [],
   "source": [
    "%matplotlib inline"
   ]
  },
  {
   "cell_type": "markdown",
   "metadata": {},
   "source": [
    "\n",
    "# Font Table TTF\n",
    "\n",
    "\n",
    "Matplotlib has support for FreeType fonts.  Here's a little example\n",
    "using the 'table' command to build a font table that shows the glyphs\n",
    "by character code.\n",
    "\n",
    "Usage python font_table_ttf.py somefile.ttf\n",
    "\n",
    "\n"
   ]
  },
  {
   "cell_type": "code",
   "execution_count": 2,
   "metadata": {},
   "outputs": [
    {
     "ename": "FileNotFoundError",
     "evalue": "[Errno 2] No such file or directory: '-f'",
     "output_type": "error",
     "traceback": [
      "\u001b[1;31m---------------------------------------------------------------------------\u001b[0m",
      "\u001b[1;31mFileNotFoundError\u001b[0m                         Traceback (most recent call last)",
      "\u001b[1;32m<ipython-input-2-72f92bf35b52>\u001b[0m in \u001b[0;36m<module>\u001b[1;34m()\u001b[0m\n\u001b[0;32m     20\u001b[0m                             'fonts', 'ttf', 'DejaVuSans.ttf')\n\u001b[0;32m     21\u001b[0m \u001b[1;33m\u001b[0m\u001b[0m\n\u001b[1;32m---> 22\u001b[1;33m \u001b[0mfont\u001b[0m \u001b[1;33m=\u001b[0m \u001b[0mFT2Font\u001b[0m\u001b[1;33m(\u001b[0m\u001b[0mfontname\u001b[0m\u001b[1;33m)\u001b[0m\u001b[1;33m\u001b[0m\u001b[0m\n\u001b[0m\u001b[0;32m     23\u001b[0m \u001b[0mcodes\u001b[0m \u001b[1;33m=\u001b[0m \u001b[0msorted\u001b[0m\u001b[1;33m(\u001b[0m\u001b[0mfont\u001b[0m\u001b[1;33m.\u001b[0m\u001b[0mget_charmap\u001b[0m\u001b[1;33m(\u001b[0m\u001b[1;33m)\u001b[0m\u001b[1;33m.\u001b[0m\u001b[0mitems\u001b[0m\u001b[1;33m(\u001b[0m\u001b[1;33m)\u001b[0m\u001b[1;33m)\u001b[0m\u001b[1;33m\u001b[0m\u001b[0m\n\u001b[0;32m     24\u001b[0m \u001b[1;33m\u001b[0m\u001b[0m\n",
      "\u001b[1;31mFileNotFoundError\u001b[0m: [Errno 2] No such file or directory: '-f'"
     ]
    }
   ],
   "source": [
    "import sys\n",
    "import os\n",
    "\n",
    "import matplotlib\n",
    "from matplotlib.ft2font import FT2Font\n",
    "from matplotlib.font_manager import FontProperties\n",
    "import matplotlib.pyplot as plt\n",
    "\n",
    "# the font table grid\n",
    "\n",
    "labelc = ['0', '1', '2', '3', '4', '5', '6', '7', '8', '9',\n",
    "          'A', 'B', 'C', 'D', 'E', 'F']\n",
    "labelr = ['00', '10', '20', '30', '40', '50', '60', '70', '80', '90',\n",
    "          'A0', 'B0', 'C0', 'D0', 'E0', 'F0']\n",
    "\n",
    "if len(sys.argv) > 1:\n",
    "    fontname = sys.argv[1]\n",
    "else:\n",
    "    fontname = os.path.join(matplotlib.get_data_path(),\n",
    "                            'fonts', 'ttf', 'DejaVuSans.ttf')\n",
    "\n",
    "font = FT2Font(fontname)\n",
    "codes = sorted(font.get_charmap().items())\n",
    "\n",
    "# a 16,16 array of character strings\n",
    "chars = [['' for c in range(16)] for r in range(16)]\n",
    "colors = [[(0.95, 0.95, 0.95) for c in range(16)] for r in range(16)]\n",
    "\n",
    "plt.figure(figsize=(8, 4), dpi=120)\n",
    "for ccode, glyphind in codes:\n",
    "    if ccode >= 256:\n",
    "        continue\n",
    "    r, c = divmod(ccode, 16)\n",
    "    s = chr(ccode)\n",
    "    chars[r][c] = s\n",
    "\n",
    "lightgrn = (0.5, 0.8, 0.5)\n",
    "plt.title(fontname)\n",
    "tab = plt.table(cellText=chars,\n",
    "                rowLabels=labelr,\n",
    "                colLabels=labelc,\n",
    "                rowColours=[lightgrn] * 16,\n",
    "                colColours=[lightgrn] * 16,\n",
    "                cellColours=colors,\n",
    "                cellLoc='center',\n",
    "                loc='upper left')\n",
    "\n",
    "for key, cell in tab.get_celld().items():\n",
    "    row, col = key\n",
    "    if row > 0 and col > 0:\n",
    "        cell.set_text_props(fontproperties=FontProperties(fname=fontname))\n",
    "plt.axis('off')\n",
    "plt.show()"
   ]
  },
  {
   "cell_type": "code",
   "execution_count": null,
   "metadata": {},
   "outputs": [],
   "source": []
  }
 ],
 "metadata": {
  "kernelspec": {
   "display_name": "Python 3",
   "language": "python",
   "name": "python3"
  },
  "language_info": {
   "codemirror_mode": {
    "name": "ipython",
    "version": 3
   },
   "file_extension": ".py",
   "mimetype": "text/x-python",
   "name": "python",
   "nbconvert_exporter": "python",
   "pygments_lexer": "ipython3",
   "version": "3.6.5"
  }
 },
 "nbformat": 4,
 "nbformat_minor": 1
}

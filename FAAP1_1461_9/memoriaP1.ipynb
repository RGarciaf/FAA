{
 "cells": [
  {
   "cell_type": "markdown",
   "metadata": {},
   "source": [
    "# Memoria Práctica 1"
   ]
  },
  {
   "cell_type": "markdown",
   "metadata": {},
   "source": [
    "Autores: Román García y Patricia Losana"
   ]
  },
  {
   "cell_type": "code",
   "execution_count": 1,
   "metadata": {},
   "outputs": [
    {
     "ename": "ModuleNotFoundError",
     "evalue": "No module named 'sklearn'",
     "output_type": "error",
     "traceback": [
      "\u001b[0;31m---------------------------------------------------------------------------\u001b[0m",
      "\u001b[0;31mModuleNotFoundError\u001b[0m                       Traceback (most recent call last)",
      "\u001b[0;32m<ipython-input-1-07e206dfbe2d>\u001b[0m in \u001b[0;36m<module>\u001b[0;34m()\u001b[0m\n\u001b[1;32m      4\u001b[0m \u001b[0;32mfrom\u001b[0m \u001b[0mRoc\u001b[0m \u001b[0;32mimport\u001b[0m \u001b[0;34m*\u001b[0m\u001b[0;34m\u001b[0m\u001b[0m\n\u001b[1;32m      5\u001b[0m \u001b[0;32mimport\u001b[0m \u001b[0mnumpy\u001b[0m \u001b[0;32mas\u001b[0m \u001b[0mnp\u001b[0m\u001b[0;34m\u001b[0m\u001b[0m\n\u001b[0;32m----> 6\u001b[0;31m \u001b[0;32mfrom\u001b[0m \u001b[0msklearn\u001b[0m \u001b[0;32mimport\u001b[0m \u001b[0mpreprocessing\u001b[0m\u001b[0;34m\u001b[0m\u001b[0m\n\u001b[0m\u001b[1;32m      7\u001b[0m \u001b[0;32mfrom\u001b[0m \u001b[0msklearn\u001b[0m\u001b[0;34m.\u001b[0m\u001b[0mnaive_bayes\u001b[0m \u001b[0;32mimport\u001b[0m \u001b[0mMultinomialNB\u001b[0m\u001b[0;34m,\u001b[0m \u001b[0mGaussianNB\u001b[0m\u001b[0;34m\u001b[0m\u001b[0m\n\u001b[1;32m      8\u001b[0m \u001b[0;32mfrom\u001b[0m \u001b[0msklearn\u001b[0m\u001b[0;34m.\u001b[0m\u001b[0mmodel_selection\u001b[0m \u001b[0;32mimport\u001b[0m \u001b[0mcross_val_score\u001b[0m\u001b[0;34m\u001b[0m\u001b[0m\n",
      "\u001b[0;31mModuleNotFoundError\u001b[0m: No module named 'sklearn'"
     ]
    }
   ],
   "source": [
    "from Datos import Datos\n",
    "from EstrategiaParticionado import *\n",
    "from Clasificador import *\n",
    "from Roc import *\n",
    "import numpy as np\n",
    "from sklearn import preprocessing \n",
    "from sklearn.naive_bayes import MultinomialNB, GaussianNB\n",
    "from sklearn.model_selection import cross_val_score\n",
    "from sklearn.model_selection import train_test_split\n",
    "import pprint\n",
    "import matplotlib.pyplot as plt\n",
    "from itertools import cycle\n",
    "from sklearn.metrics import accuracy_score"
   ]
  },
  {
   "cell_type": "markdown",
   "metadata": {},
   "source": [
    "## 1. Particionado"
   ]
  },
  {
   "cell_type": "markdown",
   "metadata": {},
   "source": [
    "Las tres estrategias de particionado implementadas parten de la misma idea principal: dado el conjunto de datos dataset, se genera un array con tantos elementos como filas tenga el conjunto (es decir, los índices). Este array se va a permutar para evitar que las particiones sean generadas sin ningún tipo de sesgo, y, en función de la estrategia, se devolverán unos u otros índices para entrenamiento y pruebas, respectivamente.\n",
    "\n",
    "A continuación vamos a ver una descripción de los índices de train y test devueltos por cada uno de los métodos de particionado, y las principales ventajas y desventajas de los mismos"
   ]
  },
  {
   "cell_type": "markdown",
   "metadata": {},
   "source": [
    "### 1.1 Validación Simple"
   ]
  },
  {
   "cell_type": "markdown",
   "metadata": {},
   "source": [
    "Validación simple contiene un array de Particiones, con tantos elementos como valor tenga el atributo numeroParticiones. El valor 'porcentaje' especifica el porcentaje del array que va a formar parte de los índices de train, de forma que el resto de elementos formarán parte de los índices de test.\n",
    "\n",
    "Para facilitar la comprensión, se ha acompañado la explicación de una figura. "
   ]
  },
  {
   "cell_type": "markdown",
   "metadata": {},
   "source": [
    "![title](img/Simple.png)"
   ]
  },
  {
   "cell_type": "markdown",
   "metadata": {},
   "source": [
    "Ventajas: es rápido y aleatorio\n",
    "\n",
    "Inconvenientes: los índices no se dividen de manera controlada. Aunque es improbable, puede darse el caso de que para las numeroParticiones veces que se repita la generación de particiones, los índices de Train y Test estén formados siempre por el mismo subconjunto de datos. "
   ]
  },
  {
   "cell_type": "markdown",
   "metadata": {},
   "source": [
    "### 1.2 Validación Cruzada"
   ]
  },
  {
   "cell_type": "markdown",
   "metadata": {},
   "source": [
    "Validación cruzada contiene un array de Particiones, con tantos elementos como valor tenga el atributo numeroParticiones. El valor 'numeroParticiones' especifica el número de Particiones que se van a hacer del mismo tamaño del array. De esta manera, después de permutar, se iterará numeroParticiones veces y el número de iteración especificará el conjunto de índices que formarán parte de Test.\n",
    "\n",
    "Para facilitar la comprensión, se ha acompañado la explicación de una figura."
   ]
  },
  {
   "cell_type": "markdown",
   "metadata": {},
   "source": [
    "![title](img/Cruzada.png)"
   ]
  },
  {
   "cell_type": "markdown",
   "metadata": {},
   "source": [
    "Ventaja frente a Validación Simple: es mucho más controlada en cuanto a que tenemos la certeza de que todos los datos van a formar parte de los índices de prueba y entrenamiento, por lo que no hay tanto peligro de sobreaprendizaje.\n",
    "\n",
    "Un posible inconveniente es que sólo se permuta una vez y que los índices que formen parte del entrenamiento van a ser parecidos en todas las iteraciones (sólo cambiarán K elementos cada vez)"
   ]
  },
  {
   "cell_type": "markdown",
   "metadata": {},
   "source": [
    "### 1.3 Validación por Bootstrap"
   ]
  },
  {
   "cell_type": "markdown",
   "metadata": {},
   "source": [
    "La estrategia de particionamiento de bootstrap es similar a la de Validación simple, con la diferencia de que los índices de Train se extraen de manera aleatoria con reemplazamiento (por tanto, puede darse el caso de entrenar varias veces con el mismo dato).\n",
    "\n",
    "Para lograr esto, se permuta el array de índices cada vez que se selecciona un elemento a incluir en la partición de entrenamiento (el proceso se repite numeroParticiones veces). Posteriormente, el resto de elementos que no se hayan seleccionado como índices de entrenamiento pasarán a formar parte de los índices de prueba.\n",
    "\n",
    "Ventaja: es totalmente aleatoria\n",
    "\n",
    "Inconveniente: está aún menos controlada que la validación Simple"
   ]
  },
  {
   "cell_type": "markdown",
   "metadata": {},
   "source": [
    "## 2. Naive-Bayes"
   ]
  },
  {
   "cell_type": "markdown",
   "metadata": {},
   "source": [
    "## 2.1 Resultados de ejecución de tic-tac-toe.data"
   ]
  },
  {
   "cell_type": "code",
   "execution_count": null,
   "metadata": {},
   "outputs": [],
   "source": [
    "dataset = Datos(\"ConjuntosDatos/tic-tac-toe.data\")"
   ]
  },
  {
   "cell_type": "markdown",
   "metadata": {},
   "source": [
    "### Validación Simple"
   ]
  },
  {
   "cell_type": "markdown",
   "metadata": {},
   "source": [
    "##### Sin la corrección de Laplace:"
   ]
  },
  {
   "cell_type": "code",
   "execution_count": null,
   "metadata": {},
   "outputs": [],
   "source": [
    "estrategia = ValidacionSimple()\n",
    "clas = ClasificadorNaiveBayes()\n",
    "val = clas.validacion(estrategia,dataset,clas)\n",
    "media_error1 = np.mean(val)\n",
    "desv_error1 = np.std(val)\n",
    "\n",
    "print(\"Promedio del error = \", media_error1, \"\\nDesviación típica = \", desv_error1)"
   ]
  },
  {
   "cell_type": "markdown",
   "metadata": {},
   "source": [
    "##### Con la corrección de Laplace:"
   ]
  },
  {
   "cell_type": "code",
   "execution_count": null,
   "metadata": {},
   "outputs": [],
   "source": [
    "estrategia = ValidacionSimple()\n",
    "clas = ClasificadorNaiveBayes(laplace=True)\n",
    "val = clas.validacion(estrategia,dataset,clas)\n",
    "media_error2 = np.mean(val)\n",
    "desv_error2 = np.std(val)\n",
    "\n",
    "print(\"Promedio del error = \", media_error2, \"\\nDesviación típica = \", desv_error2)"
   ]
  },
  {
   "cell_type": "markdown",
   "metadata": {},
   "source": [
    "### Validación Cruzada"
   ]
  },
  {
   "cell_type": "markdown",
   "metadata": {},
   "source": [
    "##### Sin la corrección de Laplace:"
   ]
  },
  {
   "cell_type": "code",
   "execution_count": null,
   "metadata": {},
   "outputs": [],
   "source": [
    "estrategia = ValidacionCruzada()\n",
    "clas = ClasificadorNaiveBayes()\n",
    "val = clas.validacion(estrategia,dataset,clas)\n",
    "media_error3 = np.mean(val)\n",
    "desv_error3 = np.std(val)\n",
    "\n",
    "print(\"Promedio del error = \", media_error3, \"\\nDesviación típica = \", desv_error3)"
   ]
  },
  {
   "cell_type": "markdown",
   "metadata": {},
   "source": [
    "##### Con la corrección de Laplace:"
   ]
  },
  {
   "cell_type": "code",
   "execution_count": null,
   "metadata": {},
   "outputs": [],
   "source": [
    "estrategia = ValidacionCruzada()\n",
    "clas = ClasificadorNaiveBayes(laplace=True)\n",
    "val = clas.validacion(estrategia,dataset,clas)\n",
    "media_error4 = np.mean(val)\n",
    "desv_error4 = np.std(val)\n",
    "\n",
    "print(\"Promedio del error = \", media_error4, \"\\nDesviación típica = \", desv_error4)"
   ]
  },
  {
   "cell_type": "markdown",
   "metadata": {},
   "source": [
    "### Validación por Bootstrap"
   ]
  },
  {
   "cell_type": "markdown",
   "metadata": {},
   "source": [
    "##### Sin la corrección de Laplace:"
   ]
  },
  {
   "cell_type": "code",
   "execution_count": null,
   "metadata": {},
   "outputs": [],
   "source": [
    "estrategia = ValidacionBootstrap()\n",
    "clas = ClasificadorNaiveBayes()\n",
    "val = clas.validacion(estrategia,dataset,clas)\n",
    "media_error5 = np.mean(val)\n",
    "desv_error5 = np.std(val)\n",
    "\n",
    "print(\"Promedio del error = \", media_error5, \"\\nDesviación típica = \", desv_error5)"
   ]
  },
  {
   "cell_type": "markdown",
   "metadata": {},
   "source": [
    "##### Con la corrección de Laplace:"
   ]
  },
  {
   "cell_type": "code",
   "execution_count": null,
   "metadata": {},
   "outputs": [],
   "source": [
    "estrategia = ValidacionBootstrap()\n",
    "clas = ClasificadorNaiveBayes(laplace=True)\n",
    "val = clas.validacion(estrategia,dataset,clas)\n",
    "media_error6 = np.mean(val)\n",
    "desv_error6 = np.std(val)\n",
    "\n",
    "print(\"Promedio del error = \", media_error6, \"\\nDesviación típica = \", desv_error6)"
   ]
  },
  {
   "cell_type": "markdown",
   "metadata": {},
   "source": [
    "## Resultados de ejecución de german.data"
   ]
  },
  {
   "cell_type": "code",
   "execution_count": null,
   "metadata": {},
   "outputs": [],
   "source": [
    "dataset = Datos(\"ConjuntosDatos/german.data\")"
   ]
  },
  {
   "cell_type": "markdown",
   "metadata": {},
   "source": [
    "### Validación Simple"
   ]
  },
  {
   "cell_type": "markdown",
   "metadata": {},
   "source": [
    "##### Sin la corrección de Laplace:"
   ]
  },
  {
   "cell_type": "code",
   "execution_count": null,
   "metadata": {},
   "outputs": [],
   "source": [
    "estrategia = ValidacionSimple()\n",
    "clas = ClasificadorNaiveBayes()\n",
    "val = clas.validacion(estrategia,dataset,clas)\n",
    "media_error = np.mean(val)\n",
    "desv_error = np.std(val)\n",
    "\n",
    "print(\"Promedio del error = \", media_error, \"\\nDesviación típica = \", desv_error)"
   ]
  },
  {
   "cell_type": "markdown",
   "metadata": {},
   "source": [
    "##### Con la corrección de Laplace:"
   ]
  },
  {
   "cell_type": "code",
   "execution_count": null,
   "metadata": {},
   "outputs": [],
   "source": [
    "estrategia = ValidacionSimple()\n",
    "clas = ClasificadorNaiveBayes(laplace=True)\n",
    "val = clas.validacion(estrategia,dataset,clas)\n",
    "media_error = np.mean(val)\n",
    "desv_error = np.std(val)\n",
    "\n",
    "print(\"Promedio del error = \", media_error, \"\\nDesviación típica = \", desv_error)"
   ]
  },
  {
   "cell_type": "markdown",
   "metadata": {},
   "source": [
    "### Validación Cruzada\n"
   ]
  },
  {
   "cell_type": "markdown",
   "metadata": {},
   "source": [
    "##### Sin la corrección de Laplace:"
   ]
  },
  {
   "cell_type": "code",
   "execution_count": null,
   "metadata": {},
   "outputs": [],
   "source": [
    "estrategia = ValidacionCruzada()\n",
    "clas = ClasificadorNaiveBayes()\n",
    "val = clas.validacion(estrategia,dataset,clas)\n",
    "media_error = np.mean(val)\n",
    "desv_error = np.std(val)\n",
    "\n",
    "print(\"Promedio del error = \", media_error, \"\\nDesviación típica = \", desv_error)"
   ]
  },
  {
   "cell_type": "markdown",
   "metadata": {},
   "source": [
    "##### Con la corrección de Laplace:"
   ]
  },
  {
   "cell_type": "code",
   "execution_count": null,
   "metadata": {},
   "outputs": [],
   "source": [
    "estrategia = ValidacionCruzada()\n",
    "clas = ClasificadorNaiveBayes(laplace=True)\n",
    "val = clas.validacion(estrategia,dataset,clas)\n",
    "media_error = np.mean(val)\n",
    "desv_error = np.std(val)\n",
    "\n",
    "print(\"Promedio del error = \", media_error, \"\\nDesviación típica = \", desv_error)"
   ]
  },
  {
   "cell_type": "markdown",
   "metadata": {},
   "source": [
    "### Validación por Bootstrap"
   ]
  },
  {
   "cell_type": "markdown",
   "metadata": {},
   "source": [
    "##### Sin la corrección de Laplace:"
   ]
  },
  {
   "cell_type": "code",
   "execution_count": null,
   "metadata": {},
   "outputs": [],
   "source": [
    "estrategia = ValidacionBootstrap()\n",
    "clas = ClasificadorNaiveBayes()\n",
    "val = clas.validacion(estrategia,dataset,clas)\n",
    "media_error = np.mean(val)\n",
    "desv_error = np.std(val)\n",
    "\n",
    "print(\"Promedio del error = \", media_error, \"\\nDesviación típica = \", desv_error)"
   ]
  },
  {
   "cell_type": "markdown",
   "metadata": {},
   "source": [
    "##### Con la corrección de Laplace:"
   ]
  },
  {
   "cell_type": "code",
   "execution_count": null,
   "metadata": {},
   "outputs": [],
   "source": [
    "estrategia = ValidacionBootstrap()\n",
    "clas = ClasificadorNaiveBayes(laplace=True)\n",
    "val = clas.validacion(estrategia,dataset,clas)\n",
    "media_error = np.mean(val)\n",
    "desv_error = np.std(val)\n",
    "\n",
    "print(\"Promedio del error = \", media_error, \"\\nDesviación típica = \", desv_error)"
   ]
  },
  {
   "cell_type": "markdown",
   "metadata": {},
   "source": [
    "### Análisis de los resultados"
   ]
  },
  {
   "cell_type": "markdown",
   "metadata": {},
   "source": [
    "Como se puede observar, los errores promedios son relativamente bajos y no hay grandes cambios se aplique o no la corrección de Laplace.\n",
    "Las desviaciones típicas de los promedios son bastante altas en la estrategia de validación cruzada y por bootstrap. Este hecho no es sorprendente en el caso del bootstrap, ya que por la forma de seleccionar los datos de entrenamiento, puede no haber no obtenido la información suficiente para predecir correctamente."
   ]
  },
  {
   "cell_type": "markdown",
   "metadata": {},
   "source": [
    "## 3. Scikit-Learn"
   ]
  },
  {
   "cell_type": "markdown",
   "metadata": {},
   "source": [
    "## 3.1 Resultados de ejecución de tic-tac-toe.data"
   ]
  },
  {
   "cell_type": "code",
   "execution_count": null,
   "metadata": {},
   "outputs": [],
   "source": [
    "dataset = Datos(\"ConjuntosDatos/tic-tac-toe.data\")"
   ]
  },
  {
   "cell_type": "markdown",
   "metadata": {},
   "source": [
    "### Validación Simple"
   ]
  },
  {
   "cell_type": "markdown",
   "metadata": {},
   "source": [
    "##### Sin la corrección de Laplace:"
   ]
  },
  {
   "cell_type": "code",
   "execution_count": null,
   "metadata": {},
   "outputs": [],
   "source": [
    "# Encode categorical integer features using a one-hot aka one-of-K scheme (categorical features)\n",
    "encAtributos = preprocessing.OneHotEncoder(categorical_features=dataset.nominalAtributos[:-1],sparse=False)\n",
    "# X contendra la matriz de atributos codificada\n",
    "X = encAtributos.fit_transform(dataset.datos[:,:-1])\n",
    "\n",
    "# Y contendra la clase de cada patron\n",
    "Y =dataset.datos[:,-1] \n",
    "\n",
    "#Discretos = MultinomialNB\n",
    "#para no Laplace -> alpha = 0 (pero el valor 0 da un warning)\n",
    "clf = MultinomialNB(alpha=1.0e-10)\n",
    "\n",
    "#Validacion Simple\n",
    "xTrain, xTest, yTrain, yTest = train_test_split(X, Y, train_size = 0.6, test_size = 0.4 )\n",
    "\n",
    "#Entrena el clasificador a partir de xTrain e yTrain\n",
    "classifier = clf.fit(xTrain, yTrain)\n",
    "#Predice el resultado de xTest en base al entrenamiento\n",
    "pred = classifier.predict(xTest)\n",
    "\n",
    "# Calcula el error (1 - la precision de la clasificacion)\n",
    "error = 1  - accuracy_score(pred, yTest)\n",
    "print(\"Error =\", error)"
   ]
  },
  {
   "cell_type": "markdown",
   "metadata": {},
   "source": [
    "##### Con la corrección de Laplace:"
   ]
  },
  {
   "cell_type": "code",
   "execution_count": null,
   "metadata": {},
   "outputs": [],
   "source": [
    "# Encode categorical integer features using a one-hot aka one-of-K scheme (categorical features)\n",
    "encAtributos = preprocessing.OneHotEncoder(categorical_features=dataset.nominalAtributos[:-1],sparse=False)\n",
    "# X contendra la matriz de atributos codificada\n",
    "X = encAtributos.fit_transform(dataset.datos[:,:-1])\n",
    "\n",
    "# Y contendra la clase de cada patron\n",
    "Y =dataset.datos[:,-1] \n",
    "\n",
    "#Discretos = MultinomialNB\n",
    "#para Laplace -> alpha = 1\n",
    "clf = MultinomialNB(alpha=1)\n",
    "\n",
    "#Validacion Simple\n",
    "xTrain, xTest, yTrain, yTest = train_test_split(X, Y, train_size = 0.6, test_size = 0.4 )\n",
    "\n",
    "#Entrena el clasificador a partir de xTrain e yTrain\n",
    "classifier = clf.fit(xTrain, yTrain)\n",
    "#Predice el resultado de xTest en base al entrenamiento\n",
    "pred = classifier.predict(xTest)\n",
    "\n",
    "# Calcula el error (1 - la precision de la clasificacion)\n",
    "error = 1  - accuracy_score(pred, yTest)\n",
    "print(\"Error =\", error)"
   ]
  },
  {
   "cell_type": "markdown",
   "metadata": {},
   "source": [
    "### Validación Cruzada\n"
   ]
  },
  {
   "cell_type": "markdown",
   "metadata": {},
   "source": [
    "##### Sin la corrección de Laplace:"
   ]
  },
  {
   "cell_type": "code",
   "execution_count": null,
   "metadata": {},
   "outputs": [],
   "source": [
    "# Encode categorical integer features using a one-hot aka one-of-K scheme (categorical features)\n",
    "encAtributos = preprocessing.OneHotEncoder(categorical_features=dataset.nominalAtributos[:-1],sparse=False)\n",
    "# X contendra la matriz de atributos codificada\n",
    "X = encAtributos.fit_transform(dataset.datos[:,:-1])\n",
    "\n",
    "# Y contendra la clase de cada patron\n",
    "Y =dataset.datos[:,-1] \n",
    "\n",
    "#Discretos = MultinomialNB\n",
    "#para no Laplace -> alpha = 0\n",
    "clf = MultinomialNB(alpha=1.0e-10)\n",
    "\n",
    "#Validacion Cruzada: obtenemos los resultados de las predicciones de cv iteraciones\n",
    "pred_kfolds = cross_val_score(clf, X, Y, cv = 5)\n",
    "\n",
    "#Obtenemos el error de la media de las predicciones\n",
    "media_error = 1 - pred_kfolds.mean()\n",
    "\n",
    "#Obtenemos la desviacion tipica de las predicciones\n",
    "desv_error = pred_kfolds.std()\n",
    "\n",
    "print(\"Promedio del error = \", media_error, \"\\nDesviación típica = \", desv_error)"
   ]
  },
  {
   "cell_type": "markdown",
   "metadata": {},
   "source": [
    "##### Con la corrección de Laplace:"
   ]
  },
  {
   "cell_type": "code",
   "execution_count": null,
   "metadata": {},
   "outputs": [],
   "source": [
    "# Encode categorical integer features using a one-hot aka one-of-K scheme (categorical features)\n",
    "encAtributos = preprocessing.OneHotEncoder(categorical_features=dataset.nominalAtributos[:-1],sparse=False)\n",
    "# X contendra la matriz de atributos codificada\n",
    "X = encAtributos.fit_transform(dataset.datos[:,:-1])\n",
    "\n",
    "# Y contendra la clase de cada patron\n",
    "Y =dataset.datos[:,-1] \n",
    "\n",
    "#Discretos = MultinomialNB\n",
    "#para Laplace -> alpha = 1\n",
    "clf = MultinomialNB(alpha=1)\n",
    "\n",
    "#Validacion Cruzada: obtenemos los resultados de las predicciones de cv iteraciones\n",
    "pred_kfolds = cross_val_score(clf, X, Y, cv = 5)\n",
    "\n",
    "#Obtenemos el error de la media de las predicciones\n",
    "media_error = 1 - pred_kfolds.mean()\n",
    "\n",
    "#Obtenemos la desviacion tipica de las predicciones\n",
    "desv_error = pred_kfolds.std()\n",
    "\n",
    "print(\"Promedio del error = \", media_error, \"\\nDesviación típica = \", desv_error)"
   ]
  },
  {
   "cell_type": "markdown",
   "metadata": {},
   "source": [
    "## 3.2 Resultados de ejecución de german.data"
   ]
  },
  {
   "cell_type": "code",
   "execution_count": null,
   "metadata": {},
   "outputs": [],
   "source": [
    "dataset = Datos(\"ConjuntosDatos/german.data\")"
   ]
  },
  {
   "cell_type": "markdown",
   "metadata": {},
   "source": [
    "### Validación Simple"
   ]
  },
  {
   "cell_type": "code",
   "execution_count": null,
   "metadata": {},
   "outputs": [],
   "source": [
    "# Encode categorical integer features using a one-hot aka one-of-K scheme (categorical features)\n",
    "encAtributos = preprocessing.OneHotEncoder(categorical_features=dataset.nominalAtributos[:-1],sparse=False)\n",
    "# X contendra la matriz de atributos codificada\n",
    "X = encAtributos.fit_transform(dataset.datos[:,:-1])\n",
    "\n",
    "# Y contendra la clase de cada patron\n",
    "Y =dataset.datos[:,-1] \n",
    "\n",
    "#Continuos = GaussianNB\n",
    "clf = GaussianNB()\n",
    "\n",
    "#Validacion Simple\n",
    "xTrain, xTest, yTrain, yTest = train_test_split(X, Y, train_size = 0.6 , test_size = 0.4)\n",
    "\n",
    "#Entrena el clasificador a partir de xTrain e yTrain\n",
    "classifier = clf.fit(xTrain, yTrain)\n",
    "#Predice el resultado de xTest en base al entrenamiento\n",
    "pred = classifier.predict(xTest)\n",
    "\n",
    "# Calcula el error (1 - la precision de la clasificacion)\n",
    "error = 1  - accuracy_score(pred, yTest)\n",
    "print(\"Error =\", error)"
   ]
  },
  {
   "cell_type": "markdown",
   "metadata": {},
   "source": [
    "### Validación Cruzada"
   ]
  },
  {
   "cell_type": "code",
   "execution_count": null,
   "metadata": {},
   "outputs": [],
   "source": [
    "# Encode categorical integer features using a one-hot aka one-of-K scheme (categorical features)\n",
    "encAtributos = preprocessing.OneHotEncoder(categorical_features=dataset.nominalAtributos[:-1],sparse=False)\n",
    "# X contendra la matriz de atributos codificada\n",
    "X = encAtributos.fit_transform(dataset.datos[:,:-1])\n",
    "\n",
    "# Y contendra la clase de cada patron\n",
    "Y =dataset.datos[:,-1] \n",
    "\n",
    "#Discretos = MultinomialNB\n",
    "#para no Laplace -> alpha = 0\n",
    "clf = GaussianNB()\n",
    "\n",
    "#Validacion Cruzada: obtenemos los resultados de las predicciones de cv iteraciones\n",
    "pred_kfolds = cross_val_score(clf, X, Y, cv = 5)\n",
    "\n",
    "#Obtenemos el error de la media de las predicciones\n",
    "media_error = 1 - pred_kfolds.mean()\n",
    "\n",
    "#Obtenemos la desviacion tipica de las predicciones\n",
    "desv_error = pred_kfolds.std()\n",
    "\n",
    "print(\"Promedio del error = \", media_error, \"\\nDesviación típica = \", desv_error)"
   ]
  },
  {
   "cell_type": "markdown",
   "metadata": {},
   "source": [
    "### Análisis de los resultados"
   ]
  },
  {
   "cell_type": "markdown",
   "metadata": {},
   "source": [
    "Como se puede observar, en generar el promedio de error en la librería sklearn es parecido, o incluso peor, que los promedios obtenidos por nuestro clasificador. \n",
    "Sin embargo, las desviaciones de la media son menores que nuestro clasificador, lo que quiere decir que los resultados de las ejecuciones son más homogéneos."
   ]
  },
  {
   "cell_type": "markdown",
   "metadata": {},
   "source": [
    "## 4. Evaluación de hipótesis mediante Análisis ROC "
   ]
  },
  {
   "cell_type": "markdown",
   "metadata": {},
   "source": [
    "## Validación Simple"
   ]
  },
  {
   "cell_type": "markdown",
   "metadata": {},
   "source": [
    "Matriz de confusión y diagramas del clasificador en el espacio ROC "
   ]
  },
  {
   "cell_type": "code",
   "execution_count": null,
   "metadata": {},
   "outputs": [],
   "source": [
    "r = Roc()\n",
    "r.medias_roc()\n",
    "medias = r.calcula_medias_roc()\n",
    "\n",
    "\n",
    "simple = medias[0] \n",
    "balloons = simple[0]\n",
    "\n",
    "print(balloons)\n",
    "for i in balloons['TPR'].keys():\n",
    "    plt.figure()\n",
    "    lw = 2\n",
    "    plt.plot([0, 1], [0, 1], color='navy', lw=lw, linestyle='--')\n",
    "    plt.xlim([-0.00001, balloons['FPR'][i]])\n",
    "    plt.ylim([-0.00001, balloons['TPR'][i]])\n",
    "    plt.xlabel('FPR')\n",
    "    plt.ylabel('TPR')\n",
    "    plt.title('Espacio ROC balloons.data en Clase ' + str(i) )\n",
    "    plt.show()\n"
   ]
  },
  {
   "cell_type": "code",
   "execution_count": null,
   "metadata": {},
   "outputs": [],
   "source": [
    "german = simple[1]\n",
    "print(german)\n",
    "for i in german['TPR'].keys():\n",
    "    plt.figure()\n",
    "    lw = 2\n",
    "    plt.plot([0, 1], [0, 1], color='navy', lw=lw, linestyle='--')\n",
    "    plt.xlim([-0.00001, german['FPR'][i]])\n",
    "    plt.ylim([-0.00001, german['TPR'][i]])\n",
    "    plt.xlabel('FPR')\n",
    "    plt.ylabel('TPR')\n",
    "    plt.title('Espacio ROC german.data en Clase ' + str(i) )\n",
    "    plt.show()\n"
   ]
  },
  {
   "cell_type": "code",
   "execution_count": null,
   "metadata": {},
   "outputs": [],
   "source": [
    "tic_tac = simple[2]\n",
    "print(tic_tac)\n",
    "\n",
    "for i in tic_tac['TPR'].keys():\n",
    "    plt.figure()\n",
    "    lw = 2\n",
    "    plt.plot([0, 1], [0, 1], color='navy', lw=lw, linestyle='--')\n",
    "    plt.xlim([-0.00001, tic_tac['FPR'][i]])\n",
    "    plt.ylim([-0.00001, tic_tac['TPR'][i]])\n",
    "    plt.xlabel('FPR')\n",
    "    plt.ylabel('TPR')\n",
    "    plt.title('Espacio ROC tic_tac_toe.data en Clase ' + str(i) )\n",
    "    plt.show()\n"
   ]
  },
  {
   "cell_type": "markdown",
   "metadata": {},
   "source": [
    "## Validación Cruzada"
   ]
  },
  {
   "cell_type": "code",
   "execution_count": null,
   "metadata": {},
   "outputs": [],
   "source": [
    "cruzada = medias[1] \n",
    "balloons = cruzada[0]\n",
    "print(balloons)\n",
    "\n",
    "for i in balloons['TPR'].keys():\n",
    "\n",
    "    plt.figure()\n",
    "    lw = 2\n",
    "    plt.plot([0, 1], [0, 1], color='navy', lw=lw, linestyle='--')\n",
    "    plt.xlim([-0.00001, balloons['FPR'][i]])\n",
    "    plt.ylim([-0.00001, balloons['TPR'][i]])\n",
    "    plt.xlabel('FPR')\n",
    "    plt.ylabel('TPR')\n",
    "    plt.title('Espacio ROC balloons.data en Clase ' + str(i) )\n",
    "    plt.show()\n"
   ]
  },
  {
   "cell_type": "code",
   "execution_count": null,
   "metadata": {},
   "outputs": [],
   "source": [
    "german = cruzada[1]\n",
    "print(german)\n",
    "for i in german['TPR'].keys():\n",
    "    plt.figure()\n",
    "    lw = 2\n",
    "    plt.plot([0, 1], [0, 1], color='navy', lw=lw, linestyle='--')\n",
    "    plt.xlim([-0.00001, german['FPR'][i]])\n",
    "    plt.ylim([-0.00001, german['TPR'][i]])\n",
    "    plt.xlabel('FPR')\n",
    "    plt.ylabel('TPR')\n",
    "    plt.title('Espacio ROC german.data en Clase ' + str(i) )\n",
    "    plt.show()"
   ]
  },
  {
   "cell_type": "code",
   "execution_count": null,
   "metadata": {},
   "outputs": [],
   "source": [
    "tic_tac = cruzada[2]\n",
    "print(tic_tac)\n",
    "\n",
    "for i in tic_tac['TPR'].keys():\n",
    "    plt.figure()\n",
    "    lw = 2\n",
    "    plt.plot([0, 1], [0, 1], color='navy', lw=lw, linestyle='--')\n",
    "    plt.xlim([-0.00001, tic_tac['FPR'][i]])\n",
    "    plt.ylim([-0.00001, tic_tac['TPR'][i]])\n",
    "    plt.xlabel('FPR')\n",
    "    plt.ylabel('TPR')\n",
    "    plt.title('Espacio ROC tic_tac_toe.data en Clase ' + str(i) )\n",
    "    plt.show()\n"
   ]
  },
  {
   "cell_type": "markdown",
   "metadata": {},
   "source": [
    "## Validación por Bootstrap"
   ]
  },
  {
   "cell_type": "code",
   "execution_count": null,
   "metadata": {},
   "outputs": [],
   "source": [
    "bootstrap = medias[2] \n",
    "balloons = bootstrap[0]\n",
    "\n",
    "print(balloons)\n",
    "for i in balloons['TPR'].keys():\n",
    "    plt.figure()\n",
    "    lw = 2\n",
    "    plt.plot([0, 1], [0, 1], color='navy', lw=lw, linestyle='--')\n",
    "    plt.xlim([-0.00001, balloons['FPR'][i]])\n",
    "    plt.ylim([-0.00001, balloons['TPR'][i]])\n",
    "    plt.xlabel('FPR')\n",
    "    plt.ylabel('TPR')\n",
    "    plt.title('Espacio ROC balloons.data en Clase ' + str(i) )\n",
    "    plt.show()"
   ]
  },
  {
   "cell_type": "code",
   "execution_count": null,
   "metadata": {},
   "outputs": [],
   "source": [
    "german = bootstrap[1]\n",
    "print(german)\n",
    "for i in german['TPR'].keys():\n",
    "    plt.figure()\n",
    "    lw = 2\n",
    "    plt.plot([0, 1], [0, 1], color='navy', lw=lw, linestyle='--')\n",
    "    plt.xlim([-0.00001, german['FPR'][i]])\n",
    "    plt.ylim([-0.00001, german['TPR'][i]])\n",
    "    plt.xlabel('FPR')\n",
    "    plt.ylabel('TPR')\n",
    "    plt.title('Espacio ROC german.data en Clase ' + str(i) )\n",
    "    plt.show()"
   ]
  },
  {
   "cell_type": "code",
   "execution_count": null,
   "metadata": {},
   "outputs": [],
   "source": [
    "tic_tac = bootstrap[2]\n",
    "print(tic_tac)\n",
    "\n",
    "for i in tic_tac['TPR'].keys():\n",
    "    plt.figure()\n",
    "    lw = 2\n",
    "    plt.plot([0, 1], [0, 1], color='navy', lw=lw, linestyle='--')\n",
    "    plt.xlim([-0.00001, tic_tac['FPR'][i]])\n",
    "    plt.ylim([-0.00001, tic_tac['TPR'][i]])\n",
    "    plt.xlabel('FPR')\n",
    "    plt.ylabel('TPR')\n",
    "    plt.title('Espacio ROC tic_tac_toe.data en Clase ' + str(i) )\n",
    "    plt.show()"
   ]
  },
  {
   "cell_type": "markdown",
   "metadata": {},
   "source": [
    "# Conclusiones"
   ]
  },
  {
   "cell_type": "markdown",
   "metadata": {},
   "source": [
    "A la vista de la representación gráfica de los resultados las conclusiones podemos extraer de la clasificación Naive-Bayes en los conjuntos de datos es bastante precisa teniendo en cuenta que asume que los atributos son independientes. "
   ]
  }
 ],
 "metadata": {
  "kernelspec": {
   "display_name": "Python 3",
   "language": "python",
   "name": "python3"
  },
  "language_info": {
   "codemirror_mode": {
    "name": "ipython",
    "version": 3
   },
   "file_extension": ".py",
   "mimetype": "text/x-python",
   "name": "python",
   "nbconvert_exporter": "python",
   "pygments_lexer": "ipython3",
   "version": "3.6.5"
  }
 },
 "nbformat": 4,
 "nbformat_minor": 2
}

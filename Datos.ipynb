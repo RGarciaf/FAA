{
 "cells": [
  {
   "cell_type": "code",
   "execution_count": 106,
   "metadata": {},
   "outputs": [
    {
     "ename": "SyntaxError",
     "evalue": "invalid syntax (<ipython-input-106-ee4640f38855>, line 38)",
     "output_type": "error",
     "traceback": [
      "\u001b[0;36m  File \u001b[0;32m\"<ipython-input-106-ee4640f38855>\"\u001b[0;36m, line \u001b[0;32m38\u001b[0m\n\u001b[0;31m    datos = [][]\u001b[0m\n\u001b[0m               ^\u001b[0m\n\u001b[0;31mSyntaxError\u001b[0m\u001b[0;31m:\u001b[0m invalid syntax\n"
     ]
    }
   ],
   "source": [
    "import numpy as np\n",
    "\n",
    "class Datos ( object ):\n",
    "    TiposDeAtributos = ('Continuo','Nominal')\n",
    "    # TODO: procesar el fichero para asignar correctamente las variables \n",
    "    def __init__ ( self, nombreFichero ):\n",
    "        f = open(nombreFichero, \"r\")\n",
    "        \n",
    "        numAttrs = int(f.readline())\n",
    "        nombreAtributos = f.readline().replace(\"\\n\",\"\").split(\",\")\n",
    "        tipoAtributosy = f.readline().replace(\"\\n\",\"\").split(\",\")\n",
    "        diccionarios = {}\n",
    "        \n",
    "        for attr in nombreAtributos:\n",
    "            diccionarios[attr] = []\n",
    "        \n",
    "        for line in f:\n",
    "            value = line.replace(\"\\n\",\"\").split(\",\")\n",
    "            \n",
    "            for i in range(len(value)): \n",
    "                if value[i] not in diccionarios[nombreAtributos[i]]:\n",
    "                    diccionarios[nombreAtributos[i]].append(value[i])\n",
    "#                     diccionarios[nombreAtributos[i]].update({value[i]:0})                \n",
    "                    \n",
    "#                 diccionarios[nombreAtributos[i]][value[i]] += 1\n",
    "        for attr in diccionarios:\n",
    "            values = sorted(diccionarios[attr])\n",
    "            \n",
    "            diccionarios[attr] = {}\n",
    "            for value in values:\n",
    "                diccionarios[attr].update({value:values.index(value)})\n",
    "                \n",
    "#         print (diccionarios)\n",
    "        f.close()\n",
    "        f = open(nombreFichero, \"r\")\n",
    "        \n",
    "        lines = f.readlines()[3:]\n",
    "        datos = [][]\n",
    "        \n",
    "        for j in range(numAttrs):\n",
    "            values = lines[j].replace(\"\\n\",\"\").split(\",\")\n",
    "            \n",
    "            for i in range(len(values)): \n",
    "                datos[j][i] = values[i]\n",
    "        print (datos)\n",
    "#         tipoAtributosy\n",
    "#         nombreAtributos\n",
    "#         nominalAtributos\n",
    "#         datos\n",
    "#         diccionarios\n",
    "        \n",
    "        f.close()\n",
    "    # TODO: implementar en la practica 1\n",
    "        pass\n",
    "    def extraeDatos(self, idx):\n",
    "        pass\n",
    "Datos(\"ConjuntosDatos/balloons.data\")"
   ]
  }
 ],
 "metadata": {
  "kernelspec": {
   "display_name": "Python 3",
   "language": "python",
   "name": "python3"
  },
  "language_info": {
   "codemirror_mode": {
    "name": "ipython",
    "version": 3
   },
   "file_extension": ".py",
   "mimetype": "text/x-python",
   "name": "python",
   "nbconvert_exporter": "python",
   "pygments_lexer": "ipython3",
   "version": "3.6.3"
  }
 },
 "nbformat": 4,
 "nbformat_minor": 2
}

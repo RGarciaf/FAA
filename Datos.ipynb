{
 "cells": [
  {
   "cell_type": "code",
   "execution_count": 46,
   "metadata": {},
   "outputs": [
    {
     "name": "stdout",
     "output_type": "stream",
     "text": [
      "{'A1': {'A11': 0, 'A12': 1, 'A13': 2, 'A14': 3}, 'A2': {}, 'A3': {'A30': 0, 'A31': 1, 'A32': 2, 'A33': 3, 'A34': 4}, 'A4': {'A40': 0, 'A41': 1, 'A410': 2, 'A42': 3, 'A43': 4, 'A44': 5, 'A45': 6, 'A46': 7, 'A48': 8, 'A49': 9}, 'A5': {}, 'A6': {'A61': 0, 'A62': 1, 'A63': 2, 'A64': 3, 'A65': 4}, 'A7': {'A71': 0, 'A72': 1, 'A73': 2, 'A74': 3, 'A75': 4}, 'A8': {}, 'A9': {'A91': 0, 'A92': 1, 'A93': 2, 'A94': 3}, 'A10': {'A101': 0, 'A102': 1, 'A103': 2}, 'A11': {}, 'A12': {'A121': 0, 'A122': 1, 'A123': 2, 'A124': 3}, 'A13': {}, 'A14': {'A141': 0, 'A142': 1, 'A143': 2}, 'A15': {'A151': 0, 'A152': 1, 'A153': 2}, 'A16': {}, 'A17': {'A171': 0, 'A172': 1, 'A173': 2, 'A174': 3}, 'A18': {}, 'A19': {'A191': 0, 'A192': 1}, 'A20': {'A201': 0, 'A202': 1}, 'Class': {'1': 0, '2': 1}}\n",
      "[[  0.   6.   4. ...,   1.   0.   0.]\n",
      " [  1.  48.   2. ...,   0.   0.   1.]\n",
      " [  3.  12.   4. ...,   0.   0.   0.]\n",
      " ..., \n",
      " [  3.  12.   2. ...,   0.   0.   0.]\n",
      " [  0.  45.   2. ...,   1.   0.   1.]\n",
      " [  1.  45.   4. ...,   0.   0.   0.]]\n"
     ]
    },
    {
     "data": {
      "text/plain": [
       "<__main__.Datos at 0x7fdafaf8e940>"
      ]
     },
     "execution_count": 46,
     "metadata": {},
     "output_type": "execute_result"
    }
   ],
   "source": [
    "import numpy as np\n",
    "import pprint\n",
    "\n",
    "class Datos ( object ):\n",
    "    TiposDeAtributos = ('Continuo','Nominal')\n",
    "    # TODO: procesar el fichero para asignar correctamente las variables \n",
    "    def __init__ ( self, nombreFichero ):\n",
    "        f = open(nombreFichero, \"r\")\n",
    "        \n",
    "        numAttrs = int(f.readline())\n",
    "        nombreAtributos = f.readline().replace(\"\\n\",\"\").split(\",\")\n",
    "        tipoAtributos = f.readline().replace(\"\\n\",\"\").split(\",\")\n",
    "        diccionarios = {}\n",
    "        \n",
    "        for attr in nombreAtributos:\n",
    "            diccionarios[attr] = []\n",
    "        \n",
    "        for line in f:\n",
    "            value = line.replace(\"\\n\",\"\").split(\",\")\n",
    "            \n",
    "            for i in range(len(value)): \n",
    "                if value[i] not in diccionarios[nombreAtributos[i]]:\n",
    "                    diccionarios[nombreAtributos[i]].append(value[i])\n",
    "#                     diccionarios[nombreAtributos[i]].update({value[i]:0}) \n",
    "                    \n",
    "#                 diccionarios[nombreAtributos[i]][value[i]] += 1\n",
    "        for attr in diccionarios:\n",
    "            values = sorted(diccionarios[attr])\n",
    "            \n",
    "            diccionarios[attr] = {}\n",
    "            if tipoAtributos[nombreAtributos.index(attr)] == 'Nominal':\n",
    "                for value in values:\n",
    "                    diccionarios[attr].update({value:values.index(value)})\n",
    "                \n",
    "        f.close()\n",
    "        f = open(nombreFichero, \"r\")\n",
    "        \n",
    "        print (diccionarios)\n",
    "        \n",
    "        lines = f.readlines()[3:]\n",
    "        datos = np.empty( (numAttrs,len(nombreAtributos)))\n",
    "        \n",
    "        for j in range(numAttrs):\n",
    "            values = lines[j].replace(\"\\n\",\"\").split(\",\")\n",
    "            \n",
    "            for i in range(len(values)):                 \n",
    "                if tipoAtributos[i] == 'Nominal':\n",
    "                    datos[j][i] = Datos.buscarDiccionario(diccionarios,values[i])                    \n",
    "                else:\n",
    "                    datos[j][i] = values[i]\n",
    "                \n",
    "        print (datos)\n",
    "        \n",
    "        f.close()\n",
    "        pass\n",
    "    \n",
    "    def buscarDiccionario(dic, value):\n",
    "        \n",
    "        for attr in dic:\n",
    "            if value in dic[attr]:\n",
    "                return dic[attr][value]\n",
    "        \n",
    "    def extraeDatos(self, idx):\n",
    "        pass\n",
    "Datos(\"ConjuntosDatos/german.data\")"
   ]
  }
 ],
 "metadata": {
  "kernelspec": {
   "display_name": "Python 3",
   "language": "python",
   "name": "python3"
  },
  "language_info": {
   "codemirror_mode": {
    "name": "ipython",
    "version": 3
   },
   "file_extension": ".py",
   "mimetype": "text/x-python",
   "name": "python",
   "nbconvert_exporter": "python",
   "pygments_lexer": "ipython3",
   "version": "3.6.3"
  }
 },
 "nbformat": 4,
 "nbformat_minor": 2
}
